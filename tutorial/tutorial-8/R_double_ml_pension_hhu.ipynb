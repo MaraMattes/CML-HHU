{
  "cells": [
    {
      "cell_type": "markdown",
      "id": "b736f911",
      "metadata": {
        "papermill": {
          "duration": 0.040312,
          "end_time": "2021-03-23T13:44:30.492247",
          "exception": false,
          "start_time": "2021-03-23T13:44:30.451935",
          "status": "completed"
        },
        "tags": [],
        "id": "b736f911"
      },
      "source": [
        "# R: Impact of 401(k) on Financial Wealth"
      ]
    },
    {
      "cell_type": "markdown",
      "id": "56bfb9d6",
      "metadata": {
        "papermill": {
          "duration": 0.036965,
          "end_time": "2021-03-23T13:44:30.565334",
          "exception": false,
          "start_time": "2021-03-23T13:44:30.528369",
          "status": "completed"
        },
        "tags": [],
        "id": "56bfb9d6"
      },
      "source": [
        "In this real-data example, we illustrate how the [DoubleML](https://docs.doubleml.org/stable/index.html) package can be used to estimate the effect of 401(k) eligibility and participation on accumulated assets. The 401(k) data set has been analyzed in several studies, among others [Chernozhukov et al. (2018)](https://arxiv.org/abs/1608.00060).\n",
        "\n",
        "401(k) plans are pension accounts sponsored by employers. The key problem in determining the effect of participation in 401(k) plans on accumulated assets is saver heterogeneity coupled with the fact that the decision to enroll in a 401(k) is non-random. It is generally recognized that some people have a higher preference for saving than others. It also seems likely that those individuals with high unobserved preference for saving would be most likely to choose to participate in tax-advantaged retirement savings plans and would tend to have otherwise high amounts of accumulated assets. The presence of unobserved savings preferences with these properties then implies that conventional estimates that do not account for saver heterogeneity and endogeneity of participation will be biased upward, tending to overstate the savings effects of 401(k) participation.\n",
        "\n",
        "One can argue that eligibility for enrolling in a 401(k) plan in this data can be taken as exogenous after conditioning on a few observables of which the most important for their argument is income. The basic idea is that, at least around the time 401(k)’s initially became available, people were unlikely to be basing their employment decisions on whether an employer offered a 401(k) but would instead focus on income and other aspects of the job."
      ]
    },
    {
      "cell_type": "markdown",
      "id": "f5020e5a",
      "metadata": {
        "papermill": {
          "duration": 0.035502,
          "end_time": "2021-03-23T13:44:30.636343",
          "exception": false,
          "start_time": "2021-03-23T13:44:30.600841",
          "status": "completed"
        },
        "tags": [],
        "id": "f5020e5a"
      },
      "source": [
        "## Data\n",
        "\n",
        "The preprocessed data can be fetched by calling [fetch_401k()](https://docs.doubleml.org/r/stable/reference/fetch_401k.html). The arguments `polynomial_features` and `instrument` can be used to replicate the models used in [Chernozhukov et al. (2018)](https://arxiv.org/abs/1608.00060). Note that an internet connection is required for loading the data. We start with a baseline specification of the regression model and reload the data later in case we want to use another specification."
      ]
    },
    {
      "cell_type": "code",
      "execution_count": null,
      "id": "b5167d86",
      "metadata": {
        "execution": {
          "iopub.execute_input": "2022-11-04T11:17:24.914626Z",
          "iopub.status.busy": "2022-11-04T11:17:24.912678Z",
          "iopub.status.idle": "2022-11-04T11:17:26.358371Z",
          "shell.execute_reply": "2022-11-04T11:17:26.356828Z"
        },
        "papermill": {
          "duration": 0.491422,
          "end_time": "2021-03-23T13:44:31.163324",
          "exception": false,
          "start_time": "2021-03-23T13:44:30.671902",
          "status": "completed"
        },
        "tags": [],
        "id": "b5167d86",
        "colab": {
          "base_uri": "https://localhost:8080/"
        },
        "outputId": "b3adc611-5cba-4395-ccb7-44026d1473cb"
      },
      "outputs": [
        {
          "output_type": "stream",
          "name": "stderr",
          "text": [
            "Installing packages into ‘/usr/local/lib/R/site-library’\n",
            "(as ‘lib’ is unspecified)\n",
            "\n",
            "also installing the dependencies ‘globals’, ‘listenv’, ‘PRROC’, ‘checkmate’, ‘future’, ‘future.apply’, ‘lgr’, ‘mlbench’, ‘mlr3measures’, ‘mlr3misc’, ‘parallelly’, ‘palmerpenguins’, ‘paradox’\n",
            "\n",
            "\n"
          ]
        }
      ],
      "source": [
        "# Load required packages for this tutorial\n",
        "install.packages(c(\"remotes\", \"mlr3\", \"mlr3learners\", \"data.table\",\"ggplot2\"))\n",
        "library(remotes)\n",
        "library(mlr3)\n",
        "library(mlr3learners)\n",
        "library(data.table)\n",
        "library(ggplot2)\n",
        "\n",
        "# suppress messages during fitting\n",
        "lgr::get_logger(\"mlr3\")$set_threshold(\"warn\")"
      ]
    },
    {
      "cell_type": "markdown",
      "source": [
        "(this takes around 2 minutes)"
      ],
      "metadata": {
        "id": "UaW_fEk3ss77"
      },
      "id": "UaW_fEk3ss77"
    },
    {
      "cell_type": "code",
      "source": [
        "install.packages(c(\"DoubleML\", \"glmnet\", \"ranger\", \"xgboost\"))\n",
        "library(DoubleML)\n",
        "library(glmnet)\n",
        "library(ranger)\n",
        "library(xgboost)"
      ],
      "metadata": {
        "colab": {
          "base_uri": "https://localhost:8080/"
        },
        "id": "YEWpcdh2sQKd",
        "outputId": "49540bdc-f888-4fe2-9c00-66b3628e608b"
      },
      "id": "YEWpcdh2sQKd",
      "execution_count": null,
      "outputs": [
        {
          "output_type": "stream",
          "name": "stderr",
          "text": [
            "Installing packages into ‘/usr/local/lib/R/site-library’\n",
            "(as ‘lib’ is unspecified)\n",
            "\n",
            "also installing the dependencies ‘bbotk’, ‘iterators’, ‘mlr3tuning’, ‘mvtnorm’, ‘clusterGeneration’, ‘readstata13’, ‘foreach’, ‘shape’, ‘RcppEigen’\n",
            "\n",
            "\n",
            "Loading required package: Matrix\n",
            "\n",
            "Loaded glmnet 4.1-9\n",
            "\n"
          ]
        }
      ]
    },
    {
      "cell_type": "markdown",
      "source": [
        "(this takes around 16 minutes to run)"
      ],
      "metadata": {
        "id": "f293IPdawgPu"
      },
      "id": "f293IPdawgPu"
    },
    {
      "cell_type": "code",
      "source": [
        "# load data as a data.table\n",
        "data = fetch_401k(return_type = \"data.table\", instrument = TRUE)\n",
        "dim(data)\n",
        "str(data)"
      ],
      "metadata": {
        "id": "Hknw5mSBpr2f",
        "colab": {
          "base_uri": "https://localhost:8080/",
          "height": 277
        },
        "outputId": "3648bd2d-0d0c-4df9-a436-c97d55815907"
      },
      "id": "Hknw5mSBpr2f",
      "execution_count": null,
      "outputs": [
        {
          "output_type": "display_data",
          "data": {
            "text/html": [
              "<style>\n",
              ".list-inline {list-style: none; margin:0; padding: 0}\n",
              ".list-inline>li {display: inline-block}\n",
              ".list-inline>li:not(:last-child)::after {content: \"\\00b7\"; padding: 0 .5ex}\n",
              "</style>\n",
              "<ol class=list-inline><li>9915</li><li>12</li></ol>\n"
            ],
            "text/markdown": "1. 9915\n2. 12\n\n\n",
            "text/latex": "\\begin{enumerate*}\n\\item 9915\n\\item 12\n\\end{enumerate*}\n",
            "text/plain": [
              "[1] 9915   12"
            ]
          },
          "metadata": {}
        },
        {
          "output_type": "stream",
          "name": "stdout",
          "text": [
            "Classes ‘data.table’ and 'data.frame':\t9915 obs. of  12 variables:\n",
            " $ net_tfa: num  0 1015 -2000 15000 0 ...\n",
            " $ age    : num  47 36 37 58 32 34 28 54 43 32 ...\n",
            " $ inc    : num  6765 28452 3300 52590 21804 ...\n",
            " $ educ   : num  8 16 12 16 11 16 12 11 14 18 ...\n",
            " $ fsize  : num  2 1 6 2 1 1 3 3 2 3 ...\n",
            " $ marr   : num  0 0 0 1 0 0 1 0 1 1 ...\n",
            " $ twoearn: num  0 0 0 1 0 0 1 0 1 0 ...\n",
            " $ db     : num  0 0 1 0 0 0 0 0 1 0 ...\n",
            " $ pira   : num  0 0 0 0 0 1 1 0 1 0 ...\n",
            " $ hown   : num  1 1 0 1 1 1 1 1 1 1 ...\n",
            " $ p401   : int  0 0 0 0 0 0 0 0 0 0 ...\n",
            " $ e401   : int  0 0 0 0 0 0 0 0 0 0 ...\n",
            " - attr(*, \".internal.selfref\")=<externalptr> \n"
          ]
        }
      ]
    },
    {
      "cell_type": "markdown",
      "id": "38231f8a",
      "metadata": {
        "papermill": {
          "duration": 0.036035,
          "end_time": "2021-03-23T13:44:31.235882",
          "exception": false,
          "start_time": "2021-03-23T13:44:31.199847",
          "status": "completed"
        },
        "tags": [],
        "id": "38231f8a"
      },
      "source": [
        "See the \"Details\" section on the description of the data set, which can be accessed by typing [help(fetch_401k)](https://docs.doubleml.org/r/stable/reference/fetch_401k.html)."
      ]
    },
    {
      "cell_type": "markdown",
      "id": "9406ba1e",
      "metadata": {
        "papermill": {
          "duration": 0.036944,
          "end_time": "2021-03-23T13:44:31.669355",
          "exception": false,
          "start_time": "2021-03-23T13:44:31.632411",
          "status": "completed"
        },
        "tags": [],
        "id": "9406ba1e"
      },
      "source": [
        "The data consist of 9,915 observations at the household level drawn from the 1991 Survey of Income and Program Participation (SIPP).  All the variables are referred to 1990. We use net financial assets (*net\\_tfa*) as the outcome variable, $Y$,  in our analysis. The net financial assets are computed as the sum of IRA balances, 401(k) balances, checking accounts, saving bonds, other interest-earning accounts, other interest-earning assets, stocks, and mutual funds less non mortgage debts."
      ]
    },
    {
      "cell_type": "markdown",
      "id": "f34e7973",
      "metadata": {
        "papermill": {
          "duration": 0.035954,
          "end_time": "2021-03-23T13:44:31.741375",
          "exception": false,
          "start_time": "2021-03-23T13:44:31.705421",
          "status": "completed"
        },
        "tags": [],
        "id": "f34e7973"
      },
      "source": [
        "Among the $9915$ individuals, $3682$ are eligible to participate in the program. The variable *e401* indicates eligibility and *p401* indicates participation, respectively."
      ]
    },
    {
      "cell_type": "code",
      "execution_count": null,
      "id": "6182ff56",
      "metadata": {
        "execution": {
          "iopub.execute_input": "2022-11-04T11:17:26.394156Z",
          "iopub.status.busy": "2022-11-04T11:17:26.361957Z",
          "iopub.status.idle": "2022-11-04T11:17:26.968810Z",
          "shell.execute_reply": "2022-11-04T11:17:26.966942Z"
        },
        "papermill": {
          "duration": 1.07102,
          "end_time": "2021-03-23T13:44:32.849241",
          "exception": false,
          "start_time": "2021-03-23T13:44:31.778221",
          "status": "completed"
        },
        "tags": [],
        "id": "6182ff56",
        "colab": {
          "base_uri": "https://localhost:8080/",
          "height": 437
        },
        "outputId": "994f82cf-6939-474b-d7af-4bd9d6ee50fe"
      },
      "outputs": [
        {
          "output_type": "display_data",
          "data": {
            "text/plain": [
              "plot without title"
            ],
            "image/png": "[encoded data removed]"
          },
          "metadata": {
            "image/png": {
              "width": 420,
              "height": 420
            }
          }
        }
      ],
      "source": [
        "hist_e401 = ggplot(data, aes(x = e401, fill = factor(e401))) +\n",
        "            geom_bar() + theme_minimal() +\n",
        "            ggtitle(\"Eligibility, 401(k)\") +\n",
        "            theme(legend.position = \"bottom\", plot.title = element_text(hjust = 0.5),\n",
        "                  text = element_text(size = 20))\n",
        "hist_e401"
      ]
    },
    {
      "cell_type": "code",
      "execution_count": null,
      "id": "fd3f9739",
      "metadata": {
        "execution": {
          "iopub.execute_input": "2022-11-04T11:17:26.973820Z",
          "iopub.status.busy": "2022-11-04T11:17:26.972438Z",
          "iopub.status.idle": "2022-11-04T11:17:27.305008Z",
          "shell.execute_reply": "2022-11-04T11:17:27.303478Z"
        },
        "id": "fd3f9739",
        "colab": {
          "base_uri": "https://localhost:8080/",
          "height": 437
        },
        "outputId": "fec52490-3f2b-4a00-c059-e6eccd957d22"
      },
      "outputs": [
        {
          "output_type": "display_data",
          "data": {
            "text/plain": [
              "plot without title"
            ],
            "image/png": "[encoded data removed]"
          },
          "metadata": {
            "image/png": {
              "width": 420,
              "height": 420
            }
          }
        }
      ],
      "source": [
        "hist_p401 = ggplot(data, aes(x = p401, fill = factor(p401))) +\n",
        "            geom_bar() + theme_minimal() +\n",
        "            ggtitle(\"Participation, 401(k)\") +\n",
        "            theme(legend.position = \"bottom\", plot.title = element_text(hjust = 0.5),\n",
        "                  text = element_text(size = 20))\n",
        "hist_p401"
      ]
    },
    {
      "cell_type": "markdown",
      "id": "24774374",
      "metadata": {
        "papermill": {
          "duration": 0.039347,
          "end_time": "2021-03-23T13:44:32.932448",
          "exception": false,
          "start_time": "2021-03-23T13:44:32.893101",
          "status": "completed"
        },
        "tags": [],
        "id": "24774374"
      },
      "source": [
        "Eligibility is highly associated with financial wealth:"
      ]
    },
    {
      "cell_type": "code",
      "execution_count": null,
      "id": "512a2b1c",
      "metadata": {
        "execution": {
          "iopub.execute_input": "2022-11-04T11:17:27.309970Z",
          "iopub.status.busy": "2022-11-04T11:17:27.308840Z",
          "iopub.status.idle": "2022-11-04T11:17:27.753000Z",
          "shell.execute_reply": "2022-11-04T11:17:27.751457Z"
        },
        "papermill": {
          "duration": 0.711317,
          "end_time": "2021-03-23T13:44:33.681783",
          "exception": false,
          "start_time": "2021-03-23T13:44:32.970466",
          "status": "completed"
        },
        "tags": [],
        "id": "512a2b1c",
        "colab": {
          "base_uri": "https://localhost:8080/",
          "height": 489
        },
        "outputId": "641d64c1-07cb-4523-ef34-b02b4ea9ba52"
      },
      "outputs": [
        {
          "output_type": "stream",
          "name": "stderr",
          "text": [
            "Warning message:\n",
            "“\u001b[1m\u001b[22mRemoved 340 rows containing non-finite outside the scale range\n",
            "(`stat_density()`).”\n"
          ]
        },
        {
          "output_type": "display_data",
          "data": {
            "text/plain": [
              "plot without title"
            ],
            "image/png": "[encoded data removed]"
          },
          "metadata": {
            "image/png": {
              "width": 420,
              "height": 420
            }
          }
        }
      ],
      "source": [
        "dens_net_tfa = ggplot(data, aes(x = net_tfa, color = factor(e401), fill = factor(e401)) ) +\n",
        "                    geom_density() + xlim(c(-20000, 150000)) +\n",
        "                    facet_wrap(.~e401)  + theme_minimal() +\n",
        "                    theme(legend.position = \"bottom\", text = element_text(size = 20))\n",
        "\n",
        "dens_net_tfa"
      ]
    },
    {
      "cell_type": "markdown",
      "id": "1633f2bc",
      "metadata": {
        "papermill": {
          "duration": 0.038905,
          "end_time": "2021-03-23T13:44:33.759588",
          "exception": false,
          "start_time": "2021-03-23T13:44:33.720683",
          "status": "completed"
        },
        "tags": [],
        "id": "1633f2bc"
      },
      "source": [
        "As a first estimate, we calculate the unconditional average predictive effect (APE) of 401(k) eligibility on accumulated assets. This effect corresponds to the average treatment effect if 401(k) eligibility would be assigned to individuals in an entirely randomized way. The unconditional APE of e401 is about $19559$:"
      ]
    },
    {
      "cell_type": "code",
      "execution_count": null,
      "id": "b45661c7",
      "metadata": {
        "execution": {
          "iopub.execute_input": "2022-11-04T11:17:27.758318Z",
          "iopub.status.busy": "2022-11-04T11:17:27.757184Z",
          "iopub.status.idle": "2022-11-04T11:17:27.783888Z",
          "shell.execute_reply": "2022-11-04T11:17:27.782462Z"
        },
        "papermill": {
          "duration": 0.067968,
          "end_time": "2021-03-23T13:44:33.866504",
          "exception": false,
          "start_time": "2021-03-23T13:44:33.798536",
          "status": "completed"
        },
        "tags": [],
        "id": "b45661c7",
        "colab": {
          "base_uri": "https://localhost:8080/",
          "height": 34
        },
        "outputId": "06f93937-2795-43c3-99fd-8e817cfeb5a6"
      },
      "outputs": [
        {
          "output_type": "display_data",
          "data": {
            "text/html": [
              "19559.34"
            ],
            "text/markdown": "19559.34",
            "text/latex": "19559.34",
            "text/plain": [
              "[1] 19559.34"
            ]
          },
          "metadata": {}
        }
      ],
      "source": [
        "APE_e401_uncond = data[e401==1, mean(net_tfa)] - data[e401==0, mean(net_tfa)]\n",
        "round(APE_e401_uncond, 2)"
      ]
    },
    {
      "cell_type": "markdown",
      "id": "2457ef59",
      "metadata": {
        "papermill": {
          "duration": 0.040553,
          "end_time": "2021-03-23T13:44:33.950269",
          "exception": false,
          "start_time": "2021-03-23T13:44:33.909716",
          "status": "completed"
        },
        "tags": [],
        "id": "2457ef59"
      },
      "source": [
        "Among the $3682$ individuals that  are eligible, $2594$ decided to participate in the program. The unconditional APE of p401 is about $27372$:"
      ]
    },
    {
      "cell_type": "code",
      "execution_count": null,
      "id": "57d965fb",
      "metadata": {
        "execution": {
          "iopub.execute_input": "2022-11-04T11:17:27.788394Z",
          "iopub.status.busy": "2022-11-04T11:17:27.787295Z",
          "iopub.status.idle": "2022-11-04T11:17:27.803919Z",
          "shell.execute_reply": "2022-11-04T11:17:27.802504Z"
        },
        "papermill": {
          "duration": 0.07273,
          "end_time": "2021-03-23T13:44:34.062417",
          "exception": false,
          "start_time": "2021-03-23T13:44:33.989687",
          "status": "completed"
        },
        "tags": [],
        "id": "57d965fb",
        "colab": {
          "base_uri": "https://localhost:8080/",
          "height": 34
        },
        "outputId": "58ea2df2-d7ce-411c-be5b-07d5813a1aec"
      },
      "outputs": [
        {
          "output_type": "display_data",
          "data": {
            "text/html": [
              "27371.58"
            ],
            "text/markdown": "27371.58",
            "text/latex": "27371.58",
            "text/plain": [
              "[1] 27371.58"
            ]
          },
          "metadata": {}
        }
      ],
      "source": [
        "APE_p401_uncond = data[p401==1, mean(net_tfa)] - data[p401==0, mean(net_tfa)]\n",
        "round(APE_p401_uncond, 2)"
      ]
    },
    {
      "cell_type": "markdown",
      "id": "bd7bffa3",
      "metadata": {
        "papermill": {
          "duration": 0.040806,
          "end_time": "2021-03-23T13:44:34.144049",
          "exception": false,
          "start_time": "2021-03-23T13:44:34.103243",
          "status": "completed"
        },
        "tags": [],
        "id": "bd7bffa3"
      },
      "source": [
        "As discussed, these estimates are biased since they do not account for saver heterogeneity and endogeneity of participation."
      ]
    },
    {
      "cell_type": "markdown",
      "id": "4d5c996f",
      "metadata": {
        "papermill": {
          "duration": 0.040491,
          "end_time": "2021-03-23T13:44:34.224987",
          "exception": false,
          "start_time": "2021-03-23T13:44:34.184496",
          "status": "completed"
        },
        "tags": [],
        "id": "4d5c996f"
      },
      "source": [
        "## The `DoubleML` package"
      ]
    },
    {
      "cell_type": "markdown",
      "id": "89867310",
      "metadata": {
        "papermill": {
          "duration": 0.041623,
          "end_time": "2021-03-23T13:44:34.307306",
          "exception": false,
          "start_time": "2021-03-23T13:44:34.265683",
          "status": "completed"
        },
        "tags": [],
        "id": "89867310"
      },
      "source": [
        "Let's use the package [DoubleML](https://docs.doubleml.org/stable/index.html) to estimate the average treatment effect of 401(k) eligibility, i.e. `e401`, and participation, i.e. `p401`, on net financial assets `net_tfa`."
      ]
    },
    {
      "cell_type": "markdown",
      "id": "6f5da000",
      "metadata": {
        "papermill": {
          "duration": 0.042605,
          "end_time": "2021-03-23T13:47:34.483687",
          "exception": false,
          "start_time": "2021-03-23T13:47:34.441082",
          "status": "completed"
        },
        "tags": [],
        "id": "6f5da000"
      },
      "source": [
        "## Estimating the Average Treatment Effect of 401(k) Eligibility on Net Financial Assets"
      ]
    },
    {
      "cell_type": "markdown",
      "id": "626c4986",
      "metadata": {
        "papermill": {
          "duration": 0.043776,
          "end_time": "2021-03-23T13:47:34.573553",
          "exception": false,
          "start_time": "2021-03-23T13:47:34.529777",
          "status": "completed"
        },
        "tags": [],
        "id": "626c4986"
      },
      "source": [
        "We first look at the treatment effect of `e401` on net total financial assets. We give estimates of the ATE in the linear model\n",
        "\n",
        "\\begin{equation*}\n",
        "Y = D \\alpha + f(X)'\\beta+ \\epsilon,\n",
        "\\end{equation*}\n",
        "where $f(X)$ is a dictonary applied to the raw regressors. $X$ contains variables on marital status, two-earner status, defined benefit pension status, IRA participation, home ownership, family size, education, age, and income.\n",
        "\n",
        "In the following, we will consider two different models,\n",
        "\n",
        "* a basic model specification that includes the raw regressors, i.e., $f(X) = X$, and\n",
        "\n",
        "* a flexible model specification, where $f(X)$ includes the raw regressors $X$ and the orthogonal polynomials of degree 2 for the variables family size education, age, and income.\n",
        "\n",
        "We will use the basic model specification whenever we use nonlinear methods, for example regression trees or random forests, and use the flexible model for linear methods such as the lasso. There are, of course, multiple ways how the model can be specified even more flexibly, for example including interactions of variable and higher order interaction. However, for the sake of simplicity we stick to the specification above. Users who are interested in varying the model can manipulate the model formula below (`formula_flex`), for example implementing the orignal specification in [Chernozhukov et al. (2018)](https://arxiv.org/abs/1608.00060).\n",
        "\n",
        "In the first step, we report estimates of the average treatment effect (ATE) of 401(k) eligibility on net financial assets both in the partially linear regression (PLR) model and in the interactive regression model (IRM) allowing for heterogeneous treatment effects.\n"
      ]
    },
    {
      "cell_type": "markdown",
      "id": "3261c60c",
      "metadata": {
        "id": "3261c60c"
      },
      "source": [
        "### The Data Backend: `DoubleMLData`"
      ]
    },
    {
      "cell_type": "markdown",
      "id": "b195be65",
      "metadata": {
        "id": "b195be65"
      },
      "source": [
        "To start our analysis, we initialize the data backend, i.e., a new instance of a [DoubleMLData](https://docs.doubleml.org/r/stable/reference/DoubleMLData.html) object. Here, we manually implement the regression model by using R's formula interface. A shortcut would be to directly specify the options `polynomial_features` and `instrument` when calling [fetch_401k()](https://docs.doubleml.org/r/stable/reference/fetch_401k.html).$^{**}$\n",
        "\n",
        "To implement both models (basic and flexible), we generate two data backends: `data_dml_base` and `data_dml_flex`.\n",
        "\n",
        "$^{**}$ Note that the model specification using `polynomial_features` differs from the one used in our example."
      ]
    },
    {
      "cell_type": "code",
      "execution_count": null,
      "id": "e028de75",
      "metadata": {
        "execution": {
          "iopub.execute_input": "2022-11-04T11:17:27.809136Z",
          "iopub.status.busy": "2022-11-04T11:17:27.808026Z",
          "iopub.status.idle": "2022-11-04T11:17:27.827962Z",
          "shell.execute_reply": "2022-11-04T11:17:27.826541Z"
        },
        "papermill": {
          "duration": 0.326212,
          "end_time": "2021-03-23T13:47:34.941985",
          "exception": false,
          "start_time": "2021-03-23T13:47:34.615773",
          "status": "completed"
        },
        "tags": [],
        "id": "e028de75",
        "colab": {
          "base_uri": "https://localhost:8080/",
          "height": 191
        },
        "outputId": "b6a8c0ef-e2b5-4fd7-8e26-e73b0739dab6"
      },
      "outputs": [
        {
          "output_type": "display_data",
          "data": {
            "text/plain": [
              "================= DoubleMLData Object ==================\n",
              "\n",
              "\n",
              "------------------ Data summary      ------------------\n",
              "Outcome variable: net_tfa\n",
              "Treatment variable(s): e401\n",
              "Covariates: age, inc, educ, fsize, marr, twoearn, db, pira, hown\n",
              "Instrument(s): \n",
              "Selection variable: \n",
              "No. Observations: 9915"
            ]
          },
          "metadata": {}
        }
      ],
      "source": [
        "# Set up basic model: Specify variables for data-backend\n",
        "features_base = c(\"age\", \"inc\", \"educ\", \"fsize\",\n",
        "                  \"marr\", \"twoearn\", \"db\", \"pira\", \"hown\")\n",
        "\n",
        "# Initialize DoubleMLData (data-backend of DoubleML)\n",
        "data_dml_base = DoubleMLData$new(data,\n",
        "                                 y_col = \"net_tfa\",\n",
        "                                 d_cols = \"e401\",\n",
        "                                 x_cols = features_base)\n",
        "data_dml_base"
      ]
    },
    {
      "cell_type": "code",
      "execution_count": null,
      "id": "a8726d22",
      "metadata": {
        "execution": {
          "iopub.execute_input": "2022-11-04T11:17:27.832195Z",
          "iopub.status.busy": "2022-11-04T11:17:27.831058Z",
          "iopub.status.idle": "2022-11-04T11:17:27.893893Z",
          "shell.execute_reply": "2022-11-04T11:17:27.892389Z"
        },
        "papermill": {
          "duration": 0.326212,
          "end_time": "2021-03-23T13:47:34.941985",
          "exception": false,
          "start_time": "2021-03-23T13:47:34.615773",
          "status": "completed"
        },
        "tags": [],
        "id": "a8726d22",
        "colab": {
          "base_uri": "https://localhost:8080/",
          "height": 208
        },
        "outputId": "bda126c6-f44b-4010-937f-b78a74b4c820"
      },
      "outputs": [
        {
          "output_type": "display_data",
          "data": {
            "text/plain": [
              "================= DoubleMLData Object ==================\n",
              "\n",
              "\n",
              "------------------ Data summary      ------------------\n",
              "Outcome variable: net_tfa\n",
              "Treatment variable(s): e401\n",
              "Covariates: poly.age..2..raw...TRUE.1, poly.age..2..raw...TRUE.2, poly.inc..2..raw...TRUE.1, poly.inc..2..raw...TRUE.2, poly.educ..2..raw...TRUE.1, poly.educ..2..raw...TRUE.2, poly.fsize..2..raw...TRUE.1, poly.fsize..2..raw...TRUE.2, marr, twoearn, db, pira, hown\n",
              "Instrument(s): \n",
              "Selection variable: \n",
              "No. Observations: 9915"
            ]
          },
          "metadata": {}
        }
      ],
      "source": [
        "# Set up a model according to regression formula with polynomials\n",
        "formula_flex = formula(\" ~ -1 + poly(age, 2, raw=TRUE) +\n",
        "                        poly(inc, 2, raw=TRUE) + poly(educ, 2, raw=TRUE) +\n",
        "                        poly(fsize, 2, raw=TRUE) + marr + twoearn +\n",
        "                        db + pira + hown\")\n",
        "features_flex = data.frame(model.matrix(formula_flex, data))\n",
        "\n",
        "model_data = data.table(\"net_tfa\" = data[, net_tfa],\n",
        "                        \"e401\" = data[, e401],\n",
        "                        features_flex)\n",
        "\n",
        "# Initialize DoubleMLData (data-backend of DoubleML)\n",
        "data_dml_flex = DoubleMLData$new(model_data,\n",
        "                                 y_col = \"net_tfa\",\n",
        "                                 d_cols = \"e401\")\n",
        "\n",
        "data_dml_flex"
      ]
    },
    {
      "cell_type": "markdown",
      "id": "f7bf775d",
      "metadata": {
        "papermill": {
          "duration": 0.044143,
          "end_time": "2021-03-23T13:47:35.029558",
          "exception": false,
          "start_time": "2021-03-23T13:47:34.985415",
          "status": "completed"
        },
        "tags": [],
        "id": "f7bf775d"
      },
      "source": [
        "### Partially Linear Regression Model (PLR)"
      ]
    },
    {
      "cell_type": "markdown",
      "id": "e88a8607",
      "metadata": {
        "papermill": {
          "duration": 0.043027,
          "end_time": "2021-03-23T13:47:35.118878",
          "exception": false,
          "start_time": "2021-03-23T13:47:35.075851",
          "status": "completed"
        },
        "tags": [],
        "id": "e88a8607"
      },
      "source": [
        "We start using lasso to estimate the function $g_0$ and $m_0$ in the following PLR model:"
      ]
    },
    {
      "cell_type": "markdown",
      "id": "3e99a6d2",
      "metadata": {
        "papermill": {
          "duration": 0.044546,
          "end_time": "2021-03-23T13:47:35.207536",
          "exception": false,
          "start_time": "2021-03-23T13:47:35.162990",
          "status": "completed"
        },
        "tags": [],
        "id": "3e99a6d2"
      },
      "source": [
        "\\begin{eqnarray}\n",
        "& Y = D\\theta_0 + g_0(X) + \\zeta, &\\quad E[\\zeta \\mid D,X]= 0,\\\\\n",
        "& D = m_0(X) +  V, &\\quad E[V \\mid X] = 0.\n",
        "\\end{eqnarray}"
      ]
    },
    {
      "cell_type": "markdown",
      "id": "667de94c",
      "metadata": {
        "id": "667de94c"
      },
      "source": [
        "To estimate the causal parameter $\\theta_0$ here, we use double machine learning with 3-fold cross-fitting.\n",
        "\n",
        "Estimation of the nuisance components $g_0$ and $m_0$, is based on the lasso with cross-validated choice of the penalty term , $\\lambda$, as provided by the [glmnet package](https://glmnet.stanford.edu/reference/cv.glmnet.html). We load the learner by using the [mlr3](https://mlr3.mlr-org.com/) function [lrn()](https://mlr3.mlr-org.com/reference/Learner.html). Hyperparameters and options can be set during instantiation of the learner. Here we specify that the lasso should use that value of $\\lambda$ that minimizes the cross-validated mean squared error which is based on 5-fold cross validation.\n",
        "\n",
        "In order to use a learner, the underlying R packages have to be installed. In this case, the package [glmnet package](https://glmnet.stanford.edu/reference/cv.glmnet.html) needs to be installed. Moreover, installation of the package [mlr3learners](https://mlr3learners.mlr-org.com/) is required.\n",
        "\n",
        "We start by estimation the ATE in the basic model and then repeat the estimation in the flexible model."
      ]
    },
    {
      "cell_type": "code",
      "execution_count": null,
      "id": "c3f6a786",
      "metadata": {
        "execution": {
          "iopub.execute_input": "2022-11-04T11:17:27.899584Z",
          "iopub.status.busy": "2022-11-04T11:17:27.898444Z",
          "iopub.status.idle": "2022-11-04T11:17:31.079910Z",
          "shell.execute_reply": "2022-11-04T11:17:31.078387Z"
        },
        "papermill": {
          "duration": 23.196892,
          "end_time": "2021-03-23T13:47:58.447523",
          "exception": false,
          "start_time": "2021-03-23T13:47:35.250631",
          "status": "completed"
        },
        "tags": [],
        "id": "c3f6a786",
        "colab": {
          "base_uri": "https://localhost:8080/"
        },
        "outputId": "5463eaa1-56b4-4fa3-a667-f99c19c6446f"
      },
      "outputs": [
        {
          "output_type": "stream",
          "name": "stdout",
          "text": [
            "Estimates and significance testing of the effect of target variables\n",
            "     Estimate. Std. Error t value Pr(>|t|)    \n",
            "e401      6133       1465   4.185 2.85e-05 ***\n",
            "---\n",
            "Signif. codes:  0 ‘***’ 0.001 ‘**’ 0.01 ‘*’ 0.05 ‘.’ 0.1 ‘ ’ 1\n",
            "\n",
            "\n"
          ]
        }
      ],
      "source": [
        "# Initialize learners\n",
        "set.seed(123)\n",
        "lasso = lrn(\"regr.cv_glmnet\", nfolds = 5, s = \"lambda.min\")\n",
        "lasso_class = lrn(\"classif.cv_glmnet\", nfolds = 5, s = \"lambda.min\")\n",
        "\n",
        "# Initialize DoubleMLPLR model\n",
        "dml_plr_lasso = DoubleMLPLR$new(data_dml_base,\n",
        "                                ml_l = lasso,\n",
        "                                ml_m = lasso_class,\n",
        "                                n_folds = 3)\n",
        "dml_plr_lasso$fit()\n",
        "dml_plr_lasso$summary()"
      ]
    },
    {
      "cell_type": "code",
      "execution_count": null,
      "id": "fde8ed43",
      "metadata": {
        "execution": {
          "iopub.execute_input": "2022-11-04T11:17:31.084501Z",
          "iopub.status.busy": "2022-11-04T11:17:31.083398Z",
          "iopub.status.idle": "2022-11-04T11:17:34.863663Z",
          "shell.execute_reply": "2022-11-04T11:17:34.862213Z"
        },
        "id": "fde8ed43",
        "colab": {
          "base_uri": "https://localhost:8080/"
        },
        "outputId": "eb367acf-0a6f-42be-d56f-fd305b5a8fe1"
      },
      "outputs": [
        {
          "output_type": "stream",
          "name": "stdout",
          "text": [
            "Estimates and significance testing of the effect of target variables\n",
            "     Estimate. Std. Error t value Pr(>|t|)    \n",
            "e401      9580       1325   7.229 4.87e-13 ***\n",
            "---\n",
            "Signif. codes:  0 ‘***’ 0.001 ‘**’ 0.01 ‘*’ 0.05 ‘.’ 0.1 ‘ ’ 1\n",
            "\n",
            "\n"
          ]
        }
      ],
      "source": [
        "# Initialize learners\n",
        "set.seed(123)\n",
        "lasso = lrn(\"regr.cv_glmnet\", nfolds = 5, s = \"lambda.min\")\n",
        "lasso_class = lrn(\"classif.cv_glmnet\", nfolds = 5, s = \"lambda.min\")\n",
        "\n",
        "# Initialize DoubleMLPLR model\n",
        "dml_plr_lasso = DoubleMLPLR$new(data_dml_flex,\n",
        "                                ml_l = lasso,\n",
        "                                ml_m = lasso_class,\n",
        "                                n_folds = 3)\n",
        "dml_plr_lasso$fit()\n",
        "dml_plr_lasso$summary()"
      ]
    },
    {
      "cell_type": "markdown",
      "id": "d922db8d",
      "metadata": {
        "papermill": {
          "duration": 0.046627,
          "end_time": "2021-03-23T13:47:58.987016",
          "exception": false,
          "start_time": "2021-03-23T13:47:58.940389",
          "status": "completed"
        },
        "tags": [],
        "id": "d922db8d"
      },
      "source": [
        "Alternatively, we can repeat this procedure with other machine learning methods, for example a random forest learner as provided by the [ranger](https://github.com/imbs-hl/ranger) package for R. The website of the [mlr3extralearners](https://mlr3extralearners.mlr-org.com/articles/learners/list_learners.html) package has a searchable list of all learners that are available in the [mlr3verse](https://mlr3verse.mlr-org.com/)."
      ]
    },
    {
      "cell_type": "code",
      "execution_count": null,
      "id": "9670966e",
      "metadata": {
        "execution": {
          "iopub.execute_input": "2022-11-04T11:17:34.868199Z",
          "iopub.status.busy": "2022-11-04T11:17:34.867036Z",
          "iopub.status.idle": "2022-11-04T11:17:42.277917Z",
          "shell.execute_reply": "2022-11-04T11:17:42.276273Z"
        },
        "papermill": {
          "duration": 63.042388,
          "end_time": "2021-03-23T13:49:02.075853",
          "exception": false,
          "start_time": "2021-03-23T13:47:59.033465",
          "status": "completed"
        },
        "tags": [],
        "id": "9670966e",
        "colab": {
          "base_uri": "https://localhost:8080/"
        },
        "outputId": "f3268d6a-d7ac-46de-a3f0-ca5dd75562bd"
      },
      "outputs": [
        {
          "output_type": "stream",
          "name": "stdout",
          "text": [
            "Estimates and significance testing of the effect of target variables\n",
            "     Estimate. Std. Error t value Pr(>|t|)    \n",
            "e401      9127       1313   6.952 3.61e-12 ***\n",
            "---\n",
            "Signif. codes:  0 ‘***’ 0.001 ‘**’ 0.01 ‘*’ 0.05 ‘.’ 0.1 ‘ ’ 1\n",
            "\n",
            "\n"
          ]
        }
      ],
      "source": [
        "# Random Forest\n",
        "randomForest = lrn(\"regr.ranger\", max.depth = 7,\n",
        "                   mtry = 3, min.node.size = 3)\n",
        "randomForest_class = lrn(\"classif.ranger\", max.depth = 5,\n",
        "                         mtry = 4, min.node.size = 7)\n",
        "\n",
        "set.seed(123)\n",
        "dml_plr_forest = DoubleMLPLR$new(data_dml_base,\n",
        "                                 ml_l = randomForest,\n",
        "                                 ml_m = randomForest_class,\n",
        "                                 n_folds = 3)\n",
        "dml_plr_forest$fit()\n",
        "dml_plr_forest$summary()"
      ]
    },
    {
      "cell_type": "markdown",
      "id": "f2cbd323",
      "metadata": {
        "id": "f2cbd323"
      },
      "source": [
        "Now, let's use a regression tree as provided by the R package [rpart](https://github.com/bethatkinson/rpart)."
      ]
    },
    {
      "cell_type": "code",
      "execution_count": null,
      "id": "76a4b258",
      "metadata": {
        "execution": {
          "iopub.execute_input": "2022-11-04T11:17:42.282685Z",
          "iopub.status.busy": "2022-11-04T11:17:42.281417Z",
          "iopub.status.idle": "2022-11-04T11:17:42.802734Z",
          "shell.execute_reply": "2022-11-04T11:17:42.801085Z"
        },
        "papermill": {
          "duration": 1.627688,
          "end_time": "2021-03-23T13:49:04.092395",
          "exception": false,
          "start_time": "2021-03-23T13:49:02.464707",
          "status": "completed"
        },
        "tags": [],
        "id": "76a4b258",
        "colab": {
          "base_uri": "https://localhost:8080/"
        },
        "outputId": "bbd08622-2f5e-496a-b24a-a7bc1e3e4048"
      },
      "outputs": [
        {
          "output_type": "stream",
          "name": "stdout",
          "text": [
            "Estimates and significance testing of the effect of target variables\n",
            "     Estimate. Std. Error t value Pr(>|t|)    \n",
            "e401      8210       1324   6.203 5.55e-10 ***\n",
            "---\n",
            "Signif. codes:  0 ‘***’ 0.001 ‘**’ 0.01 ‘*’ 0.05 ‘.’ 0.1 ‘ ’ 1\n",
            "\n",
            "\n"
          ]
        }
      ],
      "source": [
        "# Trees\n",
        "trees = lrn(\"regr.rpart\", cp = 0.0047, minsplit = 203)\n",
        "trees_class = lrn(\"classif.rpart\", cp = 0.0042, minsplit = 104)\n",
        "\n",
        "set.seed(123)\n",
        "dml_plr_tree = DoubleMLPLR$new(data_dml_base,\n",
        "                               ml_l = trees,\n",
        "                               ml_m = trees_class,\n",
        "                               n_folds = 3)\n",
        "dml_plr_tree$fit()\n",
        "dml_plr_tree$summary()"
      ]
    },
    {
      "cell_type": "markdown",
      "id": "dd6800f9",
      "metadata": {
        "id": "dd6800f9"
      },
      "source": [
        "We can also experiment with extreme gradient boosting as provided by [xgboost](https://xgboost.readthedocs.io/en/latest/)."
      ]
    },
    {
      "cell_type": "code",
      "execution_count": null,
      "id": "a2a0c914",
      "metadata": {
        "execution": {
          "iopub.execute_input": "2022-11-04T11:17:42.807642Z",
          "iopub.status.busy": "2022-11-04T11:17:42.806450Z",
          "iopub.status.idle": "2022-11-04T11:17:44.398158Z",
          "shell.execute_reply": "2022-11-04T11:17:44.396661Z"
        },
        "papermill": {
          "duration": 1.048317,
          "end_time": "2021-03-23T13:49:05.194441",
          "exception": false,
          "start_time": "2021-03-23T13:49:04.146124",
          "status": "completed"
        },
        "tags": [],
        "id": "a2a0c914",
        "colab": {
          "base_uri": "https://localhost:8080/"
        },
        "outputId": "5973baeb-f3af-44be-8178-539f99772f77"
      },
      "outputs": [
        {
          "output_type": "stream",
          "name": "stdout",
          "text": [
            "Estimates and significance testing of the effect of target variables\n",
            "     Estimate. Std. Error t value Pr(>|t|)    \n",
            "e401      8700       1360   6.399 1.57e-10 ***\n",
            "---\n",
            "Signif. codes:  0 ‘***’ 0.001 ‘**’ 0.01 ‘*’ 0.05 ‘.’ 0.1 ‘ ’ 1\n",
            "\n",
            "\n"
          ]
        }
      ],
      "source": [
        "# Boosted trees\n",
        "boost = lrn(\"regr.xgboost\",\n",
        "            objective = \"reg:squarederror\",\n",
        "            eta = 0.1, nrounds = 35)\n",
        "boost_class = lrn(\"classif.xgboost\",\n",
        "                  objective = \"binary:logistic\", eval_metric = \"logloss\",\n",
        "                  eta = 0.1, nrounds = 34)\n",
        "\n",
        "set.seed(123)\n",
        "dml_plr_boost = DoubleMLPLR$new(data_dml_base,\n",
        "                                ml_l = boost,\n",
        "                                ml_m = boost_class,\n",
        "                                n_folds = 3)\n",
        "dml_plr_boost$fit()\n",
        "dml_plr_boost$summary()"
      ]
    },
    {
      "cell_type": "markdown",
      "id": "cce3aca6",
      "metadata": {
        "papermill": {
          "duration": 0.055456,
          "end_time": "2021-03-23T13:49:05.305048",
          "exception": false,
          "start_time": "2021-03-23T13:49:05.249592",
          "status": "completed"
        },
        "tags": [],
        "id": "cce3aca6"
      },
      "source": [
        "Let's sum up the results:"
      ]
    },
    {
      "cell_type": "code",
      "execution_count": null,
      "id": "20e3a391",
      "metadata": {
        "execution": {
          "iopub.execute_input": "2022-11-04T11:17:44.402846Z",
          "iopub.status.busy": "2022-11-04T11:17:44.401758Z",
          "iopub.status.idle": "2022-11-04T11:17:44.427514Z",
          "shell.execute_reply": "2022-11-04T11:17:44.426061Z"
        },
        "papermill": {
          "duration": 0.127098,
          "end_time": "2021-03-23T13:49:05.487776",
          "exception": false,
          "start_time": "2021-03-23T13:49:05.360678",
          "status": "completed"
        },
        "tags": [],
        "id": "20e3a391",
        "colab": {
          "base_uri": "https://localhost:8080/",
          "height": 223
        },
        "outputId": "0d50c1b8-9348-403c-a2f0-8b4b179c6289"
      },
      "outputs": [
        {
          "output_type": "display_data",
          "data": {
            "text/html": [
              "<table class=\"dataframe\">\n",
              "<caption>A data.table: 4 × 5</caption>\n",
              "<thead>\n",
              "\t<tr><th scope=col>model</th><th scope=col>ML</th><th scope=col>Estimate</th><th scope=col>lower</th><th scope=col>upper</th></tr>\n",
              "\t<tr><th scope=col>&lt;chr&gt;</th><th scope=col>&lt;chr&gt;</th><th scope=col>&lt;dbl&gt;</th><th scope=col>&lt;dbl&gt;</th><th scope=col>&lt;dbl&gt;</th></tr>\n",
              "</thead>\n",
              "<tbody>\n",
              "\t<tr><td>PLR</td><td>glmnet </td><td>9579.771</td><td>6982.443</td><td>12177.10</td></tr>\n",
              "\t<tr><td>PLR</td><td>ranger </td><td>9126.999</td><td>6553.684</td><td>11700.31</td></tr>\n",
              "\t<tr><td>PLR</td><td>rpart  </td><td>8209.737</td><td>5615.525</td><td>10803.95</td></tr>\n",
              "\t<tr><td>PLR</td><td>xgboost</td><td>8700.134</td><td>6035.281</td><td>11364.99</td></tr>\n",
              "</tbody>\n",
              "</table>\n"
            ],
            "text/markdown": "\nA data.table: 4 × 5\n\n| model &lt;chr&gt; | ML &lt;chr&gt; | Estimate &lt;dbl&gt; | lower &lt;dbl&gt; | upper &lt;dbl&gt; |\n|---|---|---|---|---|\n| PLR | glmnet  | 9579.771 | 6982.443 | 12177.10 |\n| PLR | ranger  | 9126.999 | 6553.684 | 11700.31 |\n| PLR | rpart   | 8209.737 | 5615.525 | 10803.95 |\n| PLR | xgboost | 8700.134 | 6035.281 | 11364.99 |\n\n",
            "text/latex": "A data.table: 4 × 5\n\\begin{tabular}{lllll}\n model & ML & Estimate & lower & upper\\\\\n <chr> & <chr> & <dbl> & <dbl> & <dbl>\\\\\n\\hline\n\t PLR & glmnet  & 9579.771 & 6982.443 & 12177.10\\\\\n\t PLR & ranger  & 9126.999 & 6553.684 & 11700.31\\\\\n\t PLR & rpart   & 8209.737 & 5615.525 & 10803.95\\\\\n\t PLR & xgboost & 8700.134 & 6035.281 & 11364.99\\\\\n\\end{tabular}\n",
            "text/plain": [
              "  model ML      Estimate lower    upper   \n",
              "1 PLR   glmnet  9579.771 6982.443 12177.10\n",
              "2 PLR   ranger  9126.999 6553.684 11700.31\n",
              "3 PLR   rpart   8209.737 5615.525 10803.95\n",
              "4 PLR   xgboost 8700.134 6035.281 11364.99"
            ]
          },
          "metadata": {}
        }
      ],
      "source": [
        "confints = rbind(dml_plr_lasso$confint(), dml_plr_forest$confint(),\n",
        "                 dml_plr_tree$confint(), dml_plr_boost$confint())\n",
        "estimates = c(dml_plr_lasso$coef, dml_plr_forest$coef,\n",
        "              dml_plr_tree$coef, dml_plr_boost$coef)\n",
        "result_plr = data.table(\"model\" = \"PLR\",\n",
        "                        \"ML\" = c(\"glmnet\", \"ranger\", \"rpart\", \"xgboost\"),\n",
        "                        \"Estimate\" = estimates,\n",
        "                        \"lower\" = confints[,1],\n",
        "                        \"upper\" = confints[,2])\n",
        "result_plr"
      ]
    },
    {
      "cell_type": "code",
      "execution_count": null,
      "id": "50e2a7c9",
      "metadata": {
        "execution": {
          "iopub.execute_input": "2022-11-04T11:17:44.432072Z",
          "iopub.status.busy": "2022-11-04T11:17:44.430846Z",
          "iopub.status.idle": "2022-11-04T11:17:44.641260Z",
          "shell.execute_reply": "2022-11-04T11:17:44.639734Z"
        },
        "id": "50e2a7c9",
        "colab": {
          "base_uri": "https://localhost:8080/",
          "height": 437
        },
        "outputId": "c034aa54-b02a-4ab0-95f7-fa2d51cd1653"
      },
      "outputs": [
        {
          "output_type": "display_data",
          "data": {
            "text/plain": [
              "plot without title"
            ],
            "image/png": "[encoded data removed]"
          },
          "metadata": {
            "image/png": {
              "width": 420,
              "height": 420
            }
          }
        }
      ],
      "source": [
        "g_ci = ggplot(result_plr, aes(x = ML, y = Estimate, color = ML)) +\n",
        "        geom_point() +\n",
        "        geom_errorbar(aes(ymin = lower, ymax = upper, color = ML))  +\n",
        "        geom_hline(yintercept = 0, color = \"grey\") +\n",
        "        theme_minimal() + ylab(\"Coefficients and 0.95- confidence interval\") +\n",
        "        xlab(\"\") +\n",
        "        theme(axis.text.x = element_text(angle = 90), legend.position = \"none\",\n",
        "              text = element_text(size = 20))\n",
        "\n",
        "g_ci"
      ]
    },
    {
      "cell_type": "markdown",
      "id": "6405d1e9",
      "metadata": {
        "papermill": {
          "duration": 0.056069,
          "end_time": "2021-03-23T13:49:05.604569",
          "exception": false,
          "start_time": "2021-03-23T13:49:05.548500",
          "status": "completed"
        },
        "tags": [],
        "id": "6405d1e9"
      },
      "source": [
        "### Interactive Regression Model (IRM)"
      ]
    },
    {
      "cell_type": "markdown",
      "id": "89212f23",
      "metadata": {
        "papermill": {
          "duration": 0.055247,
          "end_time": "2021-03-23T13:49:05.714403",
          "exception": false,
          "start_time": "2021-03-23T13:49:05.659156",
          "status": "completed"
        },
        "tags": [],
        "id": "89212f23"
      },
      "source": [
        "Next, we consider estimation of average treatment effects when treatment effects are fully heterogeneous:"
      ]
    },
    {
      "cell_type": "markdown",
      "id": "7cc1040d",
      "metadata": {
        "papermill": {
          "duration": 0.057453,
          "end_time": "2021-03-23T13:49:05.828088",
          "exception": false,
          "start_time": "2021-03-23T13:49:05.770635",
          "status": "completed"
        },
        "tags": [],
        "id": "7cc1040d"
      },
      "source": [
        "\\begin{eqnarray}\n",
        "& Y = g_0(D,X) + U, &\\quad E[U\\mid X,D] = 0,\\\\\n",
        "& D = m_0(X) + V, &\\quad E[V\\mid X] = 0.\n",
        "\\end{eqnarray}"
      ]
    },
    {
      "cell_type": "markdown",
      "id": "dc13bc3d",
      "metadata": {
        "papermill": {
          "duration": 0.055141,
          "end_time": "2021-03-23T13:49:05.940426",
          "exception": false,
          "start_time": "2021-03-23T13:49:05.885285",
          "status": "completed"
        },
        "tags": [],
        "id": "dc13bc3d"
      },
      "source": [
        "To reduce the disproportionate impact of extreme propensity score weights in the interactive model\n",
        "we trim the propensity scores which are close to the bounds."
      ]
    },
    {
      "cell_type": "code",
      "execution_count": null,
      "id": "7a2a1a88",
      "metadata": {
        "execution": {
          "iopub.execute_input": "2022-11-04T11:17:44.647461Z",
          "iopub.status.busy": "2022-11-04T11:17:44.646276Z",
          "iopub.status.idle": "2022-11-04T11:17:48.494755Z",
          "shell.execute_reply": "2022-11-04T11:17:48.493317Z"
        },
        "papermill": {
          "duration": 18.876848,
          "end_time": "2021-03-23T13:49:24.871740",
          "exception": false,
          "start_time": "2021-03-23T13:49:05.994892",
          "status": "completed"
        },
        "tags": [],
        "id": "7a2a1a88",
        "colab": {
          "base_uri": "https://localhost:8080/"
        },
        "outputId": "a3a95777-8995-4946-a14c-d2d4fe532261"
      },
      "outputs": [
        {
          "output_type": "stream",
          "name": "stdout",
          "text": [
            "Estimates and significance testing of the effect of target variables\n",
            "     Estimate. Std. Error t value Pr(>|t|)    \n",
            "e401      8850       1341   6.601 4.08e-11 ***\n",
            "---\n",
            "Signif. codes:  0 ‘***’ 0.001 ‘**’ 0.01 ‘*’ 0.05 ‘.’ 0.1 ‘ ’ 1\n",
            "\n",
            "\n"
          ]
        }
      ],
      "source": [
        "set.seed(123)\n",
        "# Initialize DoubleMLIRM model\n",
        "dml_irm_lasso = DoubleMLIRM$new(data_dml_flex,\n",
        "                                ml_g = lasso,\n",
        "                                ml_m = lasso_class,\n",
        "                                trimming_threshold = 0.01,\n",
        "                                n_folds = 3)\n",
        "dml_irm_lasso$fit()\n",
        "dml_irm_lasso$summary()"
      ]
    },
    {
      "cell_type": "code",
      "execution_count": null,
      "id": "d9d66ac9",
      "metadata": {
        "execution": {
          "iopub.execute_input": "2022-11-04T11:17:48.499192Z",
          "iopub.status.busy": "2022-11-04T11:17:48.498097Z",
          "iopub.status.idle": "2022-11-04T11:17:57.233805Z",
          "shell.execute_reply": "2022-11-04T11:17:57.231430Z"
        },
        "papermill": {
          "duration": 59.82937,
          "end_time": "2021-03-23T13:50:24.953063",
          "exception": false,
          "start_time": "2021-03-23T13:49:25.123693",
          "status": "completed"
        },
        "tags": [],
        "id": "d9d66ac9",
        "colab": {
          "base_uri": "https://localhost:8080/"
        },
        "outputId": "20a45152-97cc-4507-9fec-3507e763761b"
      },
      "outputs": [
        {
          "output_type": "stream",
          "name": "stdout",
          "text": [
            "Estimates and significance testing of the effect of target variables\n",
            "     Estimate. Std. Error t value Pr(>|t|)    \n",
            "e401      8202       1118   7.334 2.23e-13 ***\n",
            "---\n",
            "Signif. codes:  0 ‘***’ 0.001 ‘**’ 0.01 ‘*’ 0.05 ‘.’ 0.1 ‘ ’ 1\n",
            "\n",
            "\n"
          ]
        }
      ],
      "source": [
        "# Initialize Learner\n",
        "randomForest = lrn(\"regr.ranger\")\n",
        "randomForest_class = lrn(\"classif.ranger\")\n",
        "\n",
        "# Random Forest\n",
        "set.seed(123)\n",
        "dml_irm_forest = DoubleMLIRM$new(data_dml_base,\n",
        "                                 ml_g = randomForest,\n",
        "                                 ml_m = randomForest_class,\n",
        "                                 trimming_threshold = 0.01,\n",
        "                                 n_folds = 3)\n",
        "\n",
        "# Set nuisance-part specific parameters\n",
        "dml_irm_forest$set_ml_nuisance_params(\n",
        "    \"ml_g0\", \"e401\", list(max.depth = 6, mtry = 4, min.node.size = 7))\n",
        "dml_irm_forest$set_ml_nuisance_params(\n",
        "    \"ml_g1\", \"e401\", list(max.depth = 6, mtry = 3, min.node.size = 5))\n",
        "dml_irm_forest$set_ml_nuisance_params(\n",
        "    \"ml_m\", \"e401\", list(max.depth = 6, mtry = 3, min.node.size = 6))\n",
        "\n",
        "dml_irm_forest$fit()\n",
        "dml_irm_forest$summary()"
      ]
    },
    {
      "cell_type": "code",
      "execution_count": null,
      "id": "d93208c7",
      "metadata": {
        "execution": {
          "iopub.execute_input": "2022-11-04T11:17:57.239261Z",
          "iopub.status.busy": "2022-11-04T11:17:57.238091Z",
          "iopub.status.idle": "2022-11-04T11:17:57.778089Z",
          "shell.execute_reply": "2022-11-04T11:17:57.776488Z"
        },
        "id": "d93208c7",
        "colab": {
          "base_uri": "https://localhost:8080/"
        },
        "outputId": "e69ef49f-632a-4117-b343-704c3d9b5e80"
      },
      "outputs": [
        {
          "output_type": "stream",
          "name": "stdout",
          "text": [
            "Estimates and significance testing of the effect of target variables\n",
            "     Estimate. Std. Error t value Pr(>|t|)    \n",
            "e401      8415       1186   7.098 1.26e-12 ***\n",
            "---\n",
            "Signif. codes:  0 ‘***’ 0.001 ‘**’ 0.01 ‘*’ 0.05 ‘.’ 0.1 ‘ ’ 1\n",
            "\n",
            "\n"
          ]
        }
      ],
      "source": [
        "# Initialize Learner\n",
        "trees = lrn(\"regr.rpart\")\n",
        "trees_class = lrn(\"classif.rpart\")\n",
        "\n",
        "# Trees\n",
        "set.seed(123)\n",
        "dml_irm_tree = DoubleMLIRM$new(data_dml_base,\n",
        "                          ml_g = trees,\n",
        "                          ml_m = trees_class,\n",
        "                          trimming_threshold = 0.01,\n",
        "                          n_folds = 3)\n",
        "\n",
        "# Set nuisance-part specific parameters\n",
        "dml_irm_tree$set_ml_nuisance_params(\n",
        "    \"ml_g0\", \"e401\", list(cp = 0.0016, minsplit = 74))\n",
        "dml_irm_tree$set_ml_nuisance_params(\n",
        "    \"ml_g1\", \"e401\", list(cp = 0.0018, minsplit = 70))\n",
        "dml_irm_tree$set_ml_nuisance_params(\n",
        "    \"ml_m\", \"e401\", list(cp = 0.0028, minsplit = 167))\n",
        "\n",
        "dml_irm_tree$fit()\n",
        "dml_irm_tree$summary()"
      ]
    },
    {
      "cell_type": "code",
      "execution_count": null,
      "id": "a409c687",
      "metadata": {
        "execution": {
          "iopub.execute_input": "2022-11-04T11:17:57.782710Z",
          "iopub.status.busy": "2022-11-04T11:17:57.781565Z",
          "iopub.status.idle": "2022-11-04T11:17:59.132391Z",
          "shell.execute_reply": "2022-11-04T11:17:59.130868Z"
        },
        "id": "a409c687",
        "colab": {
          "base_uri": "https://localhost:8080/"
        },
        "outputId": "61040880-9bc7-43e3-d386-9443ce39f5e5"
      },
      "outputs": [
        {
          "output_type": "stream",
          "name": "stdout",
          "text": [
            "Estimates and significance testing of the effect of target variables\n",
            "     Estimate. Std. Error t value Pr(>|t|)    \n",
            "e401      8048       1182   6.808 9.91e-12 ***\n",
            "---\n",
            "Signif. codes:  0 ‘***’ 0.001 ‘**’ 0.01 ‘*’ 0.05 ‘.’ 0.1 ‘ ’ 1\n",
            "\n",
            "\n"
          ]
        }
      ],
      "source": [
        "# Initialize Learners\n",
        "boost = lrn(\"regr.xgboost\", objective = \"reg:squarederror\")\n",
        "boost_class = lrn(\"classif.xgboost\", objective = \"binary:logistic\", eval_metric = \"logloss\")\n",
        "\n",
        "# Boosted Trees\n",
        "set.seed(123)\n",
        "dml_irm_boost = DoubleMLIRM$new(data_dml_base,\n",
        "                                ml_g = boost,\n",
        "                                ml_m = boost_class,\n",
        "                                trimming_threshold = 0.01,\n",
        "                                n_folds = 3)\n",
        "\n",
        "# Set nuisance-part specific parameters\n",
        "if (compareVersion(as.character(packageVersion(\"DoubleML\")), \"0.2.1\") > 0) {\n",
        "    dml_irm_boost$set_ml_nuisance_params(\n",
        "        \"ml_g0\", \"e401\", list(nrounds = 8, eta = 0.1))\n",
        "    dml_irm_boost$set_ml_nuisance_params(\n",
        "        \"ml_g1\", \"e401\", list(nrounds = 29, eta = 0.1))\n",
        "    dml_irm_boost$set_ml_nuisance_params(\n",
        "        \"ml_m\", \"e401\", list(nrounds = 23, eta = 0.1))\n",
        "} else {\n",
        "    # behavior of set_ml_nuisance_params() changed in https://github.com/DoubleML/doubleml-for-r/pull/89\n",
        "    dml_irm_boost$set_ml_nuisance_params(\n",
        "        \"ml_g0\", \"e401\", list(nrounds = 8, eta = 0.1, objective = \"reg:squarederror\", verbose=0))\n",
        "    dml_irm_boost$set_ml_nuisance_params(\n",
        "        \"ml_g1\", \"e401\", list(nrounds = 29, eta = 0.1, objective = \"reg:squarederror\", verbose=0))\n",
        "    dml_irm_boost$set_ml_nuisance_params(\n",
        "        \"ml_m\", \"e401\", list(nrounds = 23, eta = 0.1, objective = \"binary:logistic\", eval_metric = \"logloss\", verbose=0))\n",
        "}\n",
        "\n",
        "dml_irm_boost$fit()\n",
        "dml_irm_boost$summary()"
      ]
    },
    {
      "cell_type": "code",
      "execution_count": null,
      "id": "c388da15",
      "metadata": {
        "execution": {
          "iopub.execute_input": "2022-11-04T11:17:59.136904Z",
          "iopub.status.busy": "2022-11-04T11:17:59.135759Z",
          "iopub.status.idle": "2022-11-04T11:17:59.394568Z",
          "shell.execute_reply": "2022-11-04T11:17:59.392905Z"
        },
        "papermill": {
          "duration": 0.108326,
          "end_time": "2021-03-23T13:50:25.131041",
          "exception": false,
          "start_time": "2021-03-23T13:50:25.022715",
          "status": "completed"
        },
        "tags": [],
        "id": "c388da15",
        "colab": {
          "base_uri": "https://localhost:8080/",
          "height": 643
        },
        "outputId": "91e10a52-2dc7-4a56-efd4-fe325c228786"
      },
      "outputs": [
        {
          "output_type": "display_data",
          "data": {
            "text/html": [
              "<table class=\"dataframe\">\n",
              "<caption>A data.table: 4 × 5</caption>\n",
              "<thead>\n",
              "\t<tr><th scope=col>model</th><th scope=col>ML</th><th scope=col>Estimate</th><th scope=col>lower</th><th scope=col>upper</th></tr>\n",
              "\t<tr><th scope=col>&lt;chr&gt;</th><th scope=col>&lt;chr&gt;</th><th scope=col>&lt;dbl&gt;</th><th scope=col>&lt;dbl&gt;</th><th scope=col>&lt;dbl&gt;</th></tr>\n",
              "</thead>\n",
              "<tbody>\n",
              "\t<tr><td>IRM</td><td>glmnet </td><td>8850.064</td><td>6222.396</td><td>11477.73</td></tr>\n",
              "\t<tr><td>IRM</td><td>ranger </td><td>8202.101</td><td>6010.245</td><td>10393.96</td></tr>\n",
              "\t<tr><td>IRM</td><td>rpart  </td><td>8415.276</td><td>6091.618</td><td>10738.93</td></tr>\n",
              "\t<tr><td>IRM</td><td>xgboost</td><td>8047.598</td><td>5730.684</td><td>10364.51</td></tr>\n",
              "</tbody>\n",
              "</table>\n"
            ],
            "text/markdown": "\nA data.table: 4 × 5\n\n| model &lt;chr&gt; | ML &lt;chr&gt; | Estimate &lt;dbl&gt; | lower &lt;dbl&gt; | upper &lt;dbl&gt; |\n|---|---|---|---|---|\n| IRM | glmnet  | 8850.064 | 6222.396 | 11477.73 |\n| IRM | ranger  | 8202.101 | 6010.245 | 10393.96 |\n| IRM | rpart   | 8415.276 | 6091.618 | 10738.93 |\n| IRM | xgboost | 8047.598 | 5730.684 | 10364.51 |\n\n",
            "text/latex": "A data.table: 4 × 5\n\\begin{tabular}{lllll}\n model & ML & Estimate & lower & upper\\\\\n <chr> & <chr> & <dbl> & <dbl> & <dbl>\\\\\n\\hline\n\t IRM & glmnet  & 8850.064 & 6222.396 & 11477.73\\\\\n\t IRM & ranger  & 8202.101 & 6010.245 & 10393.96\\\\\n\t IRM & rpart   & 8415.276 & 6091.618 & 10738.93\\\\\n\t IRM & xgboost & 8047.598 & 5730.684 & 10364.51\\\\\n\\end{tabular}\n",
            "text/plain": [
              "  model ML      Estimate lower    upper   \n",
              "1 IRM   glmnet  8850.064 6222.396 11477.73\n",
              "2 IRM   ranger  8202.101 6010.245 10393.96\n",
              "3 IRM   rpart   8415.276 6091.618 10738.93\n",
              "4 IRM   xgboost 8047.598 5730.684 10364.51"
            ]
          },
          "metadata": {}
        },
        {
          "output_type": "display_data",
          "data": {
            "text/plain": [
              "plot without title"
            ],
            "image/png": "[encoded data removed]"
          },
          "metadata": {
            "image/png": {
              "width": 420,
              "height": 420
            }
          }
        }
      ],
      "source": [
        "confints = rbind(dml_irm_lasso$confint(), dml_irm_forest$confint(),\n",
        "                 dml_irm_tree$confint(), dml_irm_boost$confint())\n",
        "estimates = c(dml_irm_lasso$coef, dml_irm_forest$coef,\n",
        "              dml_irm_tree$coef, dml_irm_boost$coef)\n",
        "result_irm = data.table(\"model\" = \"IRM\",\n",
        "                        \"ML\" = c(\"glmnet\", \"ranger\", \"rpart\", \"xgboost\"),\n",
        "                        \"Estimate\" = estimates,\n",
        "                        \"lower\" = confints[,1],\n",
        "                        \"upper\" = confints[,2])\n",
        "result_irm\n",
        "\n",
        "g_ci = ggplot(result_irm, aes(x = ML, y = Estimate, color = ML)) +\n",
        "        geom_point() +\n",
        "        geom_errorbar(aes(ymin = lower, ymax = upper, color = ML))  +\n",
        "        geom_hline(yintercept = 0, color = \"grey\") +\n",
        "        theme_minimal() + ylab(\"Coefficients and 0.95- confidence interval\") +\n",
        "        xlab(\"\") +\n",
        "        theme(axis.text.x = element_text(angle = 90), legend.position = \"none\",\n",
        "              text = element_text(size = 20))\n",
        "\n",
        "g_ci"
      ]
    },
    {
      "cell_type": "markdown",
      "id": "16a2088c",
      "metadata": {
        "papermill": {
          "duration": 0.067511,
          "end_time": "2021-03-23T13:50:25.267772",
          "exception": false,
          "start_time": "2021-03-23T13:50:25.200261",
          "status": "completed"
        },
        "tags": [],
        "id": "16a2088c"
      },
      "source": [
        "These estimates that flexibly account for confounding are\n",
        "substantially attenuated relative to the baseline estimate (*19559*) that does not account for confounding. They suggest much smaller causal effects of 401(k) eligiblity on financial asset holdings. The best model with lowest RMSE in both equations is the PLR model estimated via lasso."
      ]
    },
    {
      "cell_type": "markdown",
      "id": "286f8dfa",
      "metadata": {
        "papermill": {
          "duration": 0.06959,
          "end_time": "2021-03-23T13:50:25.563570",
          "exception": false,
          "start_time": "2021-03-23T13:50:25.493980",
          "status": "completed"
        },
        "tags": [],
        "id": "286f8dfa"
      },
      "source": [
        "## Local Average Treatment Effects of 401(k) Participation on Net Financial Assets"
      ]
    },
    {
      "cell_type": "markdown",
      "id": "33169af9",
      "metadata": {
        "papermill": {
          "duration": 0.068243,
          "end_time": "2021-03-23T13:50:25.700083",
          "exception": false,
          "start_time": "2021-03-23T13:50:25.631840",
          "status": "completed"
        },
        "tags": [],
        "id": "33169af9"
      },
      "source": [
        "### Interactive IV Model (IIVM)"
      ]
    },
    {
      "cell_type": "markdown",
      "id": "197b1a47",
      "metadata": {
        "papermill": {
          "duration": 0.070268,
          "end_time": "2021-03-23T13:50:25.842409",
          "exception": false,
          "start_time": "2021-03-23T13:50:25.772141",
          "status": "completed"
        },
        "tags": [],
        "id": "197b1a47"
      },
      "source": [
        "In the examples above, we estimated the average treatment effect of *eligibility* on financial asset holdings. Now, we consider estimation of local average treatment effects (LATE) of *participation* using eligibility as an instrument for the participation decision. Under appropriate assumptions, the LATE identifies the treatment effect for so-called compliers, i.e., individuals who would only participate if eligible and otherwise not participate in the program.\n",
        "\n",
        "As before, $Y$ denotes the outcome `net_tfa`, and $X$ is the vector of covariates. We use `e401` as a binary instrument for the treatment variable `p401`. Here the structural equation model is:\n",
        "\n",
        "\\begin{eqnarray}\n",
        "& Y = g_0(D,X) + U, &\\quad E[U\\mid D,X] = 0,\\\\\n",
        "& D = r_0(Z,X) + V, &\\quad E[V\\mid Z, X] = 0,\\\\\n",
        "& Z = m_0(X) + \\zeta, &\\quad E[\\zeta \\mid X] = 0.\n",
        "\\end{eqnarray}"
      ]
    },
    {
      "cell_type": "code",
      "execution_count": null,
      "id": "803215b0",
      "metadata": {
        "execution": {
          "iopub.execute_input": "2022-11-04T11:17:59.399961Z",
          "iopub.status.busy": "2022-11-04T11:17:59.398734Z",
          "iopub.status.idle": "2022-11-04T11:17:59.414548Z",
          "shell.execute_reply": "2022-11-04T11:17:59.413090Z"
        },
        "id": "803215b0",
        "colab": {
          "base_uri": "https://localhost:8080/",
          "height": 191
        },
        "outputId": "3b020bdf-1337-4e59-a400-9843e78d2ff6"
      },
      "outputs": [
        {
          "output_type": "display_data",
          "data": {
            "text/plain": [
              "================= DoubleMLData Object ==================\n",
              "\n",
              "\n",
              "------------------ Data summary      ------------------\n",
              "Outcome variable: net_tfa\n",
              "Treatment variable(s): p401\n",
              "Covariates: age, inc, educ, fsize, marr, twoearn, db, pira, hown\n",
              "Instrument(s): e401\n",
              "Selection variable: \n",
              "No. Observations: 9915"
            ]
          },
          "metadata": {}
        }
      ],
      "source": [
        "# Initialize DoubleMLData with an instrument\n",
        "\n",
        "# Basic model\n",
        "data_dml_base_iv = DoubleMLData$new(data,\n",
        "                                    y_col = \"net_tfa\",\n",
        "                                    d_cols = \"p401\",\n",
        "                                    x_cols = features_base,\n",
        "                                    z_cols = \"e401\")\n",
        "data_dml_base_iv"
      ]
    },
    {
      "cell_type": "code",
      "execution_count": null,
      "id": "fe2617d3",
      "metadata": {
        "execution": {
          "iopub.execute_input": "2022-11-04T11:17:59.418858Z",
          "iopub.status.busy": "2022-11-04T11:17:59.417732Z",
          "iopub.status.idle": "2022-11-04T11:17:59.433156Z",
          "shell.execute_reply": "2022-11-04T11:17:59.431752Z"
        },
        "papermill": {
          "duration": 0.139252,
          "end_time": "2021-03-23T13:50:26.050042",
          "exception": false,
          "start_time": "2021-03-23T13:50:25.910790",
          "status": "completed"
        },
        "tags": [],
        "id": "fe2617d3"
      },
      "outputs": [],
      "source": [
        "# Flexible model\n",
        "model_data = data.table(\"net_tfa\" = data[, net_tfa],\n",
        "                        \"e401\" = data[, e401],\n",
        "                        \"p401\" = data[, p401],\n",
        "                        features_flex)\n",
        "data_dml_flex_iv = DoubleMLData$new(model_data,\n",
        "                                    y_col = \"net_tfa\",\n",
        "                                    d_cols = \"p401\",\n",
        "                                    z_cols = \"e401\")"
      ]
    },
    {
      "cell_type": "code",
      "execution_count": null,
      "id": "1beb1a78",
      "metadata": {
        "execution": {
          "iopub.execute_input": "2022-11-04T11:17:59.437575Z",
          "iopub.status.busy": "2022-11-04T11:17:59.436464Z",
          "iopub.status.idle": "2022-11-04T11:18:03.743076Z",
          "shell.execute_reply": "2022-11-04T11:18:03.741601Z"
        },
        "papermill": {
          "duration": 21.662252,
          "end_time": "2021-03-23T13:50:47.781590",
          "exception": false,
          "start_time": "2021-03-23T13:50:26.119338",
          "status": "completed"
        },
        "tags": [],
        "id": "1beb1a78",
        "colab": {
          "base_uri": "https://localhost:8080/"
        },
        "outputId": "0a0d0f22-d0a4-45bd-b027-dbce0db36b56"
      },
      "outputs": [
        {
          "output_type": "stream",
          "name": "stdout",
          "text": [
            "Estimates and significance testing of the effect of target variables\n",
            "     Estimate. Std. Error t value Pr(>|t|)    \n",
            "p401     12802       1941   6.597  4.2e-11 ***\n",
            "---\n",
            "Signif. codes:  0 ‘***’ 0.001 ‘**’ 0.01 ‘*’ 0.05 ‘.’ 0.1 ‘ ’ 1\n",
            "\n",
            "\n"
          ]
        }
      ],
      "source": [
        "set.seed(123)\n",
        "dml_iivm_lasso = DoubleMLIIVM$new(data_dml_flex_iv,\n",
        "                                  ml_g = lasso,\n",
        "                                  ml_m = lasso_class,\n",
        "                                  ml_r = lasso_class,\n",
        "                                  n_folds = 3,\n",
        "                                  trimming_threshold = 0.01,\n",
        "                                  subgroups = list(always_takers = FALSE,\n",
        "                                                   never_takers = TRUE))\n",
        "dml_iivm_lasso$fit()\n",
        "dml_iivm_lasso$summary()"
      ]
    },
    {
      "cell_type": "markdown",
      "id": "a80e742e",
      "metadata": {
        "papermill": {
          "duration": 0.071304,
          "end_time": "2021-03-23T13:50:48.725067",
          "exception": false,
          "start_time": "2021-03-23T13:50:48.653763",
          "status": "completed"
        },
        "tags": [],
        "id": "a80e742e"
      },
      "source": [
        "Again, we repeat the procedure for the other machine learning methods:"
      ]
    },
    {
      "cell_type": "code",
      "execution_count": null,
      "id": "e9cee42d",
      "metadata": {
        "execution": {
          "iopub.execute_input": "2022-11-04T11:18:03.747897Z",
          "iopub.status.busy": "2022-11-04T11:18:03.746697Z",
          "iopub.status.idle": "2022-11-04T11:18:13.852517Z",
          "shell.execute_reply": "2022-11-04T11:18:13.850946Z"
        },
        "papermill": {
          "duration": 71.274438,
          "end_time": "2021-03-23T13:52:00.072442",
          "exception": false,
          "start_time": "2021-03-23T13:50:48.798004",
          "status": "completed"
        },
        "tags": [],
        "id": "e9cee42d",
        "colab": {
          "base_uri": "https://localhost:8080/"
        },
        "outputId": "3330e10f-c0e4-4ffb-9174-2fb30d7db852"
      },
      "outputs": [
        {
          "output_type": "stream",
          "name": "stdout",
          "text": [
            "Estimates and significance testing of the effect of target variables\n",
            "     Estimate. Std. Error t value Pr(>|t|)    \n",
            "p401     11792       1604   7.352 1.95e-13 ***\n",
            "---\n",
            "Signif. codes:  0 ‘***’ 0.001 ‘**’ 0.01 ‘*’ 0.05 ‘.’ 0.1 ‘ ’ 1\n",
            "\n",
            "\n"
          ]
        }
      ],
      "source": [
        "# Initialize Learner\n",
        "randomForest = lrn(\"regr.ranger\")\n",
        "randomForest_class = lrn(\"classif.ranger\")\n",
        "\n",
        "# Random Forest\n",
        "set.seed(123)\n",
        "dml_iivm_forest = DoubleMLIIVM$new(data_dml_base_iv,\n",
        "                              ml_g = randomForest,\n",
        "                              ml_m = randomForest_class,\n",
        "                              ml_r = randomForest_class,\n",
        "                              n_folds = 3,\n",
        "                              trimming_threshold = 0.01,\n",
        "                              subgroups = list(always_takers = FALSE,\n",
        "                                               never_takers = TRUE))\n",
        "\n",
        "# Set nuisance-part specific parameters\n",
        "dml_iivm_forest$set_ml_nuisance_params(\n",
        "    \"ml_g0\", \"p401\",\n",
        "    list(max.depth = 6, mtry = 4, min.node.size = 7))\n",
        "dml_iivm_forest$set_ml_nuisance_params(\n",
        "    \"ml_g1\", \"p401\",\n",
        "    list(max.depth = 6, mtry = 3, min.node.size = 5))\n",
        "dml_iivm_forest$set_ml_nuisance_params(\n",
        "    \"ml_m\", \"p401\",\n",
        "    list(max.depth = 6, mtry = 3, min.node.size = 6))\n",
        "dml_iivm_forest$set_ml_nuisance_params(\n",
        "    \"ml_r1\", \"p401\",\n",
        "    list(max.depth = 4, mtry = 7, min.node.size = 6))\n",
        "\n",
        "dml_iivm_forest$fit()\n",
        "dml_iivm_forest$summary()"
      ]
    },
    {
      "cell_type": "code",
      "execution_count": null,
      "id": "e2595fb1",
      "metadata": {
        "execution": {
          "iopub.execute_input": "2022-11-04T11:18:13.857261Z",
          "iopub.status.busy": "2022-11-04T11:18:13.856115Z",
          "iopub.status.idle": "2022-11-04T11:18:14.792724Z",
          "shell.execute_reply": "2022-11-04T11:18:14.791189Z"
        },
        "id": "e2595fb1",
        "colab": {
          "base_uri": "https://localhost:8080/"
        },
        "outputId": "a04f8d0d-e20b-411b-c4d2-35455f6a4ea2"
      },
      "outputs": [
        {
          "output_type": "stream",
          "name": "stdout",
          "text": [
            "Estimates and significance testing of the effect of target variables\n",
            "     Estimate. Std. Error t value Pr(>|t|)    \n",
            "p401     12214       1714   7.128 1.02e-12 ***\n",
            "---\n",
            "Signif. codes:  0 ‘***’ 0.001 ‘**’ 0.01 ‘*’ 0.05 ‘.’ 0.1 ‘ ’ 1\n",
            "\n",
            "\n"
          ]
        }
      ],
      "source": [
        "# Initialize Learner\n",
        "trees = lrn(\"regr.rpart\")\n",
        "trees_class = lrn(\"classif.rpart\")\n",
        "\n",
        "# Trees\n",
        "set.seed(123)\n",
        "dml_iivm_tree = DoubleMLIIVM$new(data_dml_base_iv,\n",
        "                                 ml_g = trees,\n",
        "                                 ml_m = trees_class,\n",
        "                                 ml_r = trees_class,\n",
        "                                 n_folds = 3,\n",
        "                                 trimming_threshold = 0.01,\n",
        "                                 subgroups = list(always_takers = FALSE,\n",
        "                                                  never_takers = TRUE))\n",
        "\n",
        "# Set nuisance-part specific parameters\n",
        "dml_iivm_tree$set_ml_nuisance_params(\n",
        "    \"ml_g0\", \"p401\",\n",
        "    list(cp = 0.0016, minsplit = 74))\n",
        "dml_iivm_tree$set_ml_nuisance_params(\n",
        "    \"ml_g1\", \"p401\",\n",
        "    list(cp = 0.0018, minsplit = 70))\n",
        "dml_iivm_tree$set_ml_nuisance_params(\n",
        "    \"ml_m\", \"p401\",\n",
        "    list(cp = 0.0028, minsplit = 167))\n",
        "dml_iivm_tree$set_ml_nuisance_params(\n",
        "    \"ml_r1\", \"p401\",\n",
        "    list(cp = 0.0576, minsplit = 55))\n",
        "\n",
        "dml_iivm_tree$fit()\n",
        "dml_iivm_tree$summary()"
      ]
    },
    {
      "cell_type": "code",
      "execution_count": null,
      "id": "19d1ef93",
      "metadata": {
        "execution": {
          "iopub.execute_input": "2022-11-04T11:18:14.797322Z",
          "iopub.status.busy": "2022-11-04T11:18:14.796169Z",
          "iopub.status.idle": "2022-11-04T11:18:16.353883Z",
          "shell.execute_reply": "2022-11-04T11:18:16.352416Z"
        },
        "id": "19d1ef93",
        "colab": {
          "base_uri": "https://localhost:8080/"
        },
        "outputId": "a4fc4447-66d8-4d36-ad2f-00b2fd809b3e"
      },
      "outputs": [
        {
          "output_type": "stream",
          "name": "stdout",
          "text": [
            "Estimates and significance testing of the effect of target variables\n",
            "     Estimate. Std. Error t value Pr(>|t|)    \n",
            "p401     11861       1619   7.324  2.4e-13 ***\n",
            "---\n",
            "Signif. codes:  0 ‘***’ 0.001 ‘**’ 0.01 ‘*’ 0.05 ‘.’ 0.1 ‘ ’ 1\n",
            "\n",
            "\n"
          ]
        }
      ],
      "source": [
        "# Initialize Learner\n",
        "boost = lrn(\"regr.xgboost\", objective = \"reg:squarederror\")\n",
        "boost_class = lrn(\"classif.xgboost\", objective = \"binary:logistic\", eval_metric = \"logloss\")\n",
        "\n",
        "# Boosted Trees\n",
        "set.seed(123)\n",
        "dml_iivm_boost = DoubleMLIIVM$new(data_dml_base_iv,\n",
        "                              ml_g = boost,\n",
        "                              ml_m = boost_class,\n",
        "                              ml_r = boost_class,\n",
        "                              n_folds = 3,\n",
        "                              trimming_threshold = 0.01,\n",
        "                              subgroups = list(always_takers = FALSE,\n",
        "                                               never_takers = TRUE))\n",
        "\n",
        "# Set nuisance-part specific parameters\n",
        "if (compareVersion(as.character(packageVersion(\"DoubleML\")), \"0.2.1\") > 0) {\n",
        "    dml_iivm_boost$set_ml_nuisance_params(\n",
        "        \"ml_g0\", \"p401\",\n",
        "        list(nrounds = 9, eta = 0.1))\n",
        "    dml_iivm_boost$set_ml_nuisance_params(\n",
        "        \"ml_g1\", \"p401\",\n",
        "        list(nrounds = 33, eta = 0.1))\n",
        "    dml_iivm_boost$set_ml_nuisance_params(\n",
        "        \"ml_m\", \"p401\",\n",
        "        list(nrounds = 12, eta = 0.1))\n",
        "    dml_iivm_boost$set_ml_nuisance_params(\n",
        "        \"ml_r1\", \"p401\",\n",
        "        list(nrounds = 25, eta = 0.1))\n",
        "} else {\n",
        "    # behavior of set_ml_nuisance_params() changed in https://github.com/DoubleML/doubleml-for-r/pull/89\n",
        "    dml_iivm_boost$set_ml_nuisance_params(\n",
        "        \"ml_g0\", \"p401\",\n",
        "        list(nrounds = 9, eta = 0.1, objective = \"reg:squarederror\", verbose=0))\n",
        "    dml_iivm_boost$set_ml_nuisance_params(\n",
        "        \"ml_g1\", \"p401\",\n",
        "        list(nrounds = 33, eta = 0.1, objective = \"reg:squarederror\", verbose=0))\n",
        "    dml_iivm_boost$set_ml_nuisance_params(\n",
        "        \"ml_m\", \"p401\",\n",
        "        list(nrounds = 12, eta = 0.1, objective = \"binary:logistic\", eval_metric = \"logloss\", verbose=0))\n",
        "    dml_iivm_boost$set_ml_nuisance_params(\n",
        "        \"ml_r1\", \"p401\",\n",
        "        list(nrounds = 25, eta = 0.1, objective = \"binary:logistic\", eval_metric = \"logloss\", verbose=0))\n",
        "}\n",
        "\n",
        "dml_iivm_boost$fit()\n",
        "dml_iivm_boost$summary()"
      ]
    },
    {
      "cell_type": "code",
      "execution_count": null,
      "id": "08267d88",
      "metadata": {
        "execution": {
          "iopub.execute_input": "2022-11-04T11:18:16.358367Z",
          "iopub.status.busy": "2022-11-04T11:18:16.357252Z",
          "iopub.status.idle": "2022-11-04T11:18:16.566848Z",
          "shell.execute_reply": "2022-11-04T11:18:16.565365Z"
        },
        "id": "08267d88",
        "colab": {
          "base_uri": "https://localhost:8080/",
          "height": 643
        },
        "outputId": "b45e0234-538b-4815-b493-15a1516d4a91"
      },
      "outputs": [
        {
          "output_type": "display_data",
          "data": {
            "text/html": [
              "<table class=\"dataframe\">\n",
              "<caption>A data.table: 4 × 5</caption>\n",
              "<thead>\n",
              "\t<tr><th scope=col>model</th><th scope=col>ML</th><th scope=col>Estimate</th><th scope=col>lower</th><th scope=col>upper</th></tr>\n",
              "\t<tr><th scope=col>&lt;chr&gt;</th><th scope=col>&lt;chr&gt;</th><th scope=col>&lt;dbl&gt;</th><th scope=col>&lt;dbl&gt;</th><th scope=col>&lt;dbl&gt;</th></tr>\n",
              "</thead>\n",
              "<tbody>\n",
              "\t<tr><td>IIVM</td><td>glmnet </td><td>12802.26</td><td>8998.639</td><td>16605.88</td></tr>\n",
              "\t<tr><td>IIVM</td><td>ranger </td><td>11792.22</td><td>8648.579</td><td>14935.87</td></tr>\n",
              "\t<tr><td>IIVM</td><td>rpart  </td><td>12214.45</td><td>8855.864</td><td>15573.04</td></tr>\n",
              "\t<tr><td>IIVM</td><td>xgboost</td><td>11861.19</td><td>8687.158</td><td>15035.22</td></tr>\n",
              "</tbody>\n",
              "</table>\n"
            ],
            "text/markdown": "\nA data.table: 4 × 5\n\n| model &lt;chr&gt; | ML &lt;chr&gt; | Estimate &lt;dbl&gt; | lower &lt;dbl&gt; | upper &lt;dbl&gt; |\n|---|---|---|---|---|\n| IIVM | glmnet  | 12802.26 | 8998.639 | 16605.88 |\n| IIVM | ranger  | 11792.22 | 8648.579 | 14935.87 |\n| IIVM | rpart   | 12214.45 | 8855.864 | 15573.04 |\n| IIVM | xgboost | 11861.19 | 8687.158 | 15035.22 |\n\n",
            "text/latex": "A data.table: 4 × 5\n\\begin{tabular}{lllll}\n model & ML & Estimate & lower & upper\\\\\n <chr> & <chr> & <dbl> & <dbl> & <dbl>\\\\\n\\hline\n\t IIVM & glmnet  & 12802.26 & 8998.639 & 16605.88\\\\\n\t IIVM & ranger  & 11792.22 & 8648.579 & 14935.87\\\\\n\t IIVM & rpart   & 12214.45 & 8855.864 & 15573.04\\\\\n\t IIVM & xgboost & 11861.19 & 8687.158 & 15035.22\\\\\n\\end{tabular}\n",
            "text/plain": [
              "  model ML      Estimate lower    upper   \n",
              "1 IIVM  glmnet  12802.26 8998.639 16605.88\n",
              "2 IIVM  ranger  11792.22 8648.579 14935.87\n",
              "3 IIVM  rpart   12214.45 8855.864 15573.04\n",
              "4 IIVM  xgboost 11861.19 8687.158 15035.22"
            ]
          },
          "metadata": {}
        },
        {
          "output_type": "display_data",
          "data": {
            "text/plain": [
              "plot without title"
            ],
            "image/png": "[encoded data removed]"
          },
          "metadata": {
            "image/png": {
              "width": 420,
              "height": 420
            }
          }
        }
      ],
      "source": [
        "confints = rbind(dml_iivm_lasso$confint(), dml_iivm_forest$confint(),\n",
        "                 dml_iivm_tree$confint(), dml_iivm_boost$confint())\n",
        "estimates = c(dml_iivm_lasso$coef, dml_iivm_forest$coef,\n",
        "              dml_iivm_tree$coef, dml_iivm_boost$coef)\n",
        "result_iivm = data.table(\"model\" = \"IIVM\",\n",
        "                        \"ML\" = c(\"glmnet\", \"ranger\", \"rpart\", \"xgboost\"),\n",
        "                        \"Estimate\" = estimates,\n",
        "                        \"lower\" = confints[,1],\n",
        "                        \"upper\" = confints[,2])\n",
        "result_iivm\n",
        "\n",
        "g_ci = ggplot(result_iivm, aes(x = ML, y = Estimate, color = ML)) +\n",
        "        geom_point() +\n",
        "        geom_errorbar(aes(ymin = lower, ymax = upper, color = ML))  +\n",
        "        geom_hline(yintercept = 0, color = \"grey\") +\n",
        "        theme_minimal() + ylab(\"Coefficients and 0.95- confidence interval\") +\n",
        "        xlab(\"\") +\n",
        "        theme(axis.text.x = element_text(angle = 90), legend.position = \"none\",\n",
        "              text = element_text(size = 20))\n",
        "\n",
        "g_ci"
      ]
    },
    {
      "cell_type": "markdown",
      "id": "907c3978",
      "metadata": {
        "id": "907c3978"
      },
      "source": [
        "## Summary of Results"
      ]
    },
    {
      "cell_type": "markdown",
      "id": "bdeed622",
      "metadata": {
        "id": "bdeed622"
      },
      "source": [
        "To sum up, let's merge all our results so far and illustrate them in a plot."
      ]
    },
    {
      "cell_type": "code",
      "execution_count": null,
      "id": "f7c5acef",
      "metadata": {
        "execution": {
          "iopub.execute_input": "2022-11-04T11:18:16.572173Z",
          "iopub.status.busy": "2022-11-04T11:18:16.571032Z",
          "iopub.status.idle": "2022-11-04T11:18:16.583613Z",
          "shell.execute_reply": "2022-11-04T11:18:16.582235Z"
        },
        "id": "f7c5acef"
      },
      "outputs": [],
      "source": [
        "summary_result = rbindlist(list(result_plr, result_irm, result_iivm))\n",
        "summary_result[, model := factor(model, levels = c(\"PLR\", \"IRM\", \"IIVM\"))]"
      ]
    },
    {
      "cell_type": "code",
      "execution_count": null,
      "id": "d0658530",
      "metadata": {
        "execution": {
          "iopub.execute_input": "2022-11-04T11:18:16.587839Z",
          "iopub.status.busy": "2022-11-04T11:18:16.586726Z",
          "iopub.status.idle": "2022-11-04T11:18:16.915121Z",
          "shell.execute_reply": "2022-11-04T11:18:16.913611Z"
        },
        "tags": [
          "nbsphinx-thumbnail"
        ],
        "id": "d0658530",
        "colab": {
          "base_uri": "https://localhost:8080/",
          "height": 437
        },
        "outputId": "d74f42d9-6292-4075-cca4-94fe3fef4fcf"
      },
      "outputs": [
        {
          "output_type": "display_data",
          "data": {
            "text/plain": [
              "plot without title"
            ],
            "image/png": "[encoded data removed]"
          },
          "metadata": {
            "image/png": {
              "width": 420,
              "height": 420
            }
          }
        }
      ],
      "source": [
        "g_all = ggplot(summary_result, aes(x = ML, y = Estimate, color = ML)) +\n",
        "        geom_point() +\n",
        "        geom_errorbar(aes(ymin = lower, ymax = upper, color = ML))  +\n",
        "        geom_hline(yintercept = 0, color = \"grey\") +\n",
        "        theme_minimal() + ylab(\"Coefficients and 0.95- confidence interval\") +\n",
        "        xlab(\"\") +\n",
        "        theme(axis.text.x = element_text(angle = 90), legend.position = \"none\",\n",
        "              text = element_text(size = 20)) +\n",
        "        facet_wrap(model ~., ncol = 1)\n",
        "\n",
        "g_all"
      ]
    },
    {
      "cell_type": "markdown",
      "id": "62b2d3d5",
      "metadata": {
        "papermill": {
          "duration": 0.079866,
          "end_time": "2021-03-23T13:52:00.452482",
          "exception": false,
          "start_time": "2021-03-23T13:52:00.372616",
          "status": "completed"
        },
        "tags": [],
        "id": "62b2d3d5"
      },
      "source": [
        "We report results based on four ML methods for estimating the nuisance functions used in\n",
        "forming the orthogonal estimating equations. We find again that the estimates of the treatment effect are stable across ML methods. The estimates are highly significant, hence we would reject the hypothesis\n",
        "that 401(k) participation has no effect on financial wealth."
      ]
    }
  ],
  "metadata": {
    "kernelspec": {
      "display_name": "R",
      "language": "R",
      "name": "ir"
    },
    "language_info": {
      "codemirror_mode": "r",
      "file_extension": ".r",
      "mimetype": "text/x-r-source",
      "name": "R",
      "pygments_lexer": "r",
      "version": "4.2.2"
    },
    "papermill": {
      "default_parameters": {},
      "duration": 503.595131,
      "end_time": "2021-03-23T13:52:50.313398",
      "environment_variables": {},
      "exception": null,
      "input_path": "__notebook__.ipynb",
      "output_path": "__notebook__.ipynb",
      "parameters": {},
      "start_time": "2021-03-23T13:44:26.718267",
      "version": "2.3.2"
    },
    "colab": {
      "provenance": []
    }
  },
  "nbformat": 4,
  "nbformat_minor": 5
}