{
  "cells": [
    {
      "cell_type": "code",
      "execution_count": null,
      "metadata": {
        "colab": {
          "base_uri": "https://localhost:8080/"
        },
        "id": "a3WfF3cRIFa2",
        "outputId": "908f440c-f442-4eaa-82ad-9cdd66f610bc",
        "vscode": {
          "languageId": "r"
        }
      },
      "outputs": [
        {
          "output_type": "stream",
          "name": "stderr",
          "text": [
            "Installing package into ‘/usr/local/lib/R/site-library’\n",
            "(as ‘lib’ is unspecified)\n",
            "\n"
          ]
        }
      ],
      "source": [
        "install.packages(\"randomForest\")"
      ]
    },
    {
      "cell_type": "markdown",
      "metadata": {
        "id": "irE5F1sxD94B",
        "papermill": {
          "duration": 0.024906,
          "end_time": "2021-07-23T16:17:55.704014",
          "exception": false,
          "start_time": "2021-07-23T16:17:55.679108",
          "status": "completed"
        },
        "tags": []
      },
      "source": [
        "# A Case Study: The Effect of Gun Ownership on Gun-Homicide Rates"
      ]
    },
    {
      "cell_type": "markdown",
      "metadata": {
        "id": "y2IYnqwlD94C",
        "papermill": {
          "duration": 0.024533,
          "end_time": "2021-07-23T16:17:55.753444",
          "exception": false,
          "start_time": "2021-07-23T16:17:55.728911",
          "status": "completed"
        },
        "tags": []
      },
      "source": [
        "We consider the problem of estimating the effect of gun\n",
        "ownership on the homicide rate. For this purpose, we estimate the following partially\n",
        "linear model\n",
        "\n",
        "$$\n",
        " Y_{j,t} = \\beta D_{j,(t-1)} + g(Z_{j,t}) + \\varepsilon_{j,t}.\n",
        "$$"
      ]
    },
    {
      "cell_type": "markdown",
      "metadata": {
        "id": "IP-6EE7FD94D",
        "papermill": {
          "duration": 0.024711,
          "end_time": "2021-07-23T16:17:55.803109",
          "exception": false,
          "start_time": "2021-07-23T16:17:55.778398",
          "status": "completed"
        },
        "tags": []
      },
      "source": [
        "## Data"
      ]
    },
    {
      "cell_type": "markdown",
      "metadata": {
        "id": "0MjxX2f4D94D",
        "papermill": {
          "duration": 0.025115,
          "end_time": "2021-07-23T16:17:55.854426",
          "exception": false,
          "start_time": "2021-07-23T16:17:55.829311",
          "status": "completed"
        },
        "tags": []
      },
      "source": [
        "$Y_{j,t}$ is the log homicide rate in county $j$ at time $t$, $D_{j, t-1}$ is the log fraction of suicides committed with a firearm in county $j$ at time $t-1$, which we use as a proxy for gun ownership,  and  $Z_{j,t}$ is a set of demographic and economic characteristics of county $j$ at time $t$. The parameter $\\beta$ is the effect of gun ownership on homicide rates, controlling for county-level demographic and economic characteristics.\n",
        "\n",
        "The sample covers 195 large United States counties between the years 1980 through 1999, giving us 3900 observations."
      ]
    },
    {
      "cell_type": "code",
      "execution_count": null,
      "metadata": {
        "colab": {
          "base_uri": "https://localhost:8080/",
          "height": 34
        },
        "execution": {
          "iopub.execute_input": "2021-07-23T16:17:55.936143Z",
          "iopub.status.busy": "2021-07-23T16:17:55.934044Z",
          "iopub.status.idle": "2021-07-23T16:17:57.012578Z",
          "shell.execute_reply": "2021-07-23T16:17:57.011044Z"
        },
        "id": "b2r6xIy8D94E",
        "outputId": "8fbfdbc9-a0a4-4fd4-b752-60c478e2763b",
        "papermill": {
          "duration": 1.13301,
          "end_time": "2021-07-23T16:17:57.012828",
          "exception": false,
          "start_time": "2021-07-23T16:17:55.879818",
          "status": "completed"
        },
        "tags": [],
        "vscode": {
          "languageId": "r"
        }
      },
      "outputs": [
        {
          "output_type": "display_data",
          "data": {
            "text/html": [
              "<style>\n",
              ".list-inline {list-style: none; margin:0; padding: 0}\n",
              ".list-inline>li {display: inline-block}\n",
              ".list-inline>li:not(:last-child)::after {content: \"\\00b7\"; padding: 0 .5ex}\n",
              "</style>\n",
              "<ol class=list-inline><li>3900</li><li>415</li></ol>\n"
            ],
            "text/markdown": "1. 3900\n2. 415\n\n\n",
            "text/latex": "\\begin{enumerate*}\n\\item 3900\n\\item 415\n\\end{enumerate*}\n",
            "text/plain": [
              "[1] 3900  415"
            ]
          },
          "metadata": {}
        }
      ],
      "source": [
        "data <- read.csv(\"/content/gun_clean.csv\")\n",
        "dim(data)"
      ]
    },
    {
      "cell_type": "markdown",
      "metadata": {
        "id": "ipNRjAZU0Cla"
      },
      "source": [
        "**Note:** In this notebook, we do not account for fixed effects in the following estimations. We treat the panel data as cross-sectional."
      ]
    },
    {
      "cell_type": "markdown",
      "metadata": {
        "id": "iky091Et0Clb"
      },
      "source": [
        "**Exercise 1:** Estimate a simple linear regression of $Y_{j,t}$ (*logghomr*) on $D_{j,t-1}$ (*logfssl*) without any controls. Determine the regression coefficient $\\beta$, its 95% confidence interval and the standard error."
      ]
    },
    {
      "cell_type": "code",
      "execution_count": null,
      "metadata": {
        "vscode": {
          "languageId": "r"
        },
        "colab": {
          "base_uri": "https://localhost:8080/",
          "height": 52
        },
        "id": "wnlJWLT-0Clb",
        "outputId": "4e4072fc-8d27-4363-b7ff-5f2b6ac8e436"
      },
      "outputs": [
        {
          "output_type": "display_data",
          "data": {
            "text/html": [
              "<style>\n",
              ".dl-inline {width: auto; margin:0; padding: 0}\n",
              ".dl-inline>dt, .dl-inline>dd {float: none; width: auto; display: inline-block}\n",
              ".dl-inline>dt::after {content: \":\\0020\"; padding-right: .5ex}\n",
              ".dl-inline>dt:not(:first-of-type) {padding-left: .5ex}\n",
              "</style><dl class=dl-inline><dt>2.5 %</dt><dd>0.275210685346307</dd><dt>97.5 %</dt><dd>0.328836068462921</dd></dl>\n"
            ],
            "text/markdown": "2.5 %\n:   0.27521068534630797.5 %\n:   0.328836068462921\n\n",
            "text/latex": "\\begin{description*}\n\\item[2.5 \\textbackslash{}\\%] 0.275210685346307\n\\item[97.5 \\textbackslash{}\\%] 0.328836068462921\n\\end{description*}\n",
            "text/plain": [
              "    2.5 %    97.5 % \n",
              "0.2752107 0.3288361 "
            ]
          },
          "metadata": {}
        },
        {
          "output_type": "display_data",
          "data": {
            "text/html": [
              "<style>\n",
              ".dl-inline {width: auto; margin:0; padding: 0}\n",
              ".dl-inline>dt, .dl-inline>dd {float: none; width: auto; display: inline-block}\n",
              ".dl-inline>dt::after {content: \":\\0020\"; padding-right: .5ex}\n",
              ".dl-inline>dt:not(:first-of-type) {padding-left: .5ex}\n",
              "</style><dl class=dl-inline><dt>Estimate</dt><dd>0.302023376904614</dd><dt>Std. Error</dt><dd>0.0136759482457545</dd><dt>t value</dt><dd>22.0842731690194</dd><dt>Pr(&gt;|t|)</dt><dd>6.25898303505257e-102</dd></dl>\n"
            ],
            "text/markdown": "Estimate\n:   0.302023376904614Std. Error\n:   0.0136759482457545t value\n:   22.0842731690194Pr(&amp;gt;|t|)\n:   6.25898303505257e-102\n\n",
            "text/latex": "\\begin{description*}\n\\item[Estimate] 0.302023376904614\n\\item[Std. Error] 0.0136759482457545\n\\item[t value] 22.0842731690194\n\\item[Pr(>\\textbackslash{}textbar\\{\\}t\\textbackslash{}textbar\\{\\})] 6.25898303505257e-102\n\\end{description*}\n",
            "text/plain": [
              "     Estimate    Std. Error       t value      Pr(>|t|) \n",
              " 3.020234e-01  1.367595e-02  2.208427e+01 6.258983e-102 "
            ]
          },
          "metadata": {}
        }
      ],
      "source": [
        "simple.ols <- lm(logghomr ~ logfssl, data=data)\n",
        "est_ols_simple <- summary(simple.ols)$coef[2,]\n",
        "confint(simple.ols)[2,]\n",
        "est_ols_simple"
      ]
    },
    {
      "cell_type": "markdown",
      "metadata": {
        "id": "UNFSVwpl0Clb"
      },
      "source": [
        "The point estimate is $0.302$ with a confidence interval from 0.275 to 0.329. This indicates a positive relationship between gun ownership rates and gun homicide rates. A 1% increase in gun ownership relative to the trend is associated with a 0.30% increase in the predicted gun homicide rate without accounting for any controls."
      ]
    },
    {
      "cell_type": "markdown",
      "metadata": {
        "id": "AYZ0SaQM0Clb"
      },
      "source": [
        "**Exercise 2:** Repeat the linear regression from Exercise 1, but now include the full set of county-level control variables $Z_{j,t}$. Again, determine the regression coefficient $\\beta$ of the target regressor *logfssl*, its 95% confidence interval and the standard error."
      ]
    },
    {
      "cell_type": "code",
      "execution_count": null,
      "metadata": {
        "vscode": {
          "languageId": "r"
        },
        "id": "1oKTCOd20Clb"
      },
      "outputs": [],
      "source": [
        "Z <- as.matrix(data)[, c('logrobr','logburg','burg_missing','robrate_missing','newblack','newfhh','newmove','newdens','newmal',\n",
        "                                'AGE010D','AGE050D','AGE110D','AGE170D','AGE180D','AGE270D','AGE310D','AGE320D','AGE350D','AGE380D','AGE410D','AGE470D','AGE570D',\n",
        "                                'AGE640D','AGE670D','AGE760D','BNK010D','BNK050D','BPS030D','BPS130D','BPS230D','BPS020D','BPS120D','BPS220D','BPS820D','BZA010D',\n",
        "                                'BZA110D','BZA210D','EDU100D','EDU200D','EDU600D','EDU610D','EDU620D','EDU630D','EDU635D','EDU640D','EDU650D','EDU680D','EDU685D',\n",
        "                                'ELE010D','ELE020D','ELE025D','ELE030D','ELE035D','ELE060D','ELE065D','ELE210D','ELE220D','HIS010D','HIS020D','HIS030D','HIS040D',\n",
        "                                'HIS110D','HIS120D','HIS130D','HIS140D','HIS200D','HIS300D','HIS500D','HIS700D','HSD010D','HSD020D','HSD030D','HSD110D','HSD120D',\n",
        "                                'HSD130D','HSD140D','HSD150D','HSD170D','HSD200D','HSD210D','HSD230D','HSD300D','HSD310D','HSG030D','HSG195D','HSG200D','HSG220D',\n",
        "                                'HSG440D','HSG445D','HSG460D','HSG680D','HSG700D','HSD410D','HSD500D','HSD510D','HSD520D','HSD530D','HSD540D','HSD550D','HSD560D',\n",
        "                                'HSD570D','HSD580D','HSD590D','HSD610D','HSD620D','HSD710D','HSD720D','HSD730D','HSD740D','HSD750D','HSD760D','HSD770D','HSD780D',\n",
        "                                'HSG040D','HSG045D','HSG050D','HSG182D','HSG210D','HSG230D','HSG240D','HSG250D','HSG310D','HSG315D','HSG320D','HSG325D','HSG335D',\n",
        "                                'HSG350D','HSG370D','HSG375D','HSG380D','HSG450D','HSG490D','HSG500D','HSG510D','HSG520D','HSG530D','HSG540D','HSG550D','HSG560D',\n",
        "                                'HSG570D','HSG650D','HSG690D','HSG710D','HSG730D','INC110D','INC650D','INC670D','INC680D','INC690D','INC700D','INC710D','INC720D',\n",
        "                                'INC730D','INC760D','INC790D','LFE020D','LFE023D','LFE030D','LFE080D','LFE090D','LFE210D','LFE220D','LND110D','PIN020D','POP110D',\n",
        "                                'POP210D','POP240D','POP440D','POP450D','POP470D','POP480D','POP540D','POP550D','POP570D','POP580D','POP700D','POP710D','POP720D',\n",
        "                                'POP740D','PPQ010D','PPQ100D','PPQ110D','PPQ120D','PVY020D','PVY120D','PVY210D','PVY310D','PVY420D','PVY520D','SPR030D','SPR130D',\n",
        "                                'SPR230D','SPR330D','SPR440D','VST020D')]"
      ]
    },
    {
      "cell_type": "markdown",
      "metadata": {
        "id": "qQzgb0Uu0Clb"
      },
      "source": [
        "The control variables $Z_{j,t}$ are from the U.S. Census Bureau and include 195 county-level features such as demographic statistics, crime rates, income, education and housing indicators."
      ]
    },
    {
      "cell_type": "code",
      "execution_count": null,
      "metadata": {
        "vscode": {
          "languageId": "r"
        },
        "id": "PelS38f30Clb"
      },
      "outputs": [],
      "source": [
        "data <- data.frame(logghomr  = data$logghomr, logfssl = data$logfssl, Z)\n",
        "lm_formula <- as.formula(paste(\"logghomr\", \"~\", paste(\"logfssl\",paste(colnames(Z),collapse=\"+\"),sep=\"+\")))"
      ]
    },
    {
      "cell_type": "code",
      "execution_count": null,
      "metadata": {
        "vscode": {
          "languageId": "r"
        },
        "colab": {
          "base_uri": "https://localhost:8080/",
          "height": 52
        },
        "id": "7u0EUlPH0Clb",
        "outputId": "a8c16959-d1d9-4fd4-f24e-22aa2d871900"
      },
      "outputs": [
        {
          "output_type": "display_data",
          "data": {
            "text/html": [
              "<style>\n",
              ".dl-inline {width: auto; margin:0; padding: 0}\n",
              ".dl-inline>dt, .dl-inline>dd {float: none; width: auto; display: inline-block}\n",
              ".dl-inline>dt::after {content: \":\\0020\"; padding-right: .5ex}\n",
              ".dl-inline>dt:not(:first-of-type) {padding-left: .5ex}\n",
              "</style><dl class=dl-inline><dt>2.5 %</dt><dd>0.181546517108649</dd><dt>97.5 %</dt><dd>0.428193398875051</dd></dl>\n"
            ],
            "text/markdown": "2.5 %\n:   0.18154651710864997.5 %\n:   0.428193398875051\n\n",
            "text/latex": "\\begin{description*}\n\\item[2.5 \\textbackslash{}\\%] 0.181546517108649\n\\item[97.5 \\textbackslash{}\\%] 0.428193398875051\n\\end{description*}\n",
            "text/plain": [
              "    2.5 %    97.5 % \n",
              "0.1815465 0.4281934 "
            ]
          },
          "metadata": {}
        },
        {
          "output_type": "display_data",
          "data": {
            "text/html": [
              "<style>\n",
              ".dl-inline {width: auto; margin:0; padding: 0}\n",
              ".dl-inline>dt, .dl-inline>dd {float: none; width: auto; display: inline-block}\n",
              ".dl-inline>dt::after {content: \":\\0020\"; padding-right: .5ex}\n",
              ".dl-inline>dt:not(:first-of-type) {padding-left: .5ex}\n",
              "</style><dl class=dl-inline><dt>Estimate</dt><dd>0.30486995799185</dd><dt>Std. Error</dt><dd>0.0629007515265143</dd><dt>t value</dt><dd>4.84684126330891</dd><dt>Pr(&gt;|t|)</dt><dd>1.30580102236348e-06</dd></dl>\n"
            ],
            "text/markdown": "Estimate\n:   0.30486995799185Std. Error\n:   0.0629007515265143t value\n:   4.84684126330891Pr(&amp;gt;|t|)\n:   1.30580102236348e-06\n\n",
            "text/latex": "\\begin{description*}\n\\item[Estimate] 0.30486995799185\n\\item[Std. Error] 0.0629007515265143\n\\item[t value] 4.84684126330891\n\\item[Pr(>\\textbackslash{}textbar\\{\\}t\\textbackslash{}textbar\\{\\})] 1.30580102236348e-06\n\\end{description*}\n",
            "text/plain": [
              "    Estimate   Std. Error      t value     Pr(>|t|) \n",
              "3.048700e-01 6.290075e-02 4.846841e+00 1.305801e-06 "
            ]
          },
          "metadata": {}
        }
      ],
      "source": [
        "controls.ols <- lm(lm_formula, data=data)\n",
        "est_ols_controls <- summary(controls.ols)$coef[2,]\n",
        "confint(controls.ols)[2,]\n",
        "est_ols_controls"
      ]
    },
    {
      "cell_type": "markdown",
      "metadata": {
        "id": "5xcfSd0Z0Clc"
      },
      "source": [
        "After controlling for county-level demographic and economic characteristics, the point estimate is $0.305$ with a confidence interval from 0.182 to 0.428. This indicates that the relationship between gun ownership rates and gun homicide rates is still positive and of similar magnitude compared to the linear model without controls."
      ]
    },
    {
      "cell_type": "markdown",
      "source": [
        "**Exercise 3:** So far, linear models have been estimated. Now consider a partially linear model that controls for county-level features in a non-linear way. Estimate the effect of gun ownership using a **naive partialling-out** approach based on **random forest**. First, estimate the conditional expectation $\\ell(Z):= E[Y|Z]$ with a random forest on the full sample. Then compute the residuals $\\tilde Y = Y  - \\hat \\ell (Z)$ and regress them linearly on *logfssl*. Do not use sample splitting or cross-fitting here. Determine the regression coefficient $\\beta$ of the target regressor *logfssl* and its standard error.\n",
        "\n",
        "Hint: The function *randomForest()* and *predict()* from the package *randomForest* may be helpful."
      ],
      "metadata": {
        "id": "Rk1G_tpyxENg"
      }
    },
    {
      "cell_type": "code",
      "execution_count": null,
      "metadata": {
        "vscode": {
          "languageId": "r"
        },
        "id": "recbYr0C0Clc",
        "colab": {
          "base_uri": "https://localhost:8080/"
        },
        "outputId": "b6117cac-64ad-4038-8b70-5125438fb8ff"
      },
      "outputs": [
        {
          "output_type": "stream",
          "name": "stderr",
          "text": [
            "randomForest 4.7-1.2\n",
            "\n",
            "Type rfNews() to see new features/changes/bug fixes.\n",
            "\n"
          ]
        }
      ],
      "source": [
        "library(randomForest)"
      ]
    },
    {
      "cell_type": "code",
      "source": [
        "set.seed(1)\n",
        "# estimate nuisance parameter l using random forest\n",
        "y.fit <-  randomForest(x = Z, y = data$logghomr)\n",
        "\n",
        "# estimate the parameter of interest beta\n",
        "y.hat <- predict(y.fit , Z)\n",
        "y.res  <- data$logghomr - y.hat\n",
        "data_naive <- data.frame(y.res = y.res, logfssl = data$logfssl)\n",
        "r.fit <- lm(y.res ~ logfssl, data = data_naive)\n",
        "est <- summary(r.fit)$coef[2,] # estimated coefficient\n",
        "est"
      ],
      "metadata": {
        "colab": {
          "base_uri": "https://localhost:8080/",
          "height": 34
        },
        "id": "8M4Z5jurxHMW",
        "outputId": "73b1b57f-786b-4807-8399-95bca1988290"
      },
      "execution_count": null,
      "outputs": [
        {
          "output_type": "display_data",
          "data": {
            "text/html": [
              "<style>\n",
              ".dl-inline {width: auto; margin:0; padding: 0}\n",
              ".dl-inline>dt, .dl-inline>dd {float: none; width: auto; display: inline-block}\n",
              ".dl-inline>dt::after {content: \":\\0020\"; padding-right: .5ex}\n",
              ".dl-inline>dt:not(:first-of-type) {padding-left: .5ex}\n",
              "</style><dl class=dl-inline><dt>Estimate</dt><dd>-2.83379306815498e-05</dd><dt>Std. Error</dt><dd>0.00239545303219634</dd><dt>t value</dt><dd>-0.0118298836590286</dd><dt>Pr(&gt;|t|)</dt><dd>0.990561944013482</dd></dl>\n"
            ],
            "text/markdown": "Estimate\n:   -2.83379306815498e-05Std. Error\n:   0.00239545303219634t value\n:   -0.0118298836590286Pr(&amp;gt;|t|)\n:   0.990561944013482\n\n",
            "text/latex": "\\begin{description*}\n\\item[Estimate] -2.83379306815498e-05\n\\item[Std. Error] 0.00239545303219634\n\\item[t value] -0.0118298836590286\n\\item[Pr(>\\textbackslash{}textbar\\{\\}t\\textbackslash{}textbar\\{\\})] 0.990561944013482\n\\end{description*}\n",
            "text/plain": [
              "     Estimate    Std. Error       t value      Pr(>|t|) \n",
              "-2.833793e-05  2.395453e-03 -1.182988e-02  9.905619e-01 "
            ]
          },
          "metadata": {}
        }
      ]
    },
    {
      "cell_type": "markdown",
      "source": [
        "The point estimate of gun ownership decreases to $-0.000028$ with a standard error of 0.002. Note that this is a naive approach that does not use sample splitting or cross-fitting and only residualizes the outcome variable. If *logfssl* is correlated with the covariates $Z$, this procedure may yield a biased estimate of $\\beta$."
      ],
      "metadata": {
        "id": "TrxpEQUJ4OHF"
      }
    },
    {
      "cell_type": "markdown",
      "metadata": {
        "id": "0w1oTLTZ0Clc"
      },
      "source": [
        "**Exercise 4:** Now, use the standard **partialling-out** approach based on **random forest**, where you also residualize the regressor *logfssl*. Determine the regression coefficient $\\beta$ of the target regressor *logfssl* and its standard error.\n",
        "\n",
        "To simplify the procedure, do not apply cross-fitting. Instead, use a **naive sample split**: Use the first half of the data to estimate the nuisance functions and the second half to estimate the target parameter $\\beta$."
      ]
    },
    {
      "cell_type": "code",
      "execution_count": null,
      "metadata": {
        "vscode": {
          "languageId": "r"
        },
        "id": "uQa6qU4i0Clc"
      },
      "outputs": [],
      "source": [
        "# split data\n",
        "set.seed(1)\n",
        "n <- nrow(data)\n",
        "index <- sample(seq_len(n), size = 0.5 * n, , replace = FALSE)\n",
        "\n",
        "first_sample <- data[index, ]\n",
        "second_sample  <- data[-index, ]\n",
        "Z_firstsample <- as.matrix(first_sample)[, -c(1, 2)]  # exclude logghomr, logfssl\n",
        "Z_secondsample <- as.matrix(second_sample)[, -c(1, 2)]  # exclude logghomr, logfssl"
      ]
    },
    {
      "cell_type": "code",
      "execution_count": null,
      "metadata": {
        "vscode": {
          "languageId": "r"
        },
        "colab": {
          "base_uri": "https://localhost:8080/",
          "height": 34
        },
        "id": "FyWaqdiQ0Clc",
        "outputId": "c3edfb9f-5ece-44df-c3c4-da855d8df37a"
      },
      "outputs": [
        {
          "output_type": "display_data",
          "data": {
            "text/html": [
              "<style>\n",
              ".dl-inline {width: auto; margin:0; padding: 0}\n",
              ".dl-inline>dt, .dl-inline>dd {float: none; width: auto; display: inline-block}\n",
              ".dl-inline>dt::after {content: \":\\0020\"; padding-right: .5ex}\n",
              ".dl-inline>dt:not(:first-of-type) {padding-left: .5ex}\n",
              "</style><dl class=dl-inline><dt>Estimate</dt><dd>0.135168296224338</dd><dt>Std. Error</dt><dd>0.0787683966630465</dd><dt>t value</dt><dd>1.71602193202633</dd><dt>Pr(&gt;|t|)</dt><dd>0.0863170245387154</dd></dl>\n"
            ],
            "text/markdown": "Estimate\n:   0.135168296224338Std. Error\n:   0.0787683966630465t value\n:   1.71602193202633Pr(&amp;gt;|t|)\n:   0.0863170245387154\n\n",
            "text/latex": "\\begin{description*}\n\\item[Estimate] 0.135168296224338\n\\item[Std. Error] 0.0787683966630465\n\\item[t value] 1.71602193202633\n\\item[Pr(>\\textbackslash{}textbar\\{\\}t\\textbackslash{}textbar\\{\\})] 0.0863170245387154\n\\end{description*}\n",
            "text/plain": [
              "  Estimate Std. Error    t value   Pr(>|t|) \n",
              "0.13516830 0.07876840 1.71602193 0.08631702 "
            ]
          },
          "metadata": {}
        }
      ],
      "source": [
        "set.seed(1)\n",
        "# use first sample to estimate nuisance parameters l and m using random forest\n",
        "dfit <-  randomForest(x = Z_firstsample, y = first_sample$logfssl)\n",
        "yfit <-  randomForest(x = Z_firstsample, y = first_sample$logghomr)\n",
        "\n",
        "# use second sample to estimate the parameter of interest beta\n",
        "dhat <- predict(dfit, Z_secondsample)\n",
        "yhat <- predict(yfit, Z_secondsample)\n",
        "\n",
        "dtil  <- second_sample$logfssl - dhat\n",
        "ytil  <- second_sample$logghomr - yhat\n",
        "\n",
        "data_partiallingout <- data.frame(ytil = ytil, dtil = dtil)\n",
        "rfit <- lm(ytil ~ dtil, data = data_partiallingout)\n",
        "est_partiallingout <- summary(rfit)$coef[2,] # estimated coefficient\n",
        "est_partiallingout"
      ]
    },
    {
      "cell_type": "markdown",
      "metadata": {
        "id": "-Mo_-X480Clc"
      },
      "source": [
        "The point estimate is $0.14$ with a standard error of 0.079."
      ]
    }
  ],
  "metadata": {
    "colab": {
      "provenance": []
    },
    "kernelspec": {
      "display_name": "R",
      "language": "R",
      "name": "ir"
    },
    "language_info": {
      "codemirror_mode": "r",
      "file_extension": ".r",
      "mimetype": "text/x-r-source",
      "name": "R",
      "pygments_lexer": "r",
      "version": "4.3.3"
    },
    "papermill": {
      "default_parameters": {},
      "duration": 663.673787,
      "end_time": "2021-07-23T16:28:56.086168",
      "environment_variables": {},
      "exception": null,
      "input_path": "__notebook__.ipynb",
      "output_path": "__notebook__.ipynb",
      "parameters": {},
      "start_time": "2021-07-23T16:17:52.412381",
      "version": "2.2.2"
    }
  },
  "nbformat": 4,
  "nbformat_minor": 0
}