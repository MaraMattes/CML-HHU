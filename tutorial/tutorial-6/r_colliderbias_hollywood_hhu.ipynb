{
  "cells": [
    {
      "cell_type": "markdown",
      "metadata": {
        "papermill": {
          "duration": 0.005613,
          "end_time": "2021-01-21T13:24:23.482240",
          "exception": false,
          "start_time": "2021-01-21T13:24:23.476627",
          "status": "completed"
        },
        "tags": [],
        "id": "1I2P0Wrrxg90"
      },
      "source": [
        "# Collider Bias"
      ]
    },
    {
      "cell_type": "markdown",
      "metadata": {
        "papermill": {
          "duration": 0.004596,
          "end_time": "2021-01-21T13:24:23.491748",
          "exception": false,
          "start_time": "2021-01-21T13:24:23.487152",
          "status": "completed"
        },
        "tags": [],
        "id": "a_h6_KZTxg97"
      },
      "source": [
        "Here is a simple example to illustate the collider bias.\n",
        "\n",
        "Here the idea is that people who get to Hollywood have to have high congeniality = talent + coolness. This simple example explains an anecdotal observation that \"talent and coolness are negatively correlated\" for celebrities.  "
      ]
    },
    {
      "cell_type": "code",
      "execution_count": null,
      "metadata": {
        "execution": {
          "iopub.execute_input": "2021-01-21T13:24:23.534905Z",
          "iopub.status.busy": "2021-01-21T13:24:23.532354Z",
          "iopub.status.idle": "2021-01-21T13:24:40.500257Z",
          "shell.execute_reply": "2021-01-21T13:24:40.498708Z"
        },
        "papermill": {
          "duration": 17.004212,
          "end_time": "2021-01-21T13:24:40.500575",
          "exception": false,
          "start_time": "2021-01-21T13:24:23.496363",
          "status": "completed"
        },
        "tags": [],
        "colab": {
          "base_uri": "https://localhost:8080/"
        },
        "id": "jjs_QGAgxg98",
        "outputId": "61ca2a17-e803-417b-e570-752e444583eb"
      },
      "outputs": [
        {
          "output_type": "stream",
          "name": "stderr",
          "text": [
            "Installing package into ‘/usr/local/lib/R/site-library’\n",
            "(as ‘lib’ is unspecified)\n",
            "\n",
            "also installing the dependency ‘V8’\n",
            "\n",
            "\n"
          ]
        }
      ],
      "source": [
        "install.packages(\"dagitty\")\n",
        "library(dagitty)"
      ]
    },
    {
      "cell_type": "markdown",
      "source": [
        "The dagitty package can be used to draw the corresponding DAG, where $T$ denotes the talent of an individual, $B$ the coolness and $C$ congeniality which decides whether people get to Hollywood."
      ],
      "metadata": {
        "id": "hNdORbPyo1Iz"
      }
    },
    {
      "cell_type": "code",
      "execution_count": null,
      "metadata": {
        "execution": {
          "iopub.execute_input": "2021-01-21T13:24:40.571713Z",
          "iopub.status.busy": "2021-01-21T13:24:40.516256Z",
          "iopub.status.idle": "2021-01-21T13:24:41.036210Z",
          "shell.execute_reply": "2021-01-21T13:24:41.034407Z"
        },
        "papermill": {
          "duration": 0.529339,
          "end_time": "2021-01-21T13:24:41.036392",
          "exception": false,
          "start_time": "2021-01-21T13:24:40.507053",
          "status": "completed"
        },
        "tags": [],
        "colab": {
          "base_uri": "https://localhost:8080/",
          "height": 472
        },
        "id": "_0kgDkPrxg-B",
        "outputId": "699d517d-c28f-4431-d8ed-8a13f1a366a4"
      },
      "outputs": [
        {
          "output_type": "stream",
          "name": "stderr",
          "text": [
            "Plot coordinates for graph not supplied! Generating coordinates, see ?coordinates for how to set your own.\n",
            "\n"
          ]
        },
        {
          "output_type": "display_data",
          "data": {
            "text/plain": [
              "plot without title"
            ],
            "image/png": "[encoded data removed]"
          },
          "metadata": {
            "image/png": {
              "width": 420,
              "height": 420
            }
          }
        }
      ],
      "source": [
        "g <- dagitty( \"dag{ T -> C <- B }\" )\n",
        "plot(g)"
      ]
    },
    {
      "cell_type": "markdown",
      "source": [
        "Next, we simulate data which follow the model above."
      ],
      "metadata": {
        "id": "2SdtIXY-p0uq"
      }
    },
    {
      "cell_type": "code",
      "execution_count": null,
      "metadata": {
        "_cell_guid": "b1076dfc-b9ad-4769-8c92-a6c4dae69d19",
        "_uuid": "8f2839f25d086af736a60e9eeb907d3b93b6e0e5",
        "execution": {
          "iopub.execute_input": "2021-01-21T13:24:41.056355Z",
          "iopub.status.busy": "2021-01-21T13:24:41.054585Z",
          "iopub.status.idle": "2021-01-21T13:24:44.083279Z",
          "shell.execute_reply": "2021-01-21T13:24:44.082075Z"
        },
        "papermill": {
          "duration": 3.040016,
          "end_time": "2021-01-21T13:24:44.083514",
          "exception": false,
          "start_time": "2021-01-21T13:24:41.043498",
          "status": "completed"
        },
        "tags": [],
        "id": "rz8nPDdGxg-C"
      },
      "outputs": [],
      "source": [
        "# collider bias\n",
        "n <- 1000000\n",
        "T <- rnorm(n)   # talent\n",
        "B <- rnorm(n)   # coolness\n",
        "C <- T + B + rnorm(n) # congeniality\n",
        "T.H <- subset(T, C>0) # condition on C>0\n",
        "B.H <- subset(B, C>0) # condition on C>0"
      ]
    },
    {
      "cell_type": "markdown",
      "source": [
        "**Exercise 1:** What would you expect to see if you run a regression of T (talent) on B (coolness). Is there a significant association? Run a regression to test your hypothesis."
      ],
      "metadata": {
        "id": "6I77cdr4hMIi"
      }
    },
    {
      "cell_type": "markdown",
      "source": [
        "**Exercise 2:** What would you expect to see if you run a regression of T (talent) on both B (coolness) and C (congeniality). Is there a significant association? Run a regression to test your hypothesis."
      ],
      "metadata": {
        "id": "ATmUY3FWnAZ8"
      }
    },
    {
      "cell_type": "markdown",
      "source": [
        "**Exercise 3:** Run a regression of T (talent) on B (coolness) where you only consider the subsample where $C>0$. What do you expect?"
      ],
      "metadata": {
        "id": "iXXk4ODEnvny"
      }
    }
  ],
  "metadata": {
    "kernelspec": {
      "display_name": "R",
      "language": "R",
      "name": "ir"
    },
    "language_info": {
      "codemirror_mode": "r",
      "file_extension": ".r",
      "mimetype": "text/x-r-source",
      "name": "R",
      "pygments_lexer": "r",
      "version": "3.6.3"
    },
    "papermill": {
      "default_parameters": {},
      "duration": 24.263285,
      "end_time": "2021-01-21T13:24:44.323080",
      "environment_variables": {},
      "exception": null,
      "input_path": "__notebook__.ipynb",
      "output_path": "__notebook__.ipynb",
      "parameters": {},
      "start_time": "2021-01-21T13:24:20.059795",
      "version": "2.2.2"
    },
    "colab": {
      "provenance": []
    }
  },
  "nbformat": 4,
  "nbformat_minor": 0
}