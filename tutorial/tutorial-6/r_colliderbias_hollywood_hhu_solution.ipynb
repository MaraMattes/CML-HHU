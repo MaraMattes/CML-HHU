{
  "cells": [
    {
      "cell_type": "markdown",
      "metadata": {
        "papermill": {
          "duration": 0.005613,
          "end_time": "2021-01-21T13:24:23.482240",
          "exception": false,
          "start_time": "2021-01-21T13:24:23.476627",
          "status": "completed"
        },
        "tags": [],
        "id": "1I2P0Wrrxg90"
      },
      "source": [
        "# Collider Bias"
      ]
    },
    {
      "cell_type": "markdown",
      "metadata": {
        "papermill": {
          "duration": 0.004596,
          "end_time": "2021-01-21T13:24:23.491748",
          "exception": false,
          "start_time": "2021-01-21T13:24:23.487152",
          "status": "completed"
        },
        "tags": [],
        "id": "a_h6_KZTxg97"
      },
      "source": [
        "Here is a simple example to illustate the collider bias.\n",
        "\n",
        "Here the idea is that people who get to Hollywood have to have high congeniality = talent + coolness. This simple example explains an anecdotal observation that \"talent and coolness are negatively correlated\" for celebrities.  "
      ]
    },
    {
      "cell_type": "code",
      "execution_count": 2,
      "metadata": {
        "execution": {
          "iopub.execute_input": "2021-01-21T13:24:23.534905Z",
          "iopub.status.busy": "2021-01-21T13:24:23.532354Z",
          "iopub.status.idle": "2021-01-21T13:24:40.500257Z",
          "shell.execute_reply": "2021-01-21T13:24:40.498708Z"
        },
        "papermill": {
          "duration": 17.004212,
          "end_time": "2021-01-21T13:24:40.500575",
          "exception": false,
          "start_time": "2021-01-21T13:24:23.496363",
          "status": "completed"
        },
        "tags": [],
        "colab": {
          "base_uri": "https://localhost:8080/"
        },
        "id": "jjs_QGAgxg98",
        "outputId": "78986c9b-8ca8-4942-92da-37189489ca5c"
      },
      "outputs": [
        {
          "output_type": "stream",
          "name": "stderr",
          "text": [
            "Installing package into ‘/usr/local/lib/R/site-library’\n",
            "(as ‘lib’ is unspecified)\n",
            "\n"
          ]
        }
      ],
      "source": [
        "install.packages(\"dagitty\")\n",
        "library(dagitty)"
      ]
    },
    {
      "cell_type": "markdown",
      "source": [
        "The dagitty package can be used to draw the corresponding DAG, where $T$ denotes the talent of an individual, $B$ the coolness and $C$ congeniality which decides whether people get to Hollywood."
      ],
      "metadata": {
        "id": "hNdORbPyo1Iz"
      }
    },
    {
      "cell_type": "code",
      "execution_count": 3,
      "metadata": {
        "execution": {
          "iopub.execute_input": "2021-01-21T13:24:40.571713Z",
          "iopub.status.busy": "2021-01-21T13:24:40.516256Z",
          "iopub.status.idle": "2021-01-21T13:24:41.036210Z",
          "shell.execute_reply": "2021-01-21T13:24:41.034407Z"
        },
        "papermill": {
          "duration": 0.529339,
          "end_time": "2021-01-21T13:24:41.036392",
          "exception": false,
          "start_time": "2021-01-21T13:24:40.507053",
          "status": "completed"
        },
        "tags": [],
        "colab": {
          "base_uri": "https://localhost:8080/",
          "height": 472
        },
        "id": "_0kgDkPrxg-B",
        "outputId": "f7eab933-95be-4d07-fdd7-9dfb8882a45f"
      },
      "outputs": [
        {
          "output_type": "stream",
          "name": "stderr",
          "text": [
            "Plot coordinates for graph not supplied! Generating coordinates, see ?coordinates for how to set your own.\n",
            "\n"
          ]
        },
        {
          "output_type": "display_data",
          "data": {
            "text/plain": [
              "plot without title"
            ],
            "image/png": "[encoded data removed]"
          },
          "metadata": {
            "image/png": {
              "width": 420,
              "height": 420
            }
          }
        }
      ],
      "source": [
        "g <- dagitty( \"dag{ T -> C <- B }\" )\n",
        "plot(g)"
      ]
    },
    {
      "cell_type": "markdown",
      "source": [
        "Next, we simulate data which follow the model above."
      ],
      "metadata": {
        "id": "2SdtIXY-p0uq"
      }
    },
    {
      "cell_type": "code",
      "execution_count": 4,
      "metadata": {
        "_cell_guid": "b1076dfc-b9ad-4769-8c92-a6c4dae69d19",
        "_uuid": "8f2839f25d086af736a60e9eeb907d3b93b6e0e5",
        "execution": {
          "iopub.execute_input": "2021-01-21T13:24:41.056355Z",
          "iopub.status.busy": "2021-01-21T13:24:41.054585Z",
          "iopub.status.idle": "2021-01-21T13:24:44.083279Z",
          "shell.execute_reply": "2021-01-21T13:24:44.082075Z"
        },
        "papermill": {
          "duration": 3.040016,
          "end_time": "2021-01-21T13:24:44.083514",
          "exception": false,
          "start_time": "2021-01-21T13:24:41.043498",
          "status": "completed"
        },
        "tags": [],
        "id": "rz8nPDdGxg-C"
      },
      "outputs": [],
      "source": [
        "# collider bias\n",
        "n <- 1000000\n",
        "T <- rnorm(n)   # talent\n",
        "B <- rnorm(n)   # coolness\n",
        "C <- T + B + rnorm(n) # congeniality\n",
        "T.H <- subset(T, C>0) # condition on C>0\n",
        "B.H <- subset(B, C>0) # condition on C>0"
      ]
    },
    {
      "cell_type": "markdown",
      "source": [
        "Exercise 1: What would you expect to see if you run a regression of T (talent) on B (coolness). Is there a significant association? Run a regression to test your hypothesis."
      ],
      "metadata": {
        "id": "6I77cdr4hMIi"
      }
    },
    {
      "cell_type": "code",
      "source": [
        "summary(lm(T~ B))  # regression of T on B"
      ],
      "metadata": {
        "colab": {
          "base_uri": "https://localhost:8080/",
          "height": 295
        },
        "id": "6M6HQtjhhLAP",
        "outputId": "41cf9d1c-0b7a-4407-fd5d-514f52ec96c2"
      },
      "execution_count": 6,
      "outputs": [
        {
          "output_type": "display_data",
          "data": {
            "text/plain": [
              "\n",
              "Call:\n",
              "lm(formula = T ~ B)\n",
              "\n",
              "Residuals:\n",
              "    Min      1Q  Median      3Q     Max \n",
              "-5.0958 -0.6760 -0.0003  0.6737  4.8048 \n",
              "\n",
              "Coefficients:\n",
              "              Estimate Std. Error t value Pr(>|t|)\n",
              "(Intercept) -0.0016323  0.0010005  -1.631    0.103\n",
              "B           -0.0009245  0.0010018  -0.923    0.356\n",
              "\n",
              "Residual standard error: 1.001 on 999998 degrees of freedom\n",
              "Multiple R-squared:  8.517e-07,\tAdjusted R-squared:  -1.483e-07 \n",
              "F-statistic: 0.8517 on 1 and 999998 DF,  p-value: 0.3561\n"
            ]
          },
          "metadata": {}
        }
      ]
    },
    {
      "cell_type": "markdown",
      "source": [
        "Since $T$ and $B$ are independent (normally distributed) random variables, there is no correlation/association between talent and coolness."
      ],
      "metadata": {
        "id": "8JJKYwvRrxAv"
      }
    },
    {
      "cell_type": "markdown",
      "source": [
        "Exercise 2: What would you expect to see if you run a regression of T (talent) on both B (coolness) and C (congeniality). Is there a significant association? Run a regression to test your hypothesis."
      ],
      "metadata": {
        "id": "ATmUY3FWnAZ8"
      }
    },
    {
      "cell_type": "code",
      "source": [
        "summary(lm(T~ B +C)) #regression of T on B and C"
      ],
      "metadata": {
        "colab": {
          "base_uri": "https://localhost:8080/",
          "height": 347
        },
        "id": "L5PyH5UOhi6Z",
        "outputId": "c07728fc-b10f-4d9c-830c-e87d848d8519"
      },
      "execution_count": 7,
      "outputs": [
        {
          "output_type": "display_data",
          "data": {
            "text/plain": [
              "\n",
              "Call:\n",
              "lm(formula = T ~ B + C)\n",
              "\n",
              "Residuals:\n",
              "    Min      1Q  Median      3Q     Max \n",
              "-3.6759 -0.4770  0.0002  0.4775  3.4017 \n",
              "\n",
              "Coefficients:\n",
              "              Estimate Std. Error  t value Pr(>|t|)    \n",
              "(Intercept) -0.0012591  0.0007071   -1.781    0.075 .  \n",
              "B           -0.5008500  0.0008664 -578.057   <2e-16 ***\n",
              "C            0.5002064  0.0004997 1001.005   <2e-16 ***\n",
              "---\n",
              "Signif. codes:  0 ‘***’ 0.001 ‘**’ 0.01 ‘*’ 0.05 ‘.’ 0.1 ‘ ’ 1\n",
              "\n",
              "Residual standard error: 0.7071 on 999997 degrees of freedom\n",
              "Multiple R-squared:  0.5005,\tAdjusted R-squared:  0.5005 \n",
              "F-statistic: 5.01e+05 on 2 and 999997 DF,  p-value: < 2.2e-16\n"
            ]
          },
          "metadata": {}
        }
      ]
    },
    {
      "cell_type": "markdown",
      "source": [
        "Funnily enough adding $C$ to the regression this induces a negative correlation between talent and coolness."
      ],
      "metadata": {
        "id": "jxNOaDMQomS2"
      }
    },
    {
      "cell_type": "markdown",
      "source": [
        "Exercise 3: Run a regression of T (talent) on B (coolness) where you only consider the subsample where $C>0$. What do you expect?"
      ],
      "metadata": {
        "id": "iXXk4ODEnvny"
      }
    },
    {
      "cell_type": "code",
      "source": [
        "summary(lm(T.H~ B.H)) # regression of T on B, conditional on C>0."
      ],
      "metadata": {
        "colab": {
          "base_uri": "https://localhost:8080/",
          "height": 329
        },
        "id": "RjT2KGUvhlKQ",
        "outputId": "c59361cc-e3f5-4292-e633-2e55756de529"
      },
      "execution_count": 8,
      "outputs": [
        {
          "output_type": "display_data",
          "data": {
            "text/plain": [
              "\n",
              "Call:\n",
              "lm(formula = T.H ~ B.H)\n",
              "\n",
              "Residuals:\n",
              "    Min      1Q  Median      3Q     Max \n",
              "-4.4245 -0.5846 -0.0224  0.5629  4.3008 \n",
              "\n",
              "Coefficients:\n",
              "             Estimate Std. Error t value Pr(>|t|)    \n",
              "(Intercept)  0.584921   0.001364   428.9   <2e-16 ***\n",
              "B.H         -0.271629   0.001364  -199.2   <2e-16 ***\n",
              "---\n",
              "Signif. codes:  0 ‘***’ 0.001 ‘**’ 0.01 ‘*’ 0.05 ‘.’ 0.1 ‘ ’ 1\n",
              "\n",
              "Residual standard error: 0.8558 on 499702 degrees of freedom\n",
              "Multiple R-squared:  0.07356,\tAdjusted R-squared:  0.07356 \n",
              "F-statistic: 3.968e+04 on 1 and 499702 DF,  p-value: < 2.2e-16\n"
            ]
          },
          "metadata": {}
        }
      ]
    },
    {
      "cell_type": "markdown",
      "source": [
        "Adding $C$ to the regression in Exercise 2 is the same as conditioning on $C$ which determines the set of actors or celebrities. Therefore, we see a negative correlation between talent and coolness again."
      ],
      "metadata": {
        "id": "GP5pUP6Ios4l"
      }
    },
    {
      "cell_type": "markdown",
      "metadata": {
        "papermill": {
          "duration": 0.008327,
          "end_time": "2021-01-21T13:24:44.101113",
          "exception": false,
          "start_time": "2021-01-21T13:24:44.092786",
          "status": "completed"
        },
        "tags": [],
        "id": "KT_1b9vLxg-E"
      },
      "source": [
        "We can also use package Dagitty to illustrate collider bias, also known as M-bias."
      ]
    },
    {
      "cell_type": "code",
      "execution_count": 9,
      "metadata": {
        "_cell_guid": "79c7e3d0-c299-4dcb-8224-4455121ee9b0",
        "_uuid": "d629ff2d2480ee46fbb7e2d37f6b5fab8052498a",
        "execution": {
          "iopub.execute_input": "2021-01-21T13:24:44.122836Z",
          "iopub.status.busy": "2021-01-21T13:24:44.121751Z",
          "iopub.status.idle": "2021-01-21T13:24:44.201798Z",
          "shell.execute_reply": "2021-01-21T13:24:44.200074Z"
        },
        "papermill": {
          "duration": 0.09231,
          "end_time": "2021-01-21T13:24:44.201974",
          "exception": false,
          "start_time": "2021-01-21T13:24:44.109664",
          "status": "completed"
        },
        "tags": [],
        "colab": {
          "base_uri": "https://localhost:8080/",
          "height": 69
        },
        "id": "xFv9f6Itxg-F",
        "outputId": "825111da-fdef-4cf6-efa5-68522387756e"
      },
      "outputs": [
        {
          "output_type": "display_data",
          "data": {
            "text/plain": [
              " {}"
            ]
          },
          "metadata": {}
        },
        {
          "output_type": "display_data",
          "data": {
            "text/html": [
              "<style>\n",
              ".dl-inline {width: auto; margin:0; padding: 0}\n",
              ".dl-inline>dt, .dl-inline>dd {float: none; width: auto; display: inline-block}\n",
              ".dl-inline>dt::after {content: \":\\0020\"; padding-right: .5ex}\n",
              ".dl-inline>dt:not(:first-of-type) {padding-left: .5ex}\n",
              "</style><dl class=dl-inline><dt>2.5 %</dt><dd>-0.155247533430404</dd><dt>97.5 %</dt><dd>0.03313395275442</dd></dl>\n"
            ],
            "text/markdown": "2.5 %\n:   -0.15524753343040497.5 %\n:   0.03313395275442\n\n",
            "text/latex": "\\begin{description*}\n\\item[2.5 \\textbackslash{}\\%] -0.155247533430404\n\\item[97.5 \\textbackslash{}\\%] 0.03313395275442\n\\end{description*}\n",
            "text/plain": [
              "      2.5 %      97.5 % \n",
              "-0.15524753  0.03313395 "
            ]
          },
          "metadata": {}
        },
        {
          "output_type": "display_data",
          "data": {
            "text/html": [
              "<style>\n",
              ".dl-inline {width: auto; margin:0; padding: 0}\n",
              ".dl-inline>dt, .dl-inline>dd {float: none; width: auto; display: inline-block}\n",
              ".dl-inline>dt::after {content: \":\\0020\"; padding-right: .5ex}\n",
              ".dl-inline>dt:not(:first-of-type) {padding-left: .5ex}\n",
              "</style><dl class=dl-inline><dt>2.5 %</dt><dd>-0.484023065319557</dd><dt>97.5 %</dt><dd>-0.309425068964957</dd></dl>\n"
            ],
            "text/markdown": "2.5 %\n:   -0.48402306531955797.5 %\n:   -0.309425068964957\n\n",
            "text/latex": "\\begin{description*}\n\\item[2.5 \\textbackslash{}\\%] -0.484023065319557\n\\item[97.5 \\textbackslash{}\\%] -0.309425068964957\n\\end{description*}\n",
            "text/plain": [
              "     2.5 %     97.5 % \n",
              "-0.4840231 -0.3094251 "
            ]
          },
          "metadata": {}
        }
      ],
      "source": [
        "## If we want to infer causal effect of B on T,\n",
        "## we can apply the command to figure out\n",
        "## variables we should condition on:\n",
        "\n",
        "adjustmentSets( g, \"T\", \"B\" )\n",
        "\n",
        "## empty set -- we should not condition on the additional\n",
        "## variable C.\n",
        "\n",
        "## Generate data where C = .5T + .5B\n",
        "set.seed( 123)\n",
        "d <- simulateSEM( g, .5 )\n",
        "confint( lm( T ~ B, d ) )[\"B\",] # includes 0\n",
        "confint( lm( T ~ B + C, d ) )[\"B\",] # does not include 0\n"
      ]
    },
    {
      "cell_type": "code",
      "source": [
        "h <- dagitty( \"dag{ D -> Y; X -> Y; X -> D }\" )\n",
        "plot(h)"
      ],
      "metadata": {
        "colab": {
          "base_uri": "https://localhost:8080/",
          "height": 472
        },
        "id": "zCbeF6iHmUo1",
        "outputId": "128e9ba9-211a-4724-d3f7-b171d7577912"
      },
      "execution_count": 10,
      "outputs": [
        {
          "output_type": "stream",
          "name": "stderr",
          "text": [
            "Plot coordinates for graph not supplied! Generating coordinates, see ?coordinates for how to set your own.\n",
            "\n"
          ]
        },
        {
          "output_type": "display_data",
          "data": {
            "text/plain": [
              "plot without title"
            ],
            "image/png": "[encoded data removed]"
          },
          "metadata": {
            "image/png": {
              "width": 420,
              "height": 420
            }
          }
        }
      ]
    },
    {
      "cell_type": "code",
      "source": [
        "adjustmentSets( h, \"D\", \"Y\" )"
      ],
      "metadata": {
        "colab": {
          "base_uri": "https://localhost:8080/",
          "height": 34
        },
        "id": "UuWleUFqmoro",
        "outputId": "a787354e-3aa6-491a-c1c3-9b8115da4bef"
      },
      "execution_count": 11,
      "outputs": [
        {
          "output_type": "display_data",
          "data": {
            "text/plain": [
              "{ X }"
            ]
          },
          "metadata": {}
        }
      ]
    }
  ],
  "metadata": {
    "kernelspec": {
      "display_name": "R",
      "language": "R",
      "name": "ir"
    },
    "language_info": {
      "codemirror_mode": "r",
      "file_extension": ".r",
      "mimetype": "text/x-r-source",
      "name": "R",
      "pygments_lexer": "r",
      "version": "3.6.3"
    },
    "papermill": {
      "default_parameters": {},
      "duration": 24.263285,
      "end_time": "2021-01-21T13:24:44.323080",
      "environment_variables": {},
      "exception": null,
      "input_path": "__notebook__.ipynb",
      "output_path": "__notebook__.ipynb",
      "parameters": {},
      "start_time": "2021-01-21T13:24:20.059795",
      "version": "2.2.2"
    },
    "colab": {
      "provenance": []
    }
  },
  "nbformat": 4,
  "nbformat_minor": 0
}