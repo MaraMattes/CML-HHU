{
  "cells": [
    {
      "cell_type": "code",
      "source": [
        "install.packages(c(\"lmtest\",\"sandwich\",\"xtable\"))"
      ],
      "metadata": {
        "colab": {
          "base_uri": "https://localhost:8080/"
        },
        "id": "OWVIx_SeNPyG",
        "outputId": "21fbd63c-65e4-45a4-876e-ef5b1e5b41b1"
      },
      "execution_count": 1,
      "outputs": [
        {
          "output_type": "stream",
          "name": "stderr",
          "text": [
            "Installing packages into ‘/usr/local/lib/R/site-library’\n",
            "(as ‘lib’ is unspecified)\n",
            "\n",
            "also installing the dependency ‘zoo’\n",
            "\n",
            "\n"
          ]
        }
      ]
    },
    {
      "cell_type": "markdown",
      "metadata": {
        "papermill": {
          "duration": 0.013538,
          "end_time": "2021-02-20T13:42:41.189745",
          "exception": false,
          "start_time": "2021-02-20T13:42:41.176207",
          "status": "completed"
        },
        "tags": [],
        "id": "g-R4Fdsc_fUp"
      },
      "source": [
        "# Analyzing RCT data with Precision Adjustment"
      ]
    },
    {
      "cell_type": "markdown",
      "metadata": {
        "papermill": {
          "duration": 0.011347,
          "end_time": "2021-02-20T13:42:41.213041",
          "exception": false,
          "start_time": "2021-02-20T13:42:41.201694",
          "status": "completed"
        },
        "tags": [],
        "id": "M7bpRBIJ_fUy"
      },
      "source": [
        "## Data\n",
        "\n",
        "In this lab, we analyze the Pennsylvania re-employment bonus experiment, which was previously studied in \"Sequential testing of duration data: the case of the Pennsylvania ‘reemployment bonus’ experiment\" (Bilias, 2000), among others. These experiments were conducted in the 1980s by the U.S. Department of Labor to test the incentive effects of alternative compensation schemes for unemployment insurance (UI). In these experiments, UI claimants were randomly assigned either to a control group or one of five treatment groups. Actually, there are six treatment groups in the experiments. Here we focus on treatment group 4, but feel free to explore other treatment groups. In the control group the current rules of the UI applied. Individuals in the treatment groups were offered a cash bonus if they found a job within some pre-specified period of time (qualification period), provided that the job was retained for a specified duration. The treatments differed in the level of the bonus, the length of the qualification period, and whether the bonus was declining over time in the qualification period; see http://qed.econ.queensu.ca/jae/2000-v15.6/bilias/readme.b.txt for further details on data.\n"
      ]
    },
    {
      "cell_type": "markdown",
      "source": [
        "First, please load the data set."
      ],
      "metadata": {
        "id": "2ra0Urrml6lV"
      }
    },
    {
      "cell_type": "code",
      "execution_count": null,
      "metadata": {
        "execution": {
          "iopub.execute_input": "2021-02-20T13:42:41.267823Z",
          "iopub.status.busy": "2021-02-20T13:42:41.265606Z",
          "iopub.status.idle": "2021-02-20T13:42:41.503621Z",
          "shell.execute_reply": "2021-02-20T13:42:41.502578Z"
        },
        "papermill": {
          "duration": 0.279482,
          "end_time": "2021-02-20T13:42:41.503829",
          "exception": false,
          "start_time": "2021-02-20T13:42:41.224347",
          "status": "completed"
        },
        "tags": [],
        "id": "hunVsd9O_fU0",
        "colab": {
          "base_uri": "https://localhost:8080/"
        },
        "outputId": "d9b92439-d632-4629-e850-b123f4bb136b"
      },
      "outputs": [
        {
          "output_type": "stream",
          "name": "stderr",
          "text": [
            "The following objects are masked from Penn (pos = 3):\n",
            "\n",
            "    abdt, agegt54, agelt35, black, dep, durable, female, hispanic,\n",
            "    husd, inuidur1, inuidur2, lusd, muld, nondurable, othrace, q1, q2,\n",
            "    q3, q4, q5, q6, recall, tg\n",
            "\n",
            "\n",
            "The following objects are masked from Penn (pos = 4):\n",
            "\n",
            "    abdt, agegt54, agelt35, black, dep, durable, female, hispanic,\n",
            "    husd, inuidur1, inuidur2, lusd, muld, nondurable, othrace, q1, q2,\n",
            "    q3, q4, q5, q6, recall, tg\n",
            "\n",
            "\n"
          ]
        }
      ],
      "source": [
        "## loading the data\n",
        "Penn <- as.data.frame(read.table(\"/content/penn_jaedat.sec\", header=T ))\n",
        "n <- dim(Penn)[1]\n",
        "p_1 <- dim(Penn)[2]\n",
        "Penn<- subset(Penn, tg==4 | tg==0)\n",
        "attach(Penn)"
      ]
    },
    {
      "cell_type": "code",
      "execution_count": null,
      "metadata": {
        "execution": {
          "iopub.execute_input": "2021-02-20T13:42:41.611073Z",
          "iopub.status.busy": "2021-02-20T13:42:41.609253Z",
          "iopub.status.idle": "2021-02-20T13:42:41.646504Z",
          "shell.execute_reply": "2021-02-20T13:42:41.645094Z"
        },
        "papermill": {
          "duration": 0.053285,
          "end_time": "2021-02-20T13:42:41.646704",
          "exception": false,
          "start_time": "2021-02-20T13:42:41.593419",
          "status": "completed"
        },
        "tags": [],
        "colab": {
          "base_uri": "https://localhost:8080/",
          "height": 286
        },
        "id": "DdCrO5Qd_fU6",
        "outputId": "2087efdc-e386-494b-d293-94f3d59b60ea"
      },
      "outputs": [
        {
          "output_type": "display_data",
          "data": {
            "text/html": [
              "<table class=\"dataframe\">\n",
              "<caption>A data.frame: 6 × 23</caption>\n",
              "<thead>\n",
              "\t<tr><th></th><th scope=col>abdt</th><th scope=col>tg</th><th scope=col>inuidur1</th><th scope=col>inuidur2</th><th scope=col>female</th><th scope=col>black</th><th scope=col>hispanic</th><th scope=col>othrace</th><th scope=col>dep</th><th scope=col>q1</th><th scope=col>⋯</th><th scope=col>q5</th><th scope=col>q6</th><th scope=col>recall</th><th scope=col>agelt35</th><th scope=col>agegt54</th><th scope=col>durable</th><th scope=col>nondurable</th><th scope=col>lusd</th><th scope=col>husd</th><th scope=col>muld</th></tr>\n",
              "\t<tr><th></th><th scope=col>&lt;int&gt;</th><th scope=col>&lt;int&gt;</th><th scope=col>&lt;int&gt;</th><th scope=col>&lt;int&gt;</th><th scope=col>&lt;int&gt;</th><th scope=col>&lt;int&gt;</th><th scope=col>&lt;int&gt;</th><th scope=col>&lt;int&gt;</th><th scope=col>&lt;int&gt;</th><th scope=col>&lt;int&gt;</th><th scope=col>⋯</th><th scope=col>&lt;int&gt;</th><th scope=col>&lt;int&gt;</th><th scope=col>&lt;int&gt;</th><th scope=col>&lt;int&gt;</th><th scope=col>&lt;int&gt;</th><th scope=col>&lt;int&gt;</th><th scope=col>&lt;int&gt;</th><th scope=col>&lt;int&gt;</th><th scope=col>&lt;int&gt;</th><th scope=col>&lt;int&gt;</th></tr>\n",
              "</thead>\n",
              "<tbody>\n",
              "\t<tr><th scope=row>1</th><td>10824</td><td>0</td><td>18</td><td>18</td><td>0</td><td>0</td><td>0</td><td>0</td><td>2</td><td>0</td><td>⋯</td><td>1</td><td>0</td><td>0</td><td>0</td><td>0</td><td>0</td><td>0</td><td>0</td><td>1</td><td>0</td></tr>\n",
              "\t<tr><th scope=row>4</th><td>10824</td><td>0</td><td> 1</td><td> 1</td><td>0</td><td>0</td><td>0</td><td>0</td><td>0</td><td>0</td><td>⋯</td><td>1</td><td>0</td><td>0</td><td>0</td><td>0</td><td>0</td><td>0</td><td>1</td><td>0</td><td>0</td></tr>\n",
              "\t<tr><th scope=row>5</th><td>10747</td><td>0</td><td>27</td><td>27</td><td>0</td><td>0</td><td>0</td><td>0</td><td>0</td><td>0</td><td>⋯</td><td>0</td><td>0</td><td>0</td><td>0</td><td>0</td><td>0</td><td>0</td><td>1</td><td>0</td><td>0</td></tr>\n",
              "\t<tr><th scope=row>12</th><td>10607</td><td>4</td><td> 9</td><td> 9</td><td>0</td><td>0</td><td>0</td><td>0</td><td>0</td><td>0</td><td>⋯</td><td>0</td><td>0</td><td>0</td><td>1</td><td>0</td><td>0</td><td>0</td><td>0</td><td>0</td><td>1</td></tr>\n",
              "\t<tr><th scope=row>13</th><td>10831</td><td>0</td><td>27</td><td>27</td><td>0</td><td>0</td><td>0</td><td>0</td><td>1</td><td>0</td><td>⋯</td><td>1</td><td>0</td><td>0</td><td>0</td><td>1</td><td>1</td><td>0</td><td>1</td><td>0</td><td>0</td></tr>\n",
              "\t<tr><th scope=row>14</th><td>10845</td><td>0</td><td>27</td><td>27</td><td>1</td><td>0</td><td>0</td><td>0</td><td>0</td><td>0</td><td>⋯</td><td>1</td><td>0</td><td>0</td><td>0</td><td>1</td><td>0</td><td>0</td><td>1</td><td>0</td><td>0</td></tr>\n",
              "</tbody>\n",
              "</table>\n"
            ],
            "text/markdown": "\nA data.frame: 6 × 23\n\n| <!--/--> | abdt &lt;int&gt; | tg &lt;int&gt; | inuidur1 &lt;int&gt; | inuidur2 &lt;int&gt; | female &lt;int&gt; | black &lt;int&gt; | hispanic &lt;int&gt; | othrace &lt;int&gt; | dep &lt;int&gt; | q1 &lt;int&gt; | ⋯ ⋯ | q5 &lt;int&gt; | q6 &lt;int&gt; | recall &lt;int&gt; | agelt35 &lt;int&gt; | agegt54 &lt;int&gt; | durable &lt;int&gt; | nondurable &lt;int&gt; | lusd &lt;int&gt; | husd &lt;int&gt; | muld &lt;int&gt; |\n|---|---|---|---|---|---|---|---|---|---|---|---|---|---|---|---|---|---|---|---|---|---|\n| 1 | 10824 | 0 | 18 | 18 | 0 | 0 | 0 | 0 | 2 | 0 | ⋯ | 1 | 0 | 0 | 0 | 0 | 0 | 0 | 0 | 1 | 0 |\n| 4 | 10824 | 0 |  1 |  1 | 0 | 0 | 0 | 0 | 0 | 0 | ⋯ | 1 | 0 | 0 | 0 | 0 | 0 | 0 | 1 | 0 | 0 |\n| 5 | 10747 | 0 | 27 | 27 | 0 | 0 | 0 | 0 | 0 | 0 | ⋯ | 0 | 0 | 0 | 0 | 0 | 0 | 0 | 1 | 0 | 0 |\n| 12 | 10607 | 4 |  9 |  9 | 0 | 0 | 0 | 0 | 0 | 0 | ⋯ | 0 | 0 | 0 | 1 | 0 | 0 | 0 | 0 | 0 | 1 |\n| 13 | 10831 | 0 | 27 | 27 | 0 | 0 | 0 | 0 | 1 | 0 | ⋯ | 1 | 0 | 0 | 0 | 1 | 1 | 0 | 1 | 0 | 0 |\n| 14 | 10845 | 0 | 27 | 27 | 1 | 0 | 0 | 0 | 0 | 0 | ⋯ | 1 | 0 | 0 | 0 | 1 | 0 | 0 | 1 | 0 | 0 |\n\n",
            "text/latex": "A data.frame: 6 × 23\n\\begin{tabular}{r|lllllllllllllllllllll}\n  & abdt & tg & inuidur1 & inuidur2 & female & black & hispanic & othrace & dep & q1 & ⋯ & q5 & q6 & recall & agelt35 & agegt54 & durable & nondurable & lusd & husd & muld\\\\\n  & <int> & <int> & <int> & <int> & <int> & <int> & <int> & <int> & <int> & <int> & ⋯ & <int> & <int> & <int> & <int> & <int> & <int> & <int> & <int> & <int> & <int>\\\\\n\\hline\n\t1 & 10824 & 0 & 18 & 18 & 0 & 0 & 0 & 0 & 2 & 0 & ⋯ & 1 & 0 & 0 & 0 & 0 & 0 & 0 & 0 & 1 & 0\\\\\n\t4 & 10824 & 0 &  1 &  1 & 0 & 0 & 0 & 0 & 0 & 0 & ⋯ & 1 & 0 & 0 & 0 & 0 & 0 & 0 & 1 & 0 & 0\\\\\n\t5 & 10747 & 0 & 27 & 27 & 0 & 0 & 0 & 0 & 0 & 0 & ⋯ & 0 & 0 & 0 & 0 & 0 & 0 & 0 & 1 & 0 & 0\\\\\n\t12 & 10607 & 4 &  9 &  9 & 0 & 0 & 0 & 0 & 0 & 0 & ⋯ & 0 & 0 & 0 & 1 & 0 & 0 & 0 & 0 & 0 & 1\\\\\n\t13 & 10831 & 0 & 27 & 27 & 0 & 0 & 0 & 0 & 1 & 0 & ⋯ & 1 & 0 & 0 & 0 & 1 & 1 & 0 & 1 & 0 & 0\\\\\n\t14 & 10845 & 0 & 27 & 27 & 1 & 0 & 0 & 0 & 0 & 0 & ⋯ & 1 & 0 & 0 & 0 & 1 & 0 & 0 & 1 & 0 & 0\\\\\n\\end{tabular}\n",
            "text/plain": [
              "   abdt  tg inuidur1 inuidur2 female black hispanic othrace dep q1 ⋯ q5 q6\n",
              "1  10824 0  18       18       0      0     0        0       2   0  ⋯ 1  0 \n",
              "4  10824 0   1        1       0      0     0        0       0   0  ⋯ 1  0 \n",
              "5  10747 0  27       27       0      0     0        0       0   0  ⋯ 0  0 \n",
              "12 10607 4   9        9       0      0     0        0       0   0  ⋯ 0  0 \n",
              "13 10831 0  27       27       0      0     0        0       1   0  ⋯ 1  0 \n",
              "14 10845 0  27       27       1      0     0        0       0   0  ⋯ 1  0 \n",
              "   recall agelt35 agegt54 durable nondurable lusd husd muld\n",
              "1  0      0       0       0       0          0    1    0   \n",
              "4  0      0       0       0       0          1    0    0   \n",
              "5  0      0       0       0       0          1    0    0   \n",
              "12 0      1       0       0       0          0    0    1   \n",
              "13 0      0       1       1       0          1    0    0   \n",
              "14 0      0       1       0       0          1    0    0   "
            ]
          },
          "metadata": {}
        }
      ],
      "source": [
        "head(Penn)"
      ]
    },
    {
      "cell_type": "markdown",
      "source": [
        "Our treatment $D=T4$ is given by"
      ],
      "metadata": {
        "id": "UI5iTY40mNVb"
      }
    },
    {
      "cell_type": "code",
      "execution_count": null,
      "metadata": {
        "execution": {
          "iopub.execute_input": "2021-02-20T13:42:41.560613Z",
          "iopub.status.busy": "2021-02-20T13:42:41.531063Z",
          "iopub.status.idle": "2021-02-20T13:42:41.580817Z",
          "shell.execute_reply": "2021-02-20T13:42:41.579312Z"
        },
        "papermill": {
          "duration": 0.065266,
          "end_time": "2021-02-20T13:42:41.580972",
          "exception": false,
          "start_time": "2021-02-20T13:42:41.515706",
          "status": "completed"
        },
        "tags": [],
        "id": "qpj_gCQ9_fU4"
      },
      "outputs": [],
      "source": [
        "T4 <- (tg==4)"
      ]
    },
    {
      "cell_type": "markdown",
      "source": [
        "**Exercise 1:** How many individuals got the \"treatment\"?"
      ],
      "metadata": {
        "id": "lsx93shsmY5M"
      }
    },
    {
      "cell_type": "markdown",
      "metadata": {
        "papermill": {
          "duration": 0.012846,
          "end_time": "2021-02-20T13:42:41.672662",
          "exception": false,
          "start_time": "2021-02-20T13:42:41.659816",
          "status": "completed"
        },
        "tags": [],
        "id": "jaSNtLZV_fU7"
      },
      "source": [
        "### Model\n",
        "To evaluate the impact of the treatments on unemployment duration, we consider the linear regression model:\n",
        "\n",
        "$$\n",
        "Y =  D \\beta_1 + W'\\beta_2 + \\varepsilon, \\quad E \\varepsilon (D,W')' = 0,\n",
        "$$\n",
        "\n",
        "where $Y$ is  the  log of duration of unemployment, $D$ is a treatment  indicator,  and $W$ is a set of controls including age group dummies, gender, race, number of dependents, quarter of the experiment, location within the state, existence of recall expectations, and type of occupation.   Here $\\beta_1$ is the ATE, if the RCT assumptions hold rigorously.\n",
        "\n",
        "\n",
        "We also consider interactive regression model:\n",
        "\n",
        "$$\n",
        "Y =  D \\alpha_1 + D W' \\alpha_2 + W'\\beta_2 + \\varepsilon, \\quad E \\varepsilon (D,W', DW')' = 0,\n",
        "$$\n",
        "where $W$'s are demeaned (apart from the intercept), so that $\\alpha_1$ is the ATE, if the RCT assumptions hold rigorously."
      ]
    },
    {
      "cell_type": "markdown",
      "metadata": {
        "papermill": {
          "duration": 0.012735,
          "end_time": "2021-02-20T13:42:41.698676",
          "exception": false,
          "start_time": "2021-02-20T13:42:41.685941",
          "status": "completed"
        },
        "tags": [],
        "id": "Dqm2B-Hn_fU8"
      },
      "source": [
        "Under RCT, the projection coefficient $\\beta_1$ has\n",
        "the interpretation of the causal effect of the treatment on\n",
        "the average outcome. We thus refer to $\\beta_1$ as the average\n",
        "treatment effect (ATE). Note that the covariates, here are\n",
        "independent of the treatment $D$, so we can identify $\\beta_1$ by\n",
        "just linear regression of $Y$ on $D$, without adding covariates.\n",
        "However we do add covariates in an effort to improve the\n",
        "precision of our estimates of the average treatment effect."
      ]
    },
    {
      "cell_type": "markdown",
      "metadata": {
        "papermill": {
          "duration": 0.012728,
          "end_time": "2021-02-20T13:42:41.724182",
          "exception": false,
          "start_time": "2021-02-20T13:42:41.711454",
          "status": "completed"
        },
        "tags": [],
        "id": "cIUv0Gur_fU-"
      },
      "source": [
        "### Analysis\n",
        "\n",
        "We consider\n",
        "\n",
        "*  classical 2-sample approach, no adjustment (CL)\n",
        "*  classical linear regression adjustment (CRA)\n",
        "*  interactive regression adjustment (IRA)\n",
        "\n",
        "and carry out robust inference."
      ]
    },
    {
      "cell_type": "markdown",
      "metadata": {
        "papermill": {
          "duration": 0.01276,
          "end_time": "2021-02-20T13:42:41.749736",
          "exception": false,
          "start_time": "2021-02-20T13:42:41.736976",
          "status": "completed"
        },
        "tags": [],
        "id": "azOXgq2y_fU_"
      },
      "source": [
        "# Carry out covariate balance check"
      ]
    },
    {
      "cell_type": "markdown",
      "metadata": {
        "papermill": {
          "duration": 0.013486,
          "end_time": "2021-02-20T13:42:41.776684",
          "exception": false,
          "start_time": "2021-02-20T13:42:41.763198",
          "status": "completed"
        },
        "tags": [],
        "id": "eHbwPapP_fVA"
      },
      "source": [
        "**Exercise 2:** To check if the distribution of covariates is the same under both treatment and control, run a regression of $T4$ on the covariates (plus interactions). *Hint:* Use the following formula:\n",
        "\n",
        "$$T4 \\sim (female+black+othrace+factor(dep)+q2+q3+q4+q5+q6+agelt35+agegt54+durable+lusd+husd)^2$$\n",
        "\n",
        "Then, perform statistical tests of the estimated coefficients using the function *coeftest* from the package *lmtest* to analyze the dependency (correlation) of the treatment variable and the covariates. Interpret your findings."
      ]
    },
    {
      "cell_type": "markdown",
      "metadata": {
        "papermill": {
          "duration": 0.021046,
          "end_time": "2021-02-20T13:42:42.315674",
          "exception": false,
          "start_time": "2021-02-20T13:42:42.294628",
          "status": "completed"
        },
        "tags": [],
        "id": "QtVsprn__fVC"
      },
      "source": [
        "# Model Specification\n",
        "\n",
        "Consider the following model specifications:"
      ]
    },
    {
      "cell_type": "code",
      "execution_count": null,
      "metadata": {
        "execution": {
          "iopub.execute_input": "2021-02-20T13:42:42.351202Z",
          "iopub.status.busy": "2021-02-20T13:42:42.350620Z",
          "iopub.status.idle": "2021-02-20T13:42:42.680257Z",
          "shell.execute_reply": "2021-02-20T13:42:42.677739Z"
        },
        "papermill": {
          "duration": 0.350081,
          "end_time": "2021-02-20T13:42:42.680497",
          "exception": false,
          "start_time": "2021-02-20T13:42:42.330416",
          "status": "completed"
        },
        "tags": [],
        "id": "b2gYDKXr_fVD"
      },
      "outputs": [],
      "source": [
        "# model specifications\n",
        "\n",
        "\n",
        "# no adjustment (2-sample approach)\n",
        "formula_cl <- log(inuidur1)~T4\n",
        "\n",
        "# adding controls\n",
        "formula_cra <- log(inuidur1)~T4+ (female+black+othrace+factor(dep)+q2+q3+q4+q5+q6+agelt35+agegt54+durable+lusd+husd)^2\n",
        "# Omitted dummies: q1, nondurable, muld"
      ]
    },
    {
      "cell_type": "markdown",
      "source": [
        "**Exercise 3:** Fit an ols regression to both models and perform statistical tests of the estimated treatment effect using the function *coeftest* from the package *lmtest*. Compare the standard errors."
      ],
      "metadata": {
        "id": "S2lXvjLnnset"
      }
    },
    {
      "cell_type": "markdown",
      "metadata": {
        "papermill": {
          "duration": 0.02768,
          "end_time": "2021-02-20T13:42:42.735966",
          "exception": false,
          "start_time": "2021-02-20T13:42:42.708286",
          "status": "completed"
        },
        "tags": [],
        "id": "PbhPTTfO_fVE"
      },
      "source": [
        "Next, consider the interactive specificaiton which corresponds to the approach introduced in Lin (2013)."
      ]
    },
    {
      "cell_type": "code",
      "execution_count": null,
      "metadata": {
        "execution": {
          "iopub.execute_input": "2021-02-20T13:42:42.787957Z",
          "iopub.status.busy": "2021-02-20T13:42:42.787434Z",
          "iopub.status.idle": "2021-02-20T13:42:43.662431Z",
          "shell.execute_reply": "2021-02-20T13:42:43.659030Z"
        },
        "papermill": {
          "duration": 0.898452,
          "end_time": "2021-02-20T13:42:43.662684",
          "exception": false,
          "start_time": "2021-02-20T13:42:42.764232",
          "status": "completed"
        },
        "tags": [],
        "colab": {
          "base_uri": "https://localhost:8080/",
          "height": 34
        },
        "id": "07Lriw_9_fVE",
        "outputId": "7133ea6d-58c2-4345-8a18-767964af3834"
      },
      "outputs": [
        {
          "output_type": "display_data",
          "data": {
            "text/html": [
              "<style>\n",
              ".list-inline {list-style: none; margin:0; padding: 0}\n",
              ".list-inline>li {display: inline-block}\n",
              ".list-inline>li:not(:last-child)::after {content: \"\\00b7\"; padding: 0 .5ex}\n",
              "</style>\n",
              "<ol class=list-inline><li>5099</li><li>119</li></ol>\n"
            ],
            "text/markdown": "1. 5099\n2. 119\n\n\n",
            "text/latex": "\\begin{enumerate*}\n\\item 5099\n\\item 119\n\\end{enumerate*}\n",
            "text/plain": [
              "[1] 5099  119"
            ]
          },
          "metadata": {}
        }
      ],
      "source": [
        "#interactive regression model;\n",
        "\n",
        "X = model.matrix (~ (female+black+othrace+factor(dep)+q2+q3+q4+q5+q6+agelt35+agegt54+durable+lusd+husd)^2)[,-1]\n",
        "dim(X)\n",
        "demean<- function(x){ x - mean(x)}\n",
        "X = apply(X, 2, demean)\n",
        "T4 = demean(T4)\n"
      ]
    },
    {
      "cell_type": "markdown",
      "source": [
        "**Exercise 4:** Regress Y on $T4\\cdot X$ using ols to fit the interactive specification and have a look at the estimated coefficients"
      ],
      "metadata": {
        "id": "2Yz1_xwcotOr"
      }
    },
    {
      "cell_type": "markdown",
      "source": [
        "## Results"
      ],
      "metadata": {
        "id": "V7-rsTXSpu9k"
      }
    },
    {
      "cell_type": "markdown",
      "source": [
        "**Exercise 5:**\n",
        "\n",
        "Summarize your findings."
      ],
      "metadata": {
        "id": "gSD8Hy8pqNNc"
      }
    }
  ],
  "metadata": {
    "kernelspec": {
      "display_name": "R",
      "language": "R",
      "name": "ir"
    },
    "language_info": {
      "codemirror_mode": "r",
      "file_extension": ".r",
      "mimetype": "text/x-r-source",
      "name": "R",
      "pygments_lexer": "r",
      "version": "3.6.3"
    },
    "papermill": {
      "default_parameters": {},
      "duration": 7.178818,
      "end_time": "2021-02-20T13:42:45.473549",
      "environment_variables": {},
      "exception": null,
      "input_path": "__notebook__.ipynb",
      "output_path": "__notebook__.ipynb",
      "parameters": {},
      "start_time": "2021-02-20T13:42:38.294731",
      "version": "2.2.2"
    },
    "colab": {
      "provenance": []
    }
  },
  "nbformat": 4,
  "nbformat_minor": 0
}