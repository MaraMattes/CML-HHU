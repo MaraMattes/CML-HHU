{
  "cells": [
    {
      "cell_type": "markdown",
      "source": [
        "Please first install the required packages:"
      ],
      "metadata": {
        "id": "1J21IPrJNpDK"
      }
    },
    {
      "cell_type": "code",
      "source": [
        "install.packages(c(\"xtable\"))"
      ],
      "metadata": {
        "colab": {
          "base_uri": "https://localhost:8080/"
        },
        "id": "HEuLelUu5oV-",
        "outputId": "f010466e-5026-45ae-9b44-c843a22e194c"
      },
      "execution_count": null,
      "outputs": [
        {
          "output_type": "stream",
          "name": "stderr",
          "text": [
            "Installing package into ‘/usr/local/lib/R/site-library’\n",
            "(as ‘lib’ is unspecified)\n",
            "\n"
          ]
        }
      ]
    },
    {
      "cell_type": "markdown",
      "metadata": {
        "papermill": {
          "duration": 0.016306,
          "end_time": "2021-07-23T14:59:58.483263",
          "exception": false,
          "start_time": "2021-07-23T14:59:58.466957",
          "status": "completed"
        },
        "tags": [],
        "id": "qOpd9StK4BoJ"
      },
      "source": [
        "## Introduction"
      ]
    },
    {
      "cell_type": "markdown",
      "metadata": {
        "papermill": {
          "duration": 0.015957,
          "end_time": "2021-07-23T14:59:58.515118",
          "exception": false,
          "start_time": "2021-07-23T14:59:58.499161",
          "status": "completed"
        },
        "tags": [],
        "id": "zYPet_eB4BoL"
      },
      "source": [
        "An important question in labour economics is what determines the wage of workers. This is a causal question, but we can begin to investigate it from a predictive perspective.\n",
        "\n",
        "In the following wage example, $Y$ is the hourly wage of a worker and $X$ is a vector of worker's characteristics, e.g., education, experience, gender. Two main questions here are:\n",
        "\n",
        "* How can we use job-relevant characteristics, such as education and experience, to best predict wages?\n",
        "\n",
        "* What is the difference in predicted wages between men and women with the same job-relevant characteristics?\n",
        "\n",
        "In this lab, we focus on the prediction question first."
      ]
    },
    {
      "cell_type": "markdown",
      "metadata": {
        "papermill": {
          "duration": 0.015966,
          "end_time": "2021-07-23T14:59:58.547057",
          "exception": false,
          "start_time": "2021-07-23T14:59:58.531091",
          "status": "completed"
        },
        "tags": [],
        "id": "kOjk_jzD4BoM"
      },
      "source": [
        "## Data\n"
      ]
    },
    {
      "cell_type": "markdown",
      "metadata": {
        "papermill": {
          "duration": 0.016792,
          "end_time": "2021-07-23T14:59:58.579904",
          "exception": false,
          "start_time": "2021-07-23T14:59:58.563112",
          "status": "completed"
        },
        "tags": [],
        "id": "6-S1sW1Z4BoO"
      },
      "source": [
        "The data set we consider is from the 2015 March Supplement of the U.S. Current Population Survey.  We select white non-hispanic individuals, aged 25 to 64 years, and working more than 35 hours per week for at least 50 weeks of the year. We exclude self-employed workers; individuals living in group quarters; individuals in the military, agricultural or private household sectors;  individuals with inconsistent reports on earnings and employment status; individuals with allocated or missing information in any of the variables used in the analysis; and individuals with hourly wage below $3$.\n",
        "\n",
        "The variable of interest $Y$ (or $\\log(Y)$) is the hourly wage rate constructed as the ratio of the annual earnings to the total number of hours worked, which is constructed in turn as the product of number of weeks worked and the usual number of hours worked per week. In our analysis, we also focus on single (never married) workers."
      ]
    },
    {
      "cell_type": "markdown",
      "metadata": {
        "papermill": {
          "duration": 0.016095,
          "end_time": "2021-07-23T14:59:58.611758",
          "exception": false,
          "start_time": "2021-07-23T14:59:58.595663",
          "status": "completed"
        },
        "tags": [],
        "id": "uov9j05U4BoP"
      },
      "source": [
        "## Data analysis"
      ]
    },
    {
      "cell_type": "markdown",
      "source": [
        "**Exercise 1:** Load the data set. To do this upload the file \"wage2015_subsample_inference.Rdata\" which you can find on our [webpage](https://maramattes.github.io/CML-HHU/) and run the following code:"
      ],
      "metadata": {
        "id": "h-1UNBGjOSim"
      }
    },
    {
      "cell_type": "code",
      "execution_count": null,
      "metadata": {
        "execution": {
          "iopub.execute_input": "2021-07-23T14:59:58.707816Z",
          "iopub.status.busy": "2021-07-23T14:59:58.705440Z",
          "iopub.status.idle": "2021-07-23T14:59:58.881634Z",
          "shell.execute_reply": "2021-07-23T14:59:58.880652Z"
        },
        "papermill": {
          "duration": 0.220945,
          "end_time": "2021-07-23T14:59:58.881830",
          "exception": false,
          "start_time": "2021-07-23T14:59:58.660885",
          "status": "completed"
        },
        "tags": [],
        "id": "8ITZjK034BoS",
        "colab": {
          "base_uri": "https://localhost:8080/",
          "height": 286
        },
        "outputId": "4c34215e-a125-4d38-fc6e-954ebc083855"
      },
      "outputs": [
        {
          "output_type": "display_data",
          "data": {
            "text/html": [
              "<table class=\"dataframe\">\n",
              "<caption>A data.frame: 6 × 20</caption>\n",
              "<thead>\n",
              "\t<tr><th></th><th scope=col>wage</th><th scope=col>lwage</th><th scope=col>sex</th><th scope=col>shs</th><th scope=col>hsg</th><th scope=col>scl</th><th scope=col>clg</th><th scope=col>ad</th><th scope=col>mw</th><th scope=col>so</th><th scope=col>we</th><th scope=col>ne</th><th scope=col>exp1</th><th scope=col>exp2</th><th scope=col>exp3</th><th scope=col>exp4</th><th scope=col>occ</th><th scope=col>occ2</th><th scope=col>ind</th><th scope=col>ind2</th></tr>\n",
              "\t<tr><th></th><th scope=col>&lt;dbl&gt;</th><th scope=col>&lt;dbl&gt;</th><th scope=col>&lt;dbl&gt;</th><th scope=col>&lt;dbl&gt;</th><th scope=col>&lt;dbl&gt;</th><th scope=col>&lt;dbl&gt;</th><th scope=col>&lt;dbl&gt;</th><th scope=col>&lt;dbl&gt;</th><th scope=col>&lt;dbl&gt;</th><th scope=col>&lt;dbl&gt;</th><th scope=col>&lt;dbl&gt;</th><th scope=col>&lt;dbl&gt;</th><th scope=col>&lt;dbl&gt;</th><th scope=col>&lt;dbl&gt;</th><th scope=col>&lt;dbl&gt;</th><th scope=col>&lt;dbl&gt;</th><th scope=col>&lt;fct&gt;</th><th scope=col>&lt;fct&gt;</th><th scope=col>&lt;fct&gt;</th><th scope=col>&lt;fct&gt;</th></tr>\n",
              "</thead>\n",
              "<tbody>\n",
              "\t<tr><th scope=row>10</th><td> 9.615385</td><td>2.263364</td><td>1</td><td>0</td><td>0</td><td>0</td><td>1</td><td>0</td><td>0</td><td>0</td><td>0</td><td>1</td><td> 7</td><td>0.49</td><td> 0.343</td><td> 0.2401</td><td>3600</td><td>11</td><td>8370</td><td>18</td></tr>\n",
              "\t<tr><th scope=row>12</th><td>48.076923</td><td>3.872802</td><td>0</td><td>0</td><td>0</td><td>0</td><td>1</td><td>0</td><td>0</td><td>0</td><td>0</td><td>1</td><td>31</td><td>9.61</td><td>29.791</td><td>92.3521</td><td>3050</td><td>10</td><td>5070</td><td>9 </td></tr>\n",
              "\t<tr><th scope=row>15</th><td>11.057692</td><td>2.403126</td><td>0</td><td>0</td><td>1</td><td>0</td><td>0</td><td>0</td><td>0</td><td>0</td><td>0</td><td>1</td><td>18</td><td>3.24</td><td> 5.832</td><td>10.4976</td><td>6260</td><td>19</td><td>770 </td><td>4 </td></tr>\n",
              "\t<tr><th scope=row>18</th><td>13.942308</td><td>2.634928</td><td>1</td><td>0</td><td>0</td><td>0</td><td>0</td><td>1</td><td>0</td><td>0</td><td>0</td><td>1</td><td>25</td><td>6.25</td><td>15.625</td><td>39.0625</td><td>420 </td><td>1 </td><td>6990</td><td>12</td></tr>\n",
              "\t<tr><th scope=row>19</th><td>28.846154</td><td>3.361977</td><td>1</td><td>0</td><td>0</td><td>0</td><td>1</td><td>0</td><td>0</td><td>0</td><td>0</td><td>1</td><td>22</td><td>4.84</td><td>10.648</td><td>23.4256</td><td>2015</td><td>6 </td><td>9470</td><td>22</td></tr>\n",
              "\t<tr><th scope=row>30</th><td>11.730769</td><td>2.462215</td><td>1</td><td>0</td><td>0</td><td>0</td><td>1</td><td>0</td><td>0</td><td>0</td><td>0</td><td>1</td><td> 1</td><td>0.01</td><td> 0.001</td><td> 0.0001</td><td>1650</td><td>5 </td><td>7460</td><td>14</td></tr>\n",
              "</tbody>\n",
              "</table>\n"
            ],
            "text/markdown": "\nA data.frame: 6 × 20\n\n| <!--/--> | wage &lt;dbl&gt; | lwage &lt;dbl&gt; | sex &lt;dbl&gt; | shs &lt;dbl&gt; | hsg &lt;dbl&gt; | scl &lt;dbl&gt; | clg &lt;dbl&gt; | ad &lt;dbl&gt; | mw &lt;dbl&gt; | so &lt;dbl&gt; | we &lt;dbl&gt; | ne &lt;dbl&gt; | exp1 &lt;dbl&gt; | exp2 &lt;dbl&gt; | exp3 &lt;dbl&gt; | exp4 &lt;dbl&gt; | occ &lt;fct&gt; | occ2 &lt;fct&gt; | ind &lt;fct&gt; | ind2 &lt;fct&gt; |\n|---|---|---|---|---|---|---|---|---|---|---|---|---|---|---|---|---|---|---|---|---|\n| 10 |  9.615385 | 2.263364 | 1 | 0 | 0 | 0 | 1 | 0 | 0 | 0 | 0 | 1 |  7 | 0.49 |  0.343 |  0.2401 | 3600 | 11 | 8370 | 18 |\n| 12 | 48.076923 | 3.872802 | 0 | 0 | 0 | 0 | 1 | 0 | 0 | 0 | 0 | 1 | 31 | 9.61 | 29.791 | 92.3521 | 3050 | 10 | 5070 | 9  |\n| 15 | 11.057692 | 2.403126 | 0 | 0 | 1 | 0 | 0 | 0 | 0 | 0 | 0 | 1 | 18 | 3.24 |  5.832 | 10.4976 | 6260 | 19 | 770  | 4  |\n| 18 | 13.942308 | 2.634928 | 1 | 0 | 0 | 0 | 0 | 1 | 0 | 0 | 0 | 1 | 25 | 6.25 | 15.625 | 39.0625 | 420  | 1  | 6990 | 12 |\n| 19 | 28.846154 | 3.361977 | 1 | 0 | 0 | 0 | 1 | 0 | 0 | 0 | 0 | 1 | 22 | 4.84 | 10.648 | 23.4256 | 2015 | 6  | 9470 | 22 |\n| 30 | 11.730769 | 2.462215 | 1 | 0 | 0 | 0 | 1 | 0 | 0 | 0 | 0 | 1 |  1 | 0.01 |  0.001 |  0.0001 | 1650 | 5  | 7460 | 14 |\n\n",
            "text/latex": "A data.frame: 6 × 20\n\\begin{tabular}{r|llllllllllllllllllll}\n  & wage & lwage & sex & shs & hsg & scl & clg & ad & mw & so & we & ne & exp1 & exp2 & exp3 & exp4 & occ & occ2 & ind & ind2\\\\\n  & <dbl> & <dbl> & <dbl> & <dbl> & <dbl> & <dbl> & <dbl> & <dbl> & <dbl> & <dbl> & <dbl> & <dbl> & <dbl> & <dbl> & <dbl> & <dbl> & <fct> & <fct> & <fct> & <fct>\\\\\n\\hline\n\t10 &  9.615385 & 2.263364 & 1 & 0 & 0 & 0 & 1 & 0 & 0 & 0 & 0 & 1 &  7 & 0.49 &  0.343 &  0.2401 & 3600 & 11 & 8370 & 18\\\\\n\t12 & 48.076923 & 3.872802 & 0 & 0 & 0 & 0 & 1 & 0 & 0 & 0 & 0 & 1 & 31 & 9.61 & 29.791 & 92.3521 & 3050 & 10 & 5070 & 9 \\\\\n\t15 & 11.057692 & 2.403126 & 0 & 0 & 1 & 0 & 0 & 0 & 0 & 0 & 0 & 1 & 18 & 3.24 &  5.832 & 10.4976 & 6260 & 19 & 770  & 4 \\\\\n\t18 & 13.942308 & 2.634928 & 1 & 0 & 0 & 0 & 0 & 1 & 0 & 0 & 0 & 1 & 25 & 6.25 & 15.625 & 39.0625 & 420  & 1  & 6990 & 12\\\\\n\t19 & 28.846154 & 3.361977 & 1 & 0 & 0 & 0 & 1 & 0 & 0 & 0 & 0 & 1 & 22 & 4.84 & 10.648 & 23.4256 & 2015 & 6  & 9470 & 22\\\\\n\t30 & 11.730769 & 2.462215 & 1 & 0 & 0 & 0 & 1 & 0 & 0 & 0 & 0 & 1 &  1 & 0.01 &  0.001 &  0.0001 & 1650 & 5  & 7460 & 14\\\\\n\\end{tabular}\n",
            "text/plain": [
              "   wage      lwage    sex shs hsg scl clg ad mw so we ne exp1 exp2 exp3  \n",
              "10  9.615385 2.263364 1   0   0   0   1   0  0  0  0  1   7   0.49  0.343\n",
              "12 48.076923 3.872802 0   0   0   0   1   0  0  0  0  1  31   9.61 29.791\n",
              "15 11.057692 2.403126 0   0   1   0   0   0  0  0  0  1  18   3.24  5.832\n",
              "18 13.942308 2.634928 1   0   0   0   0   1  0  0  0  1  25   6.25 15.625\n",
              "19 28.846154 3.361977 1   0   0   0   1   0  0  0  0  1  22   4.84 10.648\n",
              "30 11.730769 2.462215 1   0   0   0   1   0  0  0  0  1   1   0.01  0.001\n",
              "   exp4    occ  occ2 ind  ind2\n",
              "10  0.2401 3600 11   8370 18  \n",
              "12 92.3521 3050 10   5070 9   \n",
              "15 10.4976 6260 19   770  4   \n",
              "18 39.0625 420  1    6990 12  \n",
              "19 23.4256 2015 6    9470 22  \n",
              "30  0.0001 1650 5    7460 14  "
            ]
          },
          "metadata": {}
        }
      ],
      "source": [
        "load(\"/content/wage2015_subsample_inference.rdata\")\n",
        "head(data)"
      ]
    },
    {
      "cell_type": "markdown",
      "metadata": {
        "papermill": {
          "duration": 0.016423,
          "end_time": "2021-07-23T14:59:58.914953",
          "exception": false,
          "start_time": "2021-07-23T14:59:58.898530",
          "status": "completed"
        },
        "tags": [],
        "id": "g3En2iML4BoW"
      },
      "source": [
        "**Exercise 2:** Let's have a look at the structure of the data. How many observations do we have? What is the mean hourly wage? What are the names of the covariates? Also provide the sample mean of the covariates. What is the share of female workers in our sample?"
      ]
    },
    {
      "cell_type": "markdown",
      "source": [
        "**Exercise 3:** Construct the output variable $\\log(Y)$ and the covariate matrix $Z$ which includes the characteristics of workers that are given in the data."
      ],
      "metadata": {
        "id": "FM0nX3yvycs_"
      }
    },
    {
      "cell_type": "markdown",
      "metadata": {
        "papermill": {
          "duration": 0.017915,
          "end_time": "2021-07-23T14:59:59.409851",
          "exception": false,
          "start_time": "2021-07-23T14:59:59.391936",
          "status": "completed"
        },
        "tags": [],
        "id": "GkKDB_sE4Boe"
      },
      "source": [
        "## Prediction Question"
      ]
    },
    {
      "cell_type": "markdown",
      "metadata": {
        "papermill": {
          "duration": 0.01766,
          "end_time": "2021-07-23T14:59:59.445528",
          "exception": false,
          "start_time": "2021-07-23T14:59:59.427868",
          "status": "completed"
        },
        "tags": [],
        "id": "uO4ZB5yd4Bof"
      },
      "source": [
        "Now, we will construct a prediction rule for the logarithm of hourly wage $\\log(Y)$, which depends linearly on job-relevant characteristics $X$ (log-linear model):\n",
        "\n",
        "\\begin{equation}\n",
        "\\log(Y) = \\beta'X+ \\epsilon.\n",
        "\\end{equation}"
      ]
    },
    {
      "cell_type": "markdown",
      "metadata": {
        "papermill": {
          "duration": 0.017819,
          "end_time": "2021-07-23T14:59:59.481315",
          "exception": false,
          "start_time": "2021-07-23T14:59:59.463496",
          "status": "completed"
        },
        "tags": [],
        "id": "VyIHH9Cl4Bof"
      },
      "source": [
        "Our goals are\n",
        "\n",
        "* Predict wages using various characteristics of workers.\n",
        "\n",
        "* Assess the predictive performance of a given model using the (adjusted) sample MSE, the (adjusted) sample $R^2$ and the out-of-sample MSE and $R^2$.\n",
        "\n",
        "\n",
        "We employ two different specifications for prediction:\n",
        "\n",
        "\n",
        "1. Basic Model:   $X$ consists of a set of raw regressors (e.g. gender, experience, education indicators,  occupation and industry indicators and regional indicators).\n",
        "\n",
        "\n",
        "2. Flexible Model:  $X$ consists of all raw regressors from the basic model plus a dictionary of transformations (e.g., ${exp}^2$ and ${exp}^3$) and additional two-way interactions of a polynomial in experience with other regressors. An example of a regressor created through a two-way interaction is *experience* times the indicator of having a *college degree*.\n",
        "\n",
        "Using the **Flexible Model** enables us to approximate the real relationship by a more complex regression model and therefore to reduce the bias. The **Flexible Model** increases the range of potential shapes of the estimated regression function. In general, flexible models often deliver higher prediction accuracy but are harder to interpret."
      ]
    },
    {
      "cell_type": "markdown",
      "source": [
        "In R, the models are given by:"
      ],
      "metadata": {
        "id": "HbVUC0f629Zx"
      }
    },
    {
      "cell_type": "code",
      "source": [
        "basic <- lwage ~ (sex + exp1 + shs + hsg + scl + clg + mw + so + we + occ2 + ind2) # basic model\n",
        "flex <- lwage ~ sex + (exp1 + exp2 + exp3 + exp4) * (shs + hsg + scl + clg + mw + so + we + occ2 + ind2) # flexible model"
      ],
      "metadata": {
        "id": "VmWuPhe828K_"
      },
      "execution_count": null,
      "outputs": []
    },
    {
      "cell_type": "markdown",
      "metadata": {
        "papermill": {
          "duration": 0.017782,
          "end_time": "2021-07-23T14:59:59.517358",
          "exception": false,
          "start_time": "2021-07-23T14:59:59.499576",
          "status": "completed"
        },
        "tags": [],
        "id": "vSDZ4i0m4Bog"
      },
      "source": [
        "**Exercise 4:** Fit both models to our data by running ordinary least squares (ols). *Hint: lm()*. How many covariates do we have in our basic model and flexible model, respectively?"
      ]
    },
    {
      "cell_type": "markdown",
      "metadata": {
        "papermill": {
          "duration": 0.01983,
          "end_time": "2021-07-23T15:00:06.779753",
          "exception": false,
          "start_time": "2021-07-23T15:00:06.759923",
          "status": "completed"
        },
        "tags": [],
        "id": "H792MbCn4Bok"
      },
      "source": [
        "#### Evaluating the predictive performance of the basic and flexible models\n",
        "\n"
      ]
    },
    {
      "cell_type": "markdown",
      "source": [
        "**Exercise 5:** Now, evaluate the performance of both models based on the $R^2_{sample}$ and the $MSE_{sample}$. Which model performs better?"
      ],
      "metadata": {
        "id": "GaGwe8CI_9T6"
      }
    },
    {
      "cell_type": "markdown",
      "metadata": {
        "papermill": {
          "duration": 0.023472,
          "end_time": "2021-07-23T15:00:07.145938",
          "exception": false,
          "start_time": "2021-07-23T15:00:07.122466",
          "status": "completed"
        },
        "tags": [],
        "id": "O-kZDbZY4Bop"
      },
      "source": [
        "## Data Splitting\n",
        "\n",
        "Next, we would like to apply **data splitting** as a more general procedure to deal with potential overfitting if $p/n$ is not small.\n",
        "\n",
        "**Exercise 6:** Measure the prediction quality of the two models via data splitting:\n",
        "\n",
        "- Randomly split the data into one training sample and one testing sample. Here use a simple method (stratified splitting is a more sophisticated version of splitting that we might consider). *Hint: sample()*\n",
        "- Use the training sample to estimate the parameters of the Basic Model and the Flexible Model.\n",
        "- Use the testing sample for evaluation. Predict the (log) $\\mathtt{wage}$  of every observation in the testing sample based on the estimated parameters in the training sample.\n",
        "- Calculate the Mean Squared Prediction Error $MSE_{test}$ based on the testing sample for both prediction models."
      ]
    }
  ],
  "metadata": {
    "kernelspec": {
      "display_name": "R",
      "language": "R",
      "name": "ir"
    },
    "language_info": {
      "codemirror_mode": "r",
      "file_extension": ".r",
      "mimetype": "text/x-r-source",
      "name": "R",
      "pygments_lexer": "r",
      "version": "3.6.3"
    },
    "papermill": {
      "default_parameters": {},
      "duration": 14.54918,
      "end_time": "2021-07-23T15:00:10.002798",
      "environment_variables": {},
      "exception": null,
      "input_path": "__notebook__.ipynb",
      "output_path": "__notebook__.ipynb",
      "parameters": {},
      "start_time": "2021-07-23T14:59:55.453618",
      "version": "2.2.2"
    },
    "colab": {
      "provenance": []
    }
  },
  "nbformat": 4,
  "nbformat_minor": 0
}