{
  "cells": [
    {
      "cell_type": "markdown",
      "source": [
        "First, load the packages:"
      ],
      "metadata": {
        "id": "2ZCujfvcIl9J"
      }
    },
    {
      "cell_type": "code",
      "source": [
        "install.packages(c(\"xtable\",\"sandwich\"))"
      ],
      "metadata": {
        "colab": {
          "base_uri": "https://localhost:8080/"
        },
        "id": "ubbxx6ypFNa5",
        "outputId": "23161a5c-548b-46dd-dcad-dc0ad2759888"
      },
      "execution_count": null,
      "outputs": [
        {
          "output_type": "stream",
          "name": "stderr",
          "text": [
            "Installing packages into ‘/usr/local/lib/R/site-library’\n",
            "(as ‘lib’ is unspecified)\n",
            "\n",
            "also installing the dependency ‘zoo’\n",
            "\n",
            "\n"
          ]
        }
      ]
    },
    {
      "cell_type": "markdown",
      "metadata": {
        "papermill": {
          "duration": 0.012579,
          "end_time": "2022-03-02T09:35:20.231044",
          "exception": false,
          "start_time": "2022-03-02T09:35:20.218465",
          "status": "completed"
        },
        "tags": [],
        "id": "G_CnFUck77Wv"
      },
      "source": [
        "# An inferential problem: The Gender Wage Gap"
      ]
    },
    {
      "cell_type": "markdown",
      "metadata": {
        "papermill": {
          "duration": 0.012543,
          "end_time": "2022-03-02T09:35:20.256142",
          "exception": false,
          "start_time": "2022-03-02T09:35:20.243599",
          "status": "completed"
        },
        "tags": [],
        "id": "7q86EmTD77Ww"
      },
      "source": [
        "In the previous lab, we already analyzed data from the March Supplement of the U.S. Current Population Survey (2015) and answered the question how to use job-relevant characteristics, such as education and experience, to best predict wages. Now, we focus on the following inference question:\n",
        "\n",
        "What is the difference in predicted wages between men and women with the same job-relevant characteristics?\n",
        "\n",
        "Thus, we analyze if there is a difference in the payment of men and women (*gender wage gap*). The gender wage gap may partly reflect *discrimination* against women in the labor market or may partly reflect a *selection effect*, namely that women are relatively more likely to take on occupations that pay somewhat less (for example, school teaching)."
      ]
    },
    {
      "cell_type": "markdown",
      "metadata": {
        "papermill": {
          "duration": 0.01248,
          "end_time": "2022-03-02T09:35:20.281091",
          "exception": false,
          "start_time": "2022-03-02T09:35:20.268611",
          "status": "completed"
        },
        "tags": [],
        "id": "h1aPYtkO77Wx"
      },
      "source": [
        "To investigate the gender wage gap, we consider the following log-linear regression model\n",
        "\n",
        "\\begin{align}\n",
        "\\log(Y) &= \\beta'X + \\epsilon\\\\\n",
        "&= \\beta_1 D  + \\beta_2' W + \\epsilon,\n",
        "\\end{align}\n",
        "\n",
        "where $D$ is the indicator of being female ($1$ if female and $0$ otherwise) and the\n",
        "$W$'s are controls explaining variation in wages. Considering transformed wages by the logarithm, we are analyzing the relative difference in the payment of men and women."
      ]
    },
    {
      "cell_type": "markdown",
      "metadata": {
        "papermill": {
          "duration": 0.012323,
          "end_time": "2022-03-02T09:35:20.305975",
          "exception": false,
          "start_time": "2022-03-02T09:35:20.293652",
          "status": "completed"
        },
        "tags": [],
        "id": "o8bt0jeI77Wy"
      },
      "source": [
        "## Data analysis"
      ]
    },
    {
      "cell_type": "markdown",
      "metadata": {
        "papermill": {
          "duration": 0.012416,
          "end_time": "2022-03-02T09:35:20.330757",
          "exception": false,
          "start_time": "2022-03-02T09:35:20.318341",
          "status": "completed"
        },
        "tags": [],
        "id": "SQQwspOW77Wz"
      },
      "source": [
        "We consider the same subsample of the U.S. Current Population Survey (2015) as in the previous lab. Load the data set:"
      ]
    },
    {
      "cell_type": "code",
      "execution_count": null,
      "metadata": {
        "execution": {
          "iopub.execute_input": "2022-03-02T09:35:20.385091Z",
          "iopub.status.busy": "2022-03-02T09:35:20.383148Z",
          "iopub.status.idle": "2022-03-02T09:35:20.566320Z",
          "shell.execute_reply": "2022-03-02T09:35:20.565326Z"
        },
        "papermill": {
          "duration": 0.223465,
          "end_time": "2022-03-02T09:35:20.566515",
          "exception": false,
          "start_time": "2022-03-02T09:35:20.343050",
          "status": "completed"
        },
        "tags": [],
        "colab": {
          "base_uri": "https://localhost:8080/",
          "height": 297
        },
        "id": "3mdLEnWr77W0",
        "outputId": "7dae9f90-e1dc-4636-e1d6-03221405372d"
      },
      "outputs": [
        {
          "output_type": "stream",
          "name": "stderr",
          "text": [
            "Warning message in readChar(con, 5L, useBytes = TRUE):\n",
            "“cannot open compressed file '/content/wage2015_subsample_inference.rdata', probable reason 'No such file or directory'”\n"
          ]
        },
        {
          "output_type": "error",
          "ename": "ERROR",
          "evalue": "Error in readChar(con, 5L, useBytes = TRUE): cannot open the connection\n",
          "traceback": [
            "Error in readChar(con, 5L, useBytes = TRUE): cannot open the connection\nTraceback:\n",
            "1. readChar(con, 5L, useBytes = TRUE)",
            "2. .handleSimpleError(function (cnd) \n . {\n .     watcher$capture_plot_and_output()\n .     cnd <- sanitize_call(cnd)\n .     watcher$push(cnd)\n .     switch(on_error, continue = invokeRestart(\"eval_continue\"), \n .         stop = invokeRestart(\"eval_stop\"), error = NULL)\n . }, \"cannot open the connection\", base::quote(readChar(con, 5L, \n .     useBytes = TRUE)))"
          ]
        }
      ],
      "source": [
        "load(\"/content/wage2015_subsample_inference.rdata\")\n",
        "attach(data)\n",
        "dim(data)"
      ]
    },
    {
      "cell_type": "markdown",
      "metadata": {
        "papermill": {
          "duration": 0.013076,
          "end_time": "2022-03-02T09:35:20.593873",
          "exception": false,
          "start_time": "2022-03-02T09:35:20.580797",
          "status": "completed"
        },
        "tags": [],
        "id": "zE7YNDXv77W5"
      },
      "source": [
        "**Exercise 1:** To start our (causal) analysis, compare the sample means given gender. To do this, calculate the mean of (log) wage for men and women separately and take the difference. What is the unconditional gender wage gap?"
      ]
    },
    {
      "cell_type": "markdown",
      "metadata": {
        "papermill": {
          "duration": 0.014614,
          "end_time": "2022-03-02T09:35:20.938331",
          "exception": false,
          "start_time": "2022-03-02T09:35:20.923717",
          "status": "completed"
        },
        "tags": [],
        "id": "6-8kS0i477XA"
      },
      "source": [
        "**Exercise 2:** Verify by running an ols regression that the calculated unconditional (predictive) effect of gender equals the coefficient $\\beta$ in the univariate ols regression of $Y$ on $D$:\n",
        "\n",
        "\\begin{align}\n",
        "\\log(Y) &=\\beta D + \\epsilon.\n",
        "\\end{align}"
      ]
    },
    {
      "cell_type": "markdown",
      "metadata": {
        "papermill": {
          "duration": 0.014545,
          "end_time": "2022-03-02T09:35:21.253419",
          "exception": false,
          "start_time": "2022-03-02T09:35:21.238874",
          "status": "completed"
        },
        "tags": [],
        "id": "jmSnIvUY77XC"
      },
      "source": [
        "**Exercise 3:** Next, run an ols regression of $Y$ on $(D,W)$ to control for the effect of covariates summarized in $W$:\n",
        "\n",
        "\\begin{align}\n",
        "\\log(Y) &=\\beta_1 D  + \\beta_2' W + \\epsilon.\n",
        "\\end{align}\n",
        "\n",
        "Here, consider the flexible model from the previous lab. Hence, $W$ controls for experience, education, region, and occupation and industry indicators plus transformations and two-way interactions:"
      ]
    },
    {
      "cell_type": "code",
      "source": [
        "flex <- lwage ~ sex + (exp1+exp2+exp3+exp4)*(shs+hsg+scl+clg+occ2+ind2+mw+so+we)"
      ],
      "metadata": {
        "id": "3wuY3UK_KRsF"
      },
      "execution_count": null,
      "outputs": []
    },
    {
      "cell_type": "markdown",
      "source": [
        "What is the predictive effect (PE)?"
      ],
      "metadata": {
        "id": "dd9AiwPXKdMq"
      }
    },
    {
      "cell_type": "markdown",
      "metadata": {
        "papermill": {
          "duration": 0.027506,
          "end_time": "2022-03-02T09:35:22.064393",
          "exception": false,
          "start_time": "2022-03-02T09:35:22.036887",
          "status": "completed"
        },
        "tags": [],
        "id": "hHsJNhjK77XD"
      },
      "source": [
        "**Exercise 4:** Next, we use the Frisch-Waugh-Lovell theorem from the lecture to partial-out the linear effect of the controls via ols. Compare your estimated effect with the coefficient from the regression above."
      ]
    }
  ],
  "metadata": {
    "kernelspec": {
      "display_name": "R",
      "language": "R",
      "name": "ir"
    },
    "language_info": {
      "codemirror_mode": "r",
      "file_extension": ".r",
      "mimetype": "text/x-r-source",
      "name": "R",
      "pygments_lexer": "r",
      "version": "3.6.3"
    },
    "papermill": {
      "default_parameters": {},
      "duration": 9.376743,
      "end_time": "2022-03-02T09:35:26.644242",
      "environment_variables": {},
      "exception": null,
      "input_path": "__notebook__.ipynb",
      "output_path": "__notebook__.ipynb",
      "parameters": {},
      "start_time": "2022-03-02T09:35:17.267499",
      "version": "2.2.2"
    },
    "colab": {
      "provenance": []
    }
  },
  "nbformat": 4,
  "nbformat_minor": 0
}