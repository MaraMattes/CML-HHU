{
  "cells": [
    {
      "cell_type": "markdown",
      "source": [
        "Please first install the required packages:"
      ],
      "metadata": {
        "id": "1J21IPrJNpDK"
      }
    },
    {
      "cell_type": "code",
      "source": [
        "install.packages(c(\"xtable\"))"
      ],
      "metadata": {
        "colab": {
          "base_uri": "https://localhost:8080/"
        },
        "id": "HEuLelUu5oV-",
        "outputId": "7265af6b-6803-4bb9-d656-2d2da140c68c"
      },
      "execution_count": null,
      "outputs": [
        {
          "output_type": "stream",
          "name": "stderr",
          "text": [
            "Installing package into ‘/usr/local/lib/R/site-library’\n",
            "(as ‘lib’ is unspecified)\n",
            "\n"
          ]
        }
      ]
    },
    {
      "cell_type": "markdown",
      "metadata": {
        "papermill": {
          "duration": 0.016306,
          "end_time": "2021-07-23T14:59:58.483263",
          "exception": false,
          "start_time": "2021-07-23T14:59:58.466957",
          "status": "completed"
        },
        "tags": [],
        "id": "qOpd9StK4BoJ"
      },
      "source": [
        "## Introduction"
      ]
    },
    {
      "cell_type": "markdown",
      "metadata": {
        "papermill": {
          "duration": 0.015957,
          "end_time": "2021-07-23T14:59:58.515118",
          "exception": false,
          "start_time": "2021-07-23T14:59:58.499161",
          "status": "completed"
        },
        "tags": [],
        "id": "zYPet_eB4BoL"
      },
      "source": [
        "An important question in labour economics is what determines the wage of workers. This is a causal question, but we can begin to investigate it from a predictive perspective.\n",
        "\n",
        "In the following wage example, $Y$ is the hourly wage of a worker and $X$ is a vector of worker's characteristics, e.g., education, experience, gender. Two main questions here are:\n",
        "\n",
        "* How can we use job-relevant characteristics, such as education and experience, to best predict wages?\n",
        "\n",
        "* What is the difference in predicted wages between men and women with the same job-relevant characteristics?\n",
        "\n",
        "In this lab, we focus on the prediction question first."
      ]
    },
    {
      "cell_type": "markdown",
      "metadata": {
        "papermill": {
          "duration": 0.015966,
          "end_time": "2021-07-23T14:59:58.547057",
          "exception": false,
          "start_time": "2021-07-23T14:59:58.531091",
          "status": "completed"
        },
        "tags": [],
        "id": "kOjk_jzD4BoM"
      },
      "source": [
        "## Data\n"
      ]
    },
    {
      "cell_type": "markdown",
      "metadata": {
        "papermill": {
          "duration": 0.016792,
          "end_time": "2021-07-23T14:59:58.579904",
          "exception": false,
          "start_time": "2021-07-23T14:59:58.563112",
          "status": "completed"
        },
        "tags": [],
        "id": "6-S1sW1Z4BoO"
      },
      "source": [
        "The data set we consider is from the 2015 March Supplement of the U.S. Current Population Survey.  We select white non-hispanic individuals, aged 25 to 64 years, and working more than 35 hours per week for at least 50 weeks of the year. We exclude self-employed workers; individuals living in group quarters; individuals in the military, agricultural or private household sectors;  individuals with inconsistent reports on earnings and employment status; individuals with allocated or missing information in any of the variables used in the analysis; and individuals with hourly wage below $3$.\n",
        "\n",
        "The variable of interest $Y$ (or $\\log(Y)$) is the hourly wage rate constructed as the ratio of the annual earnings to the total number of hours worked, which is constructed in turn as the product of number of weeks worked and the usual number of hours worked per week. In our analysis, we also focus on single (never married) workers."
      ]
    },
    {
      "cell_type": "markdown",
      "metadata": {
        "papermill": {
          "duration": 0.016095,
          "end_time": "2021-07-23T14:59:58.611758",
          "exception": false,
          "start_time": "2021-07-23T14:59:58.595663",
          "status": "completed"
        },
        "tags": [],
        "id": "uov9j05U4BoP"
      },
      "source": [
        "## Data analysis"
      ]
    },
    {
      "cell_type": "markdown",
      "source": [
        "**Exercise 1:** Load the data set. To do this upload the file \"wage2015_subsample_inference.Rdata\" which you can find on ILIAS and run the following code:"
      ],
      "metadata": {
        "id": "h-1UNBGjOSim"
      }
    },
    {
      "cell_type": "code",
      "execution_count": null,
      "metadata": {
        "execution": {
          "iopub.execute_input": "2021-07-23T14:59:58.707816Z",
          "iopub.status.busy": "2021-07-23T14:59:58.705440Z",
          "iopub.status.idle": "2021-07-23T14:59:58.881634Z",
          "shell.execute_reply": "2021-07-23T14:59:58.880652Z"
        },
        "papermill": {
          "duration": 0.220945,
          "end_time": "2021-07-23T14:59:58.881830",
          "exception": false,
          "start_time": "2021-07-23T14:59:58.660885",
          "status": "completed"
        },
        "tags": [],
        "id": "8ITZjK034BoS",
        "outputId": "01fca0a2-1788-466e-8b6b-e9f7a3087cd0",
        "colab": {
          "base_uri": "https://localhost:8080/",
          "height": 286
        }
      },
      "outputs": [
        {
          "output_type": "display_data",
          "data": {
            "text/html": [
              "<table class=\"dataframe\">\n",
              "<caption>A data.frame: 6 × 20</caption>\n",
              "<thead>\n",
              "\t<tr><th></th><th scope=col>wage</th><th scope=col>lwage</th><th scope=col>sex</th><th scope=col>shs</th><th scope=col>hsg</th><th scope=col>scl</th><th scope=col>clg</th><th scope=col>ad</th><th scope=col>mw</th><th scope=col>so</th><th scope=col>we</th><th scope=col>ne</th><th scope=col>exp1</th><th scope=col>exp2</th><th scope=col>exp3</th><th scope=col>exp4</th><th scope=col>occ</th><th scope=col>occ2</th><th scope=col>ind</th><th scope=col>ind2</th></tr>\n",
              "\t<tr><th></th><th scope=col>&lt;dbl&gt;</th><th scope=col>&lt;dbl&gt;</th><th scope=col>&lt;dbl&gt;</th><th scope=col>&lt;dbl&gt;</th><th scope=col>&lt;dbl&gt;</th><th scope=col>&lt;dbl&gt;</th><th scope=col>&lt;dbl&gt;</th><th scope=col>&lt;dbl&gt;</th><th scope=col>&lt;dbl&gt;</th><th scope=col>&lt;dbl&gt;</th><th scope=col>&lt;dbl&gt;</th><th scope=col>&lt;dbl&gt;</th><th scope=col>&lt;dbl&gt;</th><th scope=col>&lt;dbl&gt;</th><th scope=col>&lt;dbl&gt;</th><th scope=col>&lt;dbl&gt;</th><th scope=col>&lt;fct&gt;</th><th scope=col>&lt;fct&gt;</th><th scope=col>&lt;fct&gt;</th><th scope=col>&lt;fct&gt;</th></tr>\n",
              "</thead>\n",
              "<tbody>\n",
              "\t<tr><th scope=row>10</th><td> 9.615385</td><td>2.263364</td><td>1</td><td>0</td><td>0</td><td>0</td><td>1</td><td>0</td><td>0</td><td>0</td><td>0</td><td>1</td><td> 7</td><td>0.49</td><td> 0.343</td><td> 0.2401</td><td>3600</td><td>11</td><td>8370</td><td>18</td></tr>\n",
              "\t<tr><th scope=row>12</th><td>48.076923</td><td>3.872802</td><td>0</td><td>0</td><td>0</td><td>0</td><td>1</td><td>0</td><td>0</td><td>0</td><td>0</td><td>1</td><td>31</td><td>9.61</td><td>29.791</td><td>92.3521</td><td>3050</td><td>10</td><td>5070</td><td>9 </td></tr>\n",
              "\t<tr><th scope=row>15</th><td>11.057692</td><td>2.403126</td><td>0</td><td>0</td><td>1</td><td>0</td><td>0</td><td>0</td><td>0</td><td>0</td><td>0</td><td>1</td><td>18</td><td>3.24</td><td> 5.832</td><td>10.4976</td><td>6260</td><td>19</td><td>770 </td><td>4 </td></tr>\n",
              "\t<tr><th scope=row>18</th><td>13.942308</td><td>2.634928</td><td>1</td><td>0</td><td>0</td><td>0</td><td>0</td><td>1</td><td>0</td><td>0</td><td>0</td><td>1</td><td>25</td><td>6.25</td><td>15.625</td><td>39.0625</td><td>420 </td><td>1 </td><td>6990</td><td>12</td></tr>\n",
              "\t<tr><th scope=row>19</th><td>28.846154</td><td>3.361977</td><td>1</td><td>0</td><td>0</td><td>0</td><td>1</td><td>0</td><td>0</td><td>0</td><td>0</td><td>1</td><td>22</td><td>4.84</td><td>10.648</td><td>23.4256</td><td>2015</td><td>6 </td><td>9470</td><td>22</td></tr>\n",
              "\t<tr><th scope=row>30</th><td>11.730769</td><td>2.462215</td><td>1</td><td>0</td><td>0</td><td>0</td><td>1</td><td>0</td><td>0</td><td>0</td><td>0</td><td>1</td><td> 1</td><td>0.01</td><td> 0.001</td><td> 0.0001</td><td>1650</td><td>5 </td><td>7460</td><td>14</td></tr>\n",
              "</tbody>\n",
              "</table>\n"
            ],
            "text/markdown": "\nA data.frame: 6 × 20\n\n| <!--/--> | wage &lt;dbl&gt; | lwage &lt;dbl&gt; | sex &lt;dbl&gt; | shs &lt;dbl&gt; | hsg &lt;dbl&gt; | scl &lt;dbl&gt; | clg &lt;dbl&gt; | ad &lt;dbl&gt; | mw &lt;dbl&gt; | so &lt;dbl&gt; | we &lt;dbl&gt; | ne &lt;dbl&gt; | exp1 &lt;dbl&gt; | exp2 &lt;dbl&gt; | exp3 &lt;dbl&gt; | exp4 &lt;dbl&gt; | occ &lt;fct&gt; | occ2 &lt;fct&gt; | ind &lt;fct&gt; | ind2 &lt;fct&gt; |\n|---|---|---|---|---|---|---|---|---|---|---|---|---|---|---|---|---|---|---|---|---|\n| 10 |  9.615385 | 2.263364 | 1 | 0 | 0 | 0 | 1 | 0 | 0 | 0 | 0 | 1 |  7 | 0.49 |  0.343 |  0.2401 | 3600 | 11 | 8370 | 18 |\n| 12 | 48.076923 | 3.872802 | 0 | 0 | 0 | 0 | 1 | 0 | 0 | 0 | 0 | 1 | 31 | 9.61 | 29.791 | 92.3521 | 3050 | 10 | 5070 | 9  |\n| 15 | 11.057692 | 2.403126 | 0 | 0 | 1 | 0 | 0 | 0 | 0 | 0 | 0 | 1 | 18 | 3.24 |  5.832 | 10.4976 | 6260 | 19 | 770  | 4  |\n| 18 | 13.942308 | 2.634928 | 1 | 0 | 0 | 0 | 0 | 1 | 0 | 0 | 0 | 1 | 25 | 6.25 | 15.625 | 39.0625 | 420  | 1  | 6990 | 12 |\n| 19 | 28.846154 | 3.361977 | 1 | 0 | 0 | 0 | 1 | 0 | 0 | 0 | 0 | 1 | 22 | 4.84 | 10.648 | 23.4256 | 2015 | 6  | 9470 | 22 |\n| 30 | 11.730769 | 2.462215 | 1 | 0 | 0 | 0 | 1 | 0 | 0 | 0 | 0 | 1 |  1 | 0.01 |  0.001 |  0.0001 | 1650 | 5  | 7460 | 14 |\n\n",
            "text/latex": "A data.frame: 6 × 20\n\\begin{tabular}{r|llllllllllllllllllll}\n  & wage & lwage & sex & shs & hsg & scl & clg & ad & mw & so & we & ne & exp1 & exp2 & exp3 & exp4 & occ & occ2 & ind & ind2\\\\\n  & <dbl> & <dbl> & <dbl> & <dbl> & <dbl> & <dbl> & <dbl> & <dbl> & <dbl> & <dbl> & <dbl> & <dbl> & <dbl> & <dbl> & <dbl> & <dbl> & <fct> & <fct> & <fct> & <fct>\\\\\n\\hline\n\t10 &  9.615385 & 2.263364 & 1 & 0 & 0 & 0 & 1 & 0 & 0 & 0 & 0 & 1 &  7 & 0.49 &  0.343 &  0.2401 & 3600 & 11 & 8370 & 18\\\\\n\t12 & 48.076923 & 3.872802 & 0 & 0 & 0 & 0 & 1 & 0 & 0 & 0 & 0 & 1 & 31 & 9.61 & 29.791 & 92.3521 & 3050 & 10 & 5070 & 9 \\\\\n\t15 & 11.057692 & 2.403126 & 0 & 0 & 1 & 0 & 0 & 0 & 0 & 0 & 0 & 1 & 18 & 3.24 &  5.832 & 10.4976 & 6260 & 19 & 770  & 4 \\\\\n\t18 & 13.942308 & 2.634928 & 1 & 0 & 0 & 0 & 0 & 1 & 0 & 0 & 0 & 1 & 25 & 6.25 & 15.625 & 39.0625 & 420  & 1  & 6990 & 12\\\\\n\t19 & 28.846154 & 3.361977 & 1 & 0 & 0 & 0 & 1 & 0 & 0 & 0 & 0 & 1 & 22 & 4.84 & 10.648 & 23.4256 & 2015 & 6  & 9470 & 22\\\\\n\t30 & 11.730769 & 2.462215 & 1 & 0 & 0 & 0 & 1 & 0 & 0 & 0 & 0 & 1 &  1 & 0.01 &  0.001 &  0.0001 & 1650 & 5  & 7460 & 14\\\\\n\\end{tabular}\n",
            "text/plain": [
              "   wage      lwage    sex shs hsg scl clg ad mw so we ne exp1 exp2 exp3  \n",
              "10  9.615385 2.263364 1   0   0   0   1   0  0  0  0  1   7   0.49  0.343\n",
              "12 48.076923 3.872802 0   0   0   0   1   0  0  0  0  1  31   9.61 29.791\n",
              "15 11.057692 2.403126 0   0   1   0   0   0  0  0  0  1  18   3.24  5.832\n",
              "18 13.942308 2.634928 1   0   0   0   0   1  0  0  0  1  25   6.25 15.625\n",
              "19 28.846154 3.361977 1   0   0   0   1   0  0  0  0  1  22   4.84 10.648\n",
              "30 11.730769 2.462215 1   0   0   0   1   0  0  0  0  1   1   0.01  0.001\n",
              "   exp4    occ  occ2 ind  ind2\n",
              "10  0.2401 3600 11   8370 18  \n",
              "12 92.3521 3050 10   5070 9   \n",
              "15 10.4976 6260 19   770  4   \n",
              "18 39.0625 420  1    6990 12  \n",
              "19 23.4256 2015 6    9470 22  \n",
              "30  0.0001 1650 5    7460 14  "
            ]
          },
          "metadata": {}
        }
      ],
      "source": [
        "load(\"/content/wage2015_subsample_inference.rdata\")\n",
        "head(data)"
      ]
    },
    {
      "cell_type": "markdown",
      "metadata": {
        "papermill": {
          "duration": 0.016423,
          "end_time": "2021-07-23T14:59:58.914953",
          "exception": false,
          "start_time": "2021-07-23T14:59:58.898530",
          "status": "completed"
        },
        "tags": [],
        "id": "g3En2iML4BoW"
      },
      "source": [
        "**Exercise 2:** Let's have a look at the structure of the data. How many observations do we have? What is the mean hourly wage? What are the names of the covariates? Also provide the sample mean of the covariates. What is the share of female workers in our sample?"
      ]
    },
    {
      "cell_type": "code",
      "execution_count": null,
      "metadata": {
        "execution": {
          "iopub.execute_input": "2021-07-23T14:59:58.977863Z",
          "iopub.status.busy": "2021-07-23T14:59:58.951371Z",
          "iopub.status.idle": "2021-07-23T14:59:59.005140Z",
          "shell.execute_reply": "2021-07-23T14:59:59.003911Z"
        },
        "papermill": {
          "duration": 0.074051,
          "end_time": "2021-07-23T14:59:59.005312",
          "exception": false,
          "start_time": "2021-07-23T14:59:58.931261",
          "status": "completed"
        },
        "tags": [],
        "id": "0CA4NHKw4BoY",
        "outputId": "b66a4107-7260-4c56-f57c-f6cb10b2a999",
        "colab": {
          "base_uri": "https://localhost:8080/",
          "height": 399
        }
      },
      "outputs": [
        {
          "output_type": "stream",
          "name": "stdout",
          "text": [
            "'data.frame':\t5150 obs. of  20 variables:\n",
            " $ wage : num  9.62 48.08 11.06 13.94 28.85 ...\n",
            " $ lwage: num  2.26 3.87 2.4 2.63 3.36 ...\n",
            " $ sex  : num  1 0 0 1 1 1 1 0 1 1 ...\n",
            " $ shs  : num  0 0 0 0 0 0 0 0 0 0 ...\n",
            " $ hsg  : num  0 0 1 0 0 0 1 1 1 0 ...\n",
            " $ scl  : num  0 0 0 0 0 0 0 0 0 0 ...\n",
            " $ clg  : num  1 1 0 0 1 1 0 0 0 1 ...\n",
            " $ ad   : num  0 0 0 1 0 0 0 0 0 0 ...\n",
            " $ mw   : num  0 0 0 0 0 0 0 0 0 0 ...\n",
            " $ so   : num  0 0 0 0 0 0 0 0 0 0 ...\n",
            " $ we   : num  0 0 0 0 0 0 0 0 0 0 ...\n",
            " $ ne   : num  1 1 1 1 1 1 1 1 1 1 ...\n",
            " $ exp1 : num  7 31 18 25 22 1 42 37 31 4 ...\n",
            " $ exp2 : num  0.49 9.61 3.24 6.25 4.84 ...\n",
            " $ exp3 : num  0.343 29.791 5.832 15.625 10.648 ...\n",
            " $ exp4 : num  0.24 92.35 10.5 39.06 23.43 ...\n",
            " $ occ  : Factor w/ 369 levels \"10\",\"20\",\"40\",..: 159 136 269 23 99 86 226 232 184 146 ...\n",
            " $ occ2 : Factor w/ 22 levels \"1\",\"2\",\"3\",\"4\",..: 11 10 19 1 6 5 17 17 13 10 ...\n",
            " $ ind  : Factor w/ 236 levels \"370\",\"380\",\"390\",..: 204 117 12 165 231 176 171 135 210 201 ...\n",
            " $ ind2 : Factor w/ 21 levels \"2\",\"3\",\"4\",\"5\",..: 17 8 3 11 21 13 13 8 18 17 ...\n"
          ]
        },
        {
          "output_type": "display_data",
          "data": {
            "text/html": [
              "23.4104100378812"
            ],
            "text/markdown": "23.4104100378812",
            "text/latex": "23.4104100378812",
            "text/plain": [
              "[1] 23.41041"
            ]
          },
          "metadata": {}
        }
      ],
      "source": [
        "str(data)\n",
        "mean(data$wage)"
      ]
    },
    {
      "cell_type": "code",
      "source": [
        "dim(data)"
      ],
      "metadata": {
        "colab": {
          "base_uri": "https://localhost:8080/",
          "height": 34
        },
        "id": "4zmQvgGmxvmx",
        "outputId": "186fbe7e-e4c9-4fdf-bd22-4d2e58727e2d"
      },
      "execution_count": null,
      "outputs": [
        {
          "output_type": "display_data",
          "data": {
            "text/html": [
              "<style>\n",
              ".list-inline {list-style: none; margin:0; padding: 0}\n",
              ".list-inline>li {display: inline-block}\n",
              ".list-inline>li:not(:last-child)::after {content: \"\\00b7\"; padding: 0 .5ex}\n",
              "</style>\n",
              "<ol class=list-inline><li>5150</li><li>20</li></ol>\n"
            ],
            "text/markdown": "1. 5150\n2. 20\n\n\n",
            "text/latex": "\\begin{enumerate*}\n\\item 5150\n\\item 20\n\\end{enumerate*}\n",
            "text/plain": [
              "[1] 5150   20"
            ]
          },
          "metadata": {}
        }
      ]
    },
    {
      "cell_type": "markdown",
      "metadata": {
        "papermill": {
          "duration": 0.017332,
          "end_time": "2021-07-23T14:59:59.142251",
          "exception": false,
          "start_time": "2021-07-23T14:59:59.124919",
          "status": "completed"
        },
        "tags": [],
        "id": "7eZmpgFW4Bob"
      },
      "source": [
        "For the outcome variable *wage* and a subset of the raw regressors, we calculate the empirical mean to get familiar with the data."
      ]
    },
    {
      "cell_type": "code",
      "execution_count": null,
      "metadata": {
        "execution": {
          "iopub.execute_input": "2021-07-23T14:59:59.183644Z",
          "iopub.status.busy": "2021-07-23T14:59:59.182407Z",
          "iopub.status.idle": "2021-07-23T14:59:59.243397Z",
          "shell.execute_reply": "2021-07-23T14:59:59.237480Z"
        },
        "papermill": {
          "duration": 0.083171,
          "end_time": "2021-07-23T14:59:59.243602",
          "exception": false,
          "start_time": "2021-07-23T14:59:59.160431",
          "status": "completed"
        },
        "tags": [],
        "id": "nUp73JVG4Boc",
        "outputId": "b3b9941f-366a-4a03-d015-d083595f1470",
        "colab": {
          "base_uri": "https://localhost:8080/",
          "height": 474
        }
      },
      "outputs": [
        {
          "output_type": "display_data",
          "data": {
            "text/html": [
              "<table class=\"dataframe\">\n",
              "<caption>A xtable: 12 × 1</caption>\n",
              "<thead>\n",
              "\t<tr><th></th><th scope=col>Sample mean</th></tr>\n",
              "\t<tr><th></th><th scope=col>&lt;dbl&gt;</th></tr>\n",
              "</thead>\n",
              "<tbody>\n",
              "\t<tr><th scope=row>Log Wage</th><td> 2.97078670</td></tr>\n",
              "\t<tr><th scope=row>Sex</th><td> 0.44446602</td></tr>\n",
              "\t<tr><th scope=row>Some High School</th><td> 0.02330097</td></tr>\n",
              "\t<tr><th scope=row>High School Graduate</th><td> 0.24388350</td></tr>\n",
              "\t<tr><th scope=row>Some College</th><td> 0.27805825</td></tr>\n",
              "\t<tr><th scope=row>College Graduate</th><td> 0.31766990</td></tr>\n",
              "\t<tr><th scope=row>Advanced Degree</th><td> 0.13708738</td></tr>\n",
              "\t<tr><th scope=row>Midwest</th><td> 0.25961165</td></tr>\n",
              "\t<tr><th scope=row>South</th><td> 0.29650485</td></tr>\n",
              "\t<tr><th scope=row>West</th><td> 0.21611650</td></tr>\n",
              "\t<tr><th scope=row>Northeast</th><td> 0.22776699</td></tr>\n",
              "\t<tr><th scope=row>Experience</th><td>13.76058252</td></tr>\n",
              "</tbody>\n",
              "</table>\n"
            ],
            "text/markdown": "\nA xtable: 12 × 1\n\n| <!--/--> | Sample mean &lt;dbl&gt; |\n|---|---|\n| Log Wage |  2.97078670 |\n| Sex |  0.44446602 |\n| Some High School |  0.02330097 |\n| High School Graduate |  0.24388350 |\n| Some College |  0.27805825 |\n| College Graduate |  0.31766990 |\n| Advanced Degree |  0.13708738 |\n| Midwest |  0.25961165 |\n| South |  0.29650485 |\n| West |  0.21611650 |\n| Northeast |  0.22776699 |\n| Experience | 13.76058252 |\n\n",
            "text/latex": "A xtable: 12 × 1\n\\begin{tabular}{r|l}\n  & Sample mean\\\\\n  & <dbl>\\\\\n\\hline\n\tLog Wage &  2.97078670\\\\\n\tSex &  0.44446602\\\\\n\tSome High School &  0.02330097\\\\\n\tHigh School Graduate &  0.24388350\\\\\n\tSome College &  0.27805825\\\\\n\tCollege Graduate &  0.31766990\\\\\n\tAdvanced Degree &  0.13708738\\\\\n\tMidwest &  0.25961165\\\\\n\tSouth &  0.29650485\\\\\n\tWest &  0.21611650\\\\\n\tNortheast &  0.22776699\\\\\n\tExperience & 13.76058252\\\\\n\\end{tabular}\n",
            "text/plain": [
              "                     Sample mean\n",
              "Log Wage              2.97078670\n",
              "Sex                   0.44446602\n",
              "Some High School      0.02330097\n",
              "High School Graduate  0.24388350\n",
              "Some College          0.27805825\n",
              "College Graduate      0.31766990\n",
              "Advanced Degree       0.13708738\n",
              "Midwest               0.25961165\n",
              "South                 0.29650485\n",
              "West                  0.21611650\n",
              "Northeast             0.22776699\n",
              "Experience           13.76058252"
            ]
          },
          "metadata": {}
        }
      ],
      "source": [
        "# generate a table of means of variables\n",
        "library(xtable)\n",
        "Z_subset <- data[which(colnames(data) %in% c(\"lwage\",\"sex\",\"shs\",\"hsg\",\"scl\",\"clg\",\"ad\",\"mw\",\"so\",\"we\",\"ne\",\"exp1\"))]\n",
        "table <- matrix(0, 12, 1)\n",
        "table[1:12,1]   <- as.numeric(lapply(Z_subset,mean))\n",
        "rownames(table) <- c(\"Log Wage\",\"Sex\",\"Some High School\",\"High School Graduate\",\"Some College\",\"College Graduate\", \"Advanced Degree\",\"Midwest\",\"South\",\"West\",\"Northeast\",\"Experience\")\n",
        "colnames(table) <- c(\"Sample mean\")\n",
        "tab<- xtable(table, digits = 2)\n",
        "tab"
      ]
    },
    {
      "cell_type": "markdown",
      "metadata": {
        "papermill": {
          "duration": 0.01778,
          "end_time": "2021-07-23T14:59:59.279303",
          "exception": false,
          "start_time": "2021-07-23T14:59:59.261523",
          "status": "completed"
        },
        "tags": [],
        "id": "7qNfvlNf4Bod"
      },
      "source": [
        "E.g., the share of female workers in our sample is ~44% ($sex=1$ if female)."
      ]
    },
    {
      "cell_type": "markdown",
      "source": [
        "**Exercise 3:** Construct tht output variable $\\log(Y)$ and the covariate matrix $Z$ which includes the characteristics of workers that are given in the data."
      ],
      "metadata": {
        "id": "FM0nX3yvycs_"
      }
    },
    {
      "cell_type": "code",
      "execution_count": null,
      "metadata": {
        "execution": {
          "iopub.execute_input": "2021-07-23T14:59:59.084949Z",
          "iopub.status.busy": "2021-07-23T14:59:59.083625Z",
          "iopub.status.idle": "2021-07-23T14:59:59.106589Z",
          "shell.execute_reply": "2021-07-23T14:59:59.105634Z"
        },
        "papermill": {
          "duration": 0.04779,
          "end_time": "2021-07-23T14:59:59.106741",
          "exception": false,
          "start_time": "2021-07-23T14:59:59.058951",
          "status": "completed"
        },
        "tags": [],
        "id": "_W0Y0L2q4Boa",
        "outputId": "961e4400-e6b6-4078-c2a5-cdaaf8e1f58f",
        "colab": {
          "base_uri": "https://localhost:8080/"
        }
      },
      "outputs": [
        {
          "output_type": "stream",
          "name": "stdout",
          "text": [
            "Number of observations: 5150 \n",
            "Number of raw regressors: 18"
          ]
        }
      ],
      "source": [
        "# construct matrices for estimation from the data\n",
        "Y <- log(data$wage)\n",
        "n <- length(Y)\n",
        "Z <- data[-which(colnames(data) %in% c(\"wage\",\"lwage\"))]\n",
        "p <- dim(Z)[2]\n",
        "\n",
        "cat(\"Number of observations:\", n, '\\n')\n",
        "cat( \"Number of raw regressors:\", p)"
      ]
    },
    {
      "cell_type": "markdown",
      "metadata": {
        "papermill": {
          "duration": 0.017915,
          "end_time": "2021-07-23T14:59:59.409851",
          "exception": false,
          "start_time": "2021-07-23T14:59:59.391936",
          "status": "completed"
        },
        "tags": [],
        "id": "GkKDB_sE4Boe"
      },
      "source": [
        "## Prediction Question"
      ]
    },
    {
      "cell_type": "markdown",
      "metadata": {
        "papermill": {
          "duration": 0.01766,
          "end_time": "2021-07-23T14:59:59.445528",
          "exception": false,
          "start_time": "2021-07-23T14:59:59.427868",
          "status": "completed"
        },
        "tags": [],
        "id": "uO4ZB5yd4Bof"
      },
      "source": [
        "Now, we will construct a prediction rule for the logarithm of hourly wage $\\log(Y)$, which depends linearly on job-relevant characteristics $X$ (log-linear model):\n",
        "\n",
        "\\begin{equation}\n",
        "\\log(Y) = \\beta'X+ \\epsilon.\n",
        "\\end{equation}"
      ]
    },
    {
      "cell_type": "markdown",
      "metadata": {
        "papermill": {
          "duration": 0.017819,
          "end_time": "2021-07-23T14:59:59.481315",
          "exception": false,
          "start_time": "2021-07-23T14:59:59.463496",
          "status": "completed"
        },
        "tags": [],
        "id": "VyIHH9Cl4Bof"
      },
      "source": [
        "Our goals are\n",
        "\n",
        "* Predict wages using various characteristics of workers.\n",
        "\n",
        "* Assess the predictive performance of a given model using the (adjusted) sample MSE, the (adjusted) sample $R^2$ and the out-of-sample MSE and $R^2$.\n",
        "\n",
        "\n",
        "We employ two different specifications for prediction:\n",
        "\n",
        "\n",
        "1. Basic Model:   $X$ consists of a set of raw regressors (e.g. gender, experience, education indicators,  occupation and industry indicators and regional indicators).\n",
        "\n",
        "\n",
        "2. Flexible Model:  $X$ consists of all raw regressors from the basic model plus a dictionary of transformations (e.g., ${exp}^2$ and ${exp}^3$) and additional two-way interactions of a polynomial in experience with other regressors. An example of a regressor created through a two-way interaction is *experience* times the indicator of having a *college degree*.\n",
        "\n",
        "Using the **Flexible Model** enables us to approximate the real relationship by a more complex regression model and therefore to reduce the bias. The **Flexible Model** increases the range of potential shapes of the estimated regression function. In general, flexible models often deliver higher prediction accuracy but are harder to interpret."
      ]
    },
    {
      "cell_type": "markdown",
      "source": [
        "In R, the models are given by:"
      ],
      "metadata": {
        "id": "HbVUC0f629Zx"
      }
    },
    {
      "cell_type": "code",
      "source": [
        "basic <- lwage ~ (sex + exp1 + shs + hsg + scl + clg + mw + so + we + occ2 + ind2) # basic model\n",
        "flex <- lwage ~ sex + (exp1 + exp2 + exp3 + exp4) * (shs + hsg + scl + clg + mw + so + we + occ2 + ind2) # flexible model"
      ],
      "metadata": {
        "id": "VmWuPhe828K_"
      },
      "execution_count": null,
      "outputs": []
    },
    {
      "cell_type": "markdown",
      "metadata": {
        "papermill": {
          "duration": 0.017782,
          "end_time": "2021-07-23T14:59:59.517358",
          "exception": false,
          "start_time": "2021-07-23T14:59:59.499576",
          "status": "completed"
        },
        "tags": [],
        "id": "vSDZ4i0m4Bog"
      },
      "source": [
        "**Exercise 4:** Fit both models to our data by running ordinary least squares (ols). *Hint: lm()*. How many covariates do we have in our basic model and flexible model, respectively?"
      ]
    },
    {
      "cell_type": "code",
      "execution_count": null,
      "metadata": {
        "execution": {
          "iopub.execute_input": "2021-07-23T14:59:59.557766Z",
          "iopub.status.busy": "2021-07-23T14:59:59.556489Z",
          "iopub.status.idle": "2021-07-23T14:59:59.599035Z",
          "shell.execute_reply": "2021-07-23T14:59:59.598038Z"
        },
        "papermill": {
          "duration": 0.064264,
          "end_time": "2021-07-23T14:59:59.599253",
          "exception": false,
          "start_time": "2021-07-23T14:59:59.534989",
          "status": "completed"
        },
        "tags": [],
        "id": "Q48Qqjgw4Boh",
        "outputId": "2d8ac1cf-7201-4982-f3d3-fafb20b7068d",
        "colab": {
          "base_uri": "https://localhost:8080/",
          "height": 434
        }
      },
      "outputs": [
        {
          "output_type": "display_data",
          "data": {
            "text/plain": [
              "\n",
              "Call:\n",
              "lm(formula = basic, data = data)\n",
              "\n",
              "Coefficients:\n",
              "(Intercept)          sex         exp1          shs          hsg          scl  \n",
              "   3.722235    -0.072857     0.008568    -0.592798    -0.504337    -0.411994  \n",
              "        clg           mw           so           we        occ22        occ23  \n",
              "  -0.182216    -0.027541    -0.034454     0.017249    -0.076472    -0.034678  \n",
              "      occ24        occ25        occ26        occ27        occ28        occ29  \n",
              "  -0.096202    -0.187915    -0.414933    -0.045987    -0.377847    -0.215752  \n",
              "     occ210       occ211       occ212       occ213       occ214       occ215  \n",
              "  -0.010623    -0.455834    -0.307589    -0.361440    -0.499495    -0.464482  \n",
              "     occ216       occ217       occ218       occ219       occ220       occ221  \n",
              "  -0.233715    -0.412588    -0.340418    -0.241480    -0.212628    -0.288413  \n",
              "     occ222        ind23        ind24        ind25        ind26        ind27  \n",
              "  -0.422394    -0.116836    -0.244493    -0.273533    -0.249368    -0.139588  \n",
              "      ind28        ind29       ind210       ind211       ind212       ind213  \n",
              "  -0.242948    -0.387485    -0.193851    -0.169063    -0.077436    -0.172604  \n",
              "     ind214       ind215       ind216       ind217       ind218       ind219  \n",
              "  -0.187005    -0.325364    -0.315399    -0.304405    -0.335386    -0.374121  \n",
              "     ind220       ind221       ind222  \n",
              "  -0.551932    -0.316679    -0.118971  \n"
            ]
          },
          "metadata": {}
        },
        {
          "output_type": "stream",
          "name": "stdout",
          "text": [
            "Number of regressors in the basic model: 51 \n"
          ]
        }
      ],
      "source": [
        "# 1. basic model\n",
        "basic <- lwage ~ (sex + exp1 + shs + hsg + scl + clg + mw + so + we + occ2 + ind2)\n",
        "regbasic <- lm(basic, data=data) # perform ols using the defined model\n",
        "regbasic # estimated coefficients\n",
        "cat( \"Number of regressors in the basic model:\",length(regbasic$coef), '\\n') # number of regressors in the Basic Model"
      ]
    },
    {
      "cell_type": "markdown",
      "metadata": {
        "papermill": {
          "duration": 0.018627,
          "end_time": "2021-07-23T14:59:59.637372",
          "exception": false,
          "start_time": "2021-07-23T14:59:59.618745",
          "status": "completed"
        },
        "tags": [],
        "id": "KDw9kNmm4Boh"
      },
      "source": [
        "##### Note that the basic model consists of $51$ regressors."
      ]
    },
    {
      "cell_type": "code",
      "execution_count": null,
      "metadata": {
        "execution": {
          "iopub.execute_input": "2021-07-23T14:59:59.679830Z",
          "iopub.status.busy": "2021-07-23T14:59:59.678658Z",
          "iopub.status.idle": "2021-07-23T14:59:59.849593Z",
          "shell.execute_reply": "2021-07-23T14:59:59.848388Z"
        },
        "papermill": {
          "duration": 0.193677,
          "end_time": "2021-07-23T14:59:59.849747",
          "exception": false,
          "start_time": "2021-07-23T14:59:59.656070",
          "status": "completed"
        },
        "tags": [],
        "id": "HVIKdBF54Boi",
        "colab": {
          "base_uri": "https://localhost:8080/",
          "height": 1000
        },
        "outputId": "cf2ee1c4-f7ea-4715-b284-24e6fe7a9622"
      },
      "outputs": [
        {
          "output_type": "display_data",
          "data": {
            "text/plain": [
              "\n",
              "Call:\n",
              "lm(formula = flex, data = data)\n",
              "\n",
              "Coefficients:\n",
              "(Intercept)          sex         exp1         exp2         exp3         exp4  \n",
              "  3.8602606   -0.0695532   -0.0677247    1.6362944   -0.9154735    0.1429357  \n",
              "        shs          hsg          scl          clg           mw           so  \n",
              " -0.1233089   -0.5289024   -0.2920581   -0.0411641    0.1106834    0.0224244  \n",
              "         we        occ22        occ23        occ24        occ25        occ26  \n",
              " -0.0215659    0.1613397    0.2101514    0.0708570   -0.3960076   -0.2310611  \n",
              "      occ27        occ28        occ29       occ210       occ211       occ212  \n",
              "  0.3147249   -0.1875417   -0.3390270    0.0209545   -0.6424177   -0.0674774  \n",
              "     occ213       occ214       occ215       occ216       occ217       occ218  \n",
              " -0.2329781    0.2562009   -0.1938585   -0.0551256   -0.4156093   -0.4822168  \n",
              "     occ219       occ220       occ221       occ222        ind23        ind24  \n",
              " -0.2579412   -0.3010203   -0.4271811   -0.8694527   -1.2473654   -0.0948281  \n",
              "      ind25        ind26        ind27        ind28        ind29       ind210  \n",
              " -0.5293860   -0.6221688   -0.5047497   -0.7295442   -0.8025334   -0.5805840  \n",
              "     ind211       ind212       ind213       ind214       ind215       ind216  \n",
              " -0.9852350   -0.7375777   -1.0183283   -0.5860174   -0.3801359   -0.5703905  \n",
              "     ind217       ind218       ind219       ind220       ind221       ind222  \n",
              " -0.8201843   -0.7613604   -0.8812815   -0.9099021   -0.7586534   -0.4040775  \n",
              "   exp1:shs     exp1:hsg     exp1:scl     exp1:clg      exp1:mw      exp1:so  \n",
              " -0.1919981   -0.0173433   -0.0664505   -0.0550346   -0.0279931   -0.0099678  \n",
              "    exp1:we   exp1:occ22   exp1:occ23   exp1:occ24   exp1:occ25   exp1:occ26  \n",
              "  0.0063077   -0.0736239   -0.0714859   -0.0723997    0.0946732   -0.0348928  \n",
              " exp1:occ27   exp1:occ28   exp1:occ29  exp1:occ210  exp1:occ211  exp1:occ212  \n",
              " -0.2279338   -0.0727459    0.0274143    0.0075628    0.1014221   -0.0862744  \n",
              "exp1:occ213  exp1:occ214  exp1:occ215  exp1:occ216  exp1:occ217  exp1:occ218  \n",
              "  0.0067149   -0.1369153   -0.0400425   -0.0539314    0.0147277    0.1074099  \n",
              "exp1:occ219  exp1:occ220  exp1:occ221  exp1:occ222   exp1:ind23   exp1:ind24  \n",
              "  0.0047165    0.0243156    0.0791776    0.1093246    0.4758891    0.0147304  \n",
              " exp1:ind25   exp1:ind26   exp1:ind27   exp1:ind28   exp1:ind29  exp1:ind210  \n",
              "  0.1256987    0.1540275    0.1029245    0.2357669    0.1359079    0.1512578  \n",
              "exp1:ind211  exp1:ind212  exp1:ind213  exp1:ind214  exp1:ind215  exp1:ind216  \n",
              "  0.3174885    0.2591089    0.3396094    0.1441411   -0.0568181    0.0847295  \n",
              "exp1:ind217  exp1:ind218  exp1:ind219  exp1:ind220  exp1:ind221  exp1:ind222  \n",
              "  0.1728867    0.1565399    0.1516103    0.1326629    0.2190905    0.1145814  \n",
              "   exp2:shs     exp2:hsg     exp2:scl     exp2:clg      exp2:mw      exp2:so  \n",
              "  1.9005060    0.1171642    0.6217923    0.4096746    0.2005611    0.0544354  \n",
              "    exp2:we   exp2:occ22   exp2:occ23   exp2:occ24   exp2:occ25   exp2:occ26  \n",
              "  0.0012717    0.6632173    0.6415456    0.9748422   -0.9778823    0.1050860  \n",
              " exp2:occ27   exp2:occ28   exp2:occ29  exp2:occ210  exp2:occ211  exp2:occ212  \n",
              "  3.1407119    0.6710877    0.0231977   -0.2692292   -1.0816539    0.8323737  \n",
              "exp2:occ213  exp2:occ214  exp2:occ215  exp2:occ216  exp2:occ217  exp2:occ218  \n",
              " -0.2209813    0.7511163   -0.0326858    0.3635814   -0.2659285   -2.5608762  \n",
              "exp2:occ219  exp2:occ220  exp2:occ221  exp2:occ222   exp2:ind23   exp2:ind24  \n",
              " -0.1291756   -0.3323297   -0.9099997   -0.8550536   -5.9368948   -1.1053411  \n",
              " exp2:ind25   exp2:ind26   exp2:ind27   exp2:ind28   exp2:ind29  exp2:ind210  \n",
              " -2.0149181   -2.2277748   -1.4648099   -2.9479949   -1.7796219   -2.1973300  \n",
              "exp2:ind211  exp2:ind212  exp2:ind213  exp2:ind214  exp2:ind215  exp2:ind216  \n",
              " -3.8776807   -3.1690425   -3.9651983   -2.0783289    0.1911692   -1.3265850  \n",
              "exp2:ind217  exp2:ind218  exp2:ind219  exp2:ind220  exp2:ind221  exp2:ind222  \n",
              " -2.2002873   -2.2006232   -1.9308536   -1.9467267   -3.1127363   -1.8578340  \n",
              "   exp3:shs     exp3:hsg     exp3:scl     exp3:clg      exp3:mw      exp3:so  \n",
              " -0.6721239   -0.0179937   -0.1997877   -0.1025230   -0.0625771   -0.0115842  \n",
              "    exp3:we   exp3:occ22   exp3:occ23   exp3:occ24   exp3:occ25   exp3:occ26  \n",
              " -0.0124875   -0.2039403   -0.2369620   -0.4366958    0.3885298    0.0484737  \n",
              " exp3:occ27   exp3:occ28   exp3:occ29  exp3:occ210  exp3:occ211  exp3:occ212  \n",
              " -1.3949288   -0.2053899   -0.0909660    0.1854753    0.3931553   -0.2202559  \n",
              "exp3:occ213  exp3:occ214  exp3:occ215  exp3:occ216  exp3:occ217  exp3:occ218  \n",
              "  0.0950356   -0.1443933    0.1477077   -0.0378548    0.1510497    1.4084443  \n",
              "exp3:occ219  exp3:occ220  exp3:occ221  exp3:occ222   exp3:ind23   exp3:ind24  \n",
              "  0.0923425    0.1806994    0.3779083    0.2855058    2.6665808    0.7298431  \n",
              " exp3:ind25   exp3:ind26   exp3:ind27   exp3:ind28   exp3:ind29  exp3:ind210  \n",
              "  0.9942250    1.0641428    0.7089089    1.2340948    0.8287315    1.0448162  \n",
              "exp3:ind211  exp3:ind212  exp3:ind213  exp3:ind214  exp3:ind215  exp3:ind216  \n",
              "  1.6877578    1.3734455    1.6376669    1.0162910    0.1879483    0.6889680  \n",
              "exp3:ind217  exp3:ind218  exp3:ind219  exp3:ind220  exp3:ind221  exp3:ind222  \n",
              "  1.0085540    1.0605598    0.8959865    0.9768944    1.4415215    0.9687884  \n",
              "   exp4:shs     exp4:hsg     exp4:scl     exp4:clg      exp4:mw      exp4:so  \n",
              "  0.0777418    0.0004913    0.0210760    0.0078695    0.0062439    0.0003145  \n",
              "    exp4:we   exp4:occ22   exp4:occ23   exp4:occ24   exp4:occ25   exp4:occ26  \n",
              "  0.0017685    0.0176389    0.0303057    0.0584146   -0.0515181   -0.0170182  \n",
              " exp4:occ27   exp4:occ28   exp4:occ29  exp4:occ210  exp4:occ211  exp4:occ212  \n",
              "  0.1905353    0.0196522    0.0190014   -0.0333347   -0.0465914    0.0110212  \n",
              "exp4:occ213  exp4:occ214  exp4:occ215  exp4:occ216  exp4:occ217  exp4:occ218  \n",
              " -0.0136895    0.0055582   -0.0327444   -0.0089706   -0.0256735   -0.2121372  \n",
              "exp4:occ219  exp4:occ220  exp4:occ221  exp4:occ222   exp4:ind23   exp4:ind24  \n",
              " -0.0169398   -0.0296125   -0.0524577   -0.0350646   -0.3851791   -0.1209478  \n",
              " exp4:ind25   exp4:ind26   exp4:ind27   exp4:ind28   exp4:ind29  exp4:ind210  \n",
              " -0.1441045   -0.1526110   -0.1001993   -0.1609664   -0.1178080   -0.1482842  \n",
              "exp4:ind211  exp4:ind212  exp4:ind213  exp4:ind214  exp4:ind215  exp4:ind216  \n",
              " -0.2322961   -0.1872911   -0.2155617   -0.1483524   -0.0532195   -0.1044336  \n",
              "exp4:ind217  exp4:ind218  exp4:ind219  exp4:ind220  exp4:ind221  exp4:ind222  \n",
              " -0.1427349   -0.1546248   -0.1269592   -0.1468554   -0.2032619   -0.1480951  \n"
            ]
          },
          "metadata": {}
        },
        {
          "output_type": "stream",
          "name": "stdout",
          "text": [
            "Number of regressors in the flexible model: 246"
          ]
        }
      ],
      "source": [
        "# 2. flexible model\n",
        "flex <- lwage ~ sex + (exp1 + exp2 + exp3 + exp4) * (shs + hsg + scl + clg + mw + so + we + occ2 + ind2)\n",
        "regflex <- lm(flex, data=data)\n",
        "regflex # estimated coefficients\n",
        "cat( \"Number of regressors in the flexible model:\",length(regflex$coef)) # number of regressors in the Flexible Model"
      ]
    },
    {
      "cell_type": "markdown",
      "metadata": {
        "papermill": {
          "duration": 0.019689,
          "end_time": "2021-07-23T14:59:59.889169",
          "exception": false,
          "start_time": "2021-07-23T14:59:59.869480",
          "status": "completed"
        },
        "tags": [],
        "id": "a7UvMQC34Boj"
      },
      "source": [
        "##### Note that the flexible model consists of $246$ regressors."
      ]
    },
    {
      "cell_type": "markdown",
      "metadata": {
        "papermill": {
          "duration": 0.01983,
          "end_time": "2021-07-23T15:00:06.779753",
          "exception": false,
          "start_time": "2021-07-23T15:00:06.759923",
          "status": "completed"
        },
        "tags": [],
        "id": "H792MbCn4Bok"
      },
      "source": [
        "#### Evaluating the predictive performance of the basic and flexible models\n",
        "\n",
        "**Exercise 5:** Now, evaluate the performance of both models based on the $R^2_{sample}$ and the $MSE_{sample}$. Which model performs better?"
      ]
    },
    {
      "cell_type": "code",
      "execution_count": null,
      "metadata": {
        "execution": {
          "iopub.execute_input": "2021-07-23T15:00:06.824713Z",
          "iopub.status.busy": "2021-07-23T15:00:06.823062Z",
          "iopub.status.idle": "2021-07-23T15:00:06.947620Z",
          "shell.execute_reply": "2021-07-23T15:00:06.945658Z"
        },
        "papermill": {
          "duration": 0.148355,
          "end_time": "2021-07-23T15:00:06.947844",
          "exception": false,
          "start_time": "2021-07-23T15:00:06.799489",
          "status": "completed"
        },
        "tags": [],
        "id": "toHd2jPc4Bol",
        "outputId": "8d626bec-ba23-4b5a-bb79-8cfaef5340a3",
        "colab": {
          "base_uri": "https://localhost:8080/"
        }
      },
      "outputs": [
        {
          "output_type": "stream",
          "name": "stdout",
          "text": [
            "R-squared for the basic model:  0.3100465 \n",
            "R-squared for the flexible model:  0.3511099 \n",
            "MSE for the basic model:  0.2244251 \n",
            "MSE for the flexible model:  0.2110681 \n"
          ]
        }
      ],
      "source": [
        "# Assess predictive performance\n",
        "sumbasic <- summary(regbasic)\n",
        "sumflex <- summary(regflex)\n",
        "\n",
        "# R-squared\n",
        "R2.1 <- sumbasic$r.squared\n",
        "cat(\"R-squared for the basic model: \", R2.1, \"\\n\")\n",
        "p1 <- dim(sumbasic$coefficients)[1]\n",
        "\n",
        "R2.2 <- sumflex$r.squared\n",
        "cat(\"R-squared for the flexible model: \", R2.2, \"\\n\")\n",
        "p2 <- dim(sumflex$coefficients)[1]\n",
        "\n",
        "\n",
        "# MSE and adjusted MSE\n",
        "MSE1 <- mean(sumbasic$res^2)\n",
        "cat(\"MSE for the basic model: \", MSE1, \"\\n\")\n",
        "\n",
        "\n",
        "MSE2 <-mean(sumflex$res^2)\n",
        "cat(\"MSE for the flexible model: \", MSE2, \"\\n\")"
      ]
    },
    {
      "cell_type": "code",
      "execution_count": null,
      "metadata": {
        "execution": {
          "iopub.execute_input": "2021-07-23T15:00:07.013595Z",
          "iopub.status.busy": "2021-07-23T15:00:07.011893Z",
          "iopub.status.idle": "2021-07-23T15:00:07.050787Z",
          "shell.execute_reply": "2021-07-23T15:00:07.049461Z"
        },
        "papermill": {
          "duration": 0.065877,
          "end_time": "2021-07-23T15:00:07.050933",
          "exception": false,
          "start_time": "2021-07-23T15:00:06.985056",
          "status": "completed"
        },
        "tags": [],
        "id": "olqerG0r4Bon",
        "outputId": "64d9afce-a9f5-4107-cc54-3d995f554c80",
        "colab": {
          "base_uri": "https://localhost:8080/",
          "height": 160
        }
      },
      "outputs": [
        {
          "output_type": "display_data",
          "data": {
            "text/html": [
              "<table class=\"dataframe\">\n",
              "<caption>A xtable: 2 × 3</caption>\n",
              "<thead>\n",
              "\t<tr><th></th><th scope=col>p</th><th scope=col>R^2_{sample}</th><th scope=col>MSE_{sample}</th></tr>\n",
              "\t<tr><th></th><th scope=col>&lt;dbl&gt;</th><th scope=col>&lt;dbl&gt;</th><th scope=col>&lt;dbl&gt;</th></tr>\n",
              "</thead>\n",
              "<tbody>\n",
              "\t<tr><th scope=row>basic reg</th><td> 51</td><td>0.3100465</td><td>0.2244251</td></tr>\n",
              "\t<tr><th scope=row>flexible reg</th><td>246</td><td>0.3511099</td><td>0.2110681</td></tr>\n",
              "</tbody>\n",
              "</table>\n"
            ],
            "text/markdown": "\nA xtable: 2 × 3\n\n| <!--/--> | p &lt;dbl&gt; | R^2_{sample} &lt;dbl&gt; | MSE_{sample} &lt;dbl&gt; |\n|---|---|---|---|\n| basic reg |  51 | 0.3100465 | 0.2244251 |\n| flexible reg | 246 | 0.3511099 | 0.2110681 |\n\n",
            "text/latex": "A xtable: 2 × 3\n\\begin{tabular}{r|lll}\n  & p & R\\textasciicircum{}2\\_\\{sample\\} & MSE\\_\\{sample\\}\\\\\n  & <dbl> & <dbl> & <dbl>\\\\\n\\hline\n\tbasic reg &  51 & 0.3100465 & 0.2244251\\\\\n\tflexible reg & 246 & 0.3511099 & 0.2110681\\\\\n\\end{tabular}\n",
            "text/plain": [
              "             p   R^2_{sample} MSE_{sample}\n",
              "basic reg     51 0.3100465    0.2244251   \n",
              "flexible reg 246 0.3511099    0.2110681   "
            ]
          },
          "metadata": {}
        }
      ],
      "source": [
        "# Output the table\n",
        "library(xtable)\n",
        "table <- matrix(0, 2, 3)\n",
        "table[1,1:3] <- c(p1,R2.1,MSE1)\n",
        "table[2,1:3] <- c(p2,R2.2,MSE2)\n",
        "colnames(table) <- c(\"p\",\"R^2_{sample}\",\"MSE_{sample}\")\n",
        "rownames(table) <- c(\"basic reg\",\"flexible reg\")\n",
        "tab <- xtable(table, digits =c(0,0,2,2))\n",
        "tab"
      ]
    },
    {
      "cell_type": "markdown",
      "metadata": {
        "papermill": {
          "duration": 0.02361,
          "end_time": "2021-07-23T15:00:07.098626",
          "exception": false,
          "start_time": "2021-07-23T15:00:07.075016",
          "status": "completed"
        },
        "tags": [],
        "id": "M9Je5Emb4Boo"
      },
      "source": [
        "Considering the measures above, the flexible model performs slightly better than the basic model.\n",
        "\n"
      ]
    },
    {
      "cell_type": "markdown",
      "source": [
        "Next, we like to apply **data splitting** as a more general procedure to deal with potential overfitting if $p/n$ is not small. We illustrate the approach in the following."
      ],
      "metadata": {
        "id": "haTWU9M09eKM"
      }
    },
    {
      "cell_type": "markdown",
      "metadata": {
        "papermill": {
          "duration": 0.023472,
          "end_time": "2021-07-23T15:00:07.145938",
          "exception": false,
          "start_time": "2021-07-23T15:00:07.122466",
          "status": "completed"
        },
        "tags": [],
        "id": "O-kZDbZY4Bop"
      },
      "source": [
        "## Data Splitting\n",
        "\n",
        "**Exercise 6:** Measure the prediction quality of the two models via data splitting:\n",
        "\n",
        "- Randomly split the data into one training sample and one testing sample. Here use a simple method (stratified splitting is a more sophisticated version of splitting that we might consider).\n",
        "- Use the training sample to estimate the parameters of the Basic Model and the Flexible Model.\n",
        "- Use the testing sample for evaluation. Predict the (log) $\\mathtt{wage}$  of every observation in the testing sample based on the estimated parameters in the training sample.\n",
        "- Calculate the Mean Squared Prediction Error $MSE_{test}$ based on the testing sample for both prediction models."
      ]
    },
    {
      "cell_type": "code",
      "execution_count": null,
      "metadata": {
        "execution": {
          "iopub.execute_input": "2021-07-23T15:00:07.199081Z",
          "iopub.status.busy": "2021-07-23T15:00:07.197417Z",
          "iopub.status.idle": "2021-07-23T15:00:07.217841Z",
          "shell.execute_reply": "2021-07-23T15:00:07.216526Z"
        },
        "papermill": {
          "duration": 0.047973,
          "end_time": "2021-07-23T15:00:07.218018",
          "exception": false,
          "start_time": "2021-07-23T15:00:07.170045",
          "status": "completed"
        },
        "tags": [],
        "id": "uqRVO9un4Bop"
      },
      "outputs": [],
      "source": [
        "# splitting the data\n",
        "n = dim(data)[1]\n",
        "set.seed(123) # to make the results replicable (we will generate random numbers)\n",
        "random <- sample(1:n, floor(n*4/5))\n",
        "# draw (4/5)*n random numbers from 1 to n without replacing them\n",
        "train <- data[random,] # training sample\n",
        "test <- data[-random,] # testing sample"
      ]
    },
    {
      "cell_type": "code",
      "execution_count": null,
      "metadata": {
        "execution": {
          "iopub.execute_input": "2021-07-23T15:00:07.271920Z",
          "iopub.status.busy": "2021-07-23T15:00:07.270303Z",
          "iopub.status.idle": "2021-07-23T15:00:07.323576Z",
          "shell.execute_reply": "2021-07-23T15:00:07.319968Z"
        },
        "papermill": {
          "duration": 0.080989,
          "end_time": "2021-07-23T15:00:07.323825",
          "exception": false,
          "start_time": "2021-07-23T15:00:07.242836",
          "status": "completed"
        },
        "tags": [],
        "id": "ZN_bIOGR4Bop",
        "outputId": "250205ed-ec47-414d-f59f-bf5d0da3d9bc",
        "colab": {
          "base_uri": "https://localhost:8080/"
        }
      },
      "outputs": [
        {
          "output_type": "stream",
          "name": "stdout",
          "text": [
            "Test MSE for the basic model:  0.2448361  Test R2 for the basic model:  0.252464"
          ]
        }
      ],
      "source": [
        "# basic model\n",
        "# estimating the parameters in the training sample\n",
        "regbasic <- lm(basic, data=train)\n",
        "\n",
        "# calculating the out-of-sample MSE\n",
        "trainregbasic <- predict(regbasic, newdata=test)\n",
        "y.test <- log(test$wage)\n",
        "MSE.test1 <- sum((y.test-trainregbasic)^2)/length(y.test)\n",
        "R2.test1<- 1- MSE.test1/var(y.test)\n",
        "\n",
        "cat(\"Test MSE for the basic model: \", MSE.test1, \" \")\n",
        "\n",
        "cat(\"Test R2 for the basic model: \", R2.test1)"
      ]
    },
    {
      "cell_type": "markdown",
      "metadata": {
        "papermill": {
          "duration": 0.044297,
          "end_time": "2021-07-23T15:00:07.414091",
          "exception": false,
          "start_time": "2021-07-23T15:00:07.369794",
          "status": "completed"
        },
        "tags": [],
        "id": "V6EiX8_84Boq"
      },
      "source": [
        "In the basic model, the $MSE_{test}$ is quite close to the $MSE_{sample}$."
      ]
    },
    {
      "cell_type": "code",
      "execution_count": null,
      "metadata": {
        "execution": {
          "iopub.execute_input": "2021-07-23T15:00:07.468209Z",
          "iopub.status.busy": "2021-07-23T15:00:07.466530Z",
          "iopub.status.idle": "2021-07-23T15:00:07.606000Z",
          "shell.execute_reply": "2021-07-23T15:00:07.602099Z"
        },
        "papermill": {
          "duration": 0.167862,
          "end_time": "2021-07-23T15:00:07.606696",
          "exception": false,
          "start_time": "2021-07-23T15:00:07.438834",
          "status": "completed"
        },
        "tags": [],
        "id": "xC5Z2ar24Boq",
        "outputId": "d92074b9-f442-4b93-8f00-6559d38fac3c",
        "colab": {
          "base_uri": "https://localhost:8080/"
        }
      },
      "outputs": [
        {
          "output_type": "stream",
          "name": "stdout",
          "text": [
            "Test MSE for the flexible model:  0.2673409  Test R2 for the flexible model:  0.1837519"
          ]
        }
      ],
      "source": [
        "# flexible model\n",
        "# estimating the parameters\n",
        "options(warn=-1) # ignore warnings\n",
        "regflex <- lm(flex, data=train)\n",
        "\n",
        "# calculating the out-of-sample MSE\n",
        "trainregflex<- predict(regflex, newdata=test)\n",
        "y.test <- log(test$wage)\n",
        "MSE.test2 <- sum((y.test-trainregflex)^2)/length(y.test)\n",
        "R2.test2<- 1- MSE.test2/var(y.test)\n",
        "\n",
        "cat(\"Test MSE for the flexible model: \", MSE.test2, \" \")\n",
        "\n",
        "cat(\"Test R2 for the flexible model: \", R2.test2)"
      ]
    },
    {
      "cell_type": "markdown",
      "metadata": {
        "papermill": {
          "duration": 0.036787,
          "end_time": "2021-07-23T15:00:07.724721",
          "exception": false,
          "start_time": "2021-07-23T15:00:07.687934",
          "status": "completed"
        },
        "tags": [],
        "id": "JaupCwZj4Bor"
      },
      "source": [
        "In the flexible model too, the discrepancy between the $MSE_{test}$ and the $MSE_{sample}$ is not large."
      ]
    },
    {
      "cell_type": "markdown",
      "metadata": {
        "papermill": {
          "duration": 0.024374,
          "end_time": "2021-07-23T15:00:07.773814",
          "exception": false,
          "start_time": "2021-07-23T15:00:07.749440",
          "status": "completed"
        },
        "tags": [],
        "id": "zWwBPp4n4Bor"
      },
      "source": [
        "It is worth noticing that the $MSE_{test}$ varies across different data splits. Hence, it is a good idea to average the out-of-sample MSE over different data splits to get valid results.\n",
        "\n",
        "Nevertheless, we observe that, based on the out-of-sample $MSE$, the basic model using ols regression performs **about as well (or slightly better)** than the flexible model.\n"
      ]
    },
    {
      "cell_type": "markdown",
      "metadata": {
        "papermill": {
          "duration": 0.047069,
          "end_time": "2021-07-23T15:00:09.716244",
          "exception": false,
          "start_time": "2021-07-23T15:00:09.669175",
          "status": "completed"
        },
        "tags": [],
        "id": "MLOmHR2y4Bos"
      },
      "source": [
        "Finally, let us summarize the results:"
      ]
    },
    {
      "cell_type": "code",
      "execution_count": null,
      "metadata": {
        "execution": {
          "iopub.execute_input": "2021-07-23T15:00:09.771105Z",
          "iopub.status.busy": "2021-07-23T15:00:09.770030Z",
          "iopub.status.idle": "2021-07-23T15:00:09.800755Z",
          "shell.execute_reply": "2021-07-23T15:00:09.799615Z"
        },
        "papermill": {
          "duration": 0.059033,
          "end_time": "2021-07-23T15:00:09.800894",
          "exception": false,
          "start_time": "2021-07-23T15:00:09.741861",
          "status": "completed"
        },
        "tags": [],
        "id": "l9pB51Kb4Bos",
        "outputId": "2aba44af-2423-4902-f1aa-5e182e79e54b",
        "colab": {
          "base_uri": "https://localhost:8080/",
          "height": 160
        }
      },
      "outputs": [
        {
          "output_type": "display_data",
          "data": {
            "text/html": [
              "<table class=\"dataframe\">\n",
              "<caption>A xtable: 2 × 2</caption>\n",
              "<thead>\n",
              "\t<tr><th></th><th scope=col>MSE_{test}</th><th scope=col>R^2_{test}</th></tr>\n",
              "\t<tr><th></th><th scope=col>&lt;dbl&gt;</th><th scope=col>&lt;dbl&gt;</th></tr>\n",
              "</thead>\n",
              "<tbody>\n",
              "\t<tr><th scope=row>basic reg</th><td>0.2448361</td><td>0.2524640</td></tr>\n",
              "\t<tr><th scope=row>flexible reg</th><td>0.2673409</td><td>0.1837519</td></tr>\n",
              "</tbody>\n",
              "</table>\n"
            ],
            "text/markdown": "\nA xtable: 2 × 2\n\n| <!--/--> | MSE_{test} &lt;dbl&gt; | R^2_{test} &lt;dbl&gt; |\n|---|---|---|\n| basic reg | 0.2448361 | 0.2524640 |\n| flexible reg | 0.2673409 | 0.1837519 |\n\n",
            "text/latex": "A xtable: 2 × 2\n\\begin{tabular}{r|ll}\n  & MSE\\_\\{test\\} & R\\textasciicircum{}2\\_\\{test\\}\\\\\n  & <dbl> & <dbl>\\\\\n\\hline\n\tbasic reg & 0.2448361 & 0.2524640\\\\\n\tflexible reg & 0.2673409 & 0.1837519\\\\\n\\end{tabular}\n",
            "text/plain": [
              "             MSE_{test} R^2_{test}\n",
              "basic reg    0.2448361  0.2524640 \n",
              "flexible reg 0.2673409  0.1837519 "
            ]
          },
          "metadata": {}
        }
      ],
      "source": [
        "# Output the comparison table\n",
        "table2 <- matrix(0, 2,2)\n",
        "table2[1,1]   <- MSE.test1\n",
        "table2[2,1]   <- MSE.test2\n",
        "table2[1,2]   <- R2.test1\n",
        "table2[2,2]   <- R2.test2\n",
        "\n",
        "rownames(table2)<- c(\"basic reg\",\"flexible reg\")\n",
        "colnames(table2)<- c(\"MSE_{test}\", \"R^2_{test}\")\n",
        "tab2 <- xtable(table2, digits =3)\n",
        "#print(tab2,type=\"latex\") # set type=\"latex\" for printing table in LaTeX\n",
        "tab2"
      ]
    }
  ],
  "metadata": {
    "kernelspec": {
      "display_name": "R",
      "language": "R",
      "name": "ir"
    },
    "language_info": {
      "codemirror_mode": "r",
      "file_extension": ".r",
      "mimetype": "text/x-r-source",
      "name": "R",
      "pygments_lexer": "r",
      "version": "3.6.3"
    },
    "papermill": {
      "default_parameters": {},
      "duration": 14.54918,
      "end_time": "2021-07-23T15:00:10.002798",
      "environment_variables": {},
      "exception": null,
      "input_path": "__notebook__.ipynb",
      "output_path": "__notebook__.ipynb",
      "parameters": {},
      "start_time": "2021-07-23T14:59:55.453618",
      "version": "2.2.2"
    },
    "colab": {
      "provenance": []
    }
  },
  "nbformat": 4,
  "nbformat_minor": 0
}