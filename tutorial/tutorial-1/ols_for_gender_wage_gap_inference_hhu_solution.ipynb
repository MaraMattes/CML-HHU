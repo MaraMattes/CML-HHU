{
  "cells": [
    {
      "cell_type": "markdown",
      "source": [
        "First, load the packages:"
      ],
      "metadata": {
        "id": "2ZCujfvcIl9J"
      }
    },
    {
      "cell_type": "code",
      "source": [
        "install.packages(c(\"xtable\",\"sandwich\"))"
      ],
      "metadata": {
        "colab": {
          "base_uri": "https://localhost:8080/"
        },
        "id": "ubbxx6ypFNa5",
        "outputId": "99a0dcd4-62b4-44aa-bb95-d4fcc833a25f"
      },
      "execution_count": null,
      "outputs": [
        {
          "output_type": "stream",
          "name": "stderr",
          "text": [
            "Installing packages into ‘/usr/local/lib/R/site-library’\n",
            "(as ‘lib’ is unspecified)\n",
            "\n",
            "also installing the dependency ‘zoo’\n",
            "\n",
            "\n"
          ]
        }
      ]
    },
    {
      "cell_type": "markdown",
      "metadata": {
        "papermill": {
          "duration": 0.012579,
          "end_time": "2022-03-02T09:35:20.231044",
          "exception": false,
          "start_time": "2022-03-02T09:35:20.218465",
          "status": "completed"
        },
        "tags": [],
        "id": "G_CnFUck77Wv"
      },
      "source": [
        "# An inferential problem: The Gender Wage Gap"
      ]
    },
    {
      "cell_type": "markdown",
      "metadata": {
        "papermill": {
          "duration": 0.012543,
          "end_time": "2022-03-02T09:35:20.256142",
          "exception": false,
          "start_time": "2022-03-02T09:35:20.243599",
          "status": "completed"
        },
        "tags": [],
        "id": "7q86EmTD77Ww"
      },
      "source": [
        "In the previous lab, we already analyzed data from the March Supplement of the U.S. Current Population Survey (2015) and answered the question how to use job-relevant characteristics, such as education and experience, to best predict wages. Now, we focus on the following inference question:\n",
        "\n",
        "What is the difference in predicted wages between men and women with the same job-relevant characteristics?\n",
        "\n",
        "Thus, we analyze if there is a difference in the payment of men and women (*gender wage gap*). The gender wage gap may partly reflect *discrimination* against women in the labor market or may partly reflect a *selection effect*, namely that women are relatively more likely to take on occupations that pay somewhat less (for example, school teaching)."
      ]
    },
    {
      "cell_type": "markdown",
      "metadata": {
        "papermill": {
          "duration": 0.01248,
          "end_time": "2022-03-02T09:35:20.281091",
          "exception": false,
          "start_time": "2022-03-02T09:35:20.268611",
          "status": "completed"
        },
        "tags": [],
        "id": "h1aPYtkO77Wx"
      },
      "source": [
        "To investigate the gender wage gap, we consider the following log-linear regression model\n",
        "\n",
        "\\begin{align}\n",
        "\\log(Y) &= \\beta'X + \\epsilon\\\\\n",
        "&= \\beta_1 D  + \\beta_2' W + \\epsilon,\n",
        "\\end{align}\n",
        "\n",
        "where $D$ is the indicator of being female ($1$ if female and $0$ otherwise) and the\n",
        "$W$'s are controls explaining variation in wages. Considering transformed wages by the logarithm, we are analyzing the relative difference in the payment of men and women."
      ]
    },
    {
      "cell_type": "markdown",
      "metadata": {
        "papermill": {
          "duration": 0.012323,
          "end_time": "2022-03-02T09:35:20.305975",
          "exception": false,
          "start_time": "2022-03-02T09:35:20.293652",
          "status": "completed"
        },
        "tags": [],
        "id": "o8bt0jeI77Wy"
      },
      "source": [
        "## Data analysis"
      ]
    },
    {
      "cell_type": "markdown",
      "metadata": {
        "papermill": {
          "duration": 0.012416,
          "end_time": "2022-03-02T09:35:20.330757",
          "exception": false,
          "start_time": "2022-03-02T09:35:20.318341",
          "status": "completed"
        },
        "tags": [],
        "id": "SQQwspOW77Wz"
      },
      "source": [
        "We consider the same subsample of the U.S. Current Population Survey (2015) as in the previous lab. Load the data set:"
      ]
    },
    {
      "cell_type": "code",
      "execution_count": null,
      "metadata": {
        "execution": {
          "iopub.execute_input": "2022-03-02T09:35:20.385091Z",
          "iopub.status.busy": "2022-03-02T09:35:20.383148Z",
          "iopub.status.idle": "2022-03-02T09:35:20.566320Z",
          "shell.execute_reply": "2022-03-02T09:35:20.565326Z"
        },
        "papermill": {
          "duration": 0.223465,
          "end_time": "2022-03-02T09:35:20.566515",
          "exception": false,
          "start_time": "2022-03-02T09:35:20.343050",
          "status": "completed"
        },
        "tags": [],
        "colab": {
          "base_uri": "https://localhost:8080/",
          "height": 34
        },
        "id": "3mdLEnWr77W0",
        "outputId": "a8c5bab0-ccbe-468b-aa39-803f51f41294"
      },
      "outputs": [
        {
          "output_type": "display_data",
          "data": {
            "text/html": [
              "<style>\n",
              ".list-inline {list-style: none; margin:0; padding: 0}\n",
              ".list-inline>li {display: inline-block}\n",
              ".list-inline>li:not(:last-child)::after {content: \"\\00b7\"; padding: 0 .5ex}\n",
              "</style>\n",
              "<ol class=list-inline><li>5150</li><li>20</li></ol>\n"
            ],
            "text/markdown": "1. 5150\n2. 20\n\n\n",
            "text/latex": "\\begin{enumerate*}\n\\item 5150\n\\item 20\n\\end{enumerate*}\n",
            "text/plain": [
              "[1] 5150   20"
            ]
          },
          "metadata": {}
        }
      ],
      "source": [
        "load(\"/content/wage2015_subsample_inference.rdata\")\n",
        "attach(data)\n",
        "dim(data)"
      ]
    },
    {
      "cell_type": "markdown",
      "metadata": {
        "papermill": {
          "duration": 0.013076,
          "end_time": "2022-03-02T09:35:20.593873",
          "exception": false,
          "start_time": "2022-03-02T09:35:20.580797",
          "status": "completed"
        },
        "tags": [],
        "id": "zE7YNDXv77W5"
      },
      "source": [
        "**Exercise 1:** To start our (causal) analysis, compare the sample means given gender. To do this, calculate the mean of (log) wage for men and women separately and take the difference. What is the unconditional gender wage gap?"
      ]
    },
    {
      "cell_type": "code",
      "execution_count": null,
      "metadata": {
        "execution": {
          "iopub.execute_input": "2022-03-02T09:35:20.649384Z",
          "iopub.status.busy": "2022-03-02T09:35:20.623401Z",
          "iopub.status.idle": "2022-03-02T09:35:20.720239Z",
          "shell.execute_reply": "2022-03-02T09:35:20.718881Z"
        },
        "papermill": {
          "duration": 0.113465,
          "end_time": "2022-03-02T09:35:20.720386",
          "exception": false,
          "start_time": "2022-03-02T09:35:20.606921",
          "status": "completed"
        },
        "tags": [],
        "colab": {
          "base_uri": "https://localhost:8080/",
          "height": 474
        },
        "id": "T6al1RaR77W6",
        "outputId": "a1cd4fda-5577-45de-a50d-b46c30712a6e"
      },
      "outputs": [
        {
          "output_type": "display_data",
          "data": {
            "text/html": [
              "<table class=\"dataframe\">\n",
              "<caption>A xtable: 12 × 3</caption>\n",
              "<thead>\n",
              "\t<tr><th></th><th scope=col>All</th><th scope=col>Men</th><th scope=col>Women</th></tr>\n",
              "\t<tr><th></th><th scope=col>&lt;dbl&gt;</th><th scope=col>&lt;dbl&gt;</th><th scope=col>&lt;dbl&gt;</th></tr>\n",
              "</thead>\n",
              "<tbody>\n",
              "\t<tr><th scope=row>Log Wage</th><td> 2.97078670</td><td> 2.98782963</td><td> 2.94948490</td></tr>\n",
              "\t<tr><th scope=row>Sex</th><td> 0.44446602</td><td> 0.00000000</td><td> 1.00000000</td></tr>\n",
              "\t<tr><th scope=row>Less then High School</th><td> 0.02330097</td><td> 0.03180706</td><td> 0.01266929</td></tr>\n",
              "\t<tr><th scope=row>High School Graduate</th><td> 0.24388350</td><td> 0.29430269</td><td> 0.18086501</td></tr>\n",
              "\t<tr><th scope=row>Some College</th><td> 0.27805825</td><td> 0.27333100</td><td> 0.28396680</td></tr>\n",
              "\t<tr><th scope=row>Collage Graduate</th><td> 0.31766990</td><td> 0.29395316</td><td> 0.34731324</td></tr>\n",
              "\t<tr><th scope=row>Advanced Degree</th><td> 0.13708738</td><td> 0.10660608</td><td> 0.17518567</td></tr>\n",
              "\t<tr><th scope=row>Northeast</th><td> 0.25961165</td><td> 0.25900035</td><td> 0.26037571</td></tr>\n",
              "\t<tr><th scope=row>Midwest</th><td> 0.29650485</td><td> 0.29814750</td><td> 0.29445173</td></tr>\n",
              "\t<tr><th scope=row>South</th><td> 0.21611650</td><td> 0.22090178</td><td> 0.21013543</td></tr>\n",
              "\t<tr><th scope=row>West</th><td> 0.22776699</td><td> 0.22195037</td><td> 0.23503713</td></tr>\n",
              "\t<tr><th scope=row>Experience</th><td>13.76058252</td><td>13.78399161</td><td>13.73132372</td></tr>\n",
              "</tbody>\n",
              "</table>\n"
            ],
            "text/markdown": "\nA xtable: 12 × 3\n\n| <!--/--> | All &lt;dbl&gt; | Men &lt;dbl&gt; | Women &lt;dbl&gt; |\n|---|---|---|---|\n| Log Wage |  2.97078670 |  2.98782963 |  2.94948490 |\n| Sex |  0.44446602 |  0.00000000 |  1.00000000 |\n| Less then High School |  0.02330097 |  0.03180706 |  0.01266929 |\n| High School Graduate |  0.24388350 |  0.29430269 |  0.18086501 |\n| Some College |  0.27805825 |  0.27333100 |  0.28396680 |\n| Collage Graduate |  0.31766990 |  0.29395316 |  0.34731324 |\n| Advanced Degree |  0.13708738 |  0.10660608 |  0.17518567 |\n| Northeast |  0.25961165 |  0.25900035 |  0.26037571 |\n| Midwest |  0.29650485 |  0.29814750 |  0.29445173 |\n| South |  0.21611650 |  0.22090178 |  0.21013543 |\n| West |  0.22776699 |  0.22195037 |  0.23503713 |\n| Experience | 13.76058252 | 13.78399161 | 13.73132372 |\n\n",
            "text/latex": "A xtable: 12 × 3\n\\begin{tabular}{r|lll}\n  & All & Men & Women\\\\\n  & <dbl> & <dbl> & <dbl>\\\\\n\\hline\n\tLog Wage &  2.97078670 &  2.98782963 &  2.94948490\\\\\n\tSex &  0.44446602 &  0.00000000 &  1.00000000\\\\\n\tLess then High School &  0.02330097 &  0.03180706 &  0.01266929\\\\\n\tHigh School Graduate &  0.24388350 &  0.29430269 &  0.18086501\\\\\n\tSome College &  0.27805825 &  0.27333100 &  0.28396680\\\\\n\tCollage Graduate &  0.31766990 &  0.29395316 &  0.34731324\\\\\n\tAdvanced Degree &  0.13708738 &  0.10660608 &  0.17518567\\\\\n\tNortheast &  0.25961165 &  0.25900035 &  0.26037571\\\\\n\tMidwest &  0.29650485 &  0.29814750 &  0.29445173\\\\\n\tSouth &  0.21611650 &  0.22090178 &  0.21013543\\\\\n\tWest &  0.22776699 &  0.22195037 &  0.23503713\\\\\n\tExperience & 13.76058252 & 13.78399161 & 13.73132372\\\\\n\\end{tabular}\n",
            "text/plain": [
              "                      All         Men         Women      \n",
              "Log Wage               2.97078670  2.98782963  2.94948490\n",
              "Sex                    0.44446602  0.00000000  1.00000000\n",
              "Less then High School  0.02330097  0.03180706  0.01266929\n",
              "High School Graduate   0.24388350  0.29430269  0.18086501\n",
              "Some College           0.27805825  0.27333100  0.28396680\n",
              "Collage Graduate       0.31766990  0.29395316  0.34731324\n",
              "Advanced Degree        0.13708738  0.10660608  0.17518567\n",
              "Northeast              0.25961165  0.25900035  0.26037571\n",
              "Midwest                0.29650485  0.29814750  0.29445173\n",
              "South                  0.21611650  0.22090178  0.21013543\n",
              "West                   0.22776699  0.22195037  0.23503713\n",
              "Experience            13.76058252 13.78399161 13.73132372"
            ]
          },
          "metadata": {}
        }
      ],
      "source": [
        "library(xtable)\n",
        "\n",
        "Z <- data[which(colnames(data) %in% c(\"lwage\",\"sex\",\"shs\",\"hsg\",\"scl\",\"clg\",\"ad\",\"ne\",\"mw\",\"so\",\"we\",\"exp1\"))]\n",
        "\n",
        "data_female <- data[data$sex==1,]\n",
        "Z_female <- data_female[which(colnames(data) %in% c(\"lwage\",\"sex\",\"shs\",\"hsg\",\"scl\",\"clg\",\"ad\",\"ne\",\"mw\",\"so\",\"we\",\"exp1\"))]\n",
        "\n",
        "\n",
        "data_male <- data[data$sex==0,]\n",
        "Z_male <- data_male[which(colnames(data) %in% c(\"lwage\",\"sex\",\"shs\",\"hsg\",\"scl\",\"clg\",\"ad\",\"ne\",\"mw\",\"so\",\"we\",\"exp1\"))]\n",
        "\n",
        "table <- matrix(0, 12, 3)\n",
        "table[1:12,1]   <- as.numeric(lapply(Z,mean))\n",
        "table[1:12,2]   <- as.numeric(lapply(Z_male,mean))\n",
        "table[1:12,3]   <- as.numeric(lapply(Z_female,mean))\n",
        "rownames(table) <- c(\"Log Wage\",\"Sex\",\"Less then High School\",\"High School Graduate\",\"Some College\",\"Collage Graduate\",\"Advanced Degree\", \"Northeast\",\"Midwest\",\"South\",\"West\",\"Experience\")\n",
        "colnames(table) <- c(\"All\",\"Men\",\"Women\")\n",
        "tab<- xtable(table, digits = 4)\n",
        "tab"
      ]
    },
    {
      "cell_type": "markdown",
      "metadata": {
        "papermill": {
          "duration": 0.014122,
          "end_time": "2022-03-02T09:35:20.832844",
          "exception": false,
          "start_time": "2022-03-02T09:35:20.818722",
          "status": "completed"
        },
        "tags": [],
        "id": "5Url3zG077W-"
      },
      "source": [
        "In particular, the table above shows that the difference in average *logwage* between men and women is equal to $0,038$"
      ]
    },
    {
      "cell_type": "code",
      "execution_count": null,
      "metadata": {
        "execution": {
          "iopub.execute_input": "2022-03-02T09:35:20.866500Z",
          "iopub.status.busy": "2022-03-02T09:35:20.865801Z",
          "iopub.status.idle": "2022-03-02T09:35:20.879651Z",
          "shell.execute_reply": "2022-03-02T09:35:20.878383Z"
        },
        "papermill": {
          "duration": 0.032576,
          "end_time": "2022-03-02T09:35:20.879849",
          "exception": false,
          "start_time": "2022-03-02T09:35:20.847273",
          "status": "completed"
        },
        "tags": [],
        "colab": {
          "base_uri": "https://localhost:8080/",
          "height": 34
        },
        "id": "bO_WEmna77W_",
        "outputId": "dc0f2175-e144-4733-c87e-db44023befcc"
      },
      "outputs": [
        {
          "output_type": "display_data",
          "data": {
            "text/html": [
              "-0.0383447336744154"
            ],
            "text/markdown": "-0.0383447336744154",
            "text/latex": "-0.0383447336744154",
            "text/plain": [
              "[1] -0.03834473"
            ]
          },
          "metadata": {}
        }
      ],
      "source": [
        "mean(data_female$lwage)-mean(data_male$lwage)"
      ]
    },
    {
      "cell_type": "markdown",
      "metadata": {
        "papermill": {
          "duration": 0.014742,
          "end_time": "2022-03-02T09:35:20.909220",
          "exception": false,
          "start_time": "2022-03-02T09:35:20.894478",
          "status": "completed"
        },
        "tags": [],
        "id": "gHDOq2vq77W_"
      },
      "source": [
        "Thus, the unconditional gender wage gap is about $3,8$\\% for the group of never married workers (women get paid less on average in our sample). We also observe that never married working women are relatively more educated than working men and have lower working experience."
      ]
    },
    {
      "cell_type": "markdown",
      "metadata": {
        "papermill": {
          "duration": 0.014614,
          "end_time": "2022-03-02T09:35:20.938331",
          "exception": false,
          "start_time": "2022-03-02T09:35:20.923717",
          "status": "completed"
        },
        "tags": [],
        "id": "6-8kS0i477XA"
      },
      "source": [
        "**Exercise 2:** Verify by running an ols regression that the calculated unconditional (predictive) effect of gender equals the coefficient $\\beta$ in the univariate ols regression of $Y$ on $D$:\n",
        "\n",
        "\\begin{align}\n",
        "\\log(Y) &=\\beta D + \\epsilon.\n",
        "\\end{align}"
      ]
    },
    {
      "cell_type": "markdown",
      "metadata": {
        "papermill": {
          "duration": 0.014296,
          "end_time": "2022-03-02T09:35:20.967102",
          "exception": false,
          "start_time": "2022-03-02T09:35:20.952806",
          "status": "completed"
        },
        "tags": [],
        "id": "Ox05jclr77XA"
      },
      "source": [
        "We verify this by running an ols regression in R."
      ]
    },
    {
      "cell_type": "code",
      "execution_count": null,
      "metadata": {
        "execution": {
          "iopub.execute_input": "2022-03-02T09:35:21.000174Z",
          "iopub.status.busy": "2022-03-02T09:35:20.998977Z",
          "iopub.status.idle": "2022-03-02T09:35:21.194905Z",
          "shell.execute_reply": "2022-03-02T09:35:21.193746Z"
        },
        "papermill": {
          "duration": 0.213801,
          "end_time": "2022-03-02T09:35:21.195149",
          "exception": false,
          "start_time": "2022-03-02T09:35:20.981348",
          "status": "completed"
        },
        "tags": [],
        "colab": {
          "base_uri": "https://localhost:8080/"
        },
        "id": "knNevwu777XB",
        "outputId": "d60516b6-7ba0-43d6-eac9-e2c66657e0fd"
      },
      "outputs": [
        {
          "output_type": "stream",
          "name": "stdout",
          "text": [
            "The estimated gender coefficient is -0.03834473  and the corresponding robust standard error is 0.01590824"
          ]
        }
      ],
      "source": [
        "library(sandwich)\n",
        "nocontrol.fit <- lm(lwage ~ sex)\n",
        "nocontrol.est <- summary(nocontrol.fit)$coef[\"sex\",1]\n",
        "\n",
        "# optional:\n",
        "# standard errors\n",
        "HCV.coefs <- vcovHC(nocontrol.fit, type = 'HC3'); # Jackknife estimate\n",
        "nocontrol.se <- sqrt(diag(HCV.coefs))[2] # Estimated std errors\n",
        "\n",
        "\n",
        "# print unconditional effect of gender and the corresponding standard error\n",
        "cat (\"The estimated gender coefficient is\",nocontrol.est,\" and the corresponding robust standard error is\",nocontrol.se)\n"
      ]
    },
    {
      "cell_type": "markdown",
      "metadata": {
        "papermill": {
          "duration": 0.014676,
          "end_time": "2022-03-02T09:35:21.224258",
          "exception": false,
          "start_time": "2022-03-02T09:35:21.209582",
          "status": "completed"
        },
        "tags": [],
        "id": "h4LuJ0LB77XB"
      },
      "source": [
        "Note that the standard error is computed with the *R* package *sandwich* to be robust to heteroskedasticity.\n"
      ]
    },
    {
      "cell_type": "markdown",
      "metadata": {
        "papermill": {
          "duration": 0.014545,
          "end_time": "2022-03-02T09:35:21.253419",
          "exception": false,
          "start_time": "2022-03-02T09:35:21.238874",
          "status": "completed"
        },
        "tags": [],
        "id": "jmSnIvUY77XC"
      },
      "source": [
        "**Exercise 3:** Next, run an ols regression of $Y$ on $(D,W)$ to control for the effect of covariates summarized in $W$:\n",
        "\n",
        "\\begin{align}\n",
        "\\log(Y) &=\\beta_1 D  + \\beta_2' W + \\epsilon.\n",
        "\\end{align}\n",
        "\n",
        "Here, consider the flexible model from the previous lab. Hence, $W$ controls for experience, education, region, and occupation and industry indicators plus transformations and two-way interactions:"
      ]
    },
    {
      "cell_type": "code",
      "source": [
        "flex <- lwage ~ sex + (exp1+exp2+exp3+exp4)*(shs+hsg+scl+clg+occ2+ind2+mw+so+we)"
      ],
      "metadata": {
        "id": "3wuY3UK_KRsF"
      },
      "execution_count": null,
      "outputs": []
    },
    {
      "cell_type": "markdown",
      "source": [
        "What is the predictive effect (PE)?"
      ],
      "metadata": {
        "id": "dd9AiwPXKdMq"
      }
    },
    {
      "cell_type": "markdown",
      "metadata": {
        "papermill": {
          "duration": 0.015036,
          "end_time": "2022-03-02T09:35:21.283040",
          "exception": false,
          "start_time": "2022-03-02T09:35:21.268004",
          "status": "completed"
        },
        "tags": [],
        "id": "n7Q_r5EC77XC"
      },
      "source": [
        "Let us run the ols regression with controls."
      ]
    },
    {
      "cell_type": "code",
      "execution_count": null,
      "metadata": {
        "execution": {
          "iopub.execute_input": "2022-03-02T09:35:21.317047Z",
          "iopub.status.busy": "2022-03-02T09:35:21.315750Z",
          "iopub.status.idle": "2022-03-02T09:35:21.949698Z",
          "shell.execute_reply": "2022-03-02T09:35:21.947973Z"
        },
        "papermill": {
          "duration": 0.652265,
          "end_time": "2022-03-02T09:35:21.949945",
          "exception": false,
          "start_time": "2022-03-02T09:35:21.297680",
          "status": "completed"
        },
        "tags": [],
        "colab": {
          "base_uri": "https://localhost:8080/"
        },
        "id": "w3u1D_Qa77XC",
        "outputId": "1f42f3f5-0f8f-4825-a062-c5a822ad5b33"
      },
      "outputs": [
        {
          "output_type": "stream",
          "name": "stdout",
          "text": [
            "Coefficient for OLS with controls -0.0695532"
          ]
        }
      ],
      "source": [
        "# Ols regression with controls\n",
        "\n",
        "flex <- lwage ~ sex + (exp1+exp2+exp3+exp4)*(shs+hsg+scl+clg+occ2+ind2+mw+so+we)\n",
        "control.fit <- lm(flex, data=data)\n",
        "control.est <- summary(control.fit)$coef[2,1]\n",
        "\n",
        "cat(\"Coefficient for OLS with controls\", control.est)\n",
        "\n",
        "# optional\n",
        "HCV.coefs <- vcovHC(control.fit, type = 'HC3');\n",
        "control.se <- sqrt(diag(HCV.coefs))[2] # Estimated std errors"
      ]
    },
    {
      "cell_type": "markdown",
      "metadata": {
        "papermill": {
          "duration": 0.028859,
          "end_time": "2022-03-02T09:35:22.007793",
          "exception": false,
          "start_time": "2022-03-02T09:35:21.978934",
          "status": "completed"
        },
        "tags": [],
        "id": "lG-QipuD77XD"
      },
      "source": [
        "The estimated regression coefficient $\\beta_1\\approx-0.0696$ measures how our linear prediction of wage changes if we set the gender variable $D$ from 0 to 1, holding the controls $W$ fixed.\n",
        "We can call this the *predictive effect* (PE), as it measures the impact of a variable on the prediction we make. Overall, we see that the unconditional wage gap of size $4$\\% for women increases to about $7$\\% after controlling for worker characteristics.\n"
      ]
    },
    {
      "cell_type": "markdown",
      "metadata": {
        "papermill": {
          "duration": 0.027506,
          "end_time": "2022-03-02T09:35:22.064393",
          "exception": false,
          "start_time": "2022-03-02T09:35:22.036887",
          "status": "completed"
        },
        "tags": [],
        "id": "hHsJNhjK77XD"
      },
      "source": [
        "**Exercise 4:** Next, we use the Frisch-Waugh-Lovell theorem from the lecture partialling-out the linear effect of the controls via ols. Compare your estimated effect with the coefficient from the regression above."
      ]
    },
    {
      "cell_type": "code",
      "execution_count": null,
      "metadata": {
        "execution": {
          "iopub.execute_input": "2022-03-02T09:35:22.100235Z",
          "iopub.status.busy": "2022-03-02T09:35:22.099644Z",
          "iopub.status.idle": "2022-03-02T09:35:22.468470Z",
          "shell.execute_reply": "2022-03-02T09:35:22.467333Z"
        },
        "papermill": {
          "duration": 0.389295,
          "end_time": "2022-03-02T09:35:22.468624",
          "exception": false,
          "start_time": "2022-03-02T09:35:22.079329",
          "status": "completed"
        },
        "tags": [],
        "colab": {
          "base_uri": "https://localhost:8080/",
          "height": 52
        },
        "id": "DZ43uklv77XE",
        "outputId": "e3fd736a-e2a5-429c-9513-a36a732176c4"
      },
      "outputs": [
        {
          "output_type": "stream",
          "name": "stdout",
          "text": [
            "Coefficient for D via partialling-out -0.0695532"
          ]
        },
        {
          "output_type": "display_data",
          "data": {
            "text/html": [
              "<style>\n",
              ".dl-inline {width: auto; margin:0; padding: 0}\n",
              ".dl-inline>dt, .dl-inline>dd {float: none; width: auto; display: inline-block}\n",
              ".dl-inline>dt::after {content: \":\\0020\"; padding-right: .5ex}\n",
              ".dl-inline>dt:not(:first-of-type) {padding-left: .5ex}\n",
              "</style><dl class=dl-inline><dt>2.5 %</dt><dd>-0.0986714235748631</dd><dt>97.5 %</dt><dd>-0.0404349830188285</dd></dl>\n"
            ],
            "text/markdown": "2.5 %\n:   -0.098671423574863197.5 %\n:   -0.0404349830188285\n\n",
            "text/latex": "\\begin{description*}\n\\item[2.5 \\textbackslash{}\\%] -0.0986714235748631\n\\item[97.5 \\textbackslash{}\\%] -0.0404349830188285\n\\end{description*}\n",
            "text/plain": [
              "      2.5 %      97.5 % \n",
              "-0.09867142 -0.04043498 "
            ]
          },
          "metadata": {}
        }
      ],
      "source": [
        "# Partialling-Out using ols\n",
        "\n",
        "# models\n",
        "flex.y <- lwage ~  (exp1+exp2+exp3+exp4)*(shs+hsg+scl+clg+occ2+ind2+mw+so+we) # model for Y\n",
        "flex.d <- sex ~ (exp1+exp2+exp3+exp4)*(shs+hsg+scl+clg+occ2+ind2+mw+so+we) # model for D\n",
        "\n",
        "# partialling-out the linear effect of W from Y\n",
        "t.Y <- lm(flex.y, data=data)$res\n",
        "# partialling-out the linear effect of W from D\n",
        "t.D <- lm(flex.d, data=data)$res\n",
        "\n",
        "# regression of Y on D after partialling-out the effect of W\n",
        "partial.fit <- lm(t.Y~t.D)\n",
        "partial.est <- summary(partial.fit)$coef[2,1]\n",
        "\n",
        "cat(\"Coefficient for D via partialling-out\", partial.est)\n",
        "\n",
        "# standard error\n",
        "HCV.coefs <- vcovHC(partial.fit, type = 'HC3')\n",
        "partial.se <- sqrt(diag(HCV.coefs))[2]\n",
        "# Note that jackknife standard errors depend on all the variables in the model and so are not appropriate for the partialed out regression (without adjustment)\n",
        "\n",
        "# confidence interval\n",
        "confint(partial.fit)[2,]"
      ]
    },
    {
      "cell_type": "markdown",
      "metadata": {
        "papermill": {
          "duration": 0.016015,
          "end_time": "2022-03-02T09:35:22.500286",
          "exception": false,
          "start_time": "2022-03-02T09:35:22.484271",
          "status": "completed"
        },
        "tags": [],
        "id": "XW70YVzX77XE"
      },
      "source": [
        "Again, the estimated coefficient measures the linear predictive effect (PE) of $D$ on $Y$ after taking out the linear effect of $W$ on both of these variables. This coefficient equals the estimated coefficient from the ols regression with controls."
      ]
    },
    {
      "cell_type": "markdown",
      "metadata": {
        "papermill": {
          "duration": 0.016973,
          "end_time": "2022-03-02T09:35:26.291395",
          "exception": false,
          "start_time": "2022-03-02T09:35:26.274422",
          "status": "completed"
        },
        "tags": [],
        "id": "BopttuKQ77XG"
      },
      "source": [
        "Next, we summarize the results."
      ]
    },
    {
      "cell_type": "code",
      "execution_count": null,
      "metadata": {
        "execution": {
          "iopub.execute_input": "2022-03-02T09:35:26.328153Z",
          "iopub.status.busy": "2022-03-02T09:35:26.327024Z",
          "iopub.status.idle": "2022-03-02T09:35:26.361410Z",
          "shell.execute_reply": "2022-03-02T09:35:26.360243Z"
        },
        "papermill": {
          "duration": 0.054029,
          "end_time": "2022-03-02T09:35:26.361567",
          "exception": false,
          "start_time": "2022-03-02T09:35:26.307538",
          "status": "completed"
        },
        "tags": [],
        "colab": {
          "base_uri": "https://localhost:8080/",
          "height": 192
        },
        "id": "yMQcO5oy77XG",
        "outputId": "91dcf6c6-a99e-46ae-ff95-d0810d20c034"
      },
      "outputs": [
        {
          "output_type": "display_data",
          "data": {
            "text/html": [
              "<table class=\"dataframe\">\n",
              "<caption>A xtable: 3 × 2</caption>\n",
              "<thead>\n",
              "\t<tr><th></th><th scope=col>Estimate</th><th scope=col>Std. Error</th></tr>\n",
              "\t<tr><th></th><th scope=col>&lt;dbl&gt;</th><th scope=col>&lt;dbl&gt;</th></tr>\n",
              "</thead>\n",
              "<tbody>\n",
              "\t<tr><th scope=row>Without controls</th><td>-0.03834473</td><td>0.01590824</td></tr>\n",
              "\t<tr><th scope=row>full reg</th><td>-0.06955320</td><td>0.01569920</td></tr>\n",
              "\t<tr><th scope=row>partial reg</th><td>-0.06955320</td><td>0.01500873</td></tr>\n",
              "</tbody>\n",
              "</table>\n"
            ],
            "text/markdown": "\nA xtable: 3 × 2\n\n| <!--/--> | Estimate &lt;dbl&gt; | Std. Error &lt;dbl&gt; |\n|---|---|---|\n| Without controls | -0.03834473 | 0.01590824 |\n| full reg | -0.06955320 | 0.01569920 |\n| partial reg | -0.06955320 | 0.01500873 |\n\n",
            "text/latex": "A xtable: 3 × 2\n\\begin{tabular}{r|ll}\n  & Estimate & Std. Error\\\\\n  & <dbl> & <dbl>\\\\\n\\hline\n\tWithout controls & -0.03834473 & 0.01590824\\\\\n\tfull reg & -0.06955320 & 0.01569920\\\\\n\tpartial reg & -0.06955320 & 0.01500873\\\\\n\\end{tabular}\n",
            "text/plain": [
              "                 Estimate    Std. Error\n",
              "Without controls -0.03834473 0.01590824\n",
              "full reg         -0.06955320 0.01569920\n",
              "partial reg      -0.06955320 0.01500873"
            ]
          },
          "metadata": {}
        }
      ],
      "source": [
        "table<- matrix(0, 3, 2)\n",
        "table[1,1]<- nocontrol.est\n",
        "table[1,2]<- nocontrol.se\n",
        "table[2,1]<- control.est\n",
        "table[2,2]<- control.se\n",
        "table[3,1]<- partial.est\n",
        "table[3,2]<- partial.se\n",
        "colnames(table)<- c(\"Estimate\",\"Std. Error\")\n",
        "rownames(table)<- c(\"Without controls\", \"full reg\", \"partial reg\")\n",
        "tab<- xtable(table, digits=c(3, 3, 4))\n",
        "tab"
      ]
    },
    {
      "cell_type": "markdown",
      "metadata": {
        "papermill": {
          "duration": 0.01697,
          "end_time": "2022-03-02T09:35:26.484510",
          "exception": false,
          "start_time": "2022-03-02T09:35:26.467540",
          "status": "completed"
        },
        "tags": [],
        "id": "DkSbAfmr77XH"
      },
      "source": [
        "It it worth to notice that controlling for worker characteristics increases the gender wage gap from less that 4\\% to 7\\%. The controls we used in our analysis include 5 educational attainment indicators (less than high school graduates, high school graduates, some college, college graduate, and advanced degree), 4 region indicators (midwest, south, west, and northeast);  a quartic term (first, second, third, and fourth power) in experience and 22 occupation and 23 industry indicators.\n",
        "\n",
        "Keep in mind that the predictive effect (PE) does not only measures discrimination (causal effect of being female), it also may reflect\n",
        "selection effects of unobserved differences in covariates between men and women in our sample.\n"
      ]
    }
  ],
  "metadata": {
    "kernelspec": {
      "display_name": "R",
      "language": "R",
      "name": "ir"
    },
    "language_info": {
      "codemirror_mode": "r",
      "file_extension": ".r",
      "mimetype": "text/x-r-source",
      "name": "R",
      "pygments_lexer": "r",
      "version": "3.6.3"
    },
    "papermill": {
      "default_parameters": {},
      "duration": 9.376743,
      "end_time": "2022-03-02T09:35:26.644242",
      "environment_variables": {},
      "exception": null,
      "input_path": "__notebook__.ipynb",
      "output_path": "__notebook__.ipynb",
      "parameters": {},
      "start_time": "2022-03-02T09:35:17.267499",
      "version": "2.2.2"
    },
    "colab": {
      "provenance": []
    }
  },
  "nbformat": 4,
  "nbformat_minor": 0
}