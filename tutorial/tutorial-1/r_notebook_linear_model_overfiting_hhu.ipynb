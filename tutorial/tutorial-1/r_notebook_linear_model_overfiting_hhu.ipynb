{
  "cells": [
    {
      "cell_type": "markdown",
      "source": [
        "Before we get started, please load relevant libraries (this might take a few minutes):"
      ],
      "metadata": {
        "id": "pQWIw1mL05qz"
      }
    },
    {
      "cell_type": "code",
      "source": [
        "install.packages(\"ggplot2\")"
      ],
      "metadata": {
        "id": "NsEGKHbO6WQT",
        "colab": {
          "base_uri": "https://localhost:8080/"
        },
        "outputId": "6e0b8178-1a5d-444e-9c2f-ebd543822618"
      },
      "execution_count": null,
      "outputs": [
        {
          "output_type": "stream",
          "name": "stderr",
          "text": [
            "Installing package into ‘/usr/local/lib/R/site-library’\n",
            "(as ‘lib’ is unspecified)\n",
            "\n"
          ]
        }
      ]
    },
    {
      "cell_type": "markdown",
      "metadata": {
        "_execution_state": "idle",
        "_uuid": "051d70d956493feee0c6d64651c6a088724dca2a",
        "papermill": {
          "duration": 0.005457,
          "end_time": "2021-02-10T13:42:51.332609",
          "exception": false,
          "start_time": "2021-02-10T13:42:51.327152",
          "status": "completed"
        },
        "tags": [],
        "id": "le2rUmNwxVDj"
      },
      "source": [
        "# 1. Simple Exercise on Overfitting\n"
      ]
    },
    {
      "cell_type": "markdown",
      "metadata": {
        "papermill": {
          "duration": 0.004206,
          "end_time": "2021-02-10T13:42:51.341392",
          "exception": false,
          "start_time": "2021-02-10T13:42:51.337186",
          "status": "completed"
        },
        "tags": [],
        "id": "vOdEd9RrxVDm"
      },
      "source": [
        "First, we consider the example from the lecture and set $p=n$, again:"
      ]
    },
    {
      "cell_type": "code",
      "execution_count": null,
      "metadata": {
        "execution": {
          "iopub.execute_input": "2021-02-10T13:42:51.382009Z",
          "iopub.status.busy": "2021-02-10T13:42:51.379976Z",
          "iopub.status.idle": "2021-02-10T13:42:52.344009Z",
          "shell.execute_reply": "2021-02-10T13:42:52.341683Z"
        },
        "papermill": {
          "duration": 0.998738,
          "end_time": "2021-02-10T13:42:52.344388",
          "exception": false,
          "start_time": "2021-02-10T13:42:51.345650",
          "status": "completed"
        },
        "tags": [],
        "colab": {
          "base_uri": "https://localhost:8080/"
        },
        "id": "36L-12j9xVDn",
        "outputId": "9c83a2da-da6e-4376-881c-5d0e695a950f"
      },
      "outputs": [
        {
          "output_type": "stream",
          "name": "stdout",
          "text": [
            "The ratio (p/n) is 1 \n",
            "R2 is 1 \n"
          ]
        }
      ],
      "source": [
        "set.seed(123) # reproducibility\n",
        "n <- 100\n",
        "p <- n\n",
        "ratio <- p/n\n",
        "cat(\"The ratio (p/n) is\", ratio, \"\\n\")\n",
        "X <- matrix(rnorm(n*p), n, p)\n",
        "Y <- rnorm(n)\n",
        "model <- lm(Y~X)\n",
        "cat(\"R2 is\",summary(model)$r.squared, \"\\n\")\n"
      ]
    },
    {
      "cell_type": "markdown",
      "source": [
        "**Exercise 1:** Calculate the in-sample MSE of the linear model. *Hint: predict()*"
      ],
      "metadata": {
        "id": "MnaPu7kfjgvz"
      }
    },
    {
      "cell_type": "code",
      "source": [
        "\n"
      ],
      "metadata": {
        "id": "6uWLDUKPAtlH"
      },
      "execution_count": null,
      "outputs": []
    },
    {
      "cell_type": "markdown",
      "source": [
        "**Exercise 2:** Simulate 100 new test observation $Y_{test}$ and $X_{test}$ ($n_{test}=100$) from the same data generating process (DGP). Apply the linear model above to predict $Y_{test}$ based on $X_{test}$ and calculate the MSE on the test sample to approximate/estimate the $MSE_{test}$. Interpret your findings!"
      ],
      "metadata": {
        "id": "gWUbiUFniBgv"
      }
    },
    {
      "cell_type": "markdown",
      "metadata": {
        "papermill": {
          "duration": 0.01172,
          "end_time": "2021-02-10T13:42:52.368270",
          "exception": false,
          "start_time": "2021-02-10T13:42:52.356550",
          "status": "completed"
        },
        "tags": [],
        "id": "S4L2O8OPxVDp"
      },
      "source": [
        "**Exercise 3:** Next, set p=5 and repeat the procedure above. Calculate the in-sample and out-of-sample MSE. What has changed?"
      ]
    },
    {
      "cell_type": "markdown",
      "source": [
        "**Exercise 4:** What happens when you increase both $n$ and $n_{test}$?"
      ],
      "metadata": {
        "id": "HaxqDw65CLKl"
      }
    },
    {
      "cell_type": "markdown",
      "source": [
        "# 2. Advanced simulation study:"
      ],
      "metadata": {
        "id": "okKBGf2rylYc"
      }
    },
    {
      "cell_type": "markdown",
      "source": [
        "Next, we consider a more complex data generating process:"
      ],
      "metadata": {
        "id": "RCif2ctjv_1A"
      }
    },
    {
      "cell_type": "code",
      "source": [
        "set.seed(123)\n",
        "n <- 80\n",
        "noise <- 50\n",
        "\n",
        "z <- rnorm(n, mean = 3, sd = 3)\n",
        "x <- 0.8* rnorm(n, mean = 0, sd = 8) + 0.2*z + rnorm(n) # covariate\n",
        "y <- 50 + 100 * (x-10)^3 +  10.4* (x-2)^4 - 3*x^5 +  noise *20* rnorm(n, sd = 100) # outcome"
      ],
      "metadata": {
        "id": "8DFAlEfzzkNQ"
      },
      "execution_count": null,
      "outputs": []
    },
    {
      "cell_type": "markdown",
      "source": [
        "**Exercise 1:** Plot the data $(x,y)$ and try to understand the DGP above."
      ],
      "metadata": {
        "id": "KyavgumuC7Pm"
      }
    },
    {
      "cell_type": "markdown",
      "source": [
        "**Exercise 2:**  Fit a simple linear regression to the data above (explain $y$ by $x$). Add the regression line in your plot and calculate the (log) MSE in-sample (*Hint*: abline). Do we have overfitting?"
      ],
      "metadata": {
        "id": "rjAKznQOr5C_"
      }
    },
    {
      "cell_type": "markdown",
      "source": [
        "Next, we introduce **sample splitting** to analyze the out-of-sample performance:"
      ],
      "metadata": {
        "id": "1rZH0acFtPIT"
      }
    },
    {
      "cell_type": "code",
      "source": [
        "# splitting the data\n",
        "\n",
        "split <- 0.5\n",
        "data = data.frame(y,x)\n",
        "\n",
        "n = dim(data)[1]\n",
        "set.seed(1234) # to make the results replicable (we will generate random numbers)\n",
        "random <- sample(1:n, floor(n*split))\n",
        "# draw (4/5)*n random numbers from 1 to n without replacing them\n",
        "data_train <- data[random,] # training data\n",
        "data_test <- data[-random,] # testing data\n",
        "\n",
        "n_train = nrow(data_train)\n",
        "n_test = nrow(data_test)"
      ],
      "metadata": {
        "id": "QZekaAvB8M2j"
      },
      "execution_count": null,
      "outputs": []
    },
    {
      "cell_type": "markdown",
      "source": [
        "**Exercise 3:** Try to understand the code above. Have a look at the data $data_{train}$ and $data_{test}$ and check if you have understand how sample splitting works."
      ],
      "metadata": {
        "id": "BJTx4G11GLNi"
      }
    },
    {
      "cell_type": "markdown",
      "source": [
        "The following code fits the regression model:\n",
        "\n",
        "$$y=a+\\beta_{1}x^1+\\dots \\beta_{d}x^{d}+ɛ,$$\n",
        "\n",
        "where $d$ denotes the maximum degree of polynomial of $X$ considered"
      ],
      "metadata": {
        "id": "PwPxGFElGmvg"
      }
    },
    {
      "cell_type": "code",
      "source": [
        "degree_of_poly <- 1 # maximum degree d of polynomial of X\n",
        "\n",
        "fm <- \"y ~ poly(x,degree_of_poly,raw=T)\"\n",
        "model <- lm(fm, data_train)\n",
        "\n"
      ],
      "metadata": {
        "id": "v35zV4W726I2"
      },
      "execution_count": null,
      "outputs": []
    },
    {
      "cell_type": "markdown",
      "source": [
        "**Exercise 4:** Calculate the in-sample and out-of-sample MSE for the regression model with $d=1$."
      ],
      "metadata": {
        "id": "fezdCjIRMLq0"
      }
    },
    {
      "cell_type": "markdown",
      "source": [
        "The following code provides plots of in-sample and out-of-sample predictions:"
      ],
      "metadata": {
        "id": "9K0jkbb9NAPA"
      }
    },
    {
      "cell_type": "code",
      "source": [
        "# Predictions\n",
        "pred_ins <- predict(model)\n",
        "pred_oos <- predict(model, newdata = data_test)\n",
        "\n",
        "# For Plots of in-sample and out-of-sample predictions\n",
        "new_df_train <- data.frame(x = data_train$x, y = data_train$y, pred_ins = pred_ins, as.factor(degree_of_poly))\n",
        "new_df_test <- data.frame(x = data_test$x, y = data_test$y, pred_oos = pred_oos, as.factor(degree_of_poly))\n",
        "miny_train <- quantile(data_train$y, probs = 0.)\n",
        "maxy_train <- quantile(data_train$y, probs = 1)\n",
        "miny_test <- quantile(data_test$y, probs = 0)\n",
        "maxy_test <- quantile(data_test$y, probs = 1)\n"
      ],
      "metadata": {
        "id": "fYTbDk2C3tzi"
      },
      "execution_count": null,
      "outputs": []
    },
    {
      "cell_type": "code",
      "source": [
        "library(ggplot2)\n",
        "ggplot(new_df_train, aes(x,y)) +\n",
        "      geom_point(color = \"blue\") +\n",
        "      scale_y_continuous(limits =  c(miny_train, maxy_train)) +\n",
        "      geom_line(data = new_df_train, aes(x = x, y = pred_ins, color = degree_of_poly))\n",
        "\n"
      ],
      "metadata": {
        "colab": {
          "base_uri": "https://localhost:8080/",
          "height": 437
        },
        "id": "xr20FuVc4Ekq",
        "outputId": "76eacbc9-f190-4b56-8b15-9966d9e5f4bb"
      },
      "execution_count": null,
      "outputs": [
        {
          "output_type": "display_data",
          "data": {
            "text/plain": [
              "plot without title"
            ],
            "image/png": "[encoded data removed]"
          },
          "metadata": {
            "image/png": {
              "width": 420,
              "height": 420
            }
          }
        }
      ]
    },
    {
      "cell_type": "code",
      "source": [
        "ggplot(new_df_test, aes(x,y)) +\n",
        "        geom_point(data = new_df_test, color = \"red\", shape = 4) +\n",
        "        scale_y_continuous(limits =  c(miny_test, maxy_test)) +\n",
        "        geom_line(data = new_df_test, aes(x= x, y = pred_oos , color = degree_of_poly), linetype = 2)"
      ],
      "metadata": {
        "colab": {
          "base_uri": "https://localhost:8080/",
          "height": 437
        },
        "id": "SWnttRAWb_bR",
        "outputId": "f5784e67-d15a-48cf-f796-b7681839a0eb"
      },
      "execution_count": null,
      "outputs": [
        {
          "output_type": "display_data",
          "data": {
            "text/plain": [
              "plot without title"
            ],
            "image/png": "[encoded data removed]"
          },
          "metadata": {
            "image/png": {
              "width": 420,
              "height": 420
            }
          }
        }
      ]
    },
    {
      "cell_type": "markdown",
      "source": [
        "**Exercise 5:** To achieve a better fit to the data, construct additional regressors. To do this, increase the parameter *degree_of_poly* and repeat the analysis above. Interpret your results."
      ],
      "metadata": {
        "id": "oRopHehKtkiO"
      }
    }
  ],
  "metadata": {
    "kernelspec": {
      "display_name": "R",
      "name": "ir"
    },
    "language_info": {
      "codemirror_mode": "r",
      "file_extension": ".r",
      "mimetype": "text/x-r-source",
      "name": "R",
      "pygments_lexer": "r",
      "version": "3.6.3"
    },
    "papermill": {
      "default_parameters": {},
      "duration": 4.940504,
      "end_time": "2021-02-10T13:42:53.102123",
      "environment_variables": {},
      "exception": null,
      "input_path": "__notebook__.ipynb",
      "output_path": "__notebook__.ipynb",
      "parameters": {},
      "start_time": "2021-02-10T13:42:48.161619",
      "version": "2.2.2"
    },
    "colab": {
      "provenance": [],
      "gpuType": "T4"
    },
    "accelerator": "GPU"
  },
  "nbformat": 4,
  "nbformat_minor": 0
}