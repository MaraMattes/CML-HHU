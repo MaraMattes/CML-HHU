{
  "cells": [
    {
      "cell_type": "markdown",
      "metadata": {
        "papermill": {
          "duration": 0.015441,
          "end_time": "2021-07-23T14:56:49.376566",
          "exception": false,
          "start_time": "2021-07-23T14:56:49.361125",
          "status": "completed"
        },
        "tags": [],
        "id": "ytthwDUFpgQD"
      },
      "source": [
        "This notebook contains an example for teaching."
      ]
    },
    {
      "cell_type": "markdown",
      "metadata": {
        "papermill": {
          "duration": 0.013819,
          "end_time": "2021-07-23T14:56:49.404777",
          "exception": false,
          "start_time": "2021-07-23T14:56:49.390958",
          "status": "completed"
        },
        "tags": [],
        "id": "jlWkbYSMpgQJ"
      },
      "source": [
        "# Double Lasso for Testing the Convergence Hypothesis"
      ]
    },
    {
      "cell_type": "markdown",
      "metadata": {
        "papermill": {
          "duration": 0.013887,
          "end_time": "2021-07-23T14:56:49.432663",
          "exception": false,
          "start_time": "2021-07-23T14:56:49.418776",
          "status": "completed"
        },
        "tags": [],
        "id": "3DVqHujIpgQK"
      },
      "source": [
        "## Introduction"
      ]
    },
    {
      "cell_type": "markdown",
      "metadata": {
        "papermill": {
          "duration": 0.013835,
          "end_time": "2021-07-23T14:56:49.460435",
          "exception": false,
          "start_time": "2021-07-23T14:56:49.446600",
          "status": "completed"
        },
        "tags": [],
        "id": "ZBK79s3-pgQL"
      },
      "source": [
        "We provide an additional empirical example of partialling-out with Lasso to estimate the regression coefficient $\\beta_1$ in the high-dimensional linear regression model:\n",
        "  $$\n",
        "  Y = \\beta_1 D +  \\beta_2'W + \\epsilon.\n",
        "  $$\n",
        "\n",
        "Specifically, we are interested in how the rates  at which economies of different countries grow ($Y$) are related to the initial wealth levels in each country ($D$) controlling for country's institutional, educational, and other similar characteristics ($W$).\n",
        "\n",
        "The relationship is captured by $\\beta_1$, the *speed of convergence/divergence*, which measures the speed at which poor countries catch up $(\\beta_1< 0)$ or fall behind $(\\beta_1> 0)$ rich countries, after controlling for $W$. Our inference question here is: do poor countries grow faster than rich countries, controlling for educational and other characteristics? In other words, is the speed of convergence negative: $ \\beta_1 <0?$ This is the Convergence Hypothesis predicted by the Solow Growth Model. This is a structural economic model. Under some strong assumptions that we won't state here, the predictive exercise we are doing here can be given a causal interpretation.\n"
      ]
    },
    {
      "cell_type": "markdown",
      "metadata": {
        "papermill": {
          "duration": 0.0142,
          "end_time": "2021-07-23T14:56:49.488498",
          "exception": false,
          "start_time": "2021-07-23T14:56:49.474298",
          "status": "completed"
        },
        "tags": [],
        "id": "h8qBcMYOpgQN"
      },
      "source": [
        "The outcome $Y$ is the realized annual growth rate of a country's wealth  (Gross Domestic Product per capita). The target regressor ($D$) is the initial level of the country's wealth. The target parameter $\\beta_1$ is the speed of convergence, which measures the speed at which poor countries catch up with rich countries. The controls ($W$) include measures of education levels, quality of institutions, trade openness, and political stability in the country."
      ]
    },
    {
      "cell_type": "markdown",
      "metadata": {
        "papermill": {
          "duration": 0.014102,
          "end_time": "2021-07-23T14:56:49.516541",
          "exception": false,
          "start_time": "2021-07-23T14:56:49.502439",
          "status": "completed"
        },
        "tags": [],
        "id": "a4va2I5kpgQO"
      },
      "source": [
        "## Data analysis\n"
      ]
    },
    {
      "cell_type": "code",
      "source": [
        "install.packages(c(\"hdm\",\"xtable\"))"
      ],
      "metadata": {
        "colab": {
          "base_uri": "https://localhost:8080/"
        },
        "id": "sbvMpyi7ppBk",
        "outputId": "2f497af4-0a7e-4f7a-e3b5-6cc9d33c2641"
      },
      "execution_count": 1,
      "outputs": [
        {
          "output_type": "stream",
          "name": "stderr",
          "text": [
            "Installing packages into ‘/usr/local/lib/R/site-library’\n",
            "(as ‘lib’ is unspecified)\n",
            "\n",
            "also installing the dependencies ‘iterators’, ‘foreach’, ‘shape’, ‘RcppEigen’, ‘glmnet’, ‘checkmate’, ‘Formula’\n",
            "\n",
            "\n"
          ]
        }
      ]
    },
    {
      "cell_type": "markdown",
      "metadata": {
        "papermill": {
          "duration": 0.013919,
          "end_time": "2021-07-23T14:56:49.544407",
          "exception": false,
          "start_time": "2021-07-23T14:56:49.530488",
          "status": "completed"
        },
        "tags": [],
        "id": "vwJa4jyFpgQP"
      },
      "source": [
        "We consider the data set GrowthData which is included in the package *hdm*."
      ]
    },
    {
      "cell_type": "code",
      "execution_count": 2,
      "metadata": {
        "execution": {
          "iopub.execute_input": "2021-07-23T14:56:49.606672Z",
          "iopub.status.busy": "2021-07-23T14:56:49.604530Z",
          "iopub.status.idle": "2021-07-23T14:56:49.800306Z",
          "shell.execute_reply": "2021-07-23T14:56:49.798986Z"
        },
        "papermill": {
          "duration": 0.241973,
          "end_time": "2021-07-23T14:56:49.800536",
          "exception": false,
          "start_time": "2021-07-23T14:56:49.558563",
          "status": "completed"
        },
        "tags": [],
        "colab": {
          "base_uri": "https://localhost:8080/",
          "height": 69
        },
        "id": "75Ni8XzfpgQQ",
        "outputId": "334516ec-4969-45bf-8b6f-3ce8519c2d44"
      },
      "outputs": [
        {
          "output_type": "display_data",
          "data": {
            "text/html": [
              "<style>\n",
              ".list-inline {list-style: none; margin:0; padding: 0}\n",
              ".list-inline>li {display: inline-block}\n",
              ".list-inline>li:not(:last-child)::after {content: \"\\00b7\"; padding: 0 .5ex}\n",
              "</style>\n",
              "<ol class=list-inline><li>'Outcome'</li><li>'intercept'</li><li>'gdpsh465'</li><li>'bmp1l'</li><li>'freeop'</li><li>'freetar'</li><li>'h65'</li><li>'hm65'</li><li>'hf65'</li><li>'p65'</li><li>'pm65'</li><li>'pf65'</li><li>'s65'</li><li>'sm65'</li><li>'sf65'</li><li>'fert65'</li><li>'mort65'</li><li>'lifee065'</li><li>'gpop1'</li><li>'fert1'</li><li>'mort1'</li><li>'invsh41'</li><li>'geetot1'</li><li>'geerec1'</li><li>'gde1'</li><li>'govwb1'</li><li>'govsh41'</li><li>'gvxdxe41'</li><li>'high65'</li><li>'highm65'</li><li>'highf65'</li><li>'highc65'</li><li>'highcm65'</li><li>'highcf65'</li><li>'human65'</li><li>'humanm65'</li><li>'humanf65'</li><li>'hyr65'</li><li>'hyrm65'</li><li>'hyrf65'</li><li>'no65'</li><li>'nom65'</li><li>'nof65'</li><li>'pinstab1'</li><li>'pop65'</li><li>'worker65'</li><li>'pop1565'</li><li>'pop6565'</li><li>'sec65'</li><li>'secm65'</li><li>'secf65'</li><li>'secc65'</li><li>'seccm65'</li><li>'seccf65'</li><li>'syr65'</li><li>'syrm65'</li><li>'syrf65'</li><li>'teapri65'</li><li>'teasec65'</li><li>'ex1'</li><li>'im1'</li><li>'xr65'</li><li>'tot1'</li></ol>\n"
            ],
            "text/markdown": "1. 'Outcome'\n2. 'intercept'\n3. 'gdpsh465'\n4. 'bmp1l'\n5. 'freeop'\n6. 'freetar'\n7. 'h65'\n8. 'hm65'\n9. 'hf65'\n10. 'p65'\n11. 'pm65'\n12. 'pf65'\n13. 's65'\n14. 'sm65'\n15. 'sf65'\n16. 'fert65'\n17. 'mort65'\n18. 'lifee065'\n19. 'gpop1'\n20. 'fert1'\n21. 'mort1'\n22. 'invsh41'\n23. 'geetot1'\n24. 'geerec1'\n25. 'gde1'\n26. 'govwb1'\n27. 'govsh41'\n28. 'gvxdxe41'\n29. 'high65'\n30. 'highm65'\n31. 'highf65'\n32. 'highc65'\n33. 'highcm65'\n34. 'highcf65'\n35. 'human65'\n36. 'humanm65'\n37. 'humanf65'\n38. 'hyr65'\n39. 'hyrm65'\n40. 'hyrf65'\n41. 'no65'\n42. 'nom65'\n43. 'nof65'\n44. 'pinstab1'\n45. 'pop65'\n46. 'worker65'\n47. 'pop1565'\n48. 'pop6565'\n49. 'sec65'\n50. 'secm65'\n51. 'secf65'\n52. 'secc65'\n53. 'seccm65'\n54. 'seccf65'\n55. 'syr65'\n56. 'syrm65'\n57. 'syrf65'\n58. 'teapri65'\n59. 'teasec65'\n60. 'ex1'\n61. 'im1'\n62. 'xr65'\n63. 'tot1'\n\n\n",
            "text/latex": "\\begin{enumerate*}\n\\item 'Outcome'\n\\item 'intercept'\n\\item 'gdpsh465'\n\\item 'bmp1l'\n\\item 'freeop'\n\\item 'freetar'\n\\item 'h65'\n\\item 'hm65'\n\\item 'hf65'\n\\item 'p65'\n\\item 'pm65'\n\\item 'pf65'\n\\item 's65'\n\\item 'sm65'\n\\item 'sf65'\n\\item 'fert65'\n\\item 'mort65'\n\\item 'lifee065'\n\\item 'gpop1'\n\\item 'fert1'\n\\item 'mort1'\n\\item 'invsh41'\n\\item 'geetot1'\n\\item 'geerec1'\n\\item 'gde1'\n\\item 'govwb1'\n\\item 'govsh41'\n\\item 'gvxdxe41'\n\\item 'high65'\n\\item 'highm65'\n\\item 'highf65'\n\\item 'highc65'\n\\item 'highcm65'\n\\item 'highcf65'\n\\item 'human65'\n\\item 'humanm65'\n\\item 'humanf65'\n\\item 'hyr65'\n\\item 'hyrm65'\n\\item 'hyrf65'\n\\item 'no65'\n\\item 'nom65'\n\\item 'nof65'\n\\item 'pinstab1'\n\\item 'pop65'\n\\item 'worker65'\n\\item 'pop1565'\n\\item 'pop6565'\n\\item 'sec65'\n\\item 'secm65'\n\\item 'secf65'\n\\item 'secc65'\n\\item 'seccm65'\n\\item 'seccf65'\n\\item 'syr65'\n\\item 'syrm65'\n\\item 'syrf65'\n\\item 'teapri65'\n\\item 'teasec65'\n\\item 'ex1'\n\\item 'im1'\n\\item 'xr65'\n\\item 'tot1'\n\\end{enumerate*}\n",
            "text/plain": [
              " [1] \"Outcome\"   \"intercept\" \"gdpsh465\"  \"bmp1l\"     \"freeop\"    \"freetar\"  \n",
              " [7] \"h65\"       \"hm65\"      \"hf65\"      \"p65\"       \"pm65\"      \"pf65\"     \n",
              "[13] \"s65\"       \"sm65\"      \"sf65\"      \"fert65\"    \"mort65\"    \"lifee065\" \n",
              "[19] \"gpop1\"     \"fert1\"     \"mort1\"     \"invsh41\"   \"geetot1\"   \"geerec1\"  \n",
              "[25] \"gde1\"      \"govwb1\"    \"govsh41\"   \"gvxdxe41\"  \"high65\"    \"highm65\"  \n",
              "[31] \"highf65\"   \"highc65\"   \"highcm65\"  \"highcf65\"  \"human65\"   \"humanm65\" \n",
              "[37] \"humanf65\"  \"hyr65\"     \"hyrm65\"    \"hyrf65\"    \"no65\"      \"nom65\"    \n",
              "[43] \"nof65\"     \"pinstab1\"  \"pop65\"     \"worker65\"  \"pop1565\"   \"pop6565\"  \n",
              "[49] \"sec65\"     \"secm65\"    \"secf65\"    \"secc65\"    \"seccm65\"   \"seccf65\"  \n",
              "[55] \"syr65\"     \"syrm65\"    \"syrf65\"    \"teapri65\"  \"teasec65\"  \"ex1\"      \n",
              "[61] \"im1\"       \"xr65\"      \"tot1\"     "
            ]
          },
          "metadata": {}
        }
      ],
      "source": [
        "library(hdm) # package of ``high dimensional models (hdm)\" estimators\n",
        "growth <- GrowthData\n",
        "attach(growth)\n",
        "names(growth)"
      ]
    },
    {
      "cell_type": "markdown",
      "metadata": {
        "papermill": {
          "duration": 0.014756,
          "end_time": "2021-07-23T14:56:49.830758",
          "exception": false,
          "start_time": "2021-07-23T14:56:49.816002",
          "status": "completed"
        },
        "tags": [],
        "id": "9VPlBoKRpgQV"
      },
      "source": [
        "**Exercise 1:** First, get familiar with the data. Determine the dimensions of our data set and calculate the $p/n$ ratio. Do we have a high-dimensional setting?"
      ]
    },
    {
      "cell_type": "code",
      "source": [
        "head(growth)"
      ],
      "metadata": {
        "colab": {
          "base_uri": "https://localhost:8080/",
          "height": 286
        },
        "id": "gG9wncw25Q3r",
        "outputId": "6d1b7467-c4ab-4acb-bb93-0a2521770382"
      },
      "execution_count": 3,
      "outputs": [
        {
          "output_type": "display_data",
          "data": {
            "text/html": [
              "<table class=\"dataframe\">\n",
              "<caption>A data.frame: 6 × 63</caption>\n",
              "<thead>\n",
              "\t<tr><th></th><th scope=col>Outcome</th><th scope=col>intercept</th><th scope=col>gdpsh465</th><th scope=col>bmp1l</th><th scope=col>freeop</th><th scope=col>freetar</th><th scope=col>h65</th><th scope=col>hm65</th><th scope=col>hf65</th><th scope=col>p65</th><th scope=col>⋯</th><th scope=col>seccf65</th><th scope=col>syr65</th><th scope=col>syrm65</th><th scope=col>syrf65</th><th scope=col>teapri65</th><th scope=col>teasec65</th><th scope=col>ex1</th><th scope=col>im1</th><th scope=col>xr65</th><th scope=col>tot1</th></tr>\n",
              "\t<tr><th></th><th scope=col>&lt;dbl&gt;</th><th scope=col>&lt;int&gt;</th><th scope=col>&lt;dbl&gt;</th><th scope=col>&lt;dbl&gt;</th><th scope=col>&lt;dbl&gt;</th><th scope=col>&lt;dbl&gt;</th><th scope=col>&lt;dbl&gt;</th><th scope=col>&lt;dbl&gt;</th><th scope=col>&lt;dbl&gt;</th><th scope=col>&lt;dbl&gt;</th><th scope=col>⋯</th><th scope=col>&lt;dbl&gt;</th><th scope=col>&lt;dbl&gt;</th><th scope=col>&lt;dbl&gt;</th><th scope=col>&lt;dbl&gt;</th><th scope=col>&lt;dbl&gt;</th><th scope=col>&lt;dbl&gt;</th><th scope=col>&lt;dbl&gt;</th><th scope=col>&lt;dbl&gt;</th><th scope=col>&lt;dbl&gt;</th><th scope=col>&lt;dbl&gt;</th></tr>\n",
              "</thead>\n",
              "<tbody>\n",
              "\t<tr><th scope=row>1</th><td>-0.02433575</td><td>1</td><td>6.591674</td><td>0.2837</td><td>0.153491</td><td>0.043888</td><td>0.007</td><td>0.013</td><td>0.001</td><td>0.29</td><td>⋯</td><td> 0.04</td><td>0.033</td><td>0.057</td><td>0.010</td><td>47.6</td><td>17.3</td><td>0.0729</td><td>0.0667</td><td>0.348</td><td>-0.014727</td></tr>\n",
              "\t<tr><th scope=row>2</th><td> 0.10047257</td><td>1</td><td>6.829794</td><td>0.6141</td><td>0.313509</td><td>0.061827</td><td>0.019</td><td>0.032</td><td>0.007</td><td>0.91</td><td>⋯</td><td> 0.64</td><td>0.173</td><td>0.274</td><td>0.067</td><td>57.1</td><td>18.0</td><td>0.0940</td><td>0.1438</td><td>0.525</td><td> 0.005750</td></tr>\n",
              "\t<tr><th scope=row>3</th><td> 0.06705148</td><td>1</td><td>8.895082</td><td>0.0000</td><td>0.204244</td><td>0.009186</td><td>0.260</td><td>0.325</td><td>0.201</td><td>1.00</td><td>⋯</td><td>18.14</td><td>2.573</td><td>2.478</td><td>2.667</td><td>26.5</td><td>20.7</td><td>0.1741</td><td>0.1750</td><td>1.082</td><td>-0.010040</td></tr>\n",
              "\t<tr><th scope=row>4</th><td> 0.06408917</td><td>1</td><td>7.565275</td><td>0.1997</td><td>0.248714</td><td>0.036270</td><td>0.061</td><td>0.070</td><td>0.051</td><td>1.00</td><td>⋯</td><td> 2.63</td><td>0.438</td><td>0.453</td><td>0.424</td><td>27.8</td><td>22.7</td><td>0.1265</td><td>0.1496</td><td>6.625</td><td>-0.002195</td></tr>\n",
              "\t<tr><th scope=row>5</th><td> 0.02792955</td><td>1</td><td>7.162397</td><td>0.1740</td><td>0.299252</td><td>0.037367</td><td>0.017</td><td>0.027</td><td>0.007</td><td>0.82</td><td>⋯</td><td> 2.11</td><td>0.257</td><td>0.287</td><td>0.229</td><td>34.5</td><td>17.6</td><td>0.1211</td><td>0.1308</td><td>2.500</td><td> 0.003283</td></tr>\n",
              "\t<tr><th scope=row>6</th><td> 0.04640744</td><td>1</td><td>7.218910</td><td>0.0000</td><td>0.258865</td><td>0.020880</td><td>0.023</td><td>0.038</td><td>0.006</td><td>0.50</td><td>⋯</td><td> 1.46</td><td>0.160</td><td>0.174</td><td>0.146</td><td>34.3</td><td> 8.1</td><td>0.0634</td><td>0.0762</td><td>1.000</td><td>-0.001747</td></tr>\n",
              "</tbody>\n",
              "</table>\n"
            ],
            "text/markdown": "\nA data.frame: 6 × 63\n\n| <!--/--> | Outcome &lt;dbl&gt; | intercept &lt;int&gt; | gdpsh465 &lt;dbl&gt; | bmp1l &lt;dbl&gt; | freeop &lt;dbl&gt; | freetar &lt;dbl&gt; | h65 &lt;dbl&gt; | hm65 &lt;dbl&gt; | hf65 &lt;dbl&gt; | p65 &lt;dbl&gt; | ⋯ ⋯ | seccf65 &lt;dbl&gt; | syr65 &lt;dbl&gt; | syrm65 &lt;dbl&gt; | syrf65 &lt;dbl&gt; | teapri65 &lt;dbl&gt; | teasec65 &lt;dbl&gt; | ex1 &lt;dbl&gt; | im1 &lt;dbl&gt; | xr65 &lt;dbl&gt; | tot1 &lt;dbl&gt; |\n|---|---|---|---|---|---|---|---|---|---|---|---|---|---|---|---|---|---|---|---|---|---|\n| 1 | -0.02433575 | 1 | 6.591674 | 0.2837 | 0.153491 | 0.043888 | 0.007 | 0.013 | 0.001 | 0.29 | ⋯ |  0.04 | 0.033 | 0.057 | 0.010 | 47.6 | 17.3 | 0.0729 | 0.0667 | 0.348 | -0.014727 |\n| 2 |  0.10047257 | 1 | 6.829794 | 0.6141 | 0.313509 | 0.061827 | 0.019 | 0.032 | 0.007 | 0.91 | ⋯ |  0.64 | 0.173 | 0.274 | 0.067 | 57.1 | 18.0 | 0.0940 | 0.1438 | 0.525 |  0.005750 |\n| 3 |  0.06705148 | 1 | 8.895082 | 0.0000 | 0.204244 | 0.009186 | 0.260 | 0.325 | 0.201 | 1.00 | ⋯ | 18.14 | 2.573 | 2.478 | 2.667 | 26.5 | 20.7 | 0.1741 | 0.1750 | 1.082 | -0.010040 |\n| 4 |  0.06408917 | 1 | 7.565275 | 0.1997 | 0.248714 | 0.036270 | 0.061 | 0.070 | 0.051 | 1.00 | ⋯ |  2.63 | 0.438 | 0.453 | 0.424 | 27.8 | 22.7 | 0.1265 | 0.1496 | 6.625 | -0.002195 |\n| 5 |  0.02792955 | 1 | 7.162397 | 0.1740 | 0.299252 | 0.037367 | 0.017 | 0.027 | 0.007 | 0.82 | ⋯ |  2.11 | 0.257 | 0.287 | 0.229 | 34.5 | 17.6 | 0.1211 | 0.1308 | 2.500 |  0.003283 |\n| 6 |  0.04640744 | 1 | 7.218910 | 0.0000 | 0.258865 | 0.020880 | 0.023 | 0.038 | 0.006 | 0.50 | ⋯ |  1.46 | 0.160 | 0.174 | 0.146 | 34.3 |  8.1 | 0.0634 | 0.0762 | 1.000 | -0.001747 |\n\n",
            "text/latex": "A data.frame: 6 × 63\n\\begin{tabular}{r|lllllllllllllllllllll}\n  & Outcome & intercept & gdpsh465 & bmp1l & freeop & freetar & h65 & hm65 & hf65 & p65 & ⋯ & seccf65 & syr65 & syrm65 & syrf65 & teapri65 & teasec65 & ex1 & im1 & xr65 & tot1\\\\\n  & <dbl> & <int> & <dbl> & <dbl> & <dbl> & <dbl> & <dbl> & <dbl> & <dbl> & <dbl> & ⋯ & <dbl> & <dbl> & <dbl> & <dbl> & <dbl> & <dbl> & <dbl> & <dbl> & <dbl> & <dbl>\\\\\n\\hline\n\t1 & -0.02433575 & 1 & 6.591674 & 0.2837 & 0.153491 & 0.043888 & 0.007 & 0.013 & 0.001 & 0.29 & ⋯ &  0.04 & 0.033 & 0.057 & 0.010 & 47.6 & 17.3 & 0.0729 & 0.0667 & 0.348 & -0.014727\\\\\n\t2 &  0.10047257 & 1 & 6.829794 & 0.6141 & 0.313509 & 0.061827 & 0.019 & 0.032 & 0.007 & 0.91 & ⋯ &  0.64 & 0.173 & 0.274 & 0.067 & 57.1 & 18.0 & 0.0940 & 0.1438 & 0.525 &  0.005750\\\\\n\t3 &  0.06705148 & 1 & 8.895082 & 0.0000 & 0.204244 & 0.009186 & 0.260 & 0.325 & 0.201 & 1.00 & ⋯ & 18.14 & 2.573 & 2.478 & 2.667 & 26.5 & 20.7 & 0.1741 & 0.1750 & 1.082 & -0.010040\\\\\n\t4 &  0.06408917 & 1 & 7.565275 & 0.1997 & 0.248714 & 0.036270 & 0.061 & 0.070 & 0.051 & 1.00 & ⋯ &  2.63 & 0.438 & 0.453 & 0.424 & 27.8 & 22.7 & 0.1265 & 0.1496 & 6.625 & -0.002195\\\\\n\t5 &  0.02792955 & 1 & 7.162397 & 0.1740 & 0.299252 & 0.037367 & 0.017 & 0.027 & 0.007 & 0.82 & ⋯ &  2.11 & 0.257 & 0.287 & 0.229 & 34.5 & 17.6 & 0.1211 & 0.1308 & 2.500 &  0.003283\\\\\n\t6 &  0.04640744 & 1 & 7.218910 & 0.0000 & 0.258865 & 0.020880 & 0.023 & 0.038 & 0.006 & 0.50 & ⋯ &  1.46 & 0.160 & 0.174 & 0.146 & 34.3 &  8.1 & 0.0634 & 0.0762 & 1.000 & -0.001747\\\\\n\\end{tabular}\n",
            "text/plain": [
              "  Outcome     intercept gdpsh465 bmp1l  freeop   freetar  h65   hm65  hf65 \n",
              "1 -0.02433575 1         6.591674 0.2837 0.153491 0.043888 0.007 0.013 0.001\n",
              "2  0.10047257 1         6.829794 0.6141 0.313509 0.061827 0.019 0.032 0.007\n",
              "3  0.06705148 1         8.895082 0.0000 0.204244 0.009186 0.260 0.325 0.201\n",
              "4  0.06408917 1         7.565275 0.1997 0.248714 0.036270 0.061 0.070 0.051\n",
              "5  0.02792955 1         7.162397 0.1740 0.299252 0.037367 0.017 0.027 0.007\n",
              "6  0.04640744 1         7.218910 0.0000 0.258865 0.020880 0.023 0.038 0.006\n",
              "  p65  ⋯ seccf65 syr65 syrm65 syrf65 teapri65 teasec65 ex1    im1    xr65 \n",
              "1 0.29 ⋯  0.04   0.033 0.057  0.010  47.6     17.3     0.0729 0.0667 0.348\n",
              "2 0.91 ⋯  0.64   0.173 0.274  0.067  57.1     18.0     0.0940 0.1438 0.525\n",
              "3 1.00 ⋯ 18.14   2.573 2.478  2.667  26.5     20.7     0.1741 0.1750 1.082\n",
              "4 1.00 ⋯  2.63   0.438 0.453  0.424  27.8     22.7     0.1265 0.1496 6.625\n",
              "5 0.82 ⋯  2.11   0.257 0.287  0.229  34.5     17.6     0.1211 0.1308 2.500\n",
              "6 0.50 ⋯  1.46   0.160 0.174  0.146  34.3      8.1     0.0634 0.0762 1.000\n",
              "  tot1     \n",
              "1 -0.014727\n",
              "2  0.005750\n",
              "3 -0.010040\n",
              "4 -0.002195\n",
              "5  0.003283\n",
              "6 -0.001747"
            ]
          },
          "metadata": {}
        }
      ]
    },
    {
      "cell_type": "code",
      "execution_count": 4,
      "metadata": {
        "execution": {
          "iopub.execute_input": "2021-07-23T14:56:49.894400Z",
          "iopub.status.busy": "2021-07-23T14:56:49.865481Z",
          "iopub.status.idle": "2021-07-23T14:56:49.908178Z",
          "shell.execute_reply": "2021-07-23T14:56:49.906892Z"
        },
        "papermill": {
          "duration": 0.061643,
          "end_time": "2021-07-23T14:56:49.908348",
          "exception": false,
          "start_time": "2021-07-23T14:56:49.846705",
          "status": "completed"
        },
        "tags": [],
        "colab": {
          "base_uri": "https://localhost:8080/",
          "height": 34
        },
        "id": "5vn1wStcpgQW",
        "outputId": "74465b62-d3c9-49ee-e48d-94e89aa259a7"
      },
      "outputs": [
        {
          "output_type": "display_data",
          "data": {
            "text/html": [
              "<style>\n",
              ".list-inline {list-style: none; margin:0; padding: 0}\n",
              ".list-inline>li {display: inline-block}\n",
              ".list-inline>li:not(:last-child)::after {content: \"\\00b7\"; padding: 0 .5ex}\n",
              "</style>\n",
              "<ol class=list-inline><li>90</li><li>63</li></ol>\n"
            ],
            "text/markdown": "1. 90\n2. 63\n\n\n",
            "text/latex": "\\begin{enumerate*}\n\\item 90\n\\item 63\n\\end{enumerate*}\n",
            "text/plain": [
              "[1] 90 63"
            ]
          },
          "metadata": {}
        }
      ],
      "source": [
        "dim(growth)"
      ]
    },
    {
      "cell_type": "markdown",
      "metadata": {
        "papermill": {
          "duration": 0.015832,
          "end_time": "2021-07-23T14:56:49.939915",
          "exception": false,
          "start_time": "2021-07-23T14:56:49.924083",
          "status": "completed"
        },
        "tags": [],
        "id": "oZxooY2IpgQX"
      },
      "source": [
        "The sample contains $90$ countries and $63$ controls. Thus $p \\approx 60$, $n=90$ and $p/n$ is not small. We expect the least squares method to provide a poor estimate of $\\beta_1$.  We expect the method based on partialling-out with Lasso to provide a high quality estimate of $\\beta_1$."
      ]
    },
    {
      "cell_type": "markdown",
      "metadata": {
        "papermill": {
          "duration": 0.015866,
          "end_time": "2021-07-23T14:56:49.971824",
          "exception": false,
          "start_time": "2021-07-23T14:56:49.955958",
          "status": "completed"
        },
        "tags": [],
        "id": "xULXmfS6pgQY"
      },
      "source": [
        "**Exercise 2:** To check the convergence hypothesis, analyze the relationship between the country's growth rate $Y$ and the country's other characteristics by running a linear regression (ols) in the first step. Determine the regression coefficient $\\beta_1$ of the target regressor *gdpsh465* (initial wealth level, $D$), its 95% confidence interval and the standard error."
      ]
    },
    {
      "cell_type": "code",
      "execution_count": 5,
      "metadata": {
        "execution": {
          "iopub.execute_input": "2021-07-23T14:56:50.013341Z",
          "iopub.status.busy": "2021-07-23T14:56:50.007726Z",
          "iopub.status.idle": "2021-07-23T14:56:50.035082Z",
          "shell.execute_reply": "2021-07-23T14:56:50.033649Z"
        },
        "papermill": {
          "duration": 0.047258,
          "end_time": "2021-07-23T14:56:50.035429",
          "exception": false,
          "start_time": "2021-07-23T14:56:49.988171",
          "status": "completed"
        },
        "tags": [],
        "id": "kQUv5QsYpgQY"
      },
      "outputs": [],
      "source": [
        "reg.ols <- lm(Outcome~.-1,data=growth)"
      ]
    },
    {
      "cell_type": "code",
      "execution_count": 6,
      "metadata": {
        "execution": {
          "iopub.execute_input": "2021-07-23T14:56:50.106026Z",
          "iopub.status.busy": "2021-07-23T14:56:50.104799Z",
          "iopub.status.idle": "2021-07-23T14:56:50.161823Z",
          "shell.execute_reply": "2021-07-23T14:56:50.159527Z"
        },
        "papermill": {
          "duration": 0.077315,
          "end_time": "2021-07-23T14:56:50.162063",
          "exception": false,
          "start_time": "2021-07-23T14:56:50.084748",
          "status": "completed"
        },
        "tags": [],
        "id": "-3NW0zW5pgQZ",
        "colab": {
          "base_uri": "https://localhost:8080/"
        },
        "outputId": "fa5999a4-540b-4878-e3b6-70f5a59610cf"
      },
      "outputs": [
        {
          "output_type": "stream",
          "name": "stdout",
          "text": [
            "    Estimate   Std. Error      t value     Pr(>|t|) \n",
            "-0.009377989  0.029887726 -0.313773911  0.756018518 \n"
          ]
        }
      ],
      "source": [
        "est_ols <- summary(reg.ols)$coef[\"gdpsh465\",1]\n",
        "# output: estimated regression coefficient corresponding to the target regressor\n",
        "\n",
        "std_ols <- summary(reg.ols)$coef[\"gdpsh465\",2]\n",
        "# output: std. error\n",
        "\n",
        "ci_ols <- confint(reg.ols)[2,]\n",
        "# output: 95% confidence interval\n",
        "\n",
        "results_ols <- as.data.frame(cbind(est_ols,std_ols,ci_ols[1],ci_ols[2]))\n",
        "colnames(results_ols) <-c(\"estimator\",\"standard error\", \"lower bound CI\", \"upper bound CI\")\n",
        "rownames(results_ols) <-c(\"OLS\")\n",
        "print(summary(reg.ols)$coef[\"gdpsh465\",1:4])"
      ]
    },
    {
      "cell_type": "code",
      "execution_count": 7,
      "metadata": {
        "execution": {
          "iopub.execute_input": "2021-07-23T14:56:50.224015Z",
          "iopub.status.busy": "2021-07-23T14:56:50.221780Z",
          "iopub.status.idle": "2021-07-23T14:56:50.298242Z",
          "shell.execute_reply": "2021-07-23T14:56:50.296182Z"
        },
        "papermill": {
          "duration": 0.109052,
          "end_time": "2021-07-23T14:56:50.298416",
          "exception": false,
          "start_time": "2021-07-23T14:56:50.189364",
          "status": "completed"
        },
        "tags": [],
        "colab": {
          "base_uri": "https://localhost:8080/"
        },
        "id": "ySiPXYrOpgQa",
        "outputId": "da8e55c8-770b-497d-d0ce-82ba8a389b68"
      },
      "outputs": [
        {
          "output_type": "stream",
          "name": "stdout",
          "text": [
            "<!-- html table generated in R 4.5.0 by xtable 1.8-4 package -->\n",
            "<!-- Thu May 22 07:33:24 2025 -->\n",
            "<table border=1>\n",
            "<tr> <th>  </th> <th> estimator </th> <th> standard error </th> <th> lower bound CI </th> <th> upper bound CI </th>  </tr>\n",
            "  <tr> <td align=\"right\"> OLS </td> <td align=\"right\"> -0.009 </td> <td align=\"right\"> 0.030 </td> <td align=\"right\"> -0.071 </td> <td align=\"right\"> 0.052 </td> </tr>\n",
            "   </table>\n"
          ]
        }
      ],
      "source": [
        "library(xtable)\n",
        "table <- matrix(0, 1, 4)\n",
        "table[1,1:4]   <- c(est_ols,std_ols,ci_ols[1],ci_ols[2])\n",
        "colnames(table) <-c(\"estimator\",\"standard error\", \"lower bound CI\", \"upper bound CI\")\n",
        "rownames(table) <-c(\"OLS\")\n",
        "tab<- xtable(table, digits = 3)\n",
        "print(tab,type=\"html\") # set type=\"latex\" for printing table in LaTeX"
      ]
    },
    {
      "cell_type": "markdown",
      "metadata": {
        "papermill": {
          "duration": 0.015949,
          "end_time": "2021-07-23T14:56:50.330711",
          "exception": false,
          "start_time": "2021-07-23T14:56:50.314762",
          "status": "completed"
        },
        "tags": [],
        "id": "zOjlhXfZpgQa"
      },
      "source": [
        "<!-- html table generated in R 3.6.3 by xtable 1.8-4 package -->\n",
        "<!-- Tue Jan 19 10:23:32 2021 -->\n",
        "<table border=1>\n",
        "<tr> <th>  </th> <th> estimator </th> <th> standard error </th> <th> lower bound CI </th> <th> upper bound CI </th>  </tr>\n",
        "  <tr> <td align=\"right\"> OLS </td> <td align=\"right\"> -0.009 </td> <td align=\"right\"> 0.030 </td> <td align=\"right\"> -0.071 </td> <td align=\"right\"> 0.052 </td> </tr>\n",
        "   </table>"
      ]
    },
    {
      "cell_type": "markdown",
      "metadata": {
        "papermill": {
          "duration": 0.016223,
          "end_time": "2021-07-23T14:56:50.363060",
          "exception": false,
          "start_time": "2021-07-23T14:56:50.346837",
          "status": "completed"
        },
        "tags": [],
        "id": "q_y3--W4pgQb"
      },
      "source": [
        "As expected, least squares provides a rather noisy estimate of the speed of convergence, and does not allow us to answer the question about the convergence hypothesis as the confidence interval includes zero."
      ]
    },
    {
      "cell_type": "markdown",
      "metadata": {
        "papermill": {
          "duration": 0.015859,
          "end_time": "2021-07-23T14:56:50.394977",
          "exception": false,
          "start_time": "2021-07-23T14:56:50.379118",
          "status": "completed"
        },
        "tags": [],
        "id": "TXZYCInDpgQb"
      },
      "source": [
        "**Exercise 3:** In contrast, use the partialling-out approach based on lasso regression (\"Double Lasso\"). Again, determine the regression coefficient $\\beta_1$ of the target regressor *gdpsh465* (initial wealth level, $D$), its 95% confidence interval and the standard error."
      ]
    },
    {
      "cell_type": "code",
      "execution_count": 8,
      "metadata": {
        "execution": {
          "iopub.execute_input": "2021-07-23T14:56:50.432184Z",
          "iopub.status.busy": "2021-07-23T14:56:50.430820Z",
          "iopub.status.idle": "2021-07-23T14:56:50.814526Z",
          "shell.execute_reply": "2021-07-23T14:56:50.812590Z"
        },
        "papermill": {
          "duration": 0.403815,
          "end_time": "2021-07-23T14:56:50.814688",
          "exception": false,
          "start_time": "2021-07-23T14:56:50.410873",
          "status": "completed"
        },
        "tags": [],
        "colab": {
          "base_uri": "https://localhost:8080/"
        },
        "id": "-GpUvxPqpgQc",
        "outputId": "82a292f0-fb80-47d3-905b-4530fcb8007b"
      },
      "outputs": [
        {
          "output_type": "stream",
          "name": "stdout",
          "text": [
            "<!-- html table generated in R 4.5.0 by xtable 1.8-4 package -->\n",
            "<!-- Thu May 22 07:33:38 2025 -->\n",
            "<table border=1>\n",
            "<tr> <th>  </th> <th> estimator </th> <th> standard error </th> <th> lower bound CI </th> <th> upper bound CI </th>  </tr>\n",
            "  <tr> <td align=\"right\"> Double Lasso </td> <td align=\"right\"> -0.04981 </td> <td align=\"right\"> 0.01394 </td> <td align=\"right\"> -0.07751 </td> <td align=\"right\"> -0.02212 </td> </tr>\n",
            "   </table>\n"
          ]
        }
      ],
      "source": [
        "Y <- growth[, 1, drop = F] # output variable\n",
        "W <- as.matrix(growth)[, -c(1, 2,3)] # controls\n",
        "D <- growth[, 3, drop = F] # target regressor\n",
        "\n",
        "r.Y <- rlasso(x=W,y=Y)$res # creates the \"residual\" output variable\n",
        "r.D <- rlasso(x=W,y=D)$res # creates the \"residual\" target regressor\n",
        "partial.lasso <- lm(r.Y ~ r.D)\n",
        "est_lasso <- partial.lasso$coef[2]\n",
        "std_lasso <- summary(partial.lasso)$coef[2,2]\n",
        "ci_lasso <- confint(partial.lasso)[2,]\n",
        "\n",
        "library(xtable)\n",
        "table <- matrix(0, 1, 4)\n",
        "table[1,1:4]   <- c(est_lasso,std_lasso,ci_lasso[1],ci_lasso[2])\n",
        "colnames(table) <-c(\"estimator\",\"standard error\", \"lower bound CI\", \"upper bound CI\")\n",
        "rownames(table) <-c(\"Double Lasso\")\n",
        "tab<- xtable(table, digits = 5)\n",
        "print(tab,type=\"html\") # set type=\"latex\" for printing table in LaTeX"
      ]
    },
    {
      "cell_type": "markdown",
      "metadata": {
        "papermill": {
          "duration": 0.017446,
          "end_time": "2021-07-23T14:56:50.848970",
          "exception": false,
          "start_time": "2021-07-23T14:56:50.831524",
          "status": "completed"
        },
        "tags": [],
        "id": "wIoC-P0ZpgQc"
      },
      "source": [
        "<!-- html table generated in R 3.6.3 by xtable 1.8-4 package -->\n",
        "<!-- Tue Jan 19 10:23:51 2021 -->\n",
        "<table border=1>\n",
        "<tr> <th>  </th> <th> estimator </th> <th> standard error </th> <th> lower bound CI </th> <th> upper bound CI </th>  </tr>\n",
        "  <tr> <td align=\"right\"> Double Lasso </td> <td align=\"right\"> -0.050 </td> <td align=\"right\"> 0.014 </td> <td align=\"right\"> -0.078 </td> <td align=\"right\"> -0.022 </td> </tr>\n",
        "   </table>\n"
      ]
    },
    {
      "cell_type": "markdown",
      "metadata": {
        "papermill": {
          "duration": 0.016735,
          "end_time": "2021-07-23T14:56:50.882602",
          "exception": false,
          "start_time": "2021-07-23T14:56:50.865867",
          "status": "completed"
        },
        "tags": [],
        "id": "_Qj0j1fBpgQd"
      },
      "source": [
        "Lasso provides a more precise estimate (lower standard error). The Lasso based\n",
        "point estimate is  about $5\\%$ and the $95\\%$ confidence interval for the\n",
        "(annual) rate of convergence is $7.8\\%$ to $2.2\\%$. This empirical\n",
        "evidence does support the convergence hypothesis."
      ]
    },
    {
      "cell_type": "markdown",
      "metadata": {
        "papermill": {
          "duration": 0.016808,
          "end_time": "2021-07-23T14:56:50.916220",
          "exception": false,
          "start_time": "2021-07-23T14:56:50.899412",
          "status": "completed"
        },
        "tags": [],
        "id": "xbAg3hRopgQd"
      },
      "source": [
        "Note: Alternatively, one could also use the *rlassoEffect* funtion from the *hdm* package that directly applies the partialling-out approach."
      ]
    },
    {
      "cell_type": "code",
      "execution_count": 9,
      "metadata": {
        "execution": {
          "iopub.execute_input": "2021-07-23T14:56:50.956238Z",
          "iopub.status.busy": "2021-07-23T14:56:50.954546Z",
          "iopub.status.idle": "2021-07-23T14:56:51.246182Z",
          "shell.execute_reply": "2021-07-23T14:56:51.244404Z"
        },
        "papermill": {
          "duration": 0.31294,
          "end_time": "2021-07-23T14:56:51.246366",
          "exception": false,
          "start_time": "2021-07-23T14:56:50.933426",
          "status": "completed"
        },
        "tags": [],
        "colab": {
          "base_uri": "https://localhost:8080/",
          "height": 121
        },
        "id": "GIpKXnEupgQe",
        "outputId": "79e13f8f-fb56-4af6-bc2a-575c58ce74ee"
      },
      "outputs": [
        {
          "output_type": "display_data",
          "data": {
            "text/plain": [
              "\n",
              "Call:\n",
              "rlassoEffect(x = W, y = Y, d = D, method = \"partialling out\")\n",
              "\n",
              "Coefficients:\n",
              "[1]  -0.04981\n"
            ]
          },
          "metadata": {}
        }
      ],
      "source": [
        "lasso.effect = rlassoEffect(x = W, y = Y, d = D, method = \"partialling out\")\n",
        "lasso.effect"
      ]
    },
    {
      "cell_type": "markdown",
      "metadata": {
        "papermill": {
          "duration": 0.019246,
          "end_time": "2021-07-23T14:56:51.285117",
          "exception": false,
          "start_time": "2021-07-23T14:56:51.265871",
          "status": "completed"
        },
        "tags": [],
        "id": "73Sgo7ihpgQe"
      },
      "source": [
        "## Summary\n"
      ]
    },
    {
      "cell_type": "markdown",
      "metadata": {
        "papermill": {
          "duration": 0.019095,
          "end_time": "2021-07-23T14:56:51.323721",
          "exception": false,
          "start_time": "2021-07-23T14:56:51.304626",
          "status": "completed"
        },
        "tags": [],
        "id": "pyynpzxmpgQe"
      },
      "source": [
        "**Exercise 4:** Finally, let us have a look at the results. Compare the results of Exercise 2 and Exercise 3 and interpret your findings."
      ]
    },
    {
      "cell_type": "code",
      "execution_count": 10,
      "metadata": {
        "execution": {
          "iopub.execute_input": "2021-07-23T14:56:51.364240Z",
          "iopub.status.busy": "2021-07-23T14:56:51.362516Z",
          "iopub.status.idle": "2021-07-23T14:56:51.391221Z",
          "shell.execute_reply": "2021-07-23T14:56:51.389921Z"
        },
        "papermill": {
          "duration": 0.0504,
          "end_time": "2021-07-23T14:56:51.391387",
          "exception": false,
          "start_time": "2021-07-23T14:56:51.340987",
          "status": "completed"
        },
        "tags": [],
        "colab": {
          "base_uri": "https://localhost:8080/"
        },
        "id": "2WUDs1BHpgQf",
        "outputId": "5bc9bdac-63bf-4cd6-8e26-798125a78245"
      },
      "outputs": [
        {
          "output_type": "stream",
          "name": "stdout",
          "text": [
            "<!-- html table generated in R 4.5.0 by xtable 1.8-4 package -->\n",
            "<!-- Thu May 22 07:33:47 2025 -->\n",
            "<table border=1>\n",
            "<tr> <th>  </th> <th> estimator </th> <th> standard error </th> <th> lower bound CI </th> <th> upper bound CI </th>  </tr>\n",
            "  <tr> <td align=\"right\"> OLS </td> <td align=\"right\"> -0.009 </td> <td align=\"right\"> 0.030 </td> <td align=\"right\"> -0.071 </td> <td align=\"right\"> 0.052 </td> </tr>\n",
            "  <tr> <td align=\"right\"> Double Lasso </td> <td align=\"right\"> -0.050 </td> <td align=\"right\"> 0.014 </td> <td align=\"right\"> -0.078 </td> <td align=\"right\"> -0.022 </td> </tr>\n",
            "   </table>\n"
          ]
        }
      ],
      "source": [
        "library(xtable)\n",
        "table <- matrix(0, 2, 4)\n",
        "table[1,1:4]   <- c(est_ols,std_ols,ci_ols[1],ci_ols[2])\n",
        "table[2,1:4]   <- c(est_lasso,std_lasso,ci_lasso[1],ci_lasso[2])\n",
        "colnames(table) <-c(\"estimator\",\"standard error\", \"lower bound CI\", \"upper bound CI\")\n",
        "rownames(table) <-c(\"OLS\",\"Double Lasso\")\n",
        "tab<- xtable(table, digits = 3)\n",
        "print(tab,type=\"html\") # set type=\"latex\" for printing table in LaTeX"
      ]
    },
    {
      "cell_type": "markdown",
      "metadata": {
        "papermill": {
          "duration": 0.018814,
          "end_time": "2021-07-23T14:56:51.429665",
          "exception": false,
          "start_time": "2021-07-23T14:56:51.410851",
          "status": "completed"
        },
        "tags": [],
        "id": "kHwjmGfSpgQf"
      },
      "source": [
        "The least square method provides a rather noisy estimate of the speed of convergence. We cannot answer the question of whether poor countries grow faster than rich countries. The least square method does not work when the ratio $p/n$ is large.\n",
        "\n",
        "In sharp contrast, partialling-out via Lasso provides a more precise estimate. The Lasso-based point estimate is $-5\\%$ and the $95\\%$ confidence interval for the (annual) rate of convergence $[-7.8\\%,-2.2\\%]$ only includes negative numbers. This empirical evidence does support the convergence hypothesis.\n"
      ]
    },
    {
      "cell_type": "markdown",
      "metadata": {
        "papermill": {
          "duration": 0.017567,
          "end_time": "2021-07-23T14:56:51.464930",
          "exception": false,
          "start_time": "2021-07-23T14:56:51.447363",
          "status": "completed"
        },
        "tags": [],
        "id": "bkUQepT9pgQf"
      },
      "source": [
        "<!-- html table generated in R 3.6.3 by xtable 1.8-4 package -->\n",
        "<!-- Tue Jan 19 10:28:15 2021 -->\n",
        "<table border=1>\n",
        "<tr> <th>  </th> <th> estimator </th> <th> standard error </th> <th> lower bound CI </th> <th> upper bound CI </th>  </tr>\n",
        "  <tr> <td align=\"right\"> OLS </td> <td align=\"right\"> -0.009 </td> <td align=\"right\"> 0.030 </td> <td align=\"right\"> -0.071 </td> <td align=\"right\"> 0.052 </td> </tr>\n",
        "  <tr> <td align=\"right\"> Double Lasso </td> <td align=\"right\"> -0.050 </td> <td align=\"right\"> 0.014 </td> <td align=\"right\"> -0.078 </td> <td align=\"right\"> -0.022 </td> </tr>\n",
        "   </table>\n"
      ]
    }
  ],
  "metadata": {
    "kernelspec": {
      "display_name": "R",
      "language": "R",
      "name": "ir"
    },
    "language_info": {
      "codemirror_mode": "r",
      "file_extension": ".r",
      "mimetype": "text/x-r-source",
      "name": "R",
      "pygments_lexer": "r",
      "version": "3.6.3"
    },
    "papermill": {
      "default_parameters": {},
      "duration": 5.391798,
      "end_time": "2021-07-23T14:56:51.590767",
      "environment_variables": {},
      "exception": null,
      "input_path": "__notebook__.ipynb",
      "output_path": "__notebook__.ipynb",
      "parameters": {},
      "start_time": "2021-07-23T14:56:46.198969",
      "version": "2.2.2"
    },
    "colab": {
      "provenance": []
    },
    "gpuClass": "standard"
  },
  "nbformat": 4,
  "nbformat_minor": 0
}