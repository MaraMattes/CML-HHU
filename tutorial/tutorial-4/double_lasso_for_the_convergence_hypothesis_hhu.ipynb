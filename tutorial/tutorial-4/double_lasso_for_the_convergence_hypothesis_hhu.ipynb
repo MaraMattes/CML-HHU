{
  "cells": [
    {
      "cell_type": "markdown",
      "metadata": {
        "papermill": {
          "duration": 0.015441,
          "end_time": "2021-07-23T14:56:49.376566",
          "exception": false,
          "start_time": "2021-07-23T14:56:49.361125",
          "status": "completed"
        },
        "tags": [],
        "id": "ytthwDUFpgQD"
      },
      "source": [
        "This notebook contains an example for teaching."
      ]
    },
    {
      "cell_type": "markdown",
      "metadata": {
        "papermill": {
          "duration": 0.013819,
          "end_time": "2021-07-23T14:56:49.404777",
          "exception": false,
          "start_time": "2021-07-23T14:56:49.390958",
          "status": "completed"
        },
        "tags": [],
        "id": "jlWkbYSMpgQJ"
      },
      "source": [
        "# Double Lasso for Testing the Convergence Hypothesis"
      ]
    },
    {
      "cell_type": "markdown",
      "metadata": {
        "papermill": {
          "duration": 0.013887,
          "end_time": "2021-07-23T14:56:49.432663",
          "exception": false,
          "start_time": "2021-07-23T14:56:49.418776",
          "status": "completed"
        },
        "tags": [],
        "id": "3DVqHujIpgQK"
      },
      "source": [
        "## Introduction"
      ]
    },
    {
      "cell_type": "markdown",
      "metadata": {
        "papermill": {
          "duration": 0.013835,
          "end_time": "2021-07-23T14:56:49.460435",
          "exception": false,
          "start_time": "2021-07-23T14:56:49.446600",
          "status": "completed"
        },
        "tags": [],
        "id": "ZBK79s3-pgQL"
      },
      "source": [
        "We provide an additional empirical example of partialling-out with Lasso to estimate the regression coefficient $\\beta_1$ in the high-dimensional linear regression model:\n",
        "  $$\n",
        "  Y = \\beta_1 D +  \\beta_2'W + \\epsilon.\n",
        "  $$\n",
        "\n",
        "Specifically, we are interested in how the rates  at which economies of different countries grow ($Y$) are related to the initial wealth levels in each country ($D$) controlling for country's institutional, educational, and other similar characteristics ($W$).\n",
        "\n",
        "The relationship is captured by $\\beta_1$, the *speed of convergence/divergence*, which measures the speed at which poor countries catch up $(\\beta_1< 0)$ or fall behind $(\\beta_1> 0)$ rich countries, after controlling for $W$. Our inference question here is: do poor countries grow faster than rich countries, controlling for educational and other characteristics? In other words, is the speed of convergence negative: $ \\beta_1 <0?$ This is the Convergence Hypothesis predicted by the Solow Growth Model. This is a structural economic model. Under some strong assumptions that we won't state here, the predictive exercise we are doing here can be given a causal interpretation.\n"
      ]
    },
    {
      "cell_type": "markdown",
      "metadata": {
        "papermill": {
          "duration": 0.0142,
          "end_time": "2021-07-23T14:56:49.488498",
          "exception": false,
          "start_time": "2021-07-23T14:56:49.474298",
          "status": "completed"
        },
        "tags": [],
        "id": "h8qBcMYOpgQN"
      },
      "source": [
        "The outcome $Y$ is the realized annual growth rate of a country's wealth  (Gross Domestic Product per capita). The target regressor ($D$) is the initial level of the country's wealth. The target parameter $\\beta_1$ is the speed of convergence, which measures the speed at which poor countries catch up with rich countries. The controls ($W$) include measures of education levels, quality of institutions, trade openness, and political stability in the country."
      ]
    },
    {
      "cell_type": "markdown",
      "metadata": {
        "papermill": {
          "duration": 0.014102,
          "end_time": "2021-07-23T14:56:49.516541",
          "exception": false,
          "start_time": "2021-07-23T14:56:49.502439",
          "status": "completed"
        },
        "tags": [],
        "id": "a4va2I5kpgQO"
      },
      "source": [
        "## Data analysis\n"
      ]
    },
    {
      "cell_type": "code",
      "source": [
        "install.packages(c(\"hdm\",\"xtable\"))"
      ],
      "metadata": {
        "colab": {
          "base_uri": "https://localhost:8080/"
        },
        "id": "sbvMpyi7ppBk",
        "outputId": "fdb53b60-7ae9-4ede-82f8-6f1661acab47"
      },
      "execution_count": 1,
      "outputs": [
        {
          "output_type": "stream",
          "name": "stderr",
          "text": [
            "Installing packages into ‘/usr/local/lib/R/site-library’\n",
            "(as ‘lib’ is unspecified)\n",
            "\n",
            "also installing the dependencies ‘iterators’, ‘foreach’, ‘shape’, ‘RcppEigen’, ‘glmnet’, ‘checkmate’, ‘Formula’\n",
            "\n",
            "\n"
          ]
        }
      ]
    },
    {
      "cell_type": "markdown",
      "metadata": {
        "papermill": {
          "duration": 0.013919,
          "end_time": "2021-07-23T14:56:49.544407",
          "exception": false,
          "start_time": "2021-07-23T14:56:49.530488",
          "status": "completed"
        },
        "tags": [],
        "id": "vwJa4jyFpgQP"
      },
      "source": [
        "We consider the data set GrowthData which is included in the package *hdm*."
      ]
    },
    {
      "cell_type": "code",
      "execution_count": 2,
      "metadata": {
        "execution": {
          "iopub.execute_input": "2021-07-23T14:56:49.606672Z",
          "iopub.status.busy": "2021-07-23T14:56:49.604530Z",
          "iopub.status.idle": "2021-07-23T14:56:49.800306Z",
          "shell.execute_reply": "2021-07-23T14:56:49.798986Z"
        },
        "papermill": {
          "duration": 0.241973,
          "end_time": "2021-07-23T14:56:49.800536",
          "exception": false,
          "start_time": "2021-07-23T14:56:49.558563",
          "status": "completed"
        },
        "tags": [],
        "colab": {
          "base_uri": "https://localhost:8080/",
          "height": 69
        },
        "id": "75Ni8XzfpgQQ",
        "outputId": "514671e5-fe93-4fed-c00f-56106a235f2f"
      },
      "outputs": [
        {
          "output_type": "display_data",
          "data": {
            "text/html": [
              "<style>\n",
              ".list-inline {list-style: none; margin:0; padding: 0}\n",
              ".list-inline>li {display: inline-block}\n",
              ".list-inline>li:not(:last-child)::after {content: \"\\00b7\"; padding: 0 .5ex}\n",
              "</style>\n",
              "<ol class=list-inline><li>'Outcome'</li><li>'intercept'</li><li>'gdpsh465'</li><li>'bmp1l'</li><li>'freeop'</li><li>'freetar'</li><li>'h65'</li><li>'hm65'</li><li>'hf65'</li><li>'p65'</li><li>'pm65'</li><li>'pf65'</li><li>'s65'</li><li>'sm65'</li><li>'sf65'</li><li>'fert65'</li><li>'mort65'</li><li>'lifee065'</li><li>'gpop1'</li><li>'fert1'</li><li>'mort1'</li><li>'invsh41'</li><li>'geetot1'</li><li>'geerec1'</li><li>'gde1'</li><li>'govwb1'</li><li>'govsh41'</li><li>'gvxdxe41'</li><li>'high65'</li><li>'highm65'</li><li>'highf65'</li><li>'highc65'</li><li>'highcm65'</li><li>'highcf65'</li><li>'human65'</li><li>'humanm65'</li><li>'humanf65'</li><li>'hyr65'</li><li>'hyrm65'</li><li>'hyrf65'</li><li>'no65'</li><li>'nom65'</li><li>'nof65'</li><li>'pinstab1'</li><li>'pop65'</li><li>'worker65'</li><li>'pop1565'</li><li>'pop6565'</li><li>'sec65'</li><li>'secm65'</li><li>'secf65'</li><li>'secc65'</li><li>'seccm65'</li><li>'seccf65'</li><li>'syr65'</li><li>'syrm65'</li><li>'syrf65'</li><li>'teapri65'</li><li>'teasec65'</li><li>'ex1'</li><li>'im1'</li><li>'xr65'</li><li>'tot1'</li></ol>\n"
            ],
            "text/markdown": "1. 'Outcome'\n2. 'intercept'\n3. 'gdpsh465'\n4. 'bmp1l'\n5. 'freeop'\n6. 'freetar'\n7. 'h65'\n8. 'hm65'\n9. 'hf65'\n10. 'p65'\n11. 'pm65'\n12. 'pf65'\n13. 's65'\n14. 'sm65'\n15. 'sf65'\n16. 'fert65'\n17. 'mort65'\n18. 'lifee065'\n19. 'gpop1'\n20. 'fert1'\n21. 'mort1'\n22. 'invsh41'\n23. 'geetot1'\n24. 'geerec1'\n25. 'gde1'\n26. 'govwb1'\n27. 'govsh41'\n28. 'gvxdxe41'\n29. 'high65'\n30. 'highm65'\n31. 'highf65'\n32. 'highc65'\n33. 'highcm65'\n34. 'highcf65'\n35. 'human65'\n36. 'humanm65'\n37. 'humanf65'\n38. 'hyr65'\n39. 'hyrm65'\n40. 'hyrf65'\n41. 'no65'\n42. 'nom65'\n43. 'nof65'\n44. 'pinstab1'\n45. 'pop65'\n46. 'worker65'\n47. 'pop1565'\n48. 'pop6565'\n49. 'sec65'\n50. 'secm65'\n51. 'secf65'\n52. 'secc65'\n53. 'seccm65'\n54. 'seccf65'\n55. 'syr65'\n56. 'syrm65'\n57. 'syrf65'\n58. 'teapri65'\n59. 'teasec65'\n60. 'ex1'\n61. 'im1'\n62. 'xr65'\n63. 'tot1'\n\n\n",
            "text/latex": "\\begin{enumerate*}\n\\item 'Outcome'\n\\item 'intercept'\n\\item 'gdpsh465'\n\\item 'bmp1l'\n\\item 'freeop'\n\\item 'freetar'\n\\item 'h65'\n\\item 'hm65'\n\\item 'hf65'\n\\item 'p65'\n\\item 'pm65'\n\\item 'pf65'\n\\item 's65'\n\\item 'sm65'\n\\item 'sf65'\n\\item 'fert65'\n\\item 'mort65'\n\\item 'lifee065'\n\\item 'gpop1'\n\\item 'fert1'\n\\item 'mort1'\n\\item 'invsh41'\n\\item 'geetot1'\n\\item 'geerec1'\n\\item 'gde1'\n\\item 'govwb1'\n\\item 'govsh41'\n\\item 'gvxdxe41'\n\\item 'high65'\n\\item 'highm65'\n\\item 'highf65'\n\\item 'highc65'\n\\item 'highcm65'\n\\item 'highcf65'\n\\item 'human65'\n\\item 'humanm65'\n\\item 'humanf65'\n\\item 'hyr65'\n\\item 'hyrm65'\n\\item 'hyrf65'\n\\item 'no65'\n\\item 'nom65'\n\\item 'nof65'\n\\item 'pinstab1'\n\\item 'pop65'\n\\item 'worker65'\n\\item 'pop1565'\n\\item 'pop6565'\n\\item 'sec65'\n\\item 'secm65'\n\\item 'secf65'\n\\item 'secc65'\n\\item 'seccm65'\n\\item 'seccf65'\n\\item 'syr65'\n\\item 'syrm65'\n\\item 'syrf65'\n\\item 'teapri65'\n\\item 'teasec65'\n\\item 'ex1'\n\\item 'im1'\n\\item 'xr65'\n\\item 'tot1'\n\\end{enumerate*}\n",
            "text/plain": [
              " [1] \"Outcome\"   \"intercept\" \"gdpsh465\"  \"bmp1l\"     \"freeop\"    \"freetar\"  \n",
              " [7] \"h65\"       \"hm65\"      \"hf65\"      \"p65\"       \"pm65\"      \"pf65\"     \n",
              "[13] \"s65\"       \"sm65\"      \"sf65\"      \"fert65\"    \"mort65\"    \"lifee065\" \n",
              "[19] \"gpop1\"     \"fert1\"     \"mort1\"     \"invsh41\"   \"geetot1\"   \"geerec1\"  \n",
              "[25] \"gde1\"      \"govwb1\"    \"govsh41\"   \"gvxdxe41\"  \"high65\"    \"highm65\"  \n",
              "[31] \"highf65\"   \"highc65\"   \"highcm65\"  \"highcf65\"  \"human65\"   \"humanm65\" \n",
              "[37] \"humanf65\"  \"hyr65\"     \"hyrm65\"    \"hyrf65\"    \"no65\"      \"nom65\"    \n",
              "[43] \"nof65\"     \"pinstab1\"  \"pop65\"     \"worker65\"  \"pop1565\"   \"pop6565\"  \n",
              "[49] \"sec65\"     \"secm65\"    \"secf65\"    \"secc65\"    \"seccm65\"   \"seccf65\"  \n",
              "[55] \"syr65\"     \"syrm65\"    \"syrf65\"    \"teapri65\"  \"teasec65\"  \"ex1\"      \n",
              "[61] \"im1\"       \"xr65\"      \"tot1\"     "
            ]
          },
          "metadata": {}
        }
      ],
      "source": [
        "library(hdm) # package of ``high dimensional models (hdm)\" estimators\n",
        "growth <- GrowthData\n",
        "attach(growth)\n",
        "names(growth)"
      ]
    },
    {
      "cell_type": "markdown",
      "metadata": {
        "papermill": {
          "duration": 0.014756,
          "end_time": "2021-07-23T14:56:49.830758",
          "exception": false,
          "start_time": "2021-07-23T14:56:49.816002",
          "status": "completed"
        },
        "tags": [],
        "id": "9VPlBoKRpgQV"
      },
      "source": [
        "**Exercise 1:** First, get familiar with the data. Determine the dimensions of our data set and calculate the $p/n$ ratio. Do we have a high-dimensional setting?"
      ]
    },
    {
      "cell_type": "markdown",
      "metadata": {
        "papermill": {
          "duration": 0.015866,
          "end_time": "2021-07-23T14:56:49.971824",
          "exception": false,
          "start_time": "2021-07-23T14:56:49.955958",
          "status": "completed"
        },
        "tags": [],
        "id": "xULXmfS6pgQY"
      },
      "source": [
        "**Exercise 2:** To check the convergence hypothesis, analyze the relationship between the country's growth rate $Y$ and the country's other characteristics by running a linear regression (ols) in the first step. Determine the regression coefficient $\\beta_1$ of the target regressor *gdpsh465* (initial wealth level, $D$), its 95% confidence interval and the standard error."
      ]
    },
    {
      "cell_type": "markdown",
      "metadata": {
        "papermill": {
          "duration": 0.015859,
          "end_time": "2021-07-23T14:56:50.394977",
          "exception": false,
          "start_time": "2021-07-23T14:56:50.379118",
          "status": "completed"
        },
        "tags": [],
        "id": "TXZYCInDpgQb"
      },
      "source": [
        "**Exercise 3:** In contrast, use the partialling-out approach based on lasso regression (\"Double Lasso\"). Again, determine the regression coefficient $\\beta_1$ of the target regressor *gdpsh465* (initial wealth level, $D$), its 95% confidence interval and the standard error."
      ]
    },
    {
      "cell_type": "markdown",
      "metadata": {
        "papermill": {
          "duration": 0.019246,
          "end_time": "2021-07-23T14:56:51.285117",
          "exception": false,
          "start_time": "2021-07-23T14:56:51.265871",
          "status": "completed"
        },
        "tags": [],
        "id": "73Sgo7ihpgQe"
      },
      "source": [
        "## Summary\n"
      ]
    },
    {
      "cell_type": "markdown",
      "metadata": {
        "papermill": {
          "duration": 0.019095,
          "end_time": "2021-07-23T14:56:51.323721",
          "exception": false,
          "start_time": "2021-07-23T14:56:51.304626",
          "status": "completed"
        },
        "tags": [],
        "id": "pyynpzxmpgQe"
      },
      "source": [
        "**Exercise 4:** Finally, let us have a look at the results. Compare the results of Exercise 2 and Exercise 3 and interpret your findings."
      ]
    }
  ],
  "metadata": {
    "kernelspec": {
      "display_name": "R",
      "language": "R",
      "name": "ir"
    },
    "language_info": {
      "codemirror_mode": "r",
      "file_extension": ".r",
      "mimetype": "text/x-r-source",
      "name": "R",
      "pygments_lexer": "r",
      "version": "3.6.3"
    },
    "papermill": {
      "default_parameters": {},
      "duration": 5.391798,
      "end_time": "2021-07-23T14:56:51.590767",
      "environment_variables": {},
      "exception": null,
      "input_path": "__notebook__.ipynb",
      "output_path": "__notebook__.ipynb",
      "parameters": {},
      "start_time": "2021-07-23T14:56:46.198969",
      "version": "2.2.2"
    },
    "colab": {
      "provenance": []
    },
    "gpuClass": "standard"
  },
  "nbformat": 4,
  "nbformat_minor": 0
}