{
  "cells": [
    {
      "cell_type": "markdown",
      "metadata": {
        "papermill": {
          "duration": 0.011184,
          "end_time": "2021-02-28T17:17:25.882205",
          "exception": false,
          "start_time": "2021-02-28T17:17:25.871021",
          "status": "completed"
        },
        "tags": [],
        "id": "Fxd_7iSWFdCQ"
      },
      "source": [
        "# Application: Heterogeneous Effect of Gender on Wage Using Double Lasso\n",
        "\n",
        " We use US census data from the year 2012 to analyse the effect of gender and interaction effects of other variables with gender on wage jointly. The dependent variable is the logarithm of the wage, the target variable is *female* (in combination with other variables). All other variables denote some other socio-economic characteristics, e.g. marital status, education, and experience.  For a detailed description of the variables we refer to the help page.\n",
        "\n",
        "\n",
        "\n",
        "This analysis allows a closer look how discrimination according to gender is related to other socio-economic variables.\n",
        "\n"
      ]
    },
    {
      "cell_type": "markdown",
      "source": [
        "First, we have to load the following packages:"
      ],
      "metadata": {
        "id": "QRza0cfF1_GE"
      }
    },
    {
      "cell_type": "code",
      "source": [
        "install.packages(c(\"xtable\",\"hdm\"))"
      ],
      "metadata": {
        "colab": {
          "base_uri": "https://localhost:8080/"
        },
        "id": "QDD2xkg6Hb6z",
        "outputId": "633daf55-4227-4c0e-fcda-48f27381fd1b"
      },
      "execution_count": 1,
      "outputs": [
        {
          "output_type": "stream",
          "name": "stderr",
          "text": [
            "Installing packages into ‘/usr/local/lib/R/site-library’\n",
            "(as ‘lib’ is unspecified)\n",
            "\n",
            "also installing the dependencies ‘iterators’, ‘foreach’, ‘shape’, ‘RcppEigen’, ‘glmnet’, ‘checkmate’, ‘Formula’\n",
            "\n",
            "\n"
          ]
        }
      ]
    },
    {
      "cell_type": "markdown",
      "source": [
        "We consider the high-dimensional linear regression model:\n",
        "\n",
        "  $$\n",
        "  Y =  \\alpha_1 D + \\alpha_2 DZ +  \\beta W + \\varepsilon.\n",
        "  $$"
      ],
      "metadata": {
        "id": "IhY0Sz7knAwH"
      }
    },
    {
      "cell_type": "markdown",
      "source": [
        "We can load the data as follows:"
      ],
      "metadata": {
        "id": "TpkYRsLk2KLt"
      }
    },
    {
      "cell_type": "code",
      "execution_count": 9,
      "metadata": {
        "execution": {
          "iopub.execute_input": "2021-02-28T17:17:25.940403Z",
          "iopub.status.busy": "2021-02-28T17:17:25.937816Z",
          "iopub.status.idle": "2021-02-28T17:17:26.291065Z",
          "shell.execute_reply": "2021-02-28T17:17:26.289341Z"
        },
        "papermill": {
          "duration": 0.39942,
          "end_time": "2021-02-28T17:17:26.291369",
          "exception": false,
          "start_time": "2021-02-28T17:17:25.891949",
          "status": "completed"
        },
        "tags": [],
        "colab": {
          "base_uri": "https://localhost:8080/"
        },
        "id": "6DKyQGGeFdCS",
        "outputId": "5b6185f1-759c-4503-b92e-1902a00f86a6"
      },
      "outputs": [
        {
          "output_type": "stream",
          "name": "stdout",
          "text": [
            "'data.frame':\t29217 obs. of  23 variables:\n",
            " $ year        : num  2012 2012 2012 2012 2012 ...\n",
            " $ lnw         : num  1.91 1.37 2.54 1.8 3.35 ...\n",
            " $ female      : num  1 1 0 1 0 0 0 0 0 1 ...\n",
            " $ widowed     : num  0 0 0 0 0 0 0 0 0 0 ...\n",
            " $ divorced    : num  0 0 0 0 0 0 0 0 0 0 ...\n",
            " $ separated   : num  0 0 0 0 0 0 0 0 0 0 ...\n",
            " $ nevermarried: num  0 0 0 0 0 0 1 0 0 0 ...\n",
            " $ hsd08       : num  0 0 0 0 0 0 0 0 0 0 ...\n",
            " $ hsd911      : num  0 1 0 0 0 0 0 0 0 0 ...\n",
            " $ hsg         : num  0 0 1 1 0 1 1 0 0 0 ...\n",
            " $ cg          : num  0 0 0 0 1 0 0 0 1 0 ...\n",
            " $ ad          : num  0 0 0 0 0 0 0 0 0 0 ...\n",
            " $ mw          : num  0 0 0 0 0 0 0 0 0 0 ...\n",
            " $ so          : num  0 0 0 0 0 0 0 0 0 0 ...\n",
            " $ we          : num  0 0 0 0 0 0 0 0 0 0 ...\n",
            " $ exp1        : num  22 30 19 14 15 23 33 23.5 15 15.5 ...\n",
            " $ exp2        : num  4.84 9 3.61 1.96 2.25 ...\n",
            " $ exp3        : num  10.65 27 6.86 2.74 3.38 ...\n",
            " $ exp4        : num  23.43 81 13.03 3.84 5.06 ...\n",
            " $ weight      : num  569 626 264 257 257 ...\n",
            " $ married     : logi  TRUE TRUE TRUE TRUE TRUE TRUE ...\n",
            " $ ne          : logi  TRUE TRUE TRUE TRUE TRUE TRUE ...\n",
            " $ sc          : logi  TRUE FALSE FALSE FALSE FALSE FALSE ...\n"
          ]
        }
      ],
      "source": [
        "library(hdm)\n",
        "data(cps2012)\n",
        "str(cps2012)"
      ]
    },
    {
      "cell_type": "markdown",
      "source": [
        "You can use the following model matrix to estimate the target parameters $\\alpha_1$ and $\\alpha_2$:"
      ],
      "metadata": {
        "id": "35RqSchcnqtk"
      }
    },
    {
      "cell_type": "code",
      "execution_count": 10,
      "metadata": {
        "execution": {
          "iopub.execute_input": "2021-02-28T17:17:26.350577Z",
          "iopub.status.busy": "2021-02-28T17:17:26.317735Z",
          "iopub.status.idle": "2021-02-28T17:17:29.196789Z",
          "shell.execute_reply": "2021-02-28T17:17:29.194681Z"
        },
        "papermill": {
          "duration": 2.894102,
          "end_time": "2021-02-28T17:17:29.196986",
          "exception": false,
          "start_time": "2021-02-28T17:17:26.302884",
          "status": "completed"
        },
        "tags": [],
        "id": "OKtS6EF7FdCW"
      },
      "outputs": [],
      "source": [
        "# create the model matrix for the covariates\n",
        "X <- model.matrix(~-1 + female + female:(widowed + divorced + separated + nevermarried +\n",
        "hsd08 + hsd911 + hsg + cg + ad + mw + so + we + exp1 + exp2 + exp3) +(widowed +\n",
        "divorced + separated + nevermarried + hsd08 + hsd911 + hsg + cg + ad + mw + so +\n",
        "we + exp1 + exp2 + exp3)^2, data = cps2012)\n",
        "\n",
        "X <- X[, which(apply(X, 2, var) != 0)] # exclude all constant variables"
      ]
    },
    {
      "cell_type": "markdown",
      "source": [
        "**Exercise 1:** Have a look at the proposed model matrix above and compare it with the definiton of the linear regression model. Which variables are included in $Z$ and $W$?"
      ],
      "metadata": {
        "id": "sfS0DAxjn3_O"
      }
    },
    {
      "cell_type": "markdown",
      "source": [
        "**Exercise 2:** Demean the model matrix $X$, i.e., calculate the mean of each variable and substract it from each observation. Why could this be important? Hint: It could be helpful to use the function *apply()*."
      ],
      "metadata": {
        "id": "7KhJRuEXoUPy"
      }
    },
    {
      "cell_type": "markdown",
      "source": [
        "**Exercise 3:** Specify the relevant indices of the columns of $X$ that we are interested in and safe them as the variable \"index.gender\".\n",
        "Hint: These are the indices of the covariates corresponding to $\\alpha_1$ and $\\alpha_2$. The function *grep()* can be helpful."
      ],
      "metadata": {
        "id": "3s-F8rSEz3oL"
      }
    },
    {
      "cell_type": "markdown",
      "source": [
        "**Exercise 4:** Use the function *rlassoEffects* from the *hdm* package to estimate the parameters of interest. Have a look at the estimated coefficients. Do we have any significant heterogeneity? Hint: You just need to specify the *index* input parameter according to Exercise 3."
      ],
      "metadata": {
        "id": "k7O6KPFSzi24"
      }
    },
    {
      "cell_type": "markdown",
      "source": [
        "**Exercise 5:** Due to multiple testing issues, have a look at the joint confidence intervals (e.g., $90\\%$ confidence intervals). Do we still have significant heterogeneity? Hint: Set \"joint = TRUE\" in the *confint()* function."
      ],
      "metadata": {
        "id": "fKmzjv1Q0-Tk"
      }
    }
  ],
  "metadata": {
    "kernelspec": {
      "display_name": "R",
      "language": "R",
      "name": "ir"
    },
    "language_info": {
      "codemirror_mode": "r",
      "file_extension": ".r",
      "mimetype": "text/x-r-source",
      "name": "R",
      "pygments_lexer": "r",
      "version": "3.6.1"
    },
    "papermill": {
      "default_parameters": {},
      "duration": 89.365707,
      "end_time": "2021-02-28T17:18:51.003711",
      "environment_variables": {},
      "exception": null,
      "input_path": "__notebook__.ipynb",
      "output_path": "__notebook__.ipynb",
      "parameters": {},
      "start_time": "2021-02-28T17:17:21.638004",
      "version": "2.2.2"
    },
    "colab": {
      "provenance": []
    }
  },
  "nbformat": 4,
  "nbformat_minor": 0
}