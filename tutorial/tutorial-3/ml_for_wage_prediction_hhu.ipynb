{
  "cells": [
    {
      "cell_type": "code",
      "source": [
        "install.packages(c(\"xtable\",\"hdm\",\"randomForest\",\"gbm\",\"rpart.plot\"))"
      ],
      "metadata": {
        "colab": {
          "base_uri": "https://localhost:8080/"
        },
        "id": "Jw7rM1XIOrUy",
        "outputId": "adbf70c8-d05a-4559-cfb6-f8d53b69ac3e"
      },
      "execution_count": 15,
      "outputs": [
        {
          "output_type": "stream",
          "name": "stderr",
          "text": [
            "Installing packages into ‘/usr/local/lib/R/site-library’\n",
            "(as ‘lib’ is unspecified)\n",
            "\n"
          ]
        }
      ]
    },
    {
      "cell_type": "markdown",
      "metadata": {
        "_execution_state": "idle",
        "_uuid": "051d70d956493feee0c6d64651c6a088724dca2a",
        "papermill": {
          "duration": 0.037179,
          "end_time": "2021-07-22T21:33:20.414432",
          "exception": false,
          "start_time": "2021-07-22T21:33:20.377253",
          "status": "completed"
        },
        "tags": [],
        "id": "RiZ0CLz2K945"
      },
      "source": [
        "# Machine Learning Estimators for Wage Prediction"
      ]
    },
    {
      "cell_type": "markdown",
      "metadata": {
        "papermill": {
          "duration": 0.035632,
          "end_time": "2021-07-22T21:33:20.486115",
          "exception": false,
          "start_time": "2021-07-22T21:33:20.450483",
          "status": "completed"
        },
        "tags": [],
        "id": "Fdrv11U_K946"
      },
      "source": [
        "We illustrate how to predict an outcome variable Y in a high-dimensional setting, where the number of covariates $p$ is large in relation to the sample size $n$. So far we have only used basic linear regression for estimation\n",
        "Now, we also consider penalized regression models and nonlinear prediction rules including tree-based methods."
      ]
    },
    {
      "cell_type": "markdown",
      "metadata": {
        "papermill": {
          "duration": 0.035698,
          "end_time": "2021-07-22T21:33:20.558154",
          "exception": false,
          "start_time": "2021-07-22T21:33:20.522456",
          "status": "completed"
        },
        "tags": [],
        "id": "fFqfT3iTK947"
      },
      "source": [
        "## Data"
      ]
    },
    {
      "cell_type": "markdown",
      "metadata": {
        "papermill": {
          "duration": 0.035998,
          "end_time": "2021-07-22T21:33:20.630093",
          "exception": false,
          "start_time": "2021-07-22T21:33:20.594095",
          "status": "completed"
        },
        "tags": [],
        "id": "R68NJVWvK948"
      },
      "source": [
        "Again, we consider data from the U.S. March Supplement of the Current Population Survey (CPS) in 2015.\n",
        "The preproccessed sample consists of $5150$ never-married individuals."
      ]
    },
    {
      "cell_type": "code",
      "execution_count": 16,
      "metadata": {
        "execution": {
          "iopub.execute_input": "2021-07-22T21:33:20.735227Z",
          "iopub.status.busy": "2021-07-22T21:33:20.732866Z",
          "iopub.status.idle": "2021-07-22T21:33:20.898796Z",
          "shell.execute_reply": "2021-07-22T21:33:20.897685Z"
        },
        "papermill": {
          "duration": 0.232703,
          "end_time": "2021-07-22T21:33:20.899004",
          "exception": false,
          "start_time": "2021-07-22T21:33:20.666301",
          "status": "completed"
        },
        "tags": [],
        "colab": {
          "base_uri": "https://localhost:8080/",
          "height": 34
        },
        "id": "lLK1iyB2K949",
        "outputId": "e3578922-a1df-4b9e-91ab-bebbfbb23f1e"
      },
      "outputs": [
        {
          "output_type": "display_data",
          "data": {
            "text/html": [
              "<style>\n",
              ".list-inline {list-style: none; margin:0; padding: 0}\n",
              ".list-inline>li {display: inline-block}\n",
              ".list-inline>li:not(:last-child)::after {content: \"\\00b7\"; padding: 0 .5ex}\n",
              "</style>\n",
              "<ol class=list-inline><li>5150</li><li>20</li></ol>\n"
            ],
            "text/markdown": "1. 5150\n2. 20\n\n\n",
            "text/latex": "\\begin{enumerate*}\n\\item 5150\n\\item 20\n\\end{enumerate*}\n",
            "text/plain": [
              "[1] 5150   20"
            ]
          },
          "metadata": {}
        }
      ],
      "source": [
        "load(\"/content/wage2015_subsample_inference.rdata\")\n",
        "dim(data)"
      ]
    },
    {
      "cell_type": "markdown",
      "metadata": {
        "papermill": {
          "duration": 0.036385,
          "end_time": "2021-07-22T21:33:20.972103",
          "exception": false,
          "start_time": "2021-07-22T21:33:20.935718",
          "status": "completed"
        },
        "tags": [],
        "id": "ViGGMCkaK95C"
      },
      "source": [
        "The outcomes $Y_i$'s are hourly (log) wages of never-married workers living in the U.S. The raw regressors $Z_i$'s consist of a variety of characteristics, including experience, education and industry and occupation indicators."
      ]
    },
    {
      "cell_type": "code",
      "execution_count": 17,
      "metadata": {
        "execution": {
          "iopub.execute_input": "2021-07-22T21:33:21.078896Z",
          "iopub.status.busy": "2021-07-22T21:33:21.048765Z",
          "iopub.status.idle": "2021-07-22T21:33:21.095997Z",
          "shell.execute_reply": "2021-07-22T21:33:21.094629Z"
        },
        "papermill": {
          "duration": 0.087405,
          "end_time": "2021-07-22T21:33:21.096144",
          "exception": false,
          "start_time": "2021-07-22T21:33:21.008739",
          "status": "completed"
        },
        "tags": [],
        "colab": {
          "base_uri": "https://localhost:8080/",
          "height": 34
        },
        "id": "nruHDR5SK95D",
        "outputId": "90af2872-1c98-406d-ce41-b443c7708787"
      },
      "outputs": [
        {
          "output_type": "display_data",
          "data": {
            "text/html": [
              "<style>\n",
              ".list-inline {list-style: none; margin:0; padding: 0}\n",
              ".list-inline>li {display: inline-block}\n",
              ".list-inline>li:not(:last-child)::after {content: \"\\00b7\"; padding: 0 .5ex}\n",
              "</style>\n",
              "<ol class=list-inline><li>'sex'</li><li>'shs'</li><li>'hsg'</li><li>'scl'</li><li>'clg'</li><li>'ad'</li><li>'mw'</li><li>'so'</li><li>'we'</li><li>'ne'</li><li>'exp1'</li><li>'exp2'</li><li>'exp3'</li><li>'exp4'</li><li>'occ'</li><li>'occ2'</li><li>'ind'</li><li>'ind2'</li></ol>\n"
            ],
            "text/markdown": "1. 'sex'\n2. 'shs'\n3. 'hsg'\n4. 'scl'\n5. 'clg'\n6. 'ad'\n7. 'mw'\n8. 'so'\n9. 'we'\n10. 'ne'\n11. 'exp1'\n12. 'exp2'\n13. 'exp3'\n14. 'exp4'\n15. 'occ'\n16. 'occ2'\n17. 'ind'\n18. 'ind2'\n\n\n",
            "text/latex": "\\begin{enumerate*}\n\\item 'sex'\n\\item 'shs'\n\\item 'hsg'\n\\item 'scl'\n\\item 'clg'\n\\item 'ad'\n\\item 'mw'\n\\item 'so'\n\\item 'we'\n\\item 'ne'\n\\item 'exp1'\n\\item 'exp2'\n\\item 'exp3'\n\\item 'exp4'\n\\item 'occ'\n\\item 'occ2'\n\\item 'ind'\n\\item 'ind2'\n\\end{enumerate*}\n",
            "text/plain": [
              " [1] \"sex\"  \"shs\"  \"hsg\"  \"scl\"  \"clg\"  \"ad\"   \"mw\"   \"so\"   \"we\"   \"ne\"  \n",
              "[11] \"exp1\" \"exp2\" \"exp3\" \"exp4\" \"occ\"  \"occ2\" \"ind\"  \"ind2\""
            ]
          },
          "metadata": {}
        }
      ],
      "source": [
        "Z <- subset(data,select=-c(lwage,wage)) # regressors\n",
        "colnames(Z)"
      ]
    },
    {
      "cell_type": "markdown",
      "metadata": {
        "papermill": {
          "duration": 0.036941,
          "end_time": "2021-07-22T21:33:21.171426",
          "exception": false,
          "start_time": "2021-07-22T21:33:21.134485",
          "status": "completed"
        },
        "tags": [],
        "id": "suKOd8sxK95E"
      },
      "source": [
        "The following figure shows the weekly wage distribution from the US survey data."
      ]
    },
    {
      "cell_type": "code",
      "execution_count": 18,
      "metadata": {
        "execution": {
          "iopub.execute_input": "2021-07-22T21:33:21.250222Z",
          "iopub.status.busy": "2021-07-22T21:33:21.249037Z",
          "iopub.status.idle": "2021-07-22T21:33:21.551533Z",
          "shell.execute_reply": "2021-07-22T21:33:21.550113Z"
        },
        "papermill": {
          "duration": 0.343165,
          "end_time": "2021-07-22T21:33:21.551709",
          "exception": false,
          "start_time": "2021-07-22T21:33:21.208544",
          "status": "completed"
        },
        "tags": [],
        "colab": {
          "base_uri": "https://localhost:8080/",
          "height": 437
        },
        "id": "RozJNJdqK95G",
        "outputId": "aee84cf2-0593-4eb5-95c8-f3c7e4e5c7fa"
      },
      "outputs": [
        {
          "output_type": "display_data",
          "data": {
            "text/plain": [
              "Plot with title “Empirical wage distribution from the US survey data”"
            ],
            "image/png": "[encoded data removed]"
          },
          "metadata": {
            "image/png": {
              "width": 420,
              "height": 420
            }
          }
        }
      ],
      "source": [
        "hist(data$wage, xlab= \"hourly wage\", main=\"Empirical wage distribution from the US survey data\", breaks= 35)"
      ]
    },
    {
      "cell_type": "markdown",
      "metadata": {
        "papermill": {
          "duration": 0.038762,
          "end_time": "2021-07-22T21:33:21.629360",
          "exception": false,
          "start_time": "2021-07-22T21:33:21.590598",
          "status": "completed"
        },
        "tags": [],
        "id": "xtZL-EH5K95H"
      },
      "source": [
        "Wages show a high degree of skewness. Hence, wages are transformed in almost all studies by\n",
        "the logarithm."
      ]
    },
    {
      "cell_type": "markdown",
      "metadata": {
        "papermill": {
          "duration": 0.038159,
          "end_time": "2021-07-22T21:33:21.706383",
          "exception": false,
          "start_time": "2021-07-22T21:33:21.668224",
          "status": "completed"
        },
        "tags": [],
        "id": "oIfEmGqkK95I"
      },
      "source": [
        "## Analysis"
      ]
    },
    {
      "cell_type": "markdown",
      "metadata": {
        "papermill": {
          "duration": 0.038644,
          "end_time": "2021-07-22T21:33:21.783461",
          "exception": false,
          "start_time": "2021-07-22T21:33:21.744817",
          "status": "completed"
        },
        "tags": [],
        "id": "9Cme2WdRK95I"
      },
      "source": [
        "Due to the skewness of the data, we are considering log wages which leads to the following regression model\n",
        "\n",
        "$$log(wage) = g(Z) + \\epsilon.$$"
      ]
    },
    {
      "cell_type": "markdown",
      "metadata": {
        "papermill": {
          "duration": 0.038767,
          "end_time": "2021-07-22T21:33:21.861283",
          "exception": false,
          "start_time": "2021-07-22T21:33:21.822516",
          "status": "completed"
        },
        "tags": [],
        "id": "CI5jOy7nK95J"
      },
      "source": [
        "We will estimate the two sets of prediction rules: Linear and Nonlinear Models.\n",
        "In linear models, we estimate the prediction rule of the form\n",
        "\n",
        "$$\\hat g(Z) = \\hat \\beta'X.$$\n",
        "Again, we generate $X$ in two ways:\n",
        "\n",
        "1. Basic Model:   $X$ consists of a set of raw regressors (e.g. gender, experience, education indicators, regional indicators).\n",
        "\n",
        "\n",
        "2. Flexible Model:  $X$ consists of all raw regressors from the basic model plus occupation and industry indicators, transformations (e.g., ${exp}^2$ and ${exp}^3$) and additional two-way interactions.\n"
      ]
    },
    {
      "cell_type": "markdown",
      "metadata": {
        "papermill": {
          "duration": 0.038121,
          "end_time": "2021-07-22T21:33:21.938272",
          "exception": false,
          "start_time": "2021-07-22T21:33:21.900151",
          "status": "completed"
        },
        "tags": [],
        "id": "K2R4wQnvK95K"
      },
      "source": [
        "To evaluate the out-of-sample performance, we split the data first."
      ]
    },
    {
      "cell_type": "code",
      "execution_count": 19,
      "metadata": {
        "execution": {
          "iopub.execute_input": "2021-07-22T21:33:22.019774Z",
          "iopub.status.busy": "2021-07-22T21:33:22.018129Z",
          "iopub.status.idle": "2021-07-22T21:33:22.037820Z",
          "shell.execute_reply": "2021-07-22T21:33:22.036538Z"
        },
        "papermill": {
          "duration": 0.061626,
          "end_time": "2021-07-22T21:33:22.037969",
          "exception": false,
          "start_time": "2021-07-22T21:33:21.976343",
          "status": "completed"
        },
        "tags": [],
        "id": "RiPz3fnwK95L"
      },
      "outputs": [],
      "source": [
        "set.seed(42)\n",
        "training <- sample(nrow(data), nrow(data)*(3/4), replace=FALSE)\n",
        "\n",
        "data_train <- data[training,]\n",
        "data_test <- data[-training,]"
      ]
    },
    {
      "cell_type": "markdown",
      "metadata": {
        "papermill": {
          "duration": 0.039021,
          "end_time": "2021-07-22T21:33:22.115014",
          "exception": false,
          "start_time": "2021-07-22T21:33:22.075993",
          "status": "completed"
        },
        "tags": [],
        "id": "XXriAy0OK95M"
      },
      "source": [
        "We construct the two different model matrices $X_{basic}$ and $X_{flex}$ for both the training and the test sample:"
      ]
    },
    {
      "cell_type": "code",
      "execution_count": 20,
      "metadata": {
        "execution": {
          "iopub.execute_input": "2021-07-22T21:33:22.198405Z",
          "iopub.status.busy": "2021-07-22T21:33:22.197691Z",
          "iopub.status.idle": "2021-07-22T21:33:22.248902Z",
          "shell.execute_reply": "2021-07-22T21:33:22.246885Z"
        },
        "papermill": {
          "duration": 0.09478,
          "end_time": "2021-07-22T21:33:22.249085",
          "exception": false,
          "start_time": "2021-07-22T21:33:22.154305",
          "status": "completed"
        },
        "tags": [],
        "id": "1J5bykZYK95N"
      },
      "outputs": [],
      "source": [
        "X_basic <-  \"sex + exp1 + exp2+ shs + hsg+ scl + clg + mw + so + we + occ2+ ind2\"\n",
        "X_flex <- \"sex + (exp1+exp2+exp3+exp4)*(shs+hsg+scl+clg+occ2+ind2+mw+so+we)\"\n",
        "formula_basic <- as.formula(paste(\"lwage\", \"~\", X_basic))\n",
        "formula_flex <- as.formula(paste(\"lwage\", \"~\", X_flex))\n",
        "\n",
        "model_X_basic_train <- model.matrix(formula_basic,data_train)\n",
        "model_X_basic_test <- model.matrix(formula_basic,data_test)\n",
        "p_basic <- dim(model_X_basic_train)[2]\n",
        "model_X_flex_train <- model.matrix(formula_flex,data_train)\n",
        "model_X_flex_test <- model.matrix(formula_flex,data_test)\n",
        "p_flex <- dim(model_X_flex_train)[2]"
      ]
    },
    {
      "cell_type": "code",
      "execution_count": 21,
      "metadata": {
        "execution": {
          "iopub.execute_input": "2021-07-22T21:33:22.331274Z",
          "iopub.status.busy": "2021-07-22T21:33:22.329613Z",
          "iopub.status.idle": "2021-07-22T21:33:22.347093Z",
          "shell.execute_reply": "2021-07-22T21:33:22.345856Z"
        },
        "papermill": {
          "duration": 0.059764,
          "end_time": "2021-07-22T21:33:22.347237",
          "exception": false,
          "start_time": "2021-07-22T21:33:22.287473",
          "status": "completed"
        },
        "tags": [],
        "id": "Sp-vP1lCK95O"
      },
      "outputs": [],
      "source": [
        "Y_train <- data_train$lwage\n",
        "Y_test <- data_test$lwage"
      ]
    },
    {
      "cell_type": "code",
      "execution_count": 22,
      "metadata": {
        "execution": {
          "iopub.execute_input": "2021-07-22T21:33:22.429312Z",
          "iopub.status.busy": "2021-07-22T21:33:22.428202Z",
          "iopub.status.idle": "2021-07-22T21:33:22.445258Z",
          "shell.execute_reply": "2021-07-22T21:33:22.443989Z"
        },
        "papermill": {
          "duration": 0.059354,
          "end_time": "2021-07-22T21:33:22.445413",
          "exception": false,
          "start_time": "2021-07-22T21:33:22.386059",
          "status": "completed"
        },
        "tags": [],
        "colab": {
          "base_uri": "https://localhost:8080/",
          "height": 52
        },
        "id": "fhrpYA1qK95O",
        "outputId": "05fb031f-1377-41b9-d358-abf0e0a754b1"
      },
      "outputs": [
        {
          "output_type": "display_data",
          "data": {
            "text/html": [
              "52"
            ],
            "text/markdown": "52",
            "text/latex": "52",
            "text/plain": [
              "[1] 52"
            ]
          },
          "metadata": {}
        },
        {
          "output_type": "display_data",
          "data": {
            "text/html": [
              "246"
            ],
            "text/markdown": "246",
            "text/latex": "246",
            "text/plain": [
              "[1] 246"
            ]
          },
          "metadata": {}
        }
      ],
      "source": [
        "p_basic\n",
        "p_flex"
      ]
    },
    {
      "cell_type": "markdown",
      "metadata": {
        "papermill": {
          "duration": 0.039589,
          "end_time": "2021-07-22T21:33:22.525196",
          "exception": false,
          "start_time": "2021-07-22T21:33:22.485607",
          "status": "completed"
        },
        "tags": [],
        "id": "OEV8z0ncK95P"
      },
      "source": [
        "As known from our first lab, the basic model consists of about $50$ regressors and the flexible model of $246$ regressors. Let us fit our models to the training sample using the two different model specifications. We are starting by running a simple ols regression."
      ]
    },
    {
      "cell_type": "markdown",
      "metadata": {
        "papermill": {
          "duration": 0.039781,
          "end_time": "2021-07-22T21:33:22.604883",
          "exception": false,
          "start_time": "2021-07-22T21:33:22.565102",
          "status": "completed"
        },
        "tags": [],
        "id": "U2S14iPPK95Q"
      },
      "source": [
        "### OLS"
      ]
    },
    {
      "cell_type": "markdown",
      "metadata": {
        "papermill": {
          "duration": 0.039692,
          "end_time": "2021-07-22T21:33:22.684509",
          "exception": false,
          "start_time": "2021-07-22T21:33:22.644817",
          "status": "completed"
        },
        "tags": [],
        "id": "VD5MVKWMK95R"
      },
      "source": [
        "**Exercise 1:** Fit the basic and flexible model to our training data by running an ols regression and compute the mean squared error on the test sample."
      ]
    },
    {
      "cell_type": "markdown",
      "source": [
        "We are proceeding by running lasso regressions and its versions."
      ],
      "metadata": {
        "id": "8dNIw6ntyp69"
      }
    },
    {
      "cell_type": "markdown",
      "metadata": {
        "papermill": {
          "duration": 0.041825,
          "end_time": "2021-07-22T21:33:23.870407",
          "exception": false,
          "start_time": "2021-07-22T21:33:23.828582",
          "status": "completed"
        },
        "tags": [],
        "id": "GyU6prU7K95V"
      },
      "source": [
        "### Lasso, Ridge and Elastic Net\n"
      ]
    },
    {
      "cell_type": "markdown",
      "metadata": {
        "papermill": {
          "duration": 0.04152,
          "end_time": "2021-07-22T21:33:23.953937",
          "exception": false,
          "start_time": "2021-07-22T21:33:23.912417",
          "status": "completed"
        },
        "tags": [],
        "id": "VF4RfUt5K95W"
      },
      "source": [
        "**Exercise 2:** Run a lasso/post-lasso regression first and then compute the measures for the out-of-sample performance. Apply the package *hdm* and the function *rlasso* to rely on a theory-based choice of the penalty level $\\lambda$ in the lasso regression."
      ]
    },
    {
      "cell_type": "markdown",
      "metadata": {
        "papermill": {
          "duration": 0.043014,
          "end_time": "2021-07-22T21:33:28.156922",
          "exception": false,
          "start_time": "2021-07-22T21:33:28.113908",
          "status": "completed"
        },
        "tags": [],
        "id": "vavzHV2IK95Y"
      },
      "source": [
        "In contrast to a theory-based choice of the tuning parameter $\\lambda$ in the lasso regression, we can also use cross-validation to determine the penalty level by applying the package *glmnet* and the function cv.glmnet.\n",
        "\n",
        "**Exercise 3:** In this context, run a lasso, a ridge and a elastic net regression by adjusting the parameter *alpha* in the function *cv.glmnet*. Which model has the lowest mean squared error on the test sample?"
      ]
    },
    {
      "cell_type": "markdown",
      "metadata": {
        "papermill": {
          "duration": 0.043279,
          "end_time": "2021-07-22T21:33:44.316231",
          "exception": false,
          "start_time": "2021-07-22T21:33:44.272952",
          "status": "completed"
        },
        "tags": [],
        "id": "R8u8jRqwK95a"
      },
      "source": [
        "## Non-linear models"
      ]
    },
    {
      "cell_type": "markdown",
      "metadata": {
        "papermill": {
          "duration": 0.043761,
          "end_time": "2021-07-22T21:33:44.403514",
          "exception": false,
          "start_time": "2021-07-22T21:33:44.359753",
          "status": "completed"
        },
        "tags": [],
        "id": "CW1WBUSSK95a"
      },
      "source": [
        "Besides linear regression models, we consider nonlinear regression models to build a predictive model. We are apply regression trees, random forests and boosted trees to estimate the regression function $g(X)$. First, we load the relevant libraries."
      ]
    },
    {
      "cell_type": "code",
      "execution_count": 23,
      "metadata": {
        "execution": {
          "iopub.execute_input": "2021-07-22T21:33:44.494395Z",
          "iopub.status.busy": "2021-07-22T21:33:44.493268Z",
          "iopub.status.idle": "2021-07-22T21:33:44.752574Z",
          "shell.execute_reply": "2021-07-22T21:33:44.751346Z"
        },
        "papermill": {
          "duration": 0.30601,
          "end_time": "2021-07-22T21:33:44.752736",
          "exception": false,
          "start_time": "2021-07-22T21:33:44.446726",
          "status": "completed"
        },
        "tags": [],
        "id": "SW6hspweK95b"
      },
      "outputs": [],
      "source": [
        "library(randomForest)\n",
        "library(rpart)\n",
        "#library(nnet)\n",
        "library(gbm)\n",
        "library(rpart.plot)"
      ]
    },
    {
      "cell_type": "markdown",
      "metadata": {
        "papermill": {
          "duration": 0.043594,
          "end_time": "2021-07-22T21:33:44.840683",
          "exception": false,
          "start_time": "2021-07-22T21:33:44.797089",
          "status": "completed"
        },
        "tags": [],
        "id": "sttttahnK95b"
      },
      "source": [
        "and we illustrate the application of regression trees."
      ]
    },
    {
      "cell_type": "markdown",
      "metadata": {
        "papermill": {
          "duration": 0.043219,
          "end_time": "2021-07-22T21:33:44.927600",
          "exception": false,
          "start_time": "2021-07-22T21:33:44.884381",
          "status": "completed"
        },
        "tags": [],
        "id": "jP4lrvq8K95b"
      },
      "source": [
        "### Regression Trees"
      ]
    },
    {
      "cell_type": "markdown",
      "metadata": {
        "papermill": {
          "duration": 0.043147,
          "end_time": "2021-07-22T21:33:45.014486",
          "exception": false,
          "start_time": "2021-07-22T21:33:44.971339",
          "status": "completed"
        },
        "tags": [],
        "id": "fxXIy6PdK95c"
      },
      "source": [
        "We fit a regression tree to the training data using the basic model. The parameter *cp* controls the complexity of the regression tree, i.e. how deep we build the tree.\n",
        "\n",
        "**Exercise 4:** Play around with the tuning parameter *cp* and check how the structur of the regression tree changes. What does the parameter *cp* control?"
      ]
    },
    {
      "cell_type": "code",
      "execution_count": 24,
      "metadata": {
        "execution": {
          "iopub.execute_input": "2021-07-22T21:33:45.108375Z",
          "iopub.status.busy": "2021-07-22T21:33:45.106930Z",
          "iopub.status.idle": "2021-07-22T21:33:46.833179Z",
          "shell.execute_reply": "2021-07-22T21:33:46.833557Z"
        },
        "papermill": {
          "duration": 1.774435,
          "end_time": "2021-07-22T21:33:46.833743",
          "exception": false,
          "start_time": "2021-07-22T21:33:45.059308",
          "status": "completed"
        },
        "tags": [],
        "colab": {
          "base_uri": "https://localhost:8080/",
          "height": 454
        },
        "id": "xs4I0pw1K95c",
        "outputId": "15127454-9b4d-4ea7-fe1d-e889addeaff7"
      },
      "outputs": [
        {
          "output_type": "stream",
          "name": "stdout",
          "text": [
            "cex 0.2   xlim c(0, 1)   ylim c(0, 1)\n"
          ]
        },
        {
          "output_type": "display_data",
          "data": {
            "text/plain": [
              "plot without title"
            ],
            "image/png": "[encoded data removed]"
          },
          "metadata": {
            "image/png": {
              "width": 420,
              "height": 420
            }
          }
        }
      ],
      "source": [
        "# fit the tree\n",
        "fit.trees <- rpart(formula_basic, data_train,cp = 0.001)\n",
        "prp(fit.trees,leaf.round=1, space=2, yspace=2,split.space=2,shadow.col = \"gray\",trace = 1) # plotting the tree"
      ]
    },
    {
      "cell_type": "markdown",
      "metadata": {
        "papermill": {
          "duration": 0.047977,
          "end_time": "2021-07-22T21:33:46.929812",
          "exception": false,
          "start_time": "2021-07-22T21:33:46.881835",
          "status": "completed"
        },
        "tags": [],
        "id": "6so7zVtlK95c"
      },
      "source": [
        "An important method to improve predictive performance is called \"Pruning the Tree\". This\n",
        "means the process of cutting down the branches of a tree. We apply pruning to the complex tree above to reduce the depth. Initially, we determine the optimal complexity of the regression tree."
      ]
    },
    {
      "cell_type": "code",
      "execution_count": 25,
      "metadata": {
        "execution": {
          "iopub.execute_input": "2021-07-22T21:33:47.029943Z",
          "iopub.status.busy": "2021-07-22T21:33:47.028067Z",
          "iopub.status.idle": "2021-07-22T21:33:47.046676Z",
          "shell.execute_reply": "2021-07-22T21:33:47.045274Z"
        },
        "papermill": {
          "duration": 0.069407,
          "end_time": "2021-07-22T21:33:47.046815",
          "exception": false,
          "start_time": "2021-07-22T21:33:46.977408",
          "status": "completed"
        },
        "tags": [],
        "colab": {
          "base_uri": "https://localhost:8080/",
          "height": 34
        },
        "id": "1jMS1LFXK95d",
        "outputId": "9e57845e-3ccd-4bea-fe0d-94bb93120009"
      },
      "outputs": [
        {
          "output_type": "display_data",
          "data": {
            "text/html": [
              "0.00286385927387801"
            ],
            "text/markdown": "0.00286385927387801",
            "text/latex": "0.00286385927387801",
            "text/plain": [
              "[1] 0.002863859"
            ]
          },
          "metadata": {}
        }
      ],
      "source": [
        "bestcp<- fit.trees$cptable[which.min(fit.trees$cptable[,\"xerror\"]),\"CP\"]\n",
        "bestcp"
      ]
    },
    {
      "cell_type": "markdown",
      "metadata": {
        "papermill": {
          "duration": 0.04778,
          "end_time": "2021-07-22T21:33:47.142808",
          "exception": false,
          "start_time": "2021-07-22T21:33:47.095028",
          "status": "completed"
        },
        "tags": [],
        "id": "oHc68hfBK95d"
      },
      "source": [
        "Now, we can prune the tree and visualize the prediction rule."
      ]
    },
    {
      "cell_type": "code",
      "execution_count": 26,
      "metadata": {
        "execution": {
          "iopub.execute_input": "2021-07-22T21:33:47.245777Z",
          "iopub.status.busy": "2021-07-22T21:33:47.243764Z",
          "iopub.status.idle": "2021-07-22T21:33:47.717872Z",
          "shell.execute_reply": "2021-07-22T21:33:47.717444Z"
        },
        "papermill": {
          "duration": 0.526641,
          "end_time": "2021-07-22T21:33:47.718019",
          "exception": false,
          "start_time": "2021-07-22T21:33:47.191378",
          "status": "completed"
        },
        "tags": [],
        "colab": {
          "base_uri": "https://localhost:8080/",
          "height": 454
        },
        "id": "We0F0c_bK95e",
        "outputId": "f8286fe8-9286-4a85-f900-5c2bd163759e"
      },
      "outputs": [
        {
          "output_type": "stream",
          "name": "stdout",
          "text": [
            "cex 0.45   xlim c(0, 1)   ylim c(0, 1)\n"
          ]
        },
        {
          "output_type": "display_data",
          "data": {
            "text/plain": [
              "plot without title"
            ],
            "image/png": "[encoded data removed]"
          },
          "metadata": {
            "image/png": {
              "width": 420,
              "height": 420
            }
          }
        }
      ],
      "source": [
        "fit.prunedtree <- prune(fit.trees,cp=bestcp)\n",
        "prp(fit.prunedtree,leaf.round=1, space=3, yspace=3, split.space=7, shadow.col = \"gray\",trace = 1,yesno=1)"
      ]
    },
    {
      "cell_type": "code",
      "source": [
        "?rpart.control"
      ],
      "metadata": {
        "id": "Y8JUZuDl9g3S"
      },
      "execution_count": 27,
      "outputs": []
    },
    {
      "cell_type": "markdown",
      "metadata": {
        "papermill": {
          "duration": 0.050261,
          "end_time": "2021-07-22T21:33:47.921859",
          "exception": false,
          "start_time": "2021-07-22T21:33:47.871598",
          "status": "completed"
        },
        "tags": [],
        "id": "mmJ3bwYYK95e"
      },
      "source": [
        "**Exercise 5:** Finally, calculate the mean-squared error  on the test sample to evaluate the out-of-sample performance of the pruned tree."
      ]
    },
    {
      "cell_type": "markdown",
      "metadata": {
        "papermill": {
          "duration": 0.050968,
          "end_time": "2021-07-22T21:33:48.152253",
          "exception": false,
          "start_time": "2021-07-22T21:33:48.101285",
          "status": "completed"
        },
        "tags": [],
        "id": "Js8mvTBxK95f"
      },
      "source": [
        "### Random Forest and Boosted Trees"
      ]
    },
    {
      "cell_type": "markdown",
      "metadata": {
        "papermill": {
          "duration": 0.050209,
          "end_time": "2021-07-22T21:33:48.253970",
          "exception": false,
          "start_time": "2021-07-22T21:33:48.203761",
          "status": "completed"
        },
        "tags": [],
        "id": "BsFTYn-TK95f"
      },
      "source": [
        "In the next step, we apply the more advanced tree-based methods: random forest and boosted trees."
      ]
    },
    {
      "cell_type": "code",
      "execution_count": 28,
      "metadata": {
        "execution": {
          "iopub.execute_input": "2021-07-22T21:33:48.360982Z",
          "iopub.status.busy": "2021-07-22T21:33:48.360463Z",
          "iopub.status.idle": "2021-07-22T21:34:43.865598Z",
          "shell.execute_reply": "2021-07-22T21:34:43.864364Z"
        },
        "papermill": {
          "duration": 55.561432,
          "end_time": "2021-07-22T21:34:43.865807",
          "exception": false,
          "start_time": "2021-07-22T21:33:48.304375",
          "status": "completed"
        },
        "tags": [],
        "colab": {
          "base_uri": "https://localhost:8080/"
        },
        "id": "402XOQDpK95g",
        "outputId": "ce739022-79bc-4483-d3f3-5ac8f56dccd5"
      },
      "outputs": [
        {
          "output_type": "stream",
          "name": "stderr",
          "text": [
            "OOB generally underestimates the optimal number of iterations although predictive performance is reasonably competitive. Using cv_folds>1 when calling gbm usually results in improved predictive performance.\n",
            "\n"
          ]
        },
        {
          "output_type": "stream",
          "name": "stdout",
          "text": [
            "R^2 of the random forest and boosted trees: 0.2982853 0.2647682"
          ]
        }
      ],
      "source": [
        "## Applying the methods\n",
        "# random forest\n",
        "fit.rf       <- randomForest(formula_basic, ntree=2000, nodesize=5, data=data_train)\n",
        "# for tuning: adjust input \"mtry\" to change the number of variables randomly sampled as candidates at each split\n",
        "\n",
        "# boosting\n",
        "fit.boost   <- gbm(formula_basic, data=data_train, distribution= \"gaussian\", bag.fraction = .5, interaction.depth=2, n.trees=1000, shrinkage=.01)\n",
        "best.boost  <- gbm.perf(fit.boost, plot.it = FALSE) # cross-validation to determine when to stop\n",
        "\n",
        "## Evaluating the methods\n",
        "yhat.rf       <- predict(fit.rf, newdata=data_test) # prediction\n",
        "yhat.boost    <- predict(fit.boost, newdata=data_test, n.trees=best.boost)\n",
        "\n",
        "MSE.rf       = summary(lm((Y_test-yhat.rf)^2~1))$coef[1:2]\n",
        "MSE.boost    = summary(lm((Y_test-yhat.boost)^2~1))$coef[1:2]\n",
        "R2.rf  <- 1-MSE.rf[1]/var(Y_test)\n",
        "R2.boost  <- 1-MSE.boost[1]/var(Y_test)\n",
        "\n",
        "# printing R^2\n",
        "cat(\"R^2 of the random forest and boosted trees:\",R2.rf,R2.boost)\n"
      ]
    },
    {
      "cell_type": "markdown",
      "metadata": {
        "papermill": {
          "duration": 0.050943,
          "end_time": "2021-07-22T21:34:43.969202",
          "exception": false,
          "start_time": "2021-07-22T21:34:43.918259",
          "status": "completed"
        },
        "tags": [],
        "id": "hjYaJMJfK95g"
      },
      "source": [
        "**Exercise 6:** To conclude, summarize the results. What is the best model?"
      ]
    },
    {
      "cell_type": "markdown",
      "metadata": {
        "papermill": {
          "duration": 0.052773,
          "end_time": "2021-07-22T21:34:44.497668",
          "exception": false,
          "start_time": "2021-07-22T21:34:44.444895",
          "status": "completed"
        },
        "tags": [],
        "id": "zBDRHFL_K95i"
      },
      "source": [
        "### Ensemble learning"
      ]
    },
    {
      "cell_type": "markdown",
      "metadata": {
        "papermill": {
          "duration": 0.052345,
          "end_time": "2021-07-22T21:34:44.603135",
          "exception": false,
          "start_time": "2021-07-22T21:34:44.550790",
          "status": "completed"
        },
        "tags": [],
        "id": "1oeNzaRAK95i"
      },
      "source": [
        "**Exercise 7:** In the final step, build a prediction model by combining the strengths of the models we considered so far. This ensemble method is of the form\n",
        "\t$$ f(x) = \\sum_{k=1}^K \\alpha_k f_k(x) $$\n",
        "where the $f_k$'s denote our prediction rules from the table above and the $\\alpha_k$'s are the corresponding weights."
      ]
    }
  ],
  "metadata": {
    "kernelspec": {
      "display_name": "R",
      "language": "R",
      "name": "ir"
    },
    "language_info": {
      "codemirror_mode": "r",
      "file_extension": ".r",
      "mimetype": "text/x-r-source",
      "name": "R",
      "pygments_lexer": "r",
      "version": "3.6.3"
    },
    "papermill": {
      "default_parameters": {},
      "duration": 88.350056,
      "end_time": "2021-07-22T21:34:45.707112",
      "environment_variables": {},
      "exception": null,
      "input_path": "__notebook__.ipynb",
      "output_path": "__notebook__.ipynb",
      "parameters": {},
      "start_time": "2021-07-22T21:33:17.357056",
      "version": "2.2.2"
    },
    "colab": {
      "provenance": []
    }
  },
  "nbformat": 4,
  "nbformat_minor": 0
}