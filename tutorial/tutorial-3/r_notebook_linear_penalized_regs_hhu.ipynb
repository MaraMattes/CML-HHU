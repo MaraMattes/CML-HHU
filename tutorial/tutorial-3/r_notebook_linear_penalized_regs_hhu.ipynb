{
  "cells": [
    {
      "cell_type": "markdown",
      "metadata": {
        "papermill": {
          "duration": 0.009913,
          "end_time": "2022-02-18T13:58:21.856595",
          "exception": false,
          "start_time": "2022-02-18T13:58:21.846682",
          "status": "completed"
        },
        "tags": [],
        "id": "APzhZvJerJzQ"
      },
      "source": [
        "\n",
        "\n",
        "This notebook contains an example for teaching.\n"
      ]
    },
    {
      "cell_type": "code",
      "source": [
        "install.packages(c(\"glmnet\",\"hdm\",\"xtable\"))"
      ],
      "metadata": {
        "colab": {
          "base_uri": "https://localhost:8080/"
        },
        "id": "7bOQhPuVtxJj",
        "outputId": "f26a2be9-015e-4d24-9352-9aa788726eff"
      },
      "execution_count": 8,
      "outputs": [
        {
          "output_type": "stream",
          "name": "stderr",
          "text": [
            "Installing packages into ‘/usr/local/lib/R/site-library’\n",
            "(as ‘lib’ is unspecified)\n",
            "\n"
          ]
        }
      ]
    },
    {
      "cell_type": "markdown",
      "metadata": {
        "_execution_state": "idle",
        "_uuid": "051d70d956493feee0c6d64651c6a088724dca2a",
        "papermill": {
          "duration": 0.008534,
          "end_time": "2022-02-18T13:58:21.874384",
          "exception": false,
          "start_time": "2022-02-18T13:58:21.865850",
          "status": "completed"
        },
        "tags": [],
        "id": "dFtxmK2YrJzV"
      },
      "source": [
        "# Penalized Linear Regressions: A Simulation Experiment"
      ]
    },
    {
      "cell_type": "markdown",
      "metadata": {
        "papermill": {
          "duration": 0.008731,
          "end_time": "2022-02-18T13:58:21.891679",
          "exception": false,
          "start_time": "2022-02-18T13:58:21.882948",
          "status": "completed"
        },
        "tags": [],
        "id": "wK-idzhorJzW"
      },
      "source": [
        "## Data Generating Process: Approximately Sparse"
      ]
    },
    {
      "cell_type": "code",
      "execution_count": 9,
      "metadata": {
        "execution": {
          "iopub.execute_input": "2022-02-18T13:58:21.937879Z",
          "iopub.status.busy": "2022-02-18T13:58:21.935797Z",
          "iopub.status.idle": "2022-02-18T13:58:22.393735Z",
          "shell.execute_reply": "2022-02-18T13:58:22.393174Z"
        },
        "papermill": {
          "duration": 0.493679,
          "end_time": "2022-02-18T13:58:22.393917",
          "exception": false,
          "start_time": "2022-02-18T13:58:21.900238",
          "status": "completed"
        },
        "tags": [],
        "id": "E_L7ZOOTrJzW",
        "outputId": "23977924-dde1-4abf-fa7b-e58ce7551728",
        "colab": {
          "base_uri": "https://localhost:8080/",
          "height": 520
        }
      },
      "outputs": [
        {
          "output_type": "stream",
          "name": "stdout",
          "text": [
            "[1] \"theoretical R2:\"   \"0.826881788964026\"\n"
          ]
        },
        {
          "output_type": "display_data",
          "data": {
            "text/html": [
              "<table class=\"dataframe\">\n",
              "<caption>A matrix: 1 × 1 of type dbl</caption>\n",
              "<tbody>\n",
              "\t<tr><td>0.8268818</td></tr>\n",
              "</tbody>\n",
              "</table>\n"
            ],
            "text/markdown": "\nA matrix: 1 × 1 of type dbl\n\n| 0.8268818 |\n\n",
            "text/latex": "A matrix: 1 × 1 of type dbl\n\\begin{tabular}{l}\n\t 0.8268818\\\\\n\\end{tabular}\n",
            "text/plain": [
              "     [,1]     \n",
              "[1,] 0.8268818"
            ]
          },
          "metadata": {}
        },
        {
          "output_type": "display_data",
          "data": {
            "text/plain": [
              "plot without title"
            ],
            "image/png": "[encoded data removed]"
          },
          "metadata": {
            "image/png": {
              "width": 420,
              "height": 420
            }
          }
        }
      ],
      "source": [
        "set.seed(1)\n",
        "\n",
        "n = 100;\n",
        "p = 400;\n",
        "\n",
        "Z= runif(n)-1/2;\n",
        "W = matrix(runif(n*p)-1/2, n, p);\n",
        "\n",
        "\n",
        "\n",
        "beta = 1/seq(1:p)^2;   # approximately sparse beta\n",
        "#beta = rnorm(p)*.2    # dense beta\n",
        "gX = exp(4*Z)+ W%*%beta;  # leading term nonlinear, regression function\n",
        "X = cbind(Z, Z^2, Z^3, W);  # polynomials in Zs will be approximating exp(4*Z)\n",
        "\n",
        "\n",
        "Y = gX + rnorm(n);    #generate Y\n",
        "\n",
        "\n",
        "plot(gX,Y, xlab=\"g(X)\", ylab=\"Y\")    #plot V vs g(X)\n",
        "\n",
        "print( c(\"theoretical R2:\", var(gX)/var(Y)))\n",
        "\n",
        "var(gX)/var(Y); #theoretical R-square in the simulation example\n",
        "\n",
        "\n",
        "\n"
      ]
    },
    {
      "cell_type": "markdown",
      "metadata": {
        "papermill": {
          "duration": 0.011153,
          "end_time": "2022-02-18T13:58:22.416538",
          "exception": false,
          "start_time": "2022-02-18T13:58:22.405385",
          "status": "completed"
        },
        "tags": [],
        "id": "yzrd0-M_rJzZ"
      },
      "source": [
        "We use package Glmnet to carry out predictions using cross-validated lasso, ridge, and elastic net"
      ]
    },
    {
      "cell_type": "code",
      "execution_count": 10,
      "metadata": {
        "execution": {
          "iopub.execute_input": "2022-02-18T13:58:22.472341Z",
          "iopub.status.busy": "2022-02-18T13:58:22.442534Z",
          "iopub.status.idle": "2022-02-18T13:58:25.097020Z",
          "shell.execute_reply": "2022-02-18T13:58:25.095848Z"
        },
        "papermill": {
          "duration": 2.669593,
          "end_time": "2022-02-18T13:58:25.097218",
          "exception": false,
          "start_time": "2022-02-18T13:58:22.427625",
          "status": "completed"
        },
        "tags": [],
        "id": "YBYbkOVxrJza",
        "colab": {
          "base_uri": "https://localhost:8080/",
          "height": 52
        },
        "outputId": "3871f832-09fd-4d75-c2b1-be70b61508d3"
      },
      "outputs": [
        {
          "output_type": "display_data",
          "data": {
            "text/html": [
              "<style>\n",
              ".list-inline {list-style: none; margin:0; padding: 0}\n",
              ".list-inline>li {display: inline-block}\n",
              ".list-inline>li:not(:last-child)::after {content: \"\\00b7\"; padding: 0 .5ex}\n",
              "</style>\n",
              "<ol class=list-inline><li>0.449908519446449</li><li>0.076752654107553</li></ol>\n"
            ],
            "text/markdown": "1. 0.449908519446449\n2. 0.076752654107553\n\n\n",
            "text/latex": "\\begin{enumerate*}\n\\item 0.449908519446449\n\\item 0.076752654107553\n\\end{enumerate*}\n",
            "text/plain": [
              "[1] 0.44990852 0.07675265"
            ]
          },
          "metadata": {}
        },
        {
          "output_type": "display_data",
          "data": {
            "text/html": [
              "0.449908519446448"
            ],
            "text/markdown": "0.449908519446448",
            "text/latex": "0.449908519446448",
            "text/plain": [
              "[1] 0.4499085"
            ]
          },
          "metadata": {}
        }
      ],
      "source": [
        "set.seed(123)\n",
        "library(glmnet)\n",
        "fit.lasso.cv   <- cv.glmnet(X, Y, family=\"gaussian\", alpha=1)  # family gaussian means that we'll be using square loss\n",
        "fit.ridge   <- cv.glmnet(X, Y, family=\"gaussian\", alpha=0)     # family gaussian means that we'll be using square loss\n",
        "fit.elnet   <- cv.glmnet(X, Y, family=\"gaussian\", alpha=.5)    # family gaussian means that we'll be using square loss\n",
        "\n",
        "yhat.lasso.cv    <- predict(fit.lasso.cv, newx = X)            # predictions\n",
        "yhat.ridge   <- predict(fit.ridge, newx = X)\n",
        "yhat.elnet   <- predict(fit.elnet, newx = X)\n",
        "\n",
        "MSE.lasso.cv <- summary(lm((gX-yhat.lasso.cv)^2~1))$coef[1:2]  # report MSE and standard error for MSE for approximating g(X)\n",
        "MSE.ridge <- summary(lm((gX-yhat.ridge)^2~1))$coef[1:2]        # report MSE and standard error for MSE for approximating g(X)\n",
        "MSE.elnet <- summary(lm((gX-yhat.elnet)^2~1))$coef[1:2]        # report MSE and standard error for MSE for approximating g(X)\n",
        "\n",
        "# alternativ\n",
        "MSE.l <- mean((gX-yhat.lasso.cv)^2)\n",
        "\n",
        "MSE.lasso.cv\n",
        "MSE.l"
      ]
    },
    {
      "cell_type": "code",
      "source": [
        "?glmnet"
      ],
      "metadata": {
        "id": "T_NUNVom7j4Q"
      },
      "execution_count": 11,
      "outputs": []
    },
    {
      "cell_type": "markdown",
      "metadata": {
        "papermill": {
          "duration": 0.011831,
          "end_time": "2022-02-18T13:58:25.121596",
          "exception": false,
          "start_time": "2022-02-18T13:58:25.109765",
          "status": "completed"
        },
        "tags": [],
        "id": "ZbNkaA7jrJzb"
      },
      "source": [
        "Here we compute the lasso and ols post lasso using plug-in choices for penalty levels, using package hdm"
      ]
    },
    {
      "cell_type": "code",
      "execution_count": 16,
      "metadata": {
        "execution": {
          "iopub.execute_input": "2022-02-18T13:58:25.149688Z",
          "iopub.status.busy": "2022-02-18T13:58:25.148420Z",
          "iopub.status.idle": "2022-02-18T13:58:35.133003Z",
          "shell.execute_reply": "2022-02-18T13:58:35.131345Z"
        },
        "papermill": {
          "duration": 9.999704,
          "end_time": "2022-02-18T13:58:35.133240",
          "exception": false,
          "start_time": "2022-02-18T13:58:25.133536",
          "status": "completed"
        },
        "tags": [],
        "id": "UQf3fI_8rJzb",
        "colab": {
          "base_uri": "https://localhost:8080/",
          "height": 52
        },
        "outputId": "c903b10e-8144-454c-c227-987097765374"
      },
      "outputs": [
        {
          "output_type": "display_data",
          "data": {
            "text/html": [
              "<style>\n",
              ".list-inline {list-style: none; margin:0; padding: 0}\n",
              ".list-inline>li {display: inline-block}\n",
              ".list-inline>li:not(:last-child)::after {content: \"\\00b7\"; padding: 0 .5ex}\n",
              "</style>\n",
              "<ol class=list-inline><li>0.148219026886378</li><li>0.0267057706015036</li></ol>\n"
            ],
            "text/markdown": "1. 0.148219026886378\n2. 0.0267057706015036\n\n\n",
            "text/latex": "\\begin{enumerate*}\n\\item 0.148219026886378\n\\item 0.0267057706015036\n\\end{enumerate*}\n",
            "text/plain": [
              "[1] 0.14821903 0.02670577"
            ]
          },
          "metadata": {}
        },
        {
          "output_type": "display_data",
          "data": {
            "text/html": [
              "0.148219026886378"
            ],
            "text/markdown": "0.148219026886378",
            "text/latex": "0.148219026886378",
            "text/plain": [
              "[1] 0.148219"
            ]
          },
          "metadata": {}
        }
      ],
      "source": [
        "library(hdm)\n",
        "fit.rlasso  <- rlasso(Y~X,  post=FALSE)      # lasso with plug-in penalty level\n",
        "fit.rlasso.post <- rlasso(Y~X,  post=TRUE)    # post-lasso with plug-in penalty level\n",
        "\n",
        "yhat.rlasso   <- predict(fit.rlasso)            #predict g(X) for values of X\n",
        "yhat.rlasso.post   <- predict(fit.rlasso.post)  #predict g(X) for values of X\n",
        "\n",
        "MSE.lasso <- summary(lm((gX-yhat.rlasso)^2~1))$coef[1:2]       # report MSE and standard error for MSE for approximating g(X)\n",
        "MSE.lasso.post <- summary(lm((gX-yhat.rlasso.post)^2~1))$coef[1:2]  # report MSE and standard error for MSE for approximating g(X)\n",
        "\n",
        "MSE.lasso\n",
        "MSE.2 <- mean((gX-yhat.rlasso)^2)\n",
        "MSE.2\n"
      ]
    },
    {
      "cell_type": "code",
      "execution_count": 17,
      "metadata": {
        "execution": {
          "iopub.execute_input": "2022-02-18T13:59:19.816940Z",
          "iopub.status.busy": "2022-02-18T13:59:19.816059Z",
          "iopub.status.idle": "2022-02-18T13:59:19.881574Z",
          "shell.execute_reply": "2022-02-18T13:59:19.880502Z"
        },
        "papermill": {
          "duration": 0.09827,
          "end_time": "2022-02-18T13:59:19.881736",
          "exception": false,
          "start_time": "2022-02-18T13:59:19.783466",
          "status": "completed"
        },
        "tags": [],
        "id": "6D55UIB7rJze",
        "outputId": "0d8cf17f-9aa5-4966-f6b9-d0e91a9d1605",
        "colab": {
          "base_uri": "https://localhost:8080/",
          "height": 532
        }
      },
      "outputs": [
        {
          "output_type": "stream",
          "name": "stdout",
          "text": [
            "% latex table generated in R 4.5.0 by xtable 1.8-4 package\n",
            "% Wed May 14 11:44:08 2025\n",
            "\\begin{table}[ht]\n",
            "\\centering\n",
            "\\begin{tabular}{rrr}\n",
            "  \\hline\n",
            " & MSA & S.E. for MSA \\\\ \n",
            "  \\hline\n",
            "Cross-Validated Lasso & 0.450 & 0.077 \\\\ \n",
            "  Cross-Validated ridge & 2.245 & 0.348 \\\\ \n",
            "  Cross-Validated elnet & 0.343 & 0.054 \\\\ \n",
            "  Lasso & 0.148 & 0.027 \\\\ \n",
            "  Post-Lasso & 0.085 & 0.009 \\\\ \n",
            "   \\hline\n",
            "\\end{tabular}\n",
            "\\end{table}\n"
          ]
        },
        {
          "output_type": "display_data",
          "data": {
            "text/html": [
              "<table class=\"dataframe\">\n",
              "<caption>A xtable: 5 × 2</caption>\n",
              "<thead>\n",
              "\t<tr><th></th><th scope=col>MSA</th><th scope=col>S.E. for MSA</th></tr>\n",
              "\t<tr><th></th><th scope=col>&lt;dbl&gt;</th><th scope=col>&lt;dbl&gt;</th></tr>\n",
              "</thead>\n",
              "<tbody>\n",
              "\t<tr><th scope=row>Cross-Validated Lasso</th><td>0.4499085</td><td>0.076752654</td></tr>\n",
              "\t<tr><th scope=row>Cross-Validated ridge</th><td>2.2446796</td><td>0.348252832</td></tr>\n",
              "\t<tr><th scope=row>Cross-Validated elnet</th><td>0.3426569</td><td>0.054365421</td></tr>\n",
              "\t<tr><th scope=row>Lasso</th><td>0.1482190</td><td>0.026705771</td></tr>\n",
              "\t<tr><th scope=row>Post-Lasso</th><td>0.0845236</td><td>0.009469643</td></tr>\n",
              "</tbody>\n",
              "</table>\n"
            ],
            "text/markdown": "\nA xtable: 5 × 2\n\n| <!--/--> | MSA &lt;dbl&gt; | S.E. for MSA &lt;dbl&gt; |\n|---|---|---|\n| Cross-Validated Lasso | 0.4499085 | 0.076752654 |\n| Cross-Validated ridge | 2.2446796 | 0.348252832 |\n| Cross-Validated elnet | 0.3426569 | 0.054365421 |\n| Lasso | 0.1482190 | 0.026705771 |\n| Post-Lasso | 0.0845236 | 0.009469643 |\n\n",
            "text/latex": "A xtable: 5 × 2\n\\begin{tabular}{r|ll}\n  & MSA & S.E. for MSA\\\\\n  & <dbl> & <dbl>\\\\\n\\hline\n\tCross-Validated Lasso & 0.4499085 & 0.076752654\\\\\n\tCross-Validated ridge & 2.2446796 & 0.348252832\\\\\n\tCross-Validated elnet & 0.3426569 & 0.054365421\\\\\n\tLasso & 0.1482190 & 0.026705771\\\\\n\tPost-Lasso & 0.0845236 & 0.009469643\\\\\n\\end{tabular}\n",
            "text/plain": [
              "                      MSA       S.E. for MSA\n",
              "Cross-Validated Lasso 0.4499085 0.076752654 \n",
              "Cross-Validated ridge 2.2446796 0.348252832 \n",
              "Cross-Validated elnet 0.3426569 0.054365421 \n",
              "Lasso                 0.1482190 0.026705771 \n",
              "Post-Lasso            0.0845236 0.009469643 "
            ]
          },
          "metadata": {}
        }
      ],
      "source": [
        "library(xtable)\n",
        "table<- matrix(0, 5, 2)\n",
        "table[1,1:2]   <- MSE.lasso.cv\n",
        "table[2,1:2]   <- MSE.ridge\n",
        "table[3,1:2]   <- MSE.elnet\n",
        "table[4,1:2]   <- MSE.lasso\n",
        "table[5,1:2]   <- MSE.lasso.post\n",
        "\n",
        "colnames(table)<- c(\"MSA\", \"S.E. for MSA\")\n",
        "rownames(table)<- c(\"Cross-Validated Lasso\", \"Cross-Validated ridge\",\"Cross-Validated elnet\",\n",
        "                    \"Lasso\",\"Post-Lasso\")\n",
        "tab <- xtable(table, digits =3)\n",
        "print(tab,type=\"latex\") # set type=\"latex\" for printing table in LaTeX\n",
        "tab\n",
        "\n"
      ]
    },
    {
      "cell_type": "code",
      "execution_count": 18,
      "metadata": {
        "execution": {
          "iopub.execute_input": "2022-02-18T13:59:19.913745Z",
          "iopub.status.busy": "2022-02-18T13:59:19.912568Z",
          "iopub.status.idle": "2022-02-18T13:59:20.041582Z",
          "shell.execute_reply": "2022-02-18T13:59:20.041103Z"
        },
        "papermill": {
          "duration": 0.146507,
          "end_time": "2022-02-18T13:59:20.041718",
          "exception": false,
          "start_time": "2022-02-18T13:59:19.895211",
          "status": "completed"
        },
        "tags": [],
        "id": "ISgXGJVKrJzf",
        "outputId": "0719e037-b74b-4ca4-b930-09215f120ebd",
        "colab": {
          "base_uri": "https://localhost:8080/",
          "height": 437
        }
      },
      "outputs": [
        {
          "output_type": "display_data",
          "data": {
            "text/plain": [
              "plot without title"
            ],
            "image/png": "[encoded data removed]"
          },
          "metadata": {
            "image/png": {
              "width": 420,
              "height": 420
            }
          }
        }
      ],
      "source": [
        "\n",
        "plot(gX, gX, pch=19, cex=1, ylab=\"predicted value\", xlab=\"true g(X)\")\n",
        "\n",
        "points(gX, yhat.rlasso, col=2, pch=18, cex = 1.5 )\n",
        "points(gX,  yhat.rlasso.post, col=3, pch=17,  cex = 1.2  )\n",
        "points( gX, yhat.lasso.cv,col=4, pch=19,  cex = 1.2 )\n",
        "\n",
        "\n",
        "legend(\"bottomright\",\n",
        "  legend = c(\"rLasso\", \"Post-rLasso\", \"CV Lasso\"),\n",
        "  col = c(2,3,4),\n",
        "  pch = c(18,17, 19),\n",
        "  bty = \"n\",\n",
        "  pt.cex = 1.3,\n",
        "  cex = 1.2,\n",
        "  text.col = \"black\",\n",
        "  horiz = F ,\n",
        "  inset = c(0.1, 0.1))\n",
        "\n"
      ]
    }
  ],
  "metadata": {
    "kernelspec": {
      "display_name": "R",
      "language": "R",
      "name": "ir"
    },
    "language_info": {
      "codemirror_mode": "r",
      "file_extension": ".r",
      "mimetype": "text/x-r-source",
      "name": "R",
      "pygments_lexer": "r",
      "version": "3.6.3"
    },
    "papermill": {
      "default_parameters": {},
      "duration": 131.424435,
      "end_time": "2022-02-18T14:00:30.479077",
      "environment_variables": {},
      "exception": null,
      "input_path": "__notebook__.ipynb",
      "output_path": "__notebook__.ipynb",
      "parameters": {},
      "start_time": "2022-02-18T13:58:19.054642",
      "version": "2.2.2"
    },
    "colab": {
      "provenance": []
    }
  },
  "nbformat": 4,
  "nbformat_minor": 0
}