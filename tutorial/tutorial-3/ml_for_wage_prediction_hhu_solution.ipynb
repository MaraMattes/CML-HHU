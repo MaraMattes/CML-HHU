{
  "cells": [
    {
      "cell_type": "code",
      "source": [
        "install.packages(c(\"xtable\",\"hdm\",\"randomForest\",\"gbm\",\"rpart.plot\"))"
      ],
      "metadata": {
        "colab": {
          "base_uri": "https://localhost:8080/"
        },
        "id": "Jw7rM1XIOrUy",
        "outputId": "45f9a39a-5915-45ec-c827-82b2b7674381"
      },
      "execution_count": null,
      "outputs": [
        {
          "output_type": "stream",
          "name": "stderr",
          "text": [
            "Installing packages into ‘/usr/local/lib/R/site-library’\n",
            "(as ‘lib’ is unspecified)\n",
            "\n"
          ]
        }
      ]
    },
    {
      "cell_type": "markdown",
      "metadata": {
        "_execution_state": "idle",
        "_uuid": "051d70d956493feee0c6d64651c6a088724dca2a",
        "papermill": {
          "duration": 0.037179,
          "end_time": "2021-07-22T21:33:20.414432",
          "exception": false,
          "start_time": "2021-07-22T21:33:20.377253",
          "status": "completed"
        },
        "tags": [],
        "id": "RiZ0CLz2K945"
      },
      "source": [
        "# Machine Learning Estimators for Wage Prediction"
      ]
    },
    {
      "cell_type": "markdown",
      "metadata": {
        "papermill": {
          "duration": 0.035632,
          "end_time": "2021-07-22T21:33:20.486115",
          "exception": false,
          "start_time": "2021-07-22T21:33:20.450483",
          "status": "completed"
        },
        "tags": [],
        "id": "Fdrv11U_K946"
      },
      "source": [
        "We illustrate how to predict an outcome variable Y in a high-dimensional setting, where the number of covariates $p$ is large in relation to the sample size $n$. So far we have only used basic linear regression for estimation\n",
        "Now, we also consider penalized regression models and nonlinear prediction rules including tree-based methods."
      ]
    },
    {
      "cell_type": "markdown",
      "metadata": {
        "papermill": {
          "duration": 0.035698,
          "end_time": "2021-07-22T21:33:20.558154",
          "exception": false,
          "start_time": "2021-07-22T21:33:20.522456",
          "status": "completed"
        },
        "tags": [],
        "id": "fFqfT3iTK947"
      },
      "source": [
        "## Data"
      ]
    },
    {
      "cell_type": "markdown",
      "metadata": {
        "papermill": {
          "duration": 0.035998,
          "end_time": "2021-07-22T21:33:20.630093",
          "exception": false,
          "start_time": "2021-07-22T21:33:20.594095",
          "status": "completed"
        },
        "tags": [],
        "id": "R68NJVWvK948"
      },
      "source": [
        "Again, we consider data from the U.S. March Supplement of the Current Population Survey (CPS) in 2015.\n",
        "The preproccessed sample consists of $5150$ never-married individuals."
      ]
    },
    {
      "cell_type": "code",
      "execution_count": null,
      "metadata": {
        "execution": {
          "iopub.execute_input": "2021-07-22T21:33:20.735227Z",
          "iopub.status.busy": "2021-07-22T21:33:20.732866Z",
          "iopub.status.idle": "2021-07-22T21:33:20.898796Z",
          "shell.execute_reply": "2021-07-22T21:33:20.897685Z"
        },
        "papermill": {
          "duration": 0.232703,
          "end_time": "2021-07-22T21:33:20.899004",
          "exception": false,
          "start_time": "2021-07-22T21:33:20.666301",
          "status": "completed"
        },
        "tags": [],
        "colab": {
          "base_uri": "https://localhost:8080/",
          "height": 34
        },
        "id": "lLK1iyB2K949",
        "outputId": "8873ac6d-1079-4729-ca5f-2f675a4cc31d"
      },
      "outputs": [
        {
          "output_type": "display_data",
          "data": {
            "text/html": [
              "<style>\n",
              ".list-inline {list-style: none; margin:0; padding: 0}\n",
              ".list-inline>li {display: inline-block}\n",
              ".list-inline>li:not(:last-child)::after {content: \"\\00b7\"; padding: 0 .5ex}\n",
              "</style>\n",
              "<ol class=list-inline><li>5150</li><li>20</li></ol>\n"
            ],
            "text/markdown": "1. 5150\n2. 20\n\n\n",
            "text/latex": "\\begin{enumerate*}\n\\item 5150\n\\item 20\n\\end{enumerate*}\n",
            "text/plain": [
              "[1] 5150   20"
            ]
          },
          "metadata": {}
        }
      ],
      "source": [
        "load(\"/content/wage2015_subsample_inference.rdata\")\n",
        "dim(data)"
      ]
    },
    {
      "cell_type": "markdown",
      "metadata": {
        "papermill": {
          "duration": 0.036385,
          "end_time": "2021-07-22T21:33:20.972103",
          "exception": false,
          "start_time": "2021-07-22T21:33:20.935718",
          "status": "completed"
        },
        "tags": [],
        "id": "ViGGMCkaK95C"
      },
      "source": [
        "The outcomes $Y_i$'s are hourly (log) wages of never-married workers living in the U.S. The raw regressors $Z_i$'s consist of a variety of characteristics, including experience, education and industry and occupation indicators."
      ]
    },
    {
      "cell_type": "code",
      "execution_count": null,
      "metadata": {
        "execution": {
          "iopub.execute_input": "2021-07-22T21:33:21.078896Z",
          "iopub.status.busy": "2021-07-22T21:33:21.048765Z",
          "iopub.status.idle": "2021-07-22T21:33:21.095997Z",
          "shell.execute_reply": "2021-07-22T21:33:21.094629Z"
        },
        "papermill": {
          "duration": 0.087405,
          "end_time": "2021-07-22T21:33:21.096144",
          "exception": false,
          "start_time": "2021-07-22T21:33:21.008739",
          "status": "completed"
        },
        "tags": [],
        "colab": {
          "base_uri": "https://localhost:8080/",
          "height": 34
        },
        "id": "nruHDR5SK95D",
        "outputId": "071ef4ec-8c4d-47b4-b810-527f7e42feec"
      },
      "outputs": [
        {
          "output_type": "display_data",
          "data": {
            "text/html": [
              "<style>\n",
              ".list-inline {list-style: none; margin:0; padding: 0}\n",
              ".list-inline>li {display: inline-block}\n",
              ".list-inline>li:not(:last-child)::after {content: \"\\00b7\"; padding: 0 .5ex}\n",
              "</style>\n",
              "<ol class=list-inline><li>'sex'</li><li>'shs'</li><li>'hsg'</li><li>'scl'</li><li>'clg'</li><li>'ad'</li><li>'mw'</li><li>'so'</li><li>'we'</li><li>'ne'</li><li>'exp1'</li><li>'exp2'</li><li>'exp3'</li><li>'exp4'</li><li>'occ'</li><li>'occ2'</li><li>'ind'</li><li>'ind2'</li></ol>\n"
            ],
            "text/markdown": "1. 'sex'\n2. 'shs'\n3. 'hsg'\n4. 'scl'\n5. 'clg'\n6. 'ad'\n7. 'mw'\n8. 'so'\n9. 'we'\n10. 'ne'\n11. 'exp1'\n12. 'exp2'\n13. 'exp3'\n14. 'exp4'\n15. 'occ'\n16. 'occ2'\n17. 'ind'\n18. 'ind2'\n\n\n",
            "text/latex": "\\begin{enumerate*}\n\\item 'sex'\n\\item 'shs'\n\\item 'hsg'\n\\item 'scl'\n\\item 'clg'\n\\item 'ad'\n\\item 'mw'\n\\item 'so'\n\\item 'we'\n\\item 'ne'\n\\item 'exp1'\n\\item 'exp2'\n\\item 'exp3'\n\\item 'exp4'\n\\item 'occ'\n\\item 'occ2'\n\\item 'ind'\n\\item 'ind2'\n\\end{enumerate*}\n",
            "text/plain": [
              " [1] \"sex\"  \"shs\"  \"hsg\"  \"scl\"  \"clg\"  \"ad\"   \"mw\"   \"so\"   \"we\"   \"ne\"  \n",
              "[11] \"exp1\" \"exp2\" \"exp3\" \"exp4\" \"occ\"  \"occ2\" \"ind\"  \"ind2\""
            ]
          },
          "metadata": {}
        }
      ],
      "source": [
        "Z <- subset(data,select=-c(lwage,wage)) # regressors\n",
        "colnames(Z)"
      ]
    },
    {
      "cell_type": "markdown",
      "metadata": {
        "papermill": {
          "duration": 0.036941,
          "end_time": "2021-07-22T21:33:21.171426",
          "exception": false,
          "start_time": "2021-07-22T21:33:21.134485",
          "status": "completed"
        },
        "tags": [],
        "id": "suKOd8sxK95E"
      },
      "source": [
        "The following figure shows the weekly wage distribution from the US survey data."
      ]
    },
    {
      "cell_type": "code",
      "execution_count": null,
      "metadata": {
        "execution": {
          "iopub.execute_input": "2021-07-22T21:33:21.250222Z",
          "iopub.status.busy": "2021-07-22T21:33:21.249037Z",
          "iopub.status.idle": "2021-07-22T21:33:21.551533Z",
          "shell.execute_reply": "2021-07-22T21:33:21.550113Z"
        },
        "papermill": {
          "duration": 0.343165,
          "end_time": "2021-07-22T21:33:21.551709",
          "exception": false,
          "start_time": "2021-07-22T21:33:21.208544",
          "status": "completed"
        },
        "tags": [],
        "colab": {
          "base_uri": "https://localhost:8080/",
          "height": 437
        },
        "id": "RozJNJdqK95G",
        "outputId": "1b013431-76fe-4f8b-a1bd-d4ab522945b5"
      },
      "outputs": [
        {
          "output_type": "display_data",
          "data": {
            "text/plain": [
              "Plot with title “Empirical wage distribution from the US survey data”"
            ],
            "image/png": "[encoded data removed]"
          },
          "metadata": {
            "image/png": {
              "width": 420,
              "height": 420
            }
          }
        }
      ],
      "source": [
        "hist(data$wage, xlab= \"hourly wage\", main=\"Empirical wage distribution from the US survey data\", breaks= 35)"
      ]
    },
    {
      "cell_type": "markdown",
      "metadata": {
        "papermill": {
          "duration": 0.038762,
          "end_time": "2021-07-22T21:33:21.629360",
          "exception": false,
          "start_time": "2021-07-22T21:33:21.590598",
          "status": "completed"
        },
        "tags": [],
        "id": "xtZL-EH5K95H"
      },
      "source": [
        "Wages show a high degree of skewness. Hence, wages are transformed in almost all studies by\n",
        "the logarithm."
      ]
    },
    {
      "cell_type": "markdown",
      "metadata": {
        "papermill": {
          "duration": 0.038159,
          "end_time": "2021-07-22T21:33:21.706383",
          "exception": false,
          "start_time": "2021-07-22T21:33:21.668224",
          "status": "completed"
        },
        "tags": [],
        "id": "oIfEmGqkK95I"
      },
      "source": [
        "## Analysis"
      ]
    },
    {
      "cell_type": "markdown",
      "metadata": {
        "papermill": {
          "duration": 0.038644,
          "end_time": "2021-07-22T21:33:21.783461",
          "exception": false,
          "start_time": "2021-07-22T21:33:21.744817",
          "status": "completed"
        },
        "tags": [],
        "id": "9Cme2WdRK95I"
      },
      "source": [
        "Due to the skewness of the data, we are considering log wages which leads to the following regression model\n",
        "\n",
        "$$log(wage) = g(Z) + \\epsilon.$$"
      ]
    },
    {
      "cell_type": "markdown",
      "metadata": {
        "papermill": {
          "duration": 0.038767,
          "end_time": "2021-07-22T21:33:21.861283",
          "exception": false,
          "start_time": "2021-07-22T21:33:21.822516",
          "status": "completed"
        },
        "tags": [],
        "id": "CI5jOy7nK95J"
      },
      "source": [
        "We will estimate the two sets of prediction rules: Linear and Nonlinear Models.\n",
        "In linear models, we estimate the prediction rule of the form\n",
        "\n",
        "$$\\hat g(Z) = \\hat \\beta'X.$$\n",
        "Again, we generate $X$ in two ways:\n",
        "\n",
        "1. Basic Model:   $X$ consists of a set of raw regressors (e.g. gender, experience, education indicators, regional indicators).\n",
        "\n",
        "\n",
        "2. Flexible Model:  $X$ consists of all raw regressors from the basic model plus occupation and industry indicators, transformations (e.g., ${exp}^2$ and ${exp}^3$) and additional two-way interactions.\n"
      ]
    },
    {
      "cell_type": "markdown",
      "metadata": {
        "papermill": {
          "duration": 0.038121,
          "end_time": "2021-07-22T21:33:21.938272",
          "exception": false,
          "start_time": "2021-07-22T21:33:21.900151",
          "status": "completed"
        },
        "tags": [],
        "id": "K2R4wQnvK95K"
      },
      "source": [
        "To evaluate the out-of-sample performance, we split the data first."
      ]
    },
    {
      "cell_type": "code",
      "execution_count": null,
      "metadata": {
        "execution": {
          "iopub.execute_input": "2021-07-22T21:33:22.019774Z",
          "iopub.status.busy": "2021-07-22T21:33:22.018129Z",
          "iopub.status.idle": "2021-07-22T21:33:22.037820Z",
          "shell.execute_reply": "2021-07-22T21:33:22.036538Z"
        },
        "papermill": {
          "duration": 0.061626,
          "end_time": "2021-07-22T21:33:22.037969",
          "exception": false,
          "start_time": "2021-07-22T21:33:21.976343",
          "status": "completed"
        },
        "tags": [],
        "id": "RiPz3fnwK95L"
      },
      "outputs": [],
      "source": [
        "set.seed(42)\n",
        "training <- sample(nrow(data), nrow(data)*(3/4), replace=FALSE)\n",
        "\n",
        "data_train <- data[training,]\n",
        "data_test <- data[-training,]"
      ]
    },
    {
      "cell_type": "markdown",
      "metadata": {
        "papermill": {
          "duration": 0.039021,
          "end_time": "2021-07-22T21:33:22.115014",
          "exception": false,
          "start_time": "2021-07-22T21:33:22.075993",
          "status": "completed"
        },
        "tags": [],
        "id": "XXriAy0OK95M"
      },
      "source": [
        "We construct the two different model matrices $X_{basic}$ and $X_{flex}$ for both the training and the test sample:"
      ]
    },
    {
      "cell_type": "code",
      "execution_count": null,
      "metadata": {
        "execution": {
          "iopub.execute_input": "2021-07-22T21:33:22.198405Z",
          "iopub.status.busy": "2021-07-22T21:33:22.197691Z",
          "iopub.status.idle": "2021-07-22T21:33:22.248902Z",
          "shell.execute_reply": "2021-07-22T21:33:22.246885Z"
        },
        "papermill": {
          "duration": 0.09478,
          "end_time": "2021-07-22T21:33:22.249085",
          "exception": false,
          "start_time": "2021-07-22T21:33:22.154305",
          "status": "completed"
        },
        "tags": [],
        "id": "1J5bykZYK95N"
      },
      "outputs": [],
      "source": [
        "X_basic <-  \"sex + exp1 + exp2+ shs + hsg+ scl + clg + mw + so + we + occ2+ ind2\"\n",
        "X_flex <- \"sex + (exp1+exp2+exp3+exp4)*(shs+hsg+scl+clg+occ2+ind2+mw+so+we)\"\n",
        "formula_basic <- as.formula(paste(\"lwage\", \"~\", X_basic))\n",
        "formula_flex <- as.formula(paste(\"lwage\", \"~\", X_flex))\n",
        "\n",
        "model_X_basic_train <- model.matrix(formula_basic,data_train)\n",
        "model_X_basic_test <- model.matrix(formula_basic,data_test)\n",
        "p_basic <- dim(model_X_basic_train)[2]\n",
        "model_X_flex_train <- model.matrix(formula_flex,data_train)\n",
        "model_X_flex_test <- model.matrix(formula_flex,data_test)\n",
        "p_flex <- dim(model_X_flex_train)[2]"
      ]
    },
    {
      "cell_type": "code",
      "execution_count": null,
      "metadata": {
        "execution": {
          "iopub.execute_input": "2021-07-22T21:33:22.331274Z",
          "iopub.status.busy": "2021-07-22T21:33:22.329613Z",
          "iopub.status.idle": "2021-07-22T21:33:22.347093Z",
          "shell.execute_reply": "2021-07-22T21:33:22.345856Z"
        },
        "papermill": {
          "duration": 0.059764,
          "end_time": "2021-07-22T21:33:22.347237",
          "exception": false,
          "start_time": "2021-07-22T21:33:22.287473",
          "status": "completed"
        },
        "tags": [],
        "id": "Sp-vP1lCK95O"
      },
      "outputs": [],
      "source": [
        "Y_train <- data_train$lwage\n",
        "Y_test <- data_test$lwage"
      ]
    },
    {
      "cell_type": "code",
      "execution_count": null,
      "metadata": {
        "execution": {
          "iopub.execute_input": "2021-07-22T21:33:22.429312Z",
          "iopub.status.busy": "2021-07-22T21:33:22.428202Z",
          "iopub.status.idle": "2021-07-22T21:33:22.445258Z",
          "shell.execute_reply": "2021-07-22T21:33:22.443989Z"
        },
        "papermill": {
          "duration": 0.059354,
          "end_time": "2021-07-22T21:33:22.445413",
          "exception": false,
          "start_time": "2021-07-22T21:33:22.386059",
          "status": "completed"
        },
        "tags": [],
        "colab": {
          "base_uri": "https://localhost:8080/",
          "height": 52
        },
        "id": "fhrpYA1qK95O",
        "outputId": "fa7719d2-5b8c-4c04-c012-4735c2360918"
      },
      "outputs": [
        {
          "output_type": "display_data",
          "data": {
            "text/html": [
              "52"
            ],
            "text/markdown": "52",
            "text/latex": "52",
            "text/plain": [
              "[1] 52"
            ]
          },
          "metadata": {}
        },
        {
          "output_type": "display_data",
          "data": {
            "text/html": [
              "246"
            ],
            "text/markdown": "246",
            "text/latex": "246",
            "text/plain": [
              "[1] 246"
            ]
          },
          "metadata": {}
        }
      ],
      "source": [
        "p_basic\n",
        "p_flex"
      ]
    },
    {
      "cell_type": "markdown",
      "metadata": {
        "papermill": {
          "duration": 0.039589,
          "end_time": "2021-07-22T21:33:22.525196",
          "exception": false,
          "start_time": "2021-07-22T21:33:22.485607",
          "status": "completed"
        },
        "tags": [],
        "id": "OEV8z0ncK95P"
      },
      "source": [
        "As known from our first lab, the basic model consists of about $50$ regressors and the flexible model of $246$ regressors. Let us fit our models to the training sample using the two different model specifications. We are starting by running a simple ols regression."
      ]
    },
    {
      "cell_type": "markdown",
      "metadata": {
        "papermill": {
          "duration": 0.039781,
          "end_time": "2021-07-22T21:33:22.604883",
          "exception": false,
          "start_time": "2021-07-22T21:33:22.565102",
          "status": "completed"
        },
        "tags": [],
        "id": "U2S14iPPK95Q"
      },
      "source": [
        "### OLS"
      ]
    },
    {
      "cell_type": "markdown",
      "metadata": {
        "papermill": {
          "duration": 0.039692,
          "end_time": "2021-07-22T21:33:22.684509",
          "exception": false,
          "start_time": "2021-07-22T21:33:22.644817",
          "status": "completed"
        },
        "tags": [],
        "id": "VD5MVKWMK95R"
      },
      "source": [
        "**Exercise 1:** Fit the basic and flexible model to our training data by running an ols regression and compute the mean squared error on the test sample."
      ]
    },
    {
      "cell_type": "code",
      "execution_count": null,
      "metadata": {
        "execution": {
          "iopub.execute_input": "2021-07-22T21:33:22.770034Z",
          "iopub.status.busy": "2021-07-22T21:33:22.769510Z",
          "iopub.status.idle": "2021-07-22T21:33:22.791709Z",
          "shell.execute_reply": "2021-07-22T21:33:22.790718Z"
        },
        "papermill": {
          "duration": 0.067482,
          "end_time": "2021-07-22T21:33:22.791854",
          "exception": false,
          "start_time": "2021-07-22T21:33:22.724372",
          "status": "completed"
        },
        "tags": [],
        "id": "73azAl1fK95R"
      },
      "outputs": [],
      "source": [
        "# ols (basic model)\n",
        "fit.lm.basic <- lm(formula_basic, data_train)"
      ]
    },
    {
      "cell_type": "code",
      "execution_count": null,
      "metadata": {
        "execution": {
          "iopub.execute_input": "2021-07-22T21:33:22.876209Z",
          "iopub.status.busy": "2021-07-22T21:33:22.875015Z",
          "iopub.status.idle": "2021-07-22T21:33:22.900006Z",
          "shell.execute_reply": "2021-07-22T21:33:22.897996Z"
        },
        "papermill": {
          "duration": 0.068516,
          "end_time": "2021-07-22T21:33:22.900213",
          "exception": false,
          "start_time": "2021-07-22T21:33:22.831697",
          "status": "completed"
        },
        "tags": [],
        "colab": {
          "base_uri": "https://localhost:8080/"
        },
        "id": "gVkytl0nK95S",
        "outputId": "3b5661ea-a73b-457d-ca33-7ef49bc21eff"
      },
      "outputs": [
        {
          "output_type": "stream",
          "name": "stdout",
          "text": [
            "The mean squared error (MSE) using the basic model is equal to 0.2162347"
          ]
        }
      ],
      "source": [
        "# compute out-of-sample performance\n",
        "yhat.lm.basic <- predict(fit.lm.basic, newdata=data_test)\n",
        "cat(\"The mean squared error (MSE) using the basic model is equal to\" , mean((Y_test-yhat.lm.basic)^2)) # MSE OLS (basic model)"
      ]
    },
    {
      "cell_type": "markdown",
      "metadata": {
        "papermill": {
          "duration": 0.056431,
          "end_time": "2021-07-22T21:33:23.026875",
          "exception": false,
          "start_time": "2021-07-22T21:33:22.970444",
          "status": "completed"
        },
        "tags": [],
        "id": "SQBec4_LK95S"
      },
      "source": [
        "To determine the out-of-sample $MSE$ and the standard error in one step, we can use the function *lm*:"
      ]
    },
    {
      "cell_type": "code",
      "execution_count": null,
      "metadata": {
        "execution": {
          "iopub.execute_input": "2021-07-22T21:33:23.116493Z",
          "iopub.status.busy": "2021-07-22T21:33:23.115227Z",
          "iopub.status.idle": "2021-07-22T21:33:23.142144Z",
          "shell.execute_reply": "2021-07-22T21:33:23.140424Z"
        },
        "papermill": {
          "duration": 0.075002,
          "end_time": "2021-07-22T21:33:23.142292",
          "exception": false,
          "start_time": "2021-07-22T21:33:23.067290",
          "status": "completed"
        },
        "tags": [],
        "colab": {
          "base_uri": "https://localhost:8080/",
          "height": 52
        },
        "id": "LnJZOE7BK95T",
        "outputId": "7da983d6-d008-4cd8-ebee-0f566b1fb301"
      },
      "outputs": [
        {
          "output_type": "display_data",
          "data": {
            "text/html": [
              "<style>\n",
              ".list-inline {list-style: none; margin:0; padding: 0}\n",
              ".list-inline>li {display: inline-block}\n",
              ".list-inline>li:not(:last-child)::after {content: \"\\00b7\"; padding: 0 .5ex}\n",
              "</style>\n",
              "<ol class=list-inline><li>0.21623473827748</li><li>0.0146659283377104</li></ol>\n"
            ],
            "text/markdown": "1. 0.21623473827748\n2. 0.0146659283377104\n\n\n",
            "text/latex": "\\begin{enumerate*}\n\\item 0.21623473827748\n\\item 0.0146659283377104\n\\end{enumerate*}\n",
            "text/plain": [
              "[1] 0.21623474 0.01466593"
            ]
          },
          "metadata": {}
        },
        {
          "output_type": "display_data",
          "data": {
            "text/html": [
              "0.21623473827748"
            ],
            "text/markdown": "0.21623473827748",
            "text/latex": "0.21623473827748",
            "text/plain": [
              "[1] 0.2162347"
            ]
          },
          "metadata": {}
        }
      ],
      "source": [
        "MSE.lm.basic <- summary(lm((Y_test-yhat.lm.basic)^2~1))$coef[1:2]\n",
        "MSE.lm.basic\n",
        "mean((Y_test-yhat.lm.basic)^2)\n"
      ]
    },
    {
      "cell_type": "markdown",
      "metadata": {
        "papermill": {
          "duration": 0.040507,
          "end_time": "2021-07-22T21:33:23.223781",
          "exception": false,
          "start_time": "2021-07-22T21:33:23.183274",
          "status": "completed"
        },
        "tags": [],
        "id": "ErPf_bJWK95T"
      },
      "source": [
        "We also compute the out-of-sample $R^2$:"
      ]
    },
    {
      "cell_type": "code",
      "execution_count": null,
      "metadata": {
        "execution": {
          "iopub.execute_input": "2021-07-22T21:33:23.310177Z",
          "iopub.status.busy": "2021-07-22T21:33:23.308577Z",
          "iopub.status.idle": "2021-07-22T21:33:23.323143Z",
          "shell.execute_reply": "2021-07-22T21:33:23.321848Z"
        },
        "papermill": {
          "duration": 0.058991,
          "end_time": "2021-07-22T21:33:23.323276",
          "exception": false,
          "start_time": "2021-07-22T21:33:23.264285",
          "status": "completed"
        },
        "tags": [],
        "colab": {
          "base_uri": "https://localhost:8080/"
        },
        "id": "DMOazRYgK95T",
        "outputId": "cf3b6500-8b0b-419a-914c-98a8a6dbaa55"
      },
      "outputs": [
        {
          "output_type": "stream",
          "name": "stdout",
          "text": [
            "The R^2 using the basic model is equal to 0.2875915"
          ]
        }
      ],
      "source": [
        "R2.lm.basic <- 1-MSE.lm.basic[1]/var(Y_test)\n",
        "cat(\"The R^2 using the basic model is equal to\",R2.lm.basic) # MSE OLS (basic model)"
      ]
    },
    {
      "cell_type": "markdown",
      "metadata": {
        "papermill": {
          "duration": 0.040697,
          "end_time": "2021-07-22T21:33:23.404884",
          "exception": false,
          "start_time": "2021-07-22T21:33:23.364187",
          "status": "completed"
        },
        "tags": [],
        "id": "CDdtgreRK95U"
      },
      "source": [
        "We repeat the same procedure for the flexible model."
      ]
    },
    {
      "cell_type": "code",
      "execution_count": null,
      "metadata": {
        "execution": {
          "iopub.execute_input": "2021-07-22T21:33:23.491381Z",
          "iopub.status.busy": "2021-07-22T21:33:23.490191Z",
          "iopub.status.idle": "2021-07-22T21:33:23.637474Z",
          "shell.execute_reply": "2021-07-22T21:33:23.635485Z"
        },
        "papermill": {
          "duration": 0.192034,
          "end_time": "2021-07-22T21:33:23.637702",
          "exception": false,
          "start_time": "2021-07-22T21:33:23.445668",
          "status": "completed"
        },
        "tags": [],
        "colab": {
          "base_uri": "https://localhost:8080/"
        },
        "id": "d405BhhkK95U",
        "outputId": "6605dba5-ccfd-4d37-fdb9-8fea9d2b9a4d"
      },
      "outputs": [
        {
          "output_type": "stream",
          "name": "stdout",
          "text": [
            "The R^2 using the flexible model is equal to 0.2689486"
          ]
        }
      ],
      "source": [
        "# ols (flexible model)\n",
        "fit.lm.flex <- lm(formula_flex, data_train)\n",
        "# Compute the Out-Of-Sample Performance\n",
        "options(warn=-1)\n",
        "yhat.lm.flex <- predict(fit.lm.flex, newdata=data_test)\n",
        "MSE.lm.flex <- summary(lm((Y_test-yhat.lm.flex)^2~1))$coef[1:2]\n",
        "R2.lm.flex <- 1-MSE.lm.flex[1]/var(Y_test)\n",
        "cat(\"The R^2 using the flexible model is equal to\",R2.lm.flex) # MSE OLS (flexible model)"
      ]
    },
    {
      "cell_type": "markdown",
      "metadata": {
        "papermill": {
          "duration": 0.055232,
          "end_time": "2021-07-22T21:33:23.764568",
          "exception": false,
          "start_time": "2021-07-22T21:33:23.709336",
          "status": "completed"
        },
        "tags": [],
        "id": "yr7ipJeVK95V"
      },
      "source": [
        "We observe that ols regression works better for the basic model with smaller $p/n$ ratio."
      ]
    },
    {
      "cell_type": "markdown",
      "source": [
        "We are proceeding by running lasso regressions and its versions."
      ],
      "metadata": {
        "id": "8dNIw6ntyp69"
      }
    },
    {
      "cell_type": "markdown",
      "metadata": {
        "papermill": {
          "duration": 0.041825,
          "end_time": "2021-07-22T21:33:23.870407",
          "exception": false,
          "start_time": "2021-07-22T21:33:23.828582",
          "status": "completed"
        },
        "tags": [],
        "id": "GyU6prU7K95V"
      },
      "source": [
        "### Lasso, Ridge and Elastic Net\n"
      ]
    },
    {
      "cell_type": "markdown",
      "metadata": {
        "papermill": {
          "duration": 0.04152,
          "end_time": "2021-07-22T21:33:23.953937",
          "exception": false,
          "start_time": "2021-07-22T21:33:23.912417",
          "status": "completed"
        },
        "tags": [],
        "id": "VF4RfUt5K95W"
      },
      "source": [
        "**Exercise 2:** Run a lasso/post-lasso regression first and then compute the measures for the out-of-sample performance. Apply the package *hdm* and the function *rlasso* to rely on a theory-based choice of the penalty level $\\lambda$ in the lasso regression."
      ]
    },
    {
      "cell_type": "code",
      "execution_count": null,
      "metadata": {
        "execution": {
          "iopub.execute_input": "2021-07-22T21:33:24.047109Z",
          "iopub.status.busy": "2021-07-22T21:33:24.041516Z",
          "iopub.status.idle": "2021-07-22T21:33:24.535625Z",
          "shell.execute_reply": "2021-07-22T21:33:24.532403Z"
        },
        "papermill": {
          "duration": 0.539956,
          "end_time": "2021-07-22T21:33:24.535881",
          "exception": false,
          "start_time": "2021-07-22T21:33:23.995925",
          "status": "completed"
        },
        "tags": [],
        "colab": {
          "base_uri": "https://localhost:8080/"
        },
        "id": "RmwTyR-eK95W",
        "outputId": "d1471400-5548-402d-eec5-360d9cb35431"
      },
      "outputs": [
        {
          "output_type": "stream",
          "name": "stdout",
          "text": [
            "The R^2 using the basic model is equal to 0.2674882 for lasso and 0.2677112 for post-lasso"
          ]
        }
      ],
      "source": [
        "# lasso and versions\n",
        "library(hdm)\n",
        "fit.rlasso  <- rlasso(formula_basic, data_train, post=FALSE)\n",
        "fit.rlasso.post <- rlasso(formula_basic, data_train, post=TRUE)\n",
        "yhat.rlasso   <- predict(fit.rlasso, newdata=data_test)\n",
        "yhat.rlasso.post   <- predict(fit.rlasso.post, newdata=data_test)\n",
        "\n",
        "MSE.lasso <- summary(lm((Y_test-yhat.rlasso)^2~1))$coef[1:2]\n",
        "MSE.lasso.post <- summary(lm((Y_test-yhat.rlasso.post)^2~1))$coef[1:2]\n",
        "\n",
        "R2.lasso <- 1-MSE.lasso[1]/var(Y_test)\n",
        "R2.lasso.post <- 1-MSE.lasso.post[1]/var(Y_test)\n",
        "cat(\"The R^2 using the basic model is equal to\",R2.lasso,\"for lasso and\",R2.lasso.post,\"for post-lasso\") # R^2 lasso/post-lasso (basic model)"
      ]
    },
    {
      "cell_type": "markdown",
      "metadata": {
        "papermill": {
          "duration": 0.051245,
          "end_time": "2021-07-22T21:33:24.660529",
          "exception": false,
          "start_time": "2021-07-22T21:33:24.609284",
          "status": "completed"
        },
        "tags": [],
        "id": "tFUXExq7K95X"
      },
      "source": [
        "Now, we repeat the same procedure for the flexible model."
      ]
    },
    {
      "cell_type": "code",
      "execution_count": null,
      "metadata": {
        "execution": {
          "iopub.execute_input": "2021-07-22T21:33:24.749884Z",
          "iopub.status.busy": "2021-07-22T21:33:24.748227Z",
          "iopub.status.idle": "2021-07-22T21:33:27.945305Z",
          "shell.execute_reply": "2021-07-22T21:33:27.942260Z"
        },
        "papermill": {
          "duration": 3.242671,
          "end_time": "2021-07-22T21:33:27.945527",
          "exception": false,
          "start_time": "2021-07-22T21:33:24.702856",
          "status": "completed"
        },
        "tags": [],
        "colab": {
          "base_uri": "https://localhost:8080/"
        },
        "id": "Os5j7bznK95X",
        "outputId": "dd13d8bb-d9aa-48ee-c10a-7ef87e007024"
      },
      "outputs": [
        {
          "output_type": "stream",
          "name": "stdout",
          "text": [
            "The R^2 using the flexible model is equal to 0.2661038 for lasso and 0.2526069 for post-lasso"
          ]
        }
      ],
      "source": [
        "fit.rlasso.flex  <- rlasso(formula_flex, data_train, post=FALSE)\n",
        "fit.rlasso.post.flex <- rlasso(formula_flex, data_train, post=TRUE)\n",
        "yhat.rlasso.flex   <- predict(fit.rlasso.flex, newdata=data_test)\n",
        "yhat.rlasso.post.flex   <- predict(fit.rlasso.post.flex, newdata=data_test)\n",
        "\n",
        "MSE.lasso.flex <- summary(lm((Y_test-yhat.rlasso.flex)^2~1))$coef[1:2]\n",
        "MSE.lasso.post.flex <- summary(lm((Y_test-yhat.rlasso.post.flex)^2~1))$coef[1:2]\n",
        "\n",
        "R2.lasso.flex <- 1-MSE.lasso.flex[1]/var(Y_test)\n",
        "R2.lasso.post.flex <- 1-MSE.lasso.post.flex[1]/var(Y_test)\n",
        "cat(\"The R^2 using the flexible model is equal to\",R2.lasso.flex,\"for lasso and\",R2.lasso.post.flex,\"for post-lasso\") # R^2 lasso/post-lasso (flexible model)"
      ]
    },
    {
      "cell_type": "markdown",
      "metadata": {
        "papermill": {
          "duration": 0.051694,
          "end_time": "2021-07-22T21:33:28.071250",
          "exception": false,
          "start_time": "2021-07-22T21:33:28.019556",
          "status": "completed"
        },
        "tags": [],
        "id": "YvVw7qjYK95Y"
      },
      "source": [
        "The lasso regression works not better for the more complex model."
      ]
    },
    {
      "cell_type": "markdown",
      "metadata": {
        "papermill": {
          "duration": 0.043014,
          "end_time": "2021-07-22T21:33:28.156922",
          "exception": false,
          "start_time": "2021-07-22T21:33:28.113908",
          "status": "completed"
        },
        "tags": [],
        "id": "vavzHV2IK95Y"
      },
      "source": [
        "In contrast to a theory-based choice of the tuning parameter $\\lambda$ in the lasso regression, we can also use cross-validation to determine the penalty level by applying the package *glmnet* and the function cv.glmnet.\n",
        "\n",
        "**Exercise 3:** In this context, run a lasso, a ridge and a elastic net regression by adjusting the parameter *alpha* in the function *cv.glmnet*. Which model has the lowest mean squared error on the test sample?"
      ]
    },
    {
      "cell_type": "code",
      "execution_count": null,
      "metadata": {
        "execution": {
          "iopub.execute_input": "2021-07-22T21:33:28.245441Z",
          "iopub.status.busy": "2021-07-22T21:33:28.244334Z",
          "iopub.status.idle": "2021-07-22T21:33:30.309699Z",
          "shell.execute_reply": "2021-07-22T21:33:30.308186Z"
        },
        "papermill": {
          "duration": 2.110744,
          "end_time": "2021-07-22T21:33:30.309881",
          "exception": false,
          "start_time": "2021-07-22T21:33:28.199137",
          "status": "completed"
        },
        "tags": [],
        "colab": {
          "base_uri": "https://localhost:8080/"
        },
        "id": "tl0gXl5wK95Y",
        "outputId": "d96731ae-9493-402c-ad7b-2f6c7da0e3e6"
      },
      "outputs": [
        {
          "output_type": "stream",
          "name": "stderr",
          "text": [
            "Loading required package: Matrix\n",
            "\n",
            "Loaded glmnet 4.1-8\n",
            "\n"
          ]
        },
        {
          "output_type": "stream",
          "name": "stdout",
          "text": [
            "R^2 using cross-validation for lasso, ridge and elastic net in the basic model: 0.2811662 0.2576451 0.2760405"
          ]
        }
      ],
      "source": [
        "library(glmnet)\n",
        "fit.lasso.cv   <- cv.glmnet(model_X_basic_train, Y_train, family=\"gaussian\", alpha=1)\n",
        "fit.ridge   <- cv.glmnet(model_X_basic_train, Y_train, family=\"gaussian\", alpha=0)\n",
        "fit.elnet   <- cv.glmnet(model_X_basic_train, Y_train, family=\"gaussian\", alpha=.5)\n",
        "\n",
        "yhat.lasso.cv    <- predict(fit.lasso.cv, newx = model_X_basic_test)\n",
        "yhat.ridge   <- predict(fit.ridge, newx = model_X_basic_test)\n",
        "yhat.elnet   <- predict(fit.elnet, newx = model_X_basic_test)\n",
        "\n",
        "MSE.lasso.cv <- summary(lm((Y_test-yhat.lasso.cv)^2~1))$coef[1:2]\n",
        "MSE.ridge <- summary(lm((Y_test-yhat.ridge)^2~1))$coef[1:2]\n",
        "MSE.elnet <- summary(lm((Y_test-yhat.elnet)^2~1))$coef[1:2]\n",
        "\n",
        "R2.lasso.cv <- 1-MSE.lasso.cv[1]/var(Y_test)\n",
        "R2.ridge <- 1-MSE.ridge[1]/var(Y_test)\n",
        "R2.elnet <- 1-MSE.elnet[1]/var(Y_test)\n",
        "\n",
        "# R^2 using cross-validation (basic model)\n",
        "cat(\"R^2 using cross-validation for lasso, ridge and elastic net in the basic model:\",R2.lasso.cv,R2.ridge,R2.elnet)"
      ]
    },
    {
      "cell_type": "code",
      "execution_count": null,
      "metadata": {
        "execution": {
          "iopub.execute_input": "2021-07-22T21:33:30.499405Z",
          "iopub.status.busy": "2021-07-22T21:33:30.498099Z",
          "iopub.status.idle": "2021-07-22T21:33:44.141438Z",
          "shell.execute_reply": "2021-07-22T21:33:44.139990Z"
        },
        "papermill": {
          "duration": 13.691447,
          "end_time": "2021-07-22T21:33:44.141768",
          "exception": false,
          "start_time": "2021-07-22T21:33:30.450321",
          "status": "completed"
        },
        "tags": [],
        "colab": {
          "base_uri": "https://localhost:8080/"
        },
        "id": "zkOoL8Q6K95Z",
        "outputId": "3dcf5548-5e20-47af-f978-e5e64220b3a3"
      },
      "outputs": [
        {
          "output_type": "stream",
          "name": "stdout",
          "text": [
            "R^2 using cross-validation for lasso, ridge and elastic net in the flexible model: 0.2704411 0.2451732 0.2754132"
          ]
        }
      ],
      "source": [
        "fit.lasso.cv.flex   <- cv.glmnet(model_X_flex_train, Y_train, family=\"gaussian\", alpha=1)\n",
        "fit.ridge.flex   <- cv.glmnet(model_X_flex_train, Y_train, family=\"gaussian\", alpha=0)\n",
        "fit.elnet.flex   <- cv.glmnet(model_X_flex_train, Y_train, family=\"gaussian\", alpha=.5)\n",
        "\n",
        "yhat.lasso.cv.flex    <- predict(fit.lasso.cv.flex , newx = model_X_flex_test)\n",
        "yhat.ridge.flex    <- predict(fit.ridge.flex , newx = model_X_flex_test)\n",
        "yhat.elnet.flex    <- predict(fit.elnet.flex , newx = model_X_flex_test)\n",
        "\n",
        "MSE.lasso.cv.flex  <- summary(lm((Y_test-yhat.lasso.cv.flex )^2~1))$coef[1:2]\n",
        "MSE.ridge.flex  <- summary(lm((Y_test-yhat.ridge.flex )^2~1))$coef[1:2]\n",
        "MSE.elnet.flex  <- summary(lm((Y_test-yhat.elnet.flex )^2~1))$coef[1:2]\n",
        "\n",
        "R2.lasso.cv.flex  <- 1-MSE.lasso.cv.flex [1]/var(Y_test)\n",
        "R2.ridge.flex  <- 1-MSE.ridge.flex [1]/var(Y_test)\n",
        "R2.elnet.flex  <- 1-MSE.elnet.flex [1]/var(Y_test)\n",
        "\n",
        "# R^2 using cross-validation (flexible model)\n",
        "cat(\"R^2 using cross-validation for lasso, ridge and elastic net in the flexible model:\",R2.lasso.cv.flex,R2.ridge.flex,R2.elnet.flex)"
      ]
    },
    {
      "cell_type": "markdown",
      "metadata": {
        "papermill": {
          "duration": 0.043216,
          "end_time": "2021-07-22T21:33:44.229372",
          "exception": false,
          "start_time": "2021-07-22T21:33:44.186156",
          "status": "completed"
        },
        "tags": [],
        "id": "uH8DCCMeK95a"
      },
      "source": [
        "The performance of the lasso regression with cross-validated penalty is quite similar to the performance of lasso using a theoretical based choice of the tuning parameter."
      ]
    },
    {
      "cell_type": "markdown",
      "metadata": {
        "papermill": {
          "duration": 0.043279,
          "end_time": "2021-07-22T21:33:44.316231",
          "exception": false,
          "start_time": "2021-07-22T21:33:44.272952",
          "status": "completed"
        },
        "tags": [],
        "id": "R8u8jRqwK95a"
      },
      "source": [
        "## Non-linear models"
      ]
    },
    {
      "cell_type": "markdown",
      "metadata": {
        "papermill": {
          "duration": 0.043761,
          "end_time": "2021-07-22T21:33:44.403514",
          "exception": false,
          "start_time": "2021-07-22T21:33:44.359753",
          "status": "completed"
        },
        "tags": [],
        "id": "CW1WBUSSK95a"
      },
      "source": [
        "Besides linear regression models, we consider nonlinear regression models to build a predictive model. We are apply regression trees, random forests and boosted trees to estimate the regression function $g(X)$. First, we load the relevant libraries."
      ]
    },
    {
      "cell_type": "code",
      "execution_count": null,
      "metadata": {
        "execution": {
          "iopub.execute_input": "2021-07-22T21:33:44.494395Z",
          "iopub.status.busy": "2021-07-22T21:33:44.493268Z",
          "iopub.status.idle": "2021-07-22T21:33:44.752574Z",
          "shell.execute_reply": "2021-07-22T21:33:44.751346Z"
        },
        "papermill": {
          "duration": 0.30601,
          "end_time": "2021-07-22T21:33:44.752736",
          "exception": false,
          "start_time": "2021-07-22T21:33:44.446726",
          "status": "completed"
        },
        "tags": [],
        "id": "SW6hspweK95b",
        "colab": {
          "base_uri": "https://localhost:8080/"
        },
        "outputId": "c3911dae-4b04-42e3-d56d-8f381e20021e"
      },
      "outputs": [
        {
          "output_type": "stream",
          "name": "stderr",
          "text": [
            "randomForest 4.7-1.2\n",
            "\n",
            "Type rfNews() to see new features/changes/bug fixes.\n",
            "\n",
            "Loaded gbm 2.2.2\n",
            "\n",
            "This version of gbm is no longer under development. Consider transitioning to gbm3, https://github.com/gbm-developers/gbm3\n",
            "\n"
          ]
        }
      ],
      "source": [
        "library(randomForest)\n",
        "library(rpart)\n",
        "#library(nnet)\n",
        "library(gbm)\n",
        "library(rpart.plot)"
      ]
    },
    {
      "cell_type": "markdown",
      "metadata": {
        "papermill": {
          "duration": 0.043594,
          "end_time": "2021-07-22T21:33:44.840683",
          "exception": false,
          "start_time": "2021-07-22T21:33:44.797089",
          "status": "completed"
        },
        "tags": [],
        "id": "sttttahnK95b"
      },
      "source": [
        "and we illustrate the application of regression trees."
      ]
    },
    {
      "cell_type": "markdown",
      "metadata": {
        "papermill": {
          "duration": 0.043219,
          "end_time": "2021-07-22T21:33:44.927600",
          "exception": false,
          "start_time": "2021-07-22T21:33:44.884381",
          "status": "completed"
        },
        "tags": [],
        "id": "jP4lrvq8K95b"
      },
      "source": [
        "### Regression Trees"
      ]
    },
    {
      "cell_type": "markdown",
      "metadata": {
        "papermill": {
          "duration": 0.043147,
          "end_time": "2021-07-22T21:33:45.014486",
          "exception": false,
          "start_time": "2021-07-22T21:33:44.971339",
          "status": "completed"
        },
        "tags": [],
        "id": "fxXIy6PdK95c"
      },
      "source": [
        "We fit a regression tree to the training data using the basic model. The parameter *cp* controls the complexity of the regression tree, i.e. how deep we build the tree.\n",
        "\n",
        "**Exercise 4:** Play around with the tuning parameter *cp* and check how the structur of the regression tree changes. What does the parameter *cp* control?"
      ]
    },
    {
      "cell_type": "code",
      "execution_count": null,
      "metadata": {
        "execution": {
          "iopub.execute_input": "2021-07-22T21:33:45.108375Z",
          "iopub.status.busy": "2021-07-22T21:33:45.106930Z",
          "iopub.status.idle": "2021-07-22T21:33:46.833179Z",
          "shell.execute_reply": "2021-07-22T21:33:46.833557Z"
        },
        "papermill": {
          "duration": 1.774435,
          "end_time": "2021-07-22T21:33:46.833743",
          "exception": false,
          "start_time": "2021-07-22T21:33:45.059308",
          "status": "completed"
        },
        "tags": [],
        "colab": {
          "base_uri": "https://localhost:8080/",
          "height": 454
        },
        "id": "xs4I0pw1K95c",
        "outputId": "d9f8e8e9-39cd-4203-84bb-f182f6ab0071"
      },
      "outputs": [
        {
          "output_type": "stream",
          "name": "stdout",
          "text": [
            "cex 0.7   xlim c(0, 1)   ylim c(-0.7, 1.7)\n"
          ]
        },
        {
          "output_type": "display_data",
          "data": {
            "text/plain": [
              "plot without title"
            ],
            "image/png": "[encoded data removed]"
          },
          "metadata": {
            "image/png": {
              "width": 420,
              "height": 420
            }
          }
        }
      ],
      "source": [
        "# fit the tree\n",
        "fit.trees <- rpart(formula_basic, data_train,cp = 0.01)\n",
        "prp(fit.trees,leaf.round=1, space=2, yspace=2,split.space=2,shadow.col = \"gray\",trace = 1) # plotting the tree"
      ]
    },
    {
      "cell_type": "code",
      "source": [
        "?rpart.control"
      ],
      "metadata": {
        "id": "T44GwcGnL8zp"
      },
      "execution_count": null,
      "outputs": []
    },
    {
      "cell_type": "markdown",
      "metadata": {
        "papermill": {
          "duration": 0.047977,
          "end_time": "2021-07-22T21:33:46.929812",
          "exception": false,
          "start_time": "2021-07-22T21:33:46.881835",
          "status": "completed"
        },
        "tags": [],
        "id": "6so7zVtlK95c"
      },
      "source": [
        "An important method to improve predictive performance is called \"Pruning the Tree\". This\n",
        "means the process of cutting down the branches of a tree. We apply pruning to the complex tree above to reduce the depth. Initially, we determine the optimal complexity of the regression tree."
      ]
    },
    {
      "cell_type": "code",
      "execution_count": null,
      "metadata": {
        "execution": {
          "iopub.execute_input": "2021-07-22T21:33:47.029943Z",
          "iopub.status.busy": "2021-07-22T21:33:47.028067Z",
          "iopub.status.idle": "2021-07-22T21:33:47.046676Z",
          "shell.execute_reply": "2021-07-22T21:33:47.045274Z"
        },
        "papermill": {
          "duration": 0.069407,
          "end_time": "2021-07-22T21:33:47.046815",
          "exception": false,
          "start_time": "2021-07-22T21:33:46.977408",
          "status": "completed"
        },
        "tags": [],
        "colab": {
          "base_uri": "https://localhost:8080/",
          "height": 55
        },
        "id": "1jMS1LFXK95d",
        "outputId": "fc8ec83f-76db-4f35-fe48-900e85700e73"
      },
      "outputs": [
        {
          "output_type": "display_data",
          "data": {
            "text/html": [
              "0.00297654439756037"
            ],
            "text/markdown": "0.00297654439756037",
            "text/latex": "0.00297654439756037",
            "text/plain": [
              "[1] 0.002976544"
            ]
          },
          "metadata": {}
        }
      ],
      "source": [
        "bestcp<- fit.trees$cptable[which.min(fit.trees$cptable[,\"xerror\"]),\"CP\"]\n",
        "bestcp"
      ]
    },
    {
      "cell_type": "markdown",
      "metadata": {
        "papermill": {
          "duration": 0.04778,
          "end_time": "2021-07-22T21:33:47.142808",
          "exception": false,
          "start_time": "2021-07-22T21:33:47.095028",
          "status": "completed"
        },
        "tags": [],
        "id": "oHc68hfBK95d"
      },
      "source": [
        "Now, we can prune the tree and visualize the prediction rule."
      ]
    },
    {
      "cell_type": "code",
      "execution_count": null,
      "metadata": {
        "execution": {
          "iopub.execute_input": "2021-07-22T21:33:47.245777Z",
          "iopub.status.busy": "2021-07-22T21:33:47.243764Z",
          "iopub.status.idle": "2021-07-22T21:33:47.717872Z",
          "shell.execute_reply": "2021-07-22T21:33:47.717444Z"
        },
        "papermill": {
          "duration": 0.526641,
          "end_time": "2021-07-22T21:33:47.718019",
          "exception": false,
          "start_time": "2021-07-22T21:33:47.191378",
          "status": "completed"
        },
        "tags": [],
        "colab": {
          "base_uri": "https://localhost:8080/",
          "height": 475
        },
        "id": "We0F0c_bK95e",
        "outputId": "1fff50eb-09e5-49b4-abd9-c190949aeba3"
      },
      "outputs": [
        {
          "output_type": "stream",
          "name": "stdout",
          "text": [
            "cex 0.363   xlim c(0, 1)   ylim c(0, 1)\n"
          ]
        },
        {
          "output_type": "display_data",
          "data": {
            "text/plain": [
              "plot without title"
            ],
            "image/png": "[encoded data removed]"
          },
          "metadata": {
            "image/png": {
              "width": 420,
              "height": 420
            }
          }
        }
      ],
      "source": [
        "fit.prunedtree <- prune(fit.trees,cp=bestcp)\n",
        "prp(fit.prunedtree,leaf.round=1, space=3, yspace=3, split.space=7, shadow.col = \"gray\",trace = 1,yesno=1)"
      ]
    },
    {
      "cell_type": "markdown",
      "metadata": {
        "papermill": {
          "duration": 0.050261,
          "end_time": "2021-07-22T21:33:47.921859",
          "exception": false,
          "start_time": "2021-07-22T21:33:47.871598",
          "status": "completed"
        },
        "tags": [],
        "id": "mmJ3bwYYK95e"
      },
      "source": [
        "**Exercise 5:** Finally, calculate the mean-squared error  on the test sample to evaluate the out-of-sample performance of the pruned tree."
      ]
    },
    {
      "cell_type": "code",
      "execution_count": null,
      "metadata": {
        "execution": {
          "iopub.execute_input": "2021-07-22T21:33:48.028361Z",
          "iopub.status.busy": "2021-07-22T21:33:48.027097Z",
          "iopub.status.idle": "2021-07-22T21:33:48.049467Z",
          "shell.execute_reply": "2021-07-22T21:33:48.048085Z"
        },
        "papermill": {
          "duration": 0.077314,
          "end_time": "2021-07-22T21:33:48.049633",
          "exception": false,
          "start_time": "2021-07-22T21:33:47.972319",
          "status": "completed"
        },
        "tags": [],
        "colab": {
          "base_uri": "https://localhost:8080/",
          "height": 72
        },
        "id": "mFa8-o4TK95f",
        "outputId": "dc10791b-5092-44fc-dc03-e7f1ec635c29"
      },
      "outputs": [
        {
          "output_type": "stream",
          "name": "stdout",
          "text": [
            "R^2 of the pruned tree: 0.2048132"
          ]
        },
        {
          "output_type": "display_data",
          "data": {
            "text/html": [
              "0.241360115698498"
            ],
            "text/markdown": "0.241360115698498",
            "text/latex": "0.241360115698498",
            "text/plain": [
              "[1] 0.2413601"
            ]
          },
          "metadata": {}
        }
      ],
      "source": [
        "yhat.pt <- predict(fit.prunedtree,newdata=data_test)\n",
        "MSE.pt <- summary(lm((Y_test-yhat.pt)^2~1))$coef[1:2]\n",
        "R2.pt  <- 1-MSE.pt[1]/var(Y_test)\n",
        "\n",
        "# R^2 of the pruned tree\n",
        "cat(\"R^2 of the pruned tree:\",R2.pt)\n",
        "MSE.pt[1]"
      ]
    },
    {
      "cell_type": "markdown",
      "metadata": {
        "papermill": {
          "duration": 0.050968,
          "end_time": "2021-07-22T21:33:48.152253",
          "exception": false,
          "start_time": "2021-07-22T21:33:48.101285",
          "status": "completed"
        },
        "tags": [],
        "id": "Js8mvTBxK95f"
      },
      "source": [
        "### Random Forest and Boosted Trees"
      ]
    },
    {
      "cell_type": "markdown",
      "metadata": {
        "papermill": {
          "duration": 0.050209,
          "end_time": "2021-07-22T21:33:48.253970",
          "exception": false,
          "start_time": "2021-07-22T21:33:48.203761",
          "status": "completed"
        },
        "tags": [],
        "id": "BsFTYn-TK95f"
      },
      "source": [
        "In the next step, we apply the more advanced tree-based methods: random forest and boosted trees."
      ]
    },
    {
      "cell_type": "code",
      "execution_count": null,
      "metadata": {
        "execution": {
          "iopub.execute_input": "2021-07-22T21:33:48.360982Z",
          "iopub.status.busy": "2021-07-22T21:33:48.360463Z",
          "iopub.status.idle": "2021-07-22T21:34:43.865598Z",
          "shell.execute_reply": "2021-07-22T21:34:43.864364Z"
        },
        "papermill": {
          "duration": 55.561432,
          "end_time": "2021-07-22T21:34:43.865807",
          "exception": false,
          "start_time": "2021-07-22T21:33:48.304375",
          "status": "completed"
        },
        "tags": [],
        "colab": {
          "base_uri": "https://localhost:8080/"
        },
        "id": "402XOQDpK95g",
        "outputId": "2d526026-9fbb-4242-b8a0-44a0960408a5"
      },
      "outputs": [
        {
          "output_type": "stream",
          "name": "stderr",
          "text": [
            "OOB generally underestimates the optimal number of iterations although predictive performance is reasonably competitive. Using cv_folds>1 when calling gbm usually results in improved predictive performance.\n",
            "\n"
          ]
        },
        {
          "output_type": "stream",
          "name": "stdout",
          "text": [
            "R^2 of the random forest and boosted trees: 0.2979353 0.2662139"
          ]
        }
      ],
      "source": [
        "## Applying the methods\n",
        "# random forest\n",
        "fit.rf       <- randomForest(formula_basic, ntree=2000, nodesize=5, data=data_train)\n",
        "# for tuning: adjust input \"mtry\" to change the number of variables randomly sampled as candidates at each split\n",
        "\n",
        "# boosting\n",
        "fit.boost   <- gbm(formula_basic, data=data_train, distribution= \"gaussian\", bag.fraction = .5, interaction.depth=2, n.trees=1000, shrinkage=.01)\n",
        "best.boost  <- gbm.perf(fit.boost, plot.it = FALSE) # cross-validation to determine when to stop\n",
        "\n",
        "## Evaluating the methods\n",
        "yhat.rf       <- predict(fit.rf, newdata=data_test) # prediction\n",
        "yhat.boost    <- predict(fit.boost, newdata=data_test, n.trees=best.boost)\n",
        "\n",
        "MSE.rf       = summary(lm((Y_test-yhat.rf)^2~1))$coef[1:2]\n",
        "MSE.boost    = summary(lm((Y_test-yhat.boost)^2~1))$coef[1:2]\n",
        "R2.rf  <- 1-MSE.rf[1]/var(Y_test)\n",
        "R2.boost  <- 1-MSE.boost[1]/var(Y_test)\n",
        "\n",
        "# printing R^2\n",
        "cat(\"R^2 of the random forest and boosted trees:\",R2.rf,R2.boost)\n"
      ]
    },
    {
      "cell_type": "markdown",
      "metadata": {
        "papermill": {
          "duration": 0.050943,
          "end_time": "2021-07-22T21:34:43.969202",
          "exception": false,
          "start_time": "2021-07-22T21:34:43.918259",
          "status": "completed"
        },
        "tags": [],
        "id": "hjYaJMJfK95g"
      },
      "source": [
        "**Exercise 6:** To conclude, summarize the results. What is the best model?"
      ]
    },
    {
      "cell_type": "markdown",
      "metadata": {
        "papermill": {
          "duration": 0.051543,
          "end_time": "2021-07-22T21:34:44.072428",
          "exception": false,
          "start_time": "2021-07-22T21:34:44.020885",
          "status": "completed"
        },
        "tags": [],
        "id": "rIausP4TK95h"
      },
      "source": [
        "## Results"
      ]
    },
    {
      "cell_type": "code",
      "execution_count": null,
      "metadata": {
        "execution": {
          "iopub.execute_input": "2021-07-22T21:34:44.181135Z",
          "iopub.status.busy": "2021-07-22T21:34:44.179921Z",
          "iopub.status.idle": "2021-07-22T21:34:44.286892Z",
          "shell.execute_reply": "2021-07-22T21:34:44.285724Z"
        },
        "papermill": {
          "duration": 0.163242,
          "end_time": "2021-07-22T21:34:44.287033",
          "exception": false,
          "start_time": "2021-07-22T21:34:44.123791",
          "status": "completed"
        },
        "tags": [],
        "colab": {
          "base_uri": "https://localhost:8080/",
          "height": 1000
        },
        "id": "QomZ154dK95h",
        "outputId": "fc99a6bc-4e94-41b3-f570-49f0ea8e0d5f"
      },
      "outputs": [
        {
          "output_type": "stream",
          "name": "stdout",
          "text": [
            "% latex table generated in R 4.3.0 by xtable 1.8-4 package\n",
            "% Thu Jun 22 14:05:08 2023\n",
            "\\begin{table}[ht]\n",
            "\\centering\n",
            "\\begin{tabular}{rrrr}\n",
            "  \\hline\n",
            " & MSE & S.E. for MSE & R-squared \\\\ \n",
            "  \\hline\n",
            "Least Squares (basic) & 0.216 & 0.015 & 0.288 \\\\ \n",
            "  Least Squares (flexible) & 0.222 & 0.014 & 0.269 \\\\ \n",
            "  Lasso & 0.222 & 0.014 & 0.267 \\\\ \n",
            "  Post-Lasso & 0.222 & 0.015 & 0.268 \\\\ \n",
            "  Lasso (flexible) & 0.223 & 0.014 & 0.266 \\\\ \n",
            "  Post-Lasso (flexible) & 0.227 & 0.015 & 0.253 \\\\ \n",
            "  Cross-Validated lasso & 0.218 & 0.015 & 0.281 \\\\ \n",
            "  Cross-Validated ridge & 0.225 & 0.014 & 0.258 \\\\ \n",
            "  Cross-Validated elnet & 0.220 & 0.015 & 0.276 \\\\ \n",
            "  Cross-Validated lasso (flexible) & 0.221 & 0.015 & 0.270 \\\\ \n",
            "  Cross-Validated ridge (flexible) & 0.229 & 0.015 & 0.245 \\\\ \n",
            "  Cross-Validated elnet (flexible) & 0.220 & 0.015 & 0.275 \\\\ \n",
            "  Random Forest & 0.213 & 0.012 & 0.298 \\\\ \n",
            "  Boosted Trees & 0.223 & 0.014 & 0.266 \\\\ \n",
            "  Pruned Tree & 0.241 & 0.014 & 0.205 \\\\ \n",
            "   \\hline\n",
            "\\end{tabular}\n",
            "\\end{table}\n"
          ]
        },
        {
          "output_type": "display_data",
          "data": {
            "text/html": [
              "<table class=\"dataframe\">\n",
              "<caption>A xtable: 15 × 3</caption>\n",
              "<thead>\n",
              "\t<tr><th></th><th scope=col>MSE</th><th scope=col>S.E. for MSE</th><th scope=col>R-squared</th></tr>\n",
              "\t<tr><th></th><th scope=col>&lt;dbl&gt;</th><th scope=col>&lt;dbl&gt;</th><th scope=col>&lt;dbl&gt;</th></tr>\n",
              "</thead>\n",
              "<tbody>\n",
              "\t<tr><th scope=row>Least Squares (basic)</th><td>0.2162347</td><td>0.01466593</td><td>0.2875915</td></tr>\n",
              "\t<tr><th scope=row>Least Squares (flexible)</th><td>0.2218933</td><td>0.01415591</td><td>0.2689486</td></tr>\n",
              "\t<tr><th scope=row>Lasso</th><td>0.2223366</td><td>0.01432439</td><td>0.2674882</td></tr>\n",
              "\t<tr><th scope=row>Post-Lasso</th><td>0.2222689</td><td>0.01484225</td><td>0.2677112</td></tr>\n",
              "\t<tr><th scope=row>Lasso (flexible)</th><td>0.2227568</td><td>0.01425609</td><td>0.2661038</td></tr>\n",
              "\t<tr><th scope=row>Post-Lasso (flexible)</th><td>0.2268535</td><td>0.01489302</td><td>0.2526069</td></tr>\n",
              "\t<tr><th scope=row>Cross-Validated lasso</th><td>0.2181850</td><td>0.01464439</td><td>0.2811662</td></tr>\n",
              "\t<tr><th scope=row>Cross-Validated ridge</th><td>0.2253243</td><td>0.01446354</td><td>0.2576451</td></tr>\n",
              "\t<tr><th scope=row>Cross-Validated elnet</th><td>0.2197408</td><td>0.01458947</td><td>0.2760405</td></tr>\n",
              "\t<tr><th scope=row>Cross-Validated lasso (flexible)</th><td>0.2214403</td><td>0.01452731</td><td>0.2704411</td></tr>\n",
              "\t<tr><th scope=row>Cross-Validated ridge (flexible)</th><td>0.2291098</td><td>0.01451568</td><td>0.2451732</td></tr>\n",
              "\t<tr><th scope=row>Cross-Validated elnet (flexible)</th><td>0.2199312</td><td>0.01456389</td><td>0.2754132</td></tr>\n",
              "\t<tr><th scope=row>Random Forest</th><td>0.2130951</td><td>0.01243377</td><td>0.2979353</td></tr>\n",
              "\t<tr><th scope=row>Boosted Trees</th><td>0.2227234</td><td>0.01408297</td><td>0.2662139</td></tr>\n",
              "\t<tr><th scope=row>Pruned Tree</th><td>0.2413601</td><td>0.01446350</td><td>0.2048132</td></tr>\n",
              "</tbody>\n",
              "</table>\n"
            ],
            "text/markdown": "\nA xtable: 15 × 3\n\n| <!--/--> | MSE &lt;dbl&gt; | S.E. for MSE &lt;dbl&gt; | R-squared &lt;dbl&gt; |\n|---|---|---|---|\n| Least Squares (basic) | 0.2162347 | 0.01466593 | 0.2875915 |\n| Least Squares (flexible) | 0.2218933 | 0.01415591 | 0.2689486 |\n| Lasso | 0.2223366 | 0.01432439 | 0.2674882 |\n| Post-Lasso | 0.2222689 | 0.01484225 | 0.2677112 |\n| Lasso (flexible) | 0.2227568 | 0.01425609 | 0.2661038 |\n| Post-Lasso (flexible) | 0.2268535 | 0.01489302 | 0.2526069 |\n| Cross-Validated lasso | 0.2181850 | 0.01464439 | 0.2811662 |\n| Cross-Validated ridge | 0.2253243 | 0.01446354 | 0.2576451 |\n| Cross-Validated elnet | 0.2197408 | 0.01458947 | 0.2760405 |\n| Cross-Validated lasso (flexible) | 0.2214403 | 0.01452731 | 0.2704411 |\n| Cross-Validated ridge (flexible) | 0.2291098 | 0.01451568 | 0.2451732 |\n| Cross-Validated elnet (flexible) | 0.2199312 | 0.01456389 | 0.2754132 |\n| Random Forest | 0.2130951 | 0.01243377 | 0.2979353 |\n| Boosted Trees | 0.2227234 | 0.01408297 | 0.2662139 |\n| Pruned Tree | 0.2413601 | 0.01446350 | 0.2048132 |\n\n",
            "text/latex": "A xtable: 15 × 3\n\\begin{tabular}{r|lll}\n  & MSE & S.E. for MSE & R-squared\\\\\n  & <dbl> & <dbl> & <dbl>\\\\\n\\hline\n\tLeast Squares (basic) & 0.2162347 & 0.01466593 & 0.2875915\\\\\n\tLeast Squares (flexible) & 0.2218933 & 0.01415591 & 0.2689486\\\\\n\tLasso & 0.2223366 & 0.01432439 & 0.2674882\\\\\n\tPost-Lasso & 0.2222689 & 0.01484225 & 0.2677112\\\\\n\tLasso (flexible) & 0.2227568 & 0.01425609 & 0.2661038\\\\\n\tPost-Lasso (flexible) & 0.2268535 & 0.01489302 & 0.2526069\\\\\n\tCross-Validated lasso & 0.2181850 & 0.01464439 & 0.2811662\\\\\n\tCross-Validated ridge & 0.2253243 & 0.01446354 & 0.2576451\\\\\n\tCross-Validated elnet & 0.2197408 & 0.01458947 & 0.2760405\\\\\n\tCross-Validated lasso (flexible) & 0.2214403 & 0.01452731 & 0.2704411\\\\\n\tCross-Validated ridge (flexible) & 0.2291098 & 0.01451568 & 0.2451732\\\\\n\tCross-Validated elnet (flexible) & 0.2199312 & 0.01456389 & 0.2754132\\\\\n\tRandom Forest & 0.2130951 & 0.01243377 & 0.2979353\\\\\n\tBoosted Trees & 0.2227234 & 0.01408297 & 0.2662139\\\\\n\tPruned Tree & 0.2413601 & 0.01446350 & 0.2048132\\\\\n\\end{tabular}\n",
            "text/plain": [
              "                                 MSE       S.E. for MSE R-squared\n",
              "Least Squares (basic)            0.2162347 0.01466593   0.2875915\n",
              "Least Squares (flexible)         0.2218933 0.01415591   0.2689486\n",
              "Lasso                            0.2223366 0.01432439   0.2674882\n",
              "Post-Lasso                       0.2222689 0.01484225   0.2677112\n",
              "Lasso (flexible)                 0.2227568 0.01425609   0.2661038\n",
              "Post-Lasso (flexible)            0.2268535 0.01489302   0.2526069\n",
              "Cross-Validated lasso            0.2181850 0.01464439   0.2811662\n",
              "Cross-Validated ridge            0.2253243 0.01446354   0.2576451\n",
              "Cross-Validated elnet            0.2197408 0.01458947   0.2760405\n",
              "Cross-Validated lasso (flexible) 0.2214403 0.01452731   0.2704411\n",
              "Cross-Validated ridge (flexible) 0.2291098 0.01451568   0.2451732\n",
              "Cross-Validated elnet (flexible) 0.2199312 0.01456389   0.2754132\n",
              "Random Forest                    0.2130951 0.01243377   0.2979353\n",
              "Boosted Trees                    0.2227234 0.01408297   0.2662139\n",
              "Pruned Tree                      0.2413601 0.01446350   0.2048132"
            ]
          },
          "metadata": {}
        }
      ],
      "source": [
        "library(xtable)\n",
        "table<- matrix(0, 15, 3)\n",
        "table[1,1:2]   <- MSE.lm.basic\n",
        "table[2,1:2]   <- MSE.lm.flex\n",
        "table[3,1:2]   <- MSE.lasso\n",
        "table[4,1:2]   <- MSE.lasso.post\n",
        "table[5,1:2]   <- MSE.lasso.flex\n",
        "table[6,1:2]   <- MSE.lasso.post.flex\n",
        "table[7,1:2]   <- MSE.lasso.cv\n",
        "table[8,1:2]   <- MSE.ridge\n",
        "table[9,1:2]   <- MSE.elnet\n",
        "table[10,1:2]   <- MSE.lasso.cv.flex\n",
        "table[11,1:2]  <- MSE.ridge.flex\n",
        "table[12,1:2]  <- MSE.elnet.flex\n",
        "table[13,1:2]  <- MSE.rf\n",
        "table[14,1:2]  <- MSE.boost\n",
        "table[15,1:2]  <- MSE.pt\n",
        "\n",
        "table[1,3]   <- R2.lm.basic\n",
        "table[2,3]   <- R2.lm.flex\n",
        "table[3,3]   <- R2.lasso\n",
        "table[4,3]   <- R2.lasso.post\n",
        "table[5,3]   <- R2.lasso.flex\n",
        "table[6,3]   <- R2.lasso.post.flex\n",
        "table[7,3]   <- R2.lasso.cv\n",
        "table[8,3]   <- R2.ridge\n",
        "table[9,3]   <- R2.elnet\n",
        "table[10,3]   <- R2.lasso.cv.flex\n",
        "table[11,3]  <- R2.ridge.flex\n",
        "table[12,3]  <- R2.elnet.flex\n",
        "table[13,3]  <- R2.rf\n",
        "table[14,3]  <- R2.boost\n",
        "table[15,3]  <- R2.pt\n",
        "\n",
        "colnames(table)<- c(\"MSE\", \"S.E. for MSE\", \"R-squared\")\n",
        "rownames(table)<- c(\"Least Squares (basic)\",\"Least Squares (flexible)\", \"Lasso\", \"Post-Lasso\",\"Lasso (flexible)\",\"Post-Lasso (flexible)\",\n",
        "                    \"Cross-Validated lasso\", \"Cross-Validated ridge\",\"Cross-Validated elnet\",\"Cross-Validated lasso (flexible)\",\"Cross-Validated ridge (flexible)\",\"Cross-Validated elnet (flexible)\",\n",
        "                    \"Random Forest\",\"Boosted Trees\", \"Pruned Tree\")\n",
        "tab <- xtable(table, digits =3)\n",
        "print(tab,type=\"latex\") # set type=\"latex\" for printing table in LaTeX\n",
        "tab"
      ]
    },
    {
      "cell_type": "markdown",
      "metadata": {
        "papermill": {
          "duration": 0.052757,
          "end_time": "2021-07-22T21:34:44.392711",
          "exception": false,
          "start_time": "2021-07-22T21:34:44.339954",
          "status": "completed"
        },
        "tags": [],
        "id": "fLkrQYXjK95h"
      },
      "source": [
        "Above, we have displayed the results for a single split of data into the training and testing part. The table shows the test MSE in column 1 as well as the standard error in column 2 and the test $R^2$ in column 3.\n",
        "\n",
        "Given our sample split, we see that the prediction rules produced by ols using the basic model, cross-Validated Lasso using the flexible model and the Random Forest perform very well. For many of our methods, the testing MSEs are within one standard error of each other. Remarkably, OLS on a simple model performs extremely well, almost as well as best tree based method Random Forest.Notice that the nonlinear models, e.g. Random Forest, are not tuned. Thus, there is a lot of potential to improve the performance of the nonlinear methods we used in the analysis."
      ]
    },
    {
      "cell_type": "markdown",
      "metadata": {
        "papermill": {
          "duration": 0.052773,
          "end_time": "2021-07-22T21:34:44.497668",
          "exception": false,
          "start_time": "2021-07-22T21:34:44.444895",
          "status": "completed"
        },
        "tags": [],
        "id": "zBDRHFL_K95i"
      },
      "source": [
        "### Ensemble learning"
      ]
    },
    {
      "cell_type": "markdown",
      "metadata": {
        "papermill": {
          "duration": 0.052345,
          "end_time": "2021-07-22T21:34:44.603135",
          "exception": false,
          "start_time": "2021-07-22T21:34:44.550790",
          "status": "completed"
        },
        "tags": [],
        "id": "1oeNzaRAK95i"
      },
      "source": [
        "**Exercise 7:** In the final step, build a prediction model by combining the strengths of the models we considered so far. This ensemble method is of the form\n",
        "\t$$ f(x) = \\sum_{k=1}^K \\alpha_k f_k(x) $$\n",
        "where the $f_k$'s denote our prediction rules from the table above and the $\\alpha_k$'s are the corresponding weights."
      ]
    },
    {
      "cell_type": "markdown",
      "metadata": {
        "papermill": {
          "duration": 0.052659,
          "end_time": "2021-07-22T21:34:44.710467",
          "exception": false,
          "start_time": "2021-07-22T21:34:44.657808",
          "status": "completed"
        },
        "tags": [],
        "id": "rWQRHzDoK95i"
      },
      "source": [
        "We focus on the prediction rules based on OLS, Post-Lasso, Elastic Net, Pruned Tree, Random Forest and Boosted Trees and combine these methods into an ensemble method. The appropriate weights can be determined by a simple ols regression:"
      ]
    },
    {
      "cell_type": "code",
      "execution_count": null,
      "metadata": {
        "execution": {
          "iopub.execute_input": "2021-07-22T21:34:44.820377Z",
          "iopub.status.busy": "2021-07-22T21:34:44.819096Z",
          "iopub.status.idle": "2021-07-22T21:34:44.841481Z",
          "shell.execute_reply": "2021-07-22T21:34:44.840197Z"
        },
        "papermill": {
          "duration": 0.078475,
          "end_time": "2021-07-22T21:34:44.841619",
          "exception": false,
          "start_time": "2021-07-22T21:34:44.763144",
          "status": "completed"
        },
        "tags": [],
        "colab": {
          "base_uri": "https://localhost:8080/",
          "height": 454
        },
        "id": "4ZV-IUx8K95j",
        "outputId": "9e283fb1-f3fa-4d7f-e6ec-8a58849f8952"
      },
      "outputs": [
        {
          "output_type": "display_data",
          "data": {
            "text/plain": [
              "\n",
              "Call:\n",
              "lm(formula = Y_test ~ yhat.lm.basic + yhat.rlasso.post.flex + \n",
              "    yhat.elnet.flex + yhat.pt + yhat.rf + yhat.boost)\n",
              "\n",
              "Residuals:\n",
              "    Min      1Q  Median      3Q     Max \n",
              "-2.1647 -0.2771 -0.0121  0.2628  3.3150 \n",
              "\n",
              "Coefficients:\n",
              "                      Estimate Std. Error t value Pr(>|t|)    \n",
              "(Intercept)            0.28181    0.18737   1.504 0.132814    \n",
              "yhat.lm.basic          0.58169    0.16078   3.618 0.000309 ***\n",
              "yhat.rlasso.post.flex  0.12772    0.18110   0.705 0.480782    \n",
              "yhat.elnet.flex       -0.18590    0.28438  -0.654 0.513416    \n",
              "yhat.pt               -0.10601    0.10012  -1.059 0.289900    \n",
              "yhat.rf                0.60379    0.08859   6.816 1.44e-11 ***\n",
              "yhat.boost            -0.11161    0.18499  -0.603 0.546397    \n",
              "---\n",
              "Signif. codes:  0 ‘***’ 0.001 ‘**’ 0.01 ‘*’ 0.05 ‘.’ 0.1 ‘ ’ 1\n",
              "\n",
              "Residual standard error: 0.4562 on 1281 degrees of freedom\n",
              "Multiple R-squared:  0.3176,\tAdjusted R-squared:  0.3144 \n",
              "F-statistic: 99.37 on 6 and 1281 DF,  p-value: < 2.2e-16\n"
            ]
          },
          "metadata": {}
        }
      ],
      "source": [
        "ensemble.ols <- summary(lm(Y_test~ yhat.lm.basic + yhat.rlasso.post.flex + yhat.elnet.flex+ yhat.pt+ yhat.rf + yhat.boost))\n",
        "ensemble.ols"
      ]
    },
    {
      "cell_type": "markdown",
      "metadata": {
        "papermill": {
          "duration": 0.053593,
          "end_time": "2021-07-22T21:34:44.948758",
          "exception": false,
          "start_time": "2021-07-22T21:34:44.895165",
          "status": "completed"
        },
        "tags": [],
        "id": "vS57wydCK95j"
      },
      "source": [
        "Alternatively, we can determine the weights via lasso regression."
      ]
    },
    {
      "cell_type": "code",
      "execution_count": null,
      "metadata": {
        "execution": {
          "iopub.execute_input": "2021-07-22T21:34:45.060856Z",
          "iopub.status.busy": "2021-07-22T21:34:45.059440Z",
          "iopub.status.idle": "2021-07-22T21:34:45.174027Z",
          "shell.execute_reply": "2021-07-22T21:34:45.172952Z"
        },
        "papermill": {
          "duration": 0.171986,
          "end_time": "2021-07-22T21:34:45.174182",
          "exception": false,
          "start_time": "2021-07-22T21:34:45.002196",
          "status": "completed"
        },
        "tags": [],
        "colab": {
          "base_uri": "https://localhost:8080/",
          "height": 731
        },
        "id": "h8QEfHtSK95j",
        "outputId": "a74beb75-7857-4a99-9918-199cac61db27"
      },
      "outputs": [
        {
          "output_type": "stream",
          "name": "stdout",
          "text": [
            "\n",
            "Call:\n",
            "rlasso.formula(formula = Y_test ~ yhat.lm.basic + yhat.rlasso.post.flex + \n",
            "    yhat.elnet.flex + yhat.pt + yhat.rf + yhat.boost)\n",
            "\n",
            "Post-Lasso Estimation:  TRUE \n",
            "\n",
            "Total number of variables: 6\n",
            "Number of selected variables: 2 \n",
            "\n",
            "Residuals: \n",
            "     Min       1Q   Median       3Q      Max \n",
            "-2.17472 -0.27738 -0.01574  0.26031  3.31338 \n",
            "\n",
            "                      Estimate\n",
            "(Intercept)              0.100\n",
            "yhat.lm.basic            0.427\n",
            "yhat.rlasso.post.flex    0.000\n",
            "yhat.elnet.flex          0.000\n",
            "yhat.pt                  0.000\n",
            "yhat.rf                  0.544\n",
            "yhat.boost               0.000\n",
            "\n",
            "Residual standard error: 0.4558\n",
            "Multiple R-squared:  0.3156\n",
            "Adjusted R-squared:  0.3145\n",
            "Joint significance test:\n",
            " the sup score statistic for joint significance test is 3.578 with a p-value of  0.04\n"
          ]
        },
        {
          "output_type": "display_data",
          "data": {
            "text/plain": [
              "\n",
              "Call:\n",
              "rlasso.formula(formula = Y_test ~ yhat.lm.basic + yhat.rlasso.post.flex + \n",
              "    yhat.elnet.flex + yhat.pt + yhat.rf + yhat.boost)\n",
              "\n",
              "Coefficients:\n",
              "          (Intercept)          yhat.lm.basic  yhat.rlasso.post.flex  \n",
              "               0.1003                 0.4272                 0.0000  \n",
              "      yhat.elnet.flex                yhat.pt                yhat.rf  \n",
              "               0.0000                 0.0000                 0.5439  \n",
              "           yhat.boost  \n",
              "               0.0000  \n"
            ]
          },
          "metadata": {}
        }
      ],
      "source": [
        "ensemble.lasso <- summary(rlasso(Y_test~ yhat.lm.basic + yhat.rlasso.post.flex + yhat.elnet.flex+ yhat.pt+ yhat.rf + yhat.boost))\n",
        "ensemble.lasso"
      ]
    },
    {
      "cell_type": "markdown",
      "metadata": {
        "papermill": {
          "duration": 0.05475,
          "end_time": "2021-07-22T21:34:45.284948",
          "exception": false,
          "start_time": "2021-07-22T21:34:45.230198",
          "status": "completed"
        },
        "tags": [],
        "id": "VRVDV7QKK95k"
      },
      "source": [
        "The estimated weights are shown in the following table."
      ]
    },
    {
      "cell_type": "code",
      "execution_count": null,
      "metadata": {
        "execution": {
          "iopub.execute_input": "2021-07-22T21:34:45.398344Z",
          "iopub.status.busy": "2021-07-22T21:34:45.397127Z",
          "iopub.status.idle": "2021-07-22T21:34:45.432227Z",
          "shell.execute_reply": "2021-07-22T21:34:45.430974Z"
        },
        "papermill": {
          "duration": 0.09307,
          "end_time": "2021-07-22T21:34:45.432382",
          "exception": false,
          "start_time": "2021-07-22T21:34:45.339312",
          "status": "completed"
        },
        "tags": [],
        "colab": {
          "base_uri": "https://localhost:8080/",
          "height": 650
        },
        "id": "CqL8BwVvK95k",
        "outputId": "2be41b98-0764-4d52-d2d8-f5c517091787"
      },
      "outputs": [
        {
          "output_type": "stream",
          "name": "stdout",
          "text": [
            "% latex table generated in R 4.3.0 by xtable 1.8-4 package\n",
            "% Thu Jun 22 14:05:09 2023\n",
            "\\begin{table}[ht]\n",
            "\\centering\n",
            "\\begin{tabular}{rrr}\n",
            "  \\hline\n",
            " & Weight OLS & Weight Lasso \\\\ \n",
            "  \\hline\n",
            "Constant & 0.282 & 0.100 \\\\ \n",
            "  Least Squares (basic) & 0.582 & 0.427 \\\\ \n",
            "  Post-Lasso (flexible) & 0.128 & 0.000 \\\\ \n",
            "  Cross-Validated elnet (flexible) & -0.186 & 0.000 \\\\ \n",
            "  Pruned Tree & -0.106 & 0.000 \\\\ \n",
            "  Random Forest & 0.604 & 0.544 \\\\ \n",
            "  Boosted Trees & -0.112 & 0.000 \\\\ \n",
            "   \\hline\n",
            "\\end{tabular}\n",
            "\\end{table}\n"
          ]
        },
        {
          "output_type": "display_data",
          "data": {
            "text/html": [
              "<table class=\"dataframe\">\n",
              "<caption>A xtable: 7 × 2</caption>\n",
              "<thead>\n",
              "\t<tr><th></th><th scope=col>Weight OLS</th><th scope=col>Weight Lasso</th></tr>\n",
              "\t<tr><th></th><th scope=col>&lt;dbl&gt;</th><th scope=col>&lt;dbl&gt;</th></tr>\n",
              "</thead>\n",
              "<tbody>\n",
              "\t<tr><th scope=row>Constant</th><td> 0.2818140</td><td>0.1002651</td></tr>\n",
              "\t<tr><th scope=row>Least Squares (basic)</th><td> 0.5816943</td><td>0.4272396</td></tr>\n",
              "\t<tr><th scope=row>Post-Lasso (flexible)</th><td> 0.1277236</td><td>0.0000000</td></tr>\n",
              "\t<tr><th scope=row>Cross-Validated elnet (flexible)</th><td>-0.1859003</td><td>0.0000000</td></tr>\n",
              "\t<tr><th scope=row>Pruned Tree</th><td>-0.1060081</td><td>0.0000000</td></tr>\n",
              "\t<tr><th scope=row>Random Forest</th><td> 0.6037916</td><td>0.5438718</td></tr>\n",
              "\t<tr><th scope=row>Boosted Trees</th><td>-0.1116096</td><td>0.0000000</td></tr>\n",
              "</tbody>\n",
              "</table>\n"
            ],
            "text/markdown": "\nA xtable: 7 × 2\n\n| <!--/--> | Weight OLS &lt;dbl&gt; | Weight Lasso &lt;dbl&gt; |\n|---|---|---|\n| Constant |  0.2818140 | 0.1002651 |\n| Least Squares (basic) |  0.5816943 | 0.4272396 |\n| Post-Lasso (flexible) |  0.1277236 | 0.0000000 |\n| Cross-Validated elnet (flexible) | -0.1859003 | 0.0000000 |\n| Pruned Tree | -0.1060081 | 0.0000000 |\n| Random Forest |  0.6037916 | 0.5438718 |\n| Boosted Trees | -0.1116096 | 0.0000000 |\n\n",
            "text/latex": "A xtable: 7 × 2\n\\begin{tabular}{r|ll}\n  & Weight OLS & Weight Lasso\\\\\n  & <dbl> & <dbl>\\\\\n\\hline\n\tConstant &  0.2818140 & 0.1002651\\\\\n\tLeast Squares (basic) &  0.5816943 & 0.4272396\\\\\n\tPost-Lasso (flexible) &  0.1277236 & 0.0000000\\\\\n\tCross-Validated elnet (flexible) & -0.1859003 & 0.0000000\\\\\n\tPruned Tree & -0.1060081 & 0.0000000\\\\\n\tRandom Forest &  0.6037916 & 0.5438718\\\\\n\tBoosted Trees & -0.1116096 & 0.0000000\\\\\n\\end{tabular}\n",
            "text/plain": [
              "                                 Weight OLS Weight Lasso\n",
              "Constant                          0.2818140 0.1002651   \n",
              "Least Squares (basic)             0.5816943 0.4272396   \n",
              "Post-Lasso (flexible)             0.1277236 0.0000000   \n",
              "Cross-Validated elnet (flexible) -0.1859003 0.0000000   \n",
              "Pruned Tree                      -0.1060081 0.0000000   \n",
              "Random Forest                     0.6037916 0.5438718   \n",
              "Boosted Trees                    -0.1116096 0.0000000   "
            ]
          },
          "metadata": {}
        }
      ],
      "source": [
        "table<- matrix(0, 7, 2)\n",
        "table[1:7,1]   <- ensemble.ols$coef[1:7]\n",
        "table[1:7,2]   <- ensemble.lasso$coef[1:7]\n",
        "\n",
        "colnames(table)<- c(\"Weight OLS\", \"Weight Lasso\")\n",
        "rownames(table)<- c(\"Constant\",\"Least Squares (basic)\",\"Post-Lasso (flexible)\", \"Cross-Validated elnet (flexible)\", \"Pruned Tree\",\n",
        "                    \"Random Forest\",\"Boosted Trees\")\n",
        "tab <- xtable(table, digits =3)\n",
        "print(tab,type=\"latex\") # set type=\"latex\" for printing table in LaTeX\n",
        "tab"
      ]
    },
    {
      "cell_type": "markdown",
      "metadata": {
        "papermill": {
          "duration": 0.055235,
          "end_time": "2021-07-22T21:34:45.543519",
          "exception": false,
          "start_time": "2021-07-22T21:34:45.488284",
          "status": "completed"
        },
        "tags": [],
        "id": "SOMeuScPK95k"
      },
      "source": [
        "Further, the $R^2$ for the test sample improves from  to about $31\\%$ obtained by the ensemble method. We see that it is very powerful to aggregate prediction rules into an ensemble rule. Nevertheless, it is worth noticing that we should compare the ensemble method and the single rules on an additional validation set to ensure a fair comparison."
      ]
    }
  ],
  "metadata": {
    "kernelspec": {
      "display_name": "R",
      "language": "R",
      "name": "ir"
    },
    "language_info": {
      "codemirror_mode": "r",
      "file_extension": ".r",
      "mimetype": "text/x-r-source",
      "name": "R",
      "pygments_lexer": "r",
      "version": "3.6.3"
    },
    "papermill": {
      "default_parameters": {},
      "duration": 88.350056,
      "end_time": "2021-07-22T21:34:45.707112",
      "environment_variables": {},
      "exception": null,
      "input_path": "__notebook__.ipynb",
      "output_path": "__notebook__.ipynb",
      "parameters": {},
      "start_time": "2021-07-22T21:33:17.357056",
      "version": "2.2.2"
    },
    "colab": {
      "provenance": []
    }
  },
  "nbformat": 4,
  "nbformat_minor": 0
}